{
 "cells": [
  {
   "cell_type": "code",
   "execution_count": null,
   "metadata": {},
   "outputs": [],
   "source": [
    "%load_ext autoreload\n",
    "%autoreload 2"
   ]
  },
  {
   "cell_type": "markdown",
   "metadata": {
    "pycharm": {
     "name": "#%% md\n"
    }
   },
   "source": [
    "# Ignore - no longer used - was used to generating training data using snorkel.org"
   ]
  },
  {
   "cell_type": "code",
   "execution_count": null,
   "metadata": {
    "pycharm": {
     "name": "#%%\n"
    }
   },
   "outputs": [],
   "source": [
    "from collections import defaultdict, namedtuple, Counter\n",
    "\n",
    "import cologne_phonetics\n",
    "import jellyfish\n",
    "import pandas as pd\n",
    "import phonetics\n",
    "from pyphonetics import RefinedSoundex\n",
    "from snorkel.labeling.model import LabelModel\n",
    "from spellwise import CaverphoneTwo\n",
    "from tqdm import tqdm\n",
    "\n",
    "from src.data.match import levenshtein_similarity\n",
    "from src.data.utils import load_datasets, frequent_k_names\n",
    "from src.models.utils import remove_padding"
   ]
  },
  {
   "cell_type": "code",
   "execution_count": null,
   "metadata": {
    "pycharm": {
     "name": "#%%\n"
    }
   },
   "outputs": [],
   "source": [
    "# Config\n",
    "\n",
    "given_surname = \"given\"\n",
    "vocab_size = 610000 if given_surname == \"given\" else 2100000\n",
    "Config = namedtuple(\"Config\", \"train_path\")\n",
    "config = Config(\n",
    "    train_path=f\"s3://familysearch-names/processed/tree-hr-{given_surname}-train.csv.gz\",\n",
    ")"
   ]
  },
  {
   "cell_type": "code",
   "execution_count": null,
   "metadata": {
    "pycharm": {
     "name": "#%%\n"
    }
   },
   "outputs": [],
   "source": [
    "# load data\n",
    "[train] = load_datasets([config.train_path])\n",
    "input_names_train, weighted_actual_names_train, candidate_names_train = train\n",
    "all_names = set(input_names_train).union(set(candidate_names_train))\n",
    "sample_names = set(frequent_k_names(input_names_train, weighted_actual_names_train, 250))"
   ]
  },
  {
   "cell_type": "code",
   "execution_count": null,
   "metadata": {
    "pycharm": {
     "name": "#%%\n"
    }
   },
   "outputs": [],
   "source": [
    "# construct name_counts, tree2records, and record2trees\n",
    "name_counts = Counter()\n",
    "for input_name, wans in zip(input_names_train, weighted_actual_names_train):\n",
    "    for name, _, co_occurrence in wans:\n",
    "        name_counts[input_name] += co_occurrence\n",
    "        name_counts[name] += co_occurrence\n",
    "freq_names = set(name for name, _ in name_counts.most_common(5000))\n",
    "\n",
    "tree2records = defaultdict(Counter)\n",
    "record2trees = defaultdict(Counter)\n",
    "for input_name, wans in zip(input_names_train, weighted_actual_names_train):\n",
    "    for name, _, co_occurrence in wans:\n",
    "        # TODO DON'T COPY - exclude frequent dissimilar pairs\n",
    "        if input_name in freq_names and name in freq_names and levenshtein_similarity(remove_padding(input_name), remove_padding(name)) <= 0.65:\n",
    "            continue\n",
    "        tree2records[input_name][name] += co_occurrence\n",
    "        record2trees[name][input_name] += co_occurrence"
   ]
  },
  {
   "cell_type": "code",
   "execution_count": null,
   "metadata": {
    "pycharm": {
     "name": "#%%\n"
    }
   },
   "outputs": [],
   "source": [
    "# define strategies and labeling functions based upon co-occurrence (tree2records and record2trees)\n",
    "def tree_record_strategy(name, tree2records, record2trees):\n",
    "    \"\"\"tree->name => tree<->name\"\"\"\n",
    "    c = Counter()\n",
    "    c += tree2records[name]\n",
    "    c += record2trees[name]\n",
    "    return c\n",
    "\n",
    "\n",
    "def get_weight(name, occurrence, name_counts):\n",
    "    return occurrence / name_counts[name]\n",
    "\n",
    "\n",
    "def tree_record_pair_strategy(name, tree2records, record2trees, name_counts, threshold=0, score=1):\n",
    "    \"\"\"tree->name, tree->alt_name => name<->alt_name\"\"\"\n",
    "    c = Counter()\n",
    "    for tree_name, occurrence in record2trees[name].items():\n",
    "        if get_weight(name, occurrence, name_counts) < threshold:\n",
    "            continue\n",
    "        for alt_name, alt_occurrence in tree2records[tree_name].items():\n",
    "            if get_weight(tree_name, alt_occurrence, name_counts) < threshold:\n",
    "                continue\n",
    "            if alt_name != name:\n",
    "                c[alt_name] += score\n",
    "    return c\n",
    "\n",
    "\n",
    "def record_tree_pair_strategy(name, tree2records, record2trees, name_counts, threshold=0, score=1):\n",
    "    \"\"\"name->record, alt_name->record => name<->alt_name\"\"\"\n",
    "    c = Counter()\n",
    "    for record_name, occurrence in tree2records[name].items():\n",
    "        if get_weight(name, occurrence, name_counts) < threshold:\n",
    "            continue\n",
    "        for alt_name, alt_occurrence in record2trees[record_name].items():\n",
    "            if get_weight(record_name, alt_occurrence, name_counts) < threshold:\n",
    "                continue\n",
    "            if alt_name != name:\n",
    "                c[alt_name] += score\n",
    "    return c\n",
    "\n",
    "\n",
    "def tree_record_record_strategy(name, tree2records, record2trees, name_counts, threshold=0, score=1):\n",
    "    \"\"\"name->record, record(as tree name)->alt_record => name<->alt_record\"\"\"\n",
    "    c = Counter()\n",
    "    for record_name, occurrence in tree2records[name].items():\n",
    "        if get_weight(name, occurrence, name_counts) < threshold:\n",
    "            continue\n",
    "        for alt_name, alt_occurrence in tree2records[record_name].items():\n",
    "            if get_weight(record_name, alt_occurrence, name_counts) < threshold:\n",
    "                continue\n",
    "            if alt_name != name:\n",
    "                c[alt_name] += score\n",
    "    for tree_name, occurrence in record2trees[name].items():\n",
    "        if get_weight(name, occurrence, name_counts) < threshold:\n",
    "            continue\n",
    "        for alt_name, alt_occurrence in record2trees[tree_name].items():\n",
    "            if get_weight(tree_name, alt_occurrence, name_counts) < threshold:\n",
    "                continue\n",
    "            if alt_name != name:\n",
    "                c[alt_name] += score\n",
    "    return c\n"
   ]
  },
  {
   "cell_type": "code",
   "execution_count": null,
   "metadata": {
    "pycharm": {
     "name": "#%%\n"
    }
   },
   "outputs": [],
   "source": [
    "# define strategies based upon coders\n",
    "def get_codes(coder, names, multiple_codes=False):\n",
    "    codes = defaultdict(list)\n",
    "    for name in names:\n",
    "        result = coder(remove_padding(name))\n",
    "        if multiple_codes:\n",
    "            for code in result:\n",
    "                if code:\n",
    "                    codes[code].append(name)\n",
    "        else:\n",
    "            codes[result].append(name)\n",
    "    return codes\n",
    "\n",
    "\n",
    "def get_code_matches(name, coder, codes, multiple_codes=False):\n",
    "    result = coder(remove_padding(name))\n",
    "    if multiple_codes:\n",
    "        names = set()\n",
    "        for code in result:\n",
    "            if code:\n",
    "                names.update(codes[code])\n",
    "        return list(names)\n",
    "    else:\n",
    "        return codes[result]\n",
    "\n",
    "\n",
    "def code_strategy(name, coder, codes, multiple_codes=False, score=1):\n",
    "    c = Counter()\n",
    "    for alt_name in get_code_matches(name, coder, codes, multiple_codes=multiple_codes):\n",
    "        if alt_name != name:\n",
    "            c[alt_name] = score\n",
    "    return c"
   ]
  },
  {
   "cell_type": "code",
   "execution_count": null,
   "metadata": {
    "pycharm": {
     "name": "#%%\n"
    }
   },
   "outputs": [],
   "source": [
    "# generate codes\n",
    "def print_coder_stats(coder_name, codes):\n",
    "    print(coder_name, len(codes), sum(len(v) for v in codes.values()))\n",
    "\n",
    "\n",
    "caverphone = CaverphoneTwo()\n",
    "refined_soundex = RefinedSoundex()\n",
    "cologne = lambda n: [result[1] for result in cologne_phonetics.encode(n)]\n",
    "\n",
    "nysiis_codes = get_codes(jellyfish.nysiis, all_names)\n",
    "caverphone_codes = get_codes(caverphone._pre_process, all_names)\n",
    "refined_soundex_codes = get_codes(refined_soundex.phonetics, all_names)\n",
    "dmetaphone_codes = get_codes(phonetics.dmetaphone, all_names, True)\n",
    "cologne_codes = get_codes(cologne, all_names, True)\n",
    "metaphone_codes = get_codes(jellyfish.metaphone, all_names)\n",
    "\n",
    "print_coder_stats(\"nysiis\", nysiis_codes)\n",
    "print_coder_stats(\"caverphone\", caverphone_codes)\n",
    "print_coder_stats(\"refined_soundex\", refined_soundex_codes)\n",
    "print_coder_stats(\"cologne\", cologne_codes)\n",
    "print_coder_stats(\"metaphone\", metaphone_codes)\n",
    "print_coder_stats(\"double metaphone\", dmetaphone_codes)"
   ]
  },
  {
   "cell_type": "code",
   "execution_count": null,
   "metadata": {
    "pycharm": {
     "name": "#%%\n"
    }
   },
   "outputs": [],
   "source": [
    "# define strategy based upon levenshtein\n",
    "\n",
    "def get_levenshtein_matches(name, names, threshold=0.65):\n",
    "    matches = {}\n",
    "    name = remove_padding(name)\n",
    "    for n in names:\n",
    "        score = levenshtein_similarity(name, remove_padding(n))\n",
    "        if score >= threshold:\n",
    "            matches[n] = score\n",
    "    return matches\n",
    "\n",
    "\n",
    "def lev_strategy(name, names, threshold, score=1):\n",
    "    c = Counter()\n",
    "    for alt_name, _ in get_levenshtein_matches(name, names, threshold).items():\n",
    "        if alt_name != name:\n",
    "            c[alt_name] = score\n",
    "    return c"
   ]
  },
  {
   "cell_type": "code",
   "execution_count": null,
   "metadata": {
    "pycharm": {
     "name": "#%%\n"
    }
   },
   "outputs": [],
   "source": [
    "# apply variant-name strategies to freq_names to get possible variants\n",
    "def add_variants(variants_for_name, learner_name, variants):\n",
    "    for variant in variants.keys():\n",
    "        variants_for_name[variant][learner_name] = 1\n",
    "\n",
    "\n",
    "all_learners = [\n",
    "    \"tree_record_pair_1e-3\",\n",
    "    # \"tree_record_pair_1e-4\",\n",
    "    # \"tree_record_pair_1e-5\",\n",
    "    # \"record_tree_pair_1e-3\",\n",
    "    # \"record_tree_pair_1e-4\",\n",
    "    # \"record_tree_pair_1e-5\",\n",
    "    # \"tree_record_record_1e-3\",\n",
    "    # \"tree_record_record_1e-4\",\n",
    "    # \"tree_record_record_1e-5\",\n",
    "     \"code_nysiis\",\n",
    "     # \"code_caverphone\",\n",
    "     \"code_refined_soundex\",\n",
    "     \"code_dmetaphone\",\n",
    "     \"code_cologne\",\n",
    "     \"code_metaphone\",\n",
    "     \"lev_65\",\n",
    "     \"lev_70\",\n",
    "     \"lev_75\",\n",
    "     \"lev_80\",\n",
    "     \"lev_85\",\n",
    "     \"lev_90\",\n",
    "]\n",
    "\n",
    "\n",
    "def zero_learners():\n",
    "    return {learner: 0 for learner in all_learners}"
   ]
  },
  {
   "cell_type": "code",
   "execution_count": null,
   "metadata": {
    "pycharm": {
     "name": "#%%\n"
    }
   },
   "outputs": [],
   "source": [
    "name_pairs = []\n",
    "for name in tqdm(sample_names):\n",
    "    variants_for_name = defaultdict(zero_learners)\n",
    "\n",
    "    # add variants for learners based upon the various strategies\n",
    "    add_variants(variants_for_name,\n",
    "                 \"tree_record_pair_1e-3\",\n",
    "                 tree_record_pair_strategy(name, tree2records=tree2records, record2trees=record2trees, name_counts=name_counts, threshold=1e-3))\n",
    "    # add_variants(variants_for_name,\n",
    "    #              \"tree_record_pair_1e-4\",\n",
    "    #              tree_record_pair_strategy(name, tree2records=tree2records, record2trees=record2trees, name_counts=name_counts, threshold=1e-4))\n",
    "    # add_variants(variants_for_name,\n",
    "    #              \"tree_record_pair_1e-5\",\n",
    "    #              tree_record_pair_strategy(name, tree2records=tree2records, record2trees=record2trees, name_counts=name_counts, threshold=1e-5))\n",
    "\n",
    "    # add_variants(variants_for_name,\n",
    "    #              \"record_tree_pair_1e-3\",\n",
    "    #              record_tree_pair_strategy(name, tree2records=tree2records, record2trees=record2trees, name_counts=name_counts, threshold=1e-3))\n",
    "    # add_variants(variants_for_name,\n",
    "    #              \"record_tree_pair_1e-4\",\n",
    "    #              record_tree_pair_strategy(name, tree2records=tree2records, record2trees=record2trees, name_counts=name_counts, threshold=1e-4))\n",
    "    # add_variants(variants_for_name,\n",
    "    #              \"record_tree_pair_1e-5\",\n",
    "    #              record_tree_pair_strategy(name, tree2records=tree2records, record2trees=record2trees, name_counts=name_counts, threshold=1e-5))\n",
    "\n",
    "    # add_variants(variants_for_name,\n",
    "    #              \"tree_record_record_1e-3\",\n",
    "    #              tree_record_record_strategy(name, tree2records=tree2records, record2trees=record2trees, name_counts=name_counts, threshold=1e-3))\n",
    "    # add_variants(variants_for_name,\n",
    "    #              \"tree_record_record_1e-4\",\n",
    "    #              tree_record_record_strategy(name, tree2records=tree2records, record2trees=record2trees, name_counts=name_counts, threshold=1e-4))\n",
    "    # add_variants(variants_for_name,\n",
    "    #              \"tree_record_record_1e-5\",\n",
    "    #              tree_record_record_strategy(name, tree2records=tree2records, record2trees=record2trees, name_counts=name_counts, threshold=1e-5))\n",
    "\n",
    "    add_variants(variants_for_name,\n",
    "                 \"code_nysiis\",\n",
    "                 code_strategy(name, coder=jellyfish.nysiis, codes=nysiis_codes))\n",
    "\n",
    "    # add_variants(variants_for_name,\n",
    "    #              \"code_caverphone\",\n",
    "    #              code_strategy(name, coder=caverphone._pre_process, codes=caverphone_codes))\n",
    "\n",
    "    add_variants(variants_for_name,\n",
    "                 \"code_refined_soundex\",\n",
    "                 code_strategy(name, coder=refined_soundex.phonetics, codes=refined_soundex_codes))\n",
    "\n",
    "    add_variants(variants_for_name,\n",
    "                 \"code_dmetaphone\",\n",
    "                 code_strategy(name, coder=phonetics.dmetaphone, codes=dmetaphone_codes, multiple_codes=True))\n",
    "\n",
    "    add_variants(variants_for_name,\n",
    "                 \"code_cologne\",\n",
    "                 code_strategy(name, coder=cologne, codes=cologne_codes, multiple_codes=True))\n",
    "\n",
    "    add_variants(variants_for_name,\n",
    "                 \"code_metaphone\",\n",
    "                 code_strategy(name, coder=jellyfish.metaphone, codes=metaphone_codes))\n",
    "\n",
    "    add_variants(variants_for_name,\n",
    "                 \"lev_65\",\n",
    "                 lev_strategy(name, names=all_names, threshold=0.65))\n",
    "\n",
    "    add_variants(variants_for_name,\n",
    "                 \"lev_70\",\n",
    "                 lev_strategy(name, names=all_names, threshold=0.70))\n",
    "\n",
    "    add_variants(variants_for_name,\n",
    "                 \"lev_75\",\n",
    "                 lev_strategy(name, names=all_names, threshold=0.75))\n",
    "\n",
    "    add_variants(variants_for_name,\n",
    "                 \"lev_80\",\n",
    "                 lev_strategy(name, names=all_names, threshold=0.80))\n",
    "\n",
    "    add_variants(variants_for_name,\n",
    "                 \"lev_85\",\n",
    "                 lev_strategy(name, names=all_names, threshold=0.85))\n",
    "\n",
    "    add_variants(variants_for_name,\n",
    "                 \"lev_90\",\n",
    "                 lev_strategy(name, names=all_names, threshold=0.90))\n",
    "\n",
    "    # gather all variants into name_pairs\n",
    "    for variant, learners in variants_for_name.items():\n",
    "        learners[\"name\"] = name\n",
    "        learners[\"variant\"] = variant\n",
    "        name_pairs.append(learners)\n",
    "\n",
    "# add possible variants to train dataframe\n",
    "name_pairs_df = pd.DataFrame(name_pairs)\n",
    "print(len(name_pairs_df))"
   ]
  },
  {
   "cell_type": "code",
   "execution_count": null,
   "metadata": {
    "pycharm": {
     "name": "#%%\n"
    }
   },
   "outputs": [],
   "source": [
    "len(set(name_pairs_df[\"name\"]).union(set(name_pairs_df[\"variant\"])))"
   ]
  },
  {
   "cell_type": "code",
   "execution_count": null,
   "metadata": {
    "pycharm": {
     "name": "#%%\n"
    }
   },
   "outputs": [],
   "source": [
    "# add sum of scores\n",
    "name_pairs_df[\"sum_learners\"] = name_pairs_df[all_learners].sum(axis=1)"
   ]
  },
  {
   "cell_type": "code",
   "execution_count": null,
   "metadata": {
    "pycharm": {
     "name": "#%%\n"
    }
   },
   "outputs": [],
   "source": [
    "# review\n",
    "print(len(name_pairs_df))\n",
    "name_pairs_df.sample(n=200)"
   ]
  },
  {
   "cell_type": "code",
   "execution_count": null,
   "metadata": {
    "pycharm": {
     "name": "#%%\n"
    }
   },
   "outputs": [],
   "source": [
    "low = min(name_pairs_df[\"sum_learners\"])\n",
    "high = max(name_pairs_df[\"sum_learners\"])\n",
    "print(low, high)\n",
    "name_pairs_df.hist(column=\"sum_learners\", bins=high - low + 1)"
   ]
  },
  {
   "cell_type": "code",
   "execution_count": null,
   "metadata": {
    "pycharm": {
     "name": "#%%\n"
    }
   },
   "outputs": [],
   "source": [
    "len(name_pairs_df[name_pairs_df[\"sum_learners\"] >= 3])"
   ]
  },
  {
   "cell_type": "code",
   "execution_count": null,
   "metadata": {
    "pycharm": {
     "name": "#%%\n"
    }
   },
   "outputs": [],
   "source": [
    "name_pairs_df[name_pairs_df[\"sum_learners\"] >= 3].sample(n=40)"
   ]
  },
  {
   "cell_type": "code",
   "execution_count": null,
   "metadata": {
    "pycharm": {
     "name": "#%%\n"
    }
   },
   "outputs": [],
   "source": [
    "# choose a positive ratio\n",
    "pos_ratio = 0.382"
   ]
  },
  {
   "cell_type": "code",
   "execution_count": null,
   "metadata": {
    "pycharm": {
     "name": "#%%\n"
    }
   },
   "outputs": [],
   "source": [
    "# train snorkel on strategy results\n",
    "snorkel_train = name_pairs_df[all_learners].to_numpy()\n",
    "label_model = LabelModel(cardinality=2, verbose=True)\n",
    "# TODO is our class_balance reversed?\n",
    "label_model.fit(snorkel_train, n_epochs=1000, log_freq=50, class_balance=[1-pos_ratio, pos_ratio])"
   ]
  },
  {
   "cell_type": "code",
   "execution_count": null,
   "metadata": {
    "pycharm": {
     "name": "#%%\n"
    }
   },
   "outputs": [],
   "source": [
    "# add snorkel predictions to train dataframe\n",
    "name_pairs_df[\"predict_proba\"] = label_model.predict_proba(L=snorkel_train)[:, 1]\n",
    "name_pairs_df[\"predict\"] = label_model.predict(L=snorkel_train)"
   ]
  },
  {
   "cell_type": "code",
   "execution_count": null,
   "metadata": {
    "pycharm": {
     "name": "#%%\n"
    }
   },
   "outputs": [],
   "source": [
    "name_pairs_df[\"predict\"].sum()"
   ]
  },
  {
   "cell_type": "code",
   "execution_count": null,
   "metadata": {
    "pycharm": {
     "name": "#%%\n"
    }
   },
   "outputs": [],
   "source": [
    "# review positive and negative examples\n",
    "name_pairs_df.sample(200)"
   ]
  },
  {
   "cell_type": "code",
   "execution_count": null,
   "metadata": {
    "pycharm": {
     "name": "#%%\n"
    }
   },
   "outputs": [],
   "source": []
  }
 ],
 "metadata": {
  "kernelspec": {
   "display_name": "Python 3",
   "language": "python",
   "name": "python3"
  },
  "language_info": {
   "codemirror_mode": {
    "name": "ipython",
    "version": 2
   },
   "file_extension": ".py",
   "mimetype": "text/x-python",
   "name": "python",
   "nbconvert_exporter": "python",
   "pygments_lexer": "ipython2",
   "version": "2.7.6"
  }
 },
 "nbformat": 4,
 "nbformat_minor": 0
}
