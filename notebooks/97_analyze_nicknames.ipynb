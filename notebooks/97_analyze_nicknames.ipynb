{
 "cells": [
  {
   "cell_type": "code",
   "execution_count": null,
   "id": "8495f640",
   "metadata": {},
   "outputs": [],
   "source": [
    "%load_ext autoreload\n",
    "%autoreload 2"
   ]
  },
  {
   "cell_type": "code",
   "execution_count": null,
   "id": "5a45f361",
   "metadata": {},
   "outputs": [],
   "source": [
    "from collections import defaultdict\n",
    "\n",
    "import pandas as pd"
   ]
  },
  {
   "cell_type": "code",
   "execution_count": null,
   "id": "58850d05",
   "metadata": {},
   "outputs": [],
   "source": [
    "nicknames = defaultdict(set)\n",
    "with open(\"../givenname_nicknames.csv\", \"rt\") as f:\n",
    "    for line in f.readlines():\n",
    "        names = [name.strip() for name in line.strip().split(',') if len(name.strip()) > 0]\n",
    "        for n1 in names:\n",
    "            for n2 in names:\n",
    "                if n1 == n2:\n",
    "                    continue\n",
    "                nicknames[n1].add(n2)"
   ]
  },
  {
   "cell_type": "code",
   "execution_count": null,
   "id": "b924594a",
   "metadata": {},
   "outputs": [],
   "source": [
    "print(len(nicknames))"
   ]
  },
  {
   "cell_type": "code",
   "execution_count": null,
   "id": "dd0db9e0",
   "metadata": {},
   "outputs": [],
   "source": [
    "for name, nicks in nicknames.items():\n",
    "    print(name, nicks)"
   ]
  },
  {
   "cell_type": "code",
   "execution_count": null,
   "id": "c045707f",
   "metadata": {},
   "outputs": [],
   "source": []
  }
 ],
 "metadata": {
  "kernelspec": {
   "display_name": "nama",
   "language": "python",
   "name": "nama"
  },
  "language_info": {
   "codemirror_mode": {
    "name": "ipython",
    "version": 3
   },
   "file_extension": ".py",
   "mimetype": "text/x-python",
   "name": "python",
   "nbconvert_exporter": "python",
   "pygments_lexer": "ipython3",
   "version": "3.8.12"
  }
 },
 "nbformat": 4,
 "nbformat_minor": 5
}
