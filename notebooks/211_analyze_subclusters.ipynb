{
 "cells": [
  {
   "cell_type": "code",
   "execution_count": null,
   "id": "5a9c0cca",
   "metadata": {},
   "outputs": [],
   "source": [
    "%load_ext autoreload\n",
    "%autoreload 2"
   ]
  },
  {
   "cell_type": "markdown",
   "id": "0ccdd2bd",
   "metadata": {},
   "source": [
    "# Analyze sub-clusters\n",
    "\n",
    "The questions to answer are:\n",
    "\n",
    "1. Do any names appear more than once? YES, but it's ok\n",
    "2. How far away are names from sub-cluster centroids at different distance thresholds? \n",
    "3. How many sub-clusters per cluster at different distance thresholds?"
   ]
  },
  {
   "cell_type": "code",
   "execution_count": null,
   "id": "eebae341",
   "metadata": {},
   "outputs": [],
   "source": [
    "from collections import defaultdict\n",
    "import json\n",
    "import os\n",
    "import random\n",
    "\n",
    "import matplotlib.pyplot as plt\n",
    "import numpy as np\n",
    "import pandas as pd\n",
    "from sklearn.metrics.pairwise import cosine_similarity\n",
    "import torch\n",
    "from tqdm.auto import tqdm\n",
    "\n",
    "from src.models.biencoder import BiEncoder\n",
    "from src.models.tokenizer import get_tokenize_function_and_vocab"
   ]
  },
  {
   "cell_type": "code",
   "execution_count": null,
   "id": "e0479328",
   "metadata": {},
   "outputs": [],
   "source": [
    "# configure\n",
    "given_surname = \"given\"\n",
    "\n",
    "distance_threshold = 0.65\n",
    "sub_clusters_path = f\"../data/models/sub_clusters_{given_surname}-{distance_threshold}.json\"\n",
    "nama_bucket = 'nama-data'\n",
    "vocab_type = 'f'\n",
    "subword_vocab_size = 2000\n",
    "subwords_path=f\"data/models/fs-{given_surname}-subword-tokenizer-{subword_vocab_size}{vocab_type}.json\"\n",
    "pref_path = f\"s3://familysearch-names/processed/tree-preferred-{given_surname}-aggr.csv.gz\"\n",
    "model_path = f\"../data/models/bi_encoder-{given_surname}.pth\""
   ]
  },
  {
   "cell_type": "markdown",
   "id": "7472cde1",
   "metadata": {},
   "source": [
    "## Load data"
   ]
  },
  {
   "cell_type": "code",
   "execution_count": null,
   "id": "144fef97",
   "metadata": {},
   "outputs": [],
   "source": [
    "# load sub-clusters\n",
    "with open(sub_clusters_path, 'rt') as f:\n",
    "    clusters = json.load(f)\n",
    "print(len(clusters))"
   ]
  },
  {
   "cell_type": "code",
   "execution_count": null,
   "id": "0457dab6",
   "metadata": {},
   "outputs": [],
   "source": [
    "# load model\n",
    "model = torch.load(model_path)"
   ]
  },
  {
   "cell_type": "code",
   "execution_count": null,
   "id": "3dca9da7",
   "metadata": {},
   "outputs": [],
   "source": [
    "# load tokenize function\n",
    "tokenize, tokenizer_vocab = get_tokenize_function_and_vocab(\n",
    "    subwords_path=subwords_path,\n",
    "    nama_bucket=nama_bucket,\n",
    ")\n",
    "len(tokenizer_vocab)"
   ]
  },
  {
   "cell_type": "markdown",
   "id": "171a5b49",
   "metadata": {},
   "source": [
    "## Report names appearing more than once"
   ]
  },
  {
   "cell_type": "code",
   "execution_count": null,
   "id": "2c55719b",
   "metadata": {},
   "outputs": [],
   "source": [
    "name_clusters = defaultdict(list)\n",
    "for cluster_name, cluster in clusters.items():\n",
    "    for sub_cluster_name, sub_cluster in cluster.items():\n",
    "        seen_sub_clusters.add(sub_cluster_name)\n",
    "        for name in sub_cluster:\n",
    "            name_clusters[name].append(cluster_name)\n",
    "            if len(name_clusters[name]) > 1:\n",
    "                print(\"Name appears more than once\", name, name_clusters[name])\n",
    "            "
   ]
  },
  {
   "cell_type": "markdown",
   "id": "297bdbe1",
   "metadata": {},
   "source": [
    "## Compute sub-cluster centroids"
   ]
  },
  {
   "cell_type": "code",
   "execution_count": null,
   "id": "6b966f0d",
   "metadata": {},
   "outputs": [],
   "source": [
    "bucket = ['altino', 'aaltje', 'altgen', 'eltje', 'aeltje', 'aalken', 'aaltjen']\n",
    "emb1 = model.get_embedding(tokenize(bucket[0]))\n",
    "emb1 /= np.linalg.norm(emb1)\n",
    "for name in bucket[1:]:\n",
    "    emb2 = model.get_embedding(tokenize(name))\n",
    "    sim = cosine_similarity([emb1], [emb2])[0][0]\n",
    "    print(name, sim)"
   ]
  },
  {
   "cell_type": "code",
   "execution_count": null,
   "id": "4b933b31",
   "metadata": {},
   "outputs": [],
   "source": [
    "similarities = []\n",
    "centroids = {}\n",
    "for ix, (cluster_name, cluster) in tqdm(enumerate(clusters.items())):\n",
    "    for sub_cluster_name, sub_cluster in cluster.items():\n",
    "        embeddings = []\n",
    "        for name in sub_cluster:\n",
    "            embedding = model.get_embedding(tokenize(name))\n",
    "            embedding /= np.linalg.norm(embedding)\n",
    "            embeddings.append(embedding)\n",
    "        centroid = np.array(embeddings).sum(axis=0) / len(embeddings)\n",
    "        centroids[f\"{cluster_name}/{sub_cluster_name}\"] = centroid\n",
    "        for name in sub_cluster:\n",
    "            embedding = model.get_embedding(tokenize(name))\n",
    "            embedding /= np.linalg.norm(embedding)\n",
    "            similarity = cosine_similarity([centroid], [embedding])[0][0]\n",
    "            if ix < 10:\n",
    "                print(sub_cluster_name, name, similarity)\n",
    "            similarities.append(similarity)         "
   ]
  },
  {
   "cell_type": "code",
   "execution_count": null,
   "id": "49f914a1",
   "metadata": {},
   "outputs": [],
   "source": [
    "print(len(similarities))\n",
    "similarities[:10]"
   ]
  },
  {
   "cell_type": "markdown",
   "id": "668f4e9e",
   "metadata": {},
   "source": [
    "### Plot name similarity to cluster centroids"
   ]
  },
  {
   "cell_type": "code",
   "execution_count": null,
   "id": "5baff74b",
   "metadata": {},
   "outputs": [],
   "source": [
    "len([sim for sim in similarities if sim < 0.5])"
   ]
  },
  {
   "cell_type": "code",
   "execution_count": null,
   "id": "c961a514",
   "metadata": {},
   "outputs": [],
   "source": [
    "plt.figure(figsize=(10, 6))\n",
    "plt.hist(random.sample(similarities, 10000), bins=40, label=\"Name similarity to centroid\")\n",
    "plt.title('Centroid similarities')\n",
    "plt.xlabel('similarity')\n",
    "plt.ylabel('Frequency')\n",
    "\n",
    "# Show the plot\n",
    "plt.tight_layout()\n",
    "plt.show()"
   ]
  },
  {
   "cell_type": "markdown",
   "id": "b88d13c5",
   "metadata": {},
   "source": [
    "### Plot number of sub-clusters"
   ]
  },
  {
   "cell_type": "code",
   "execution_count": null,
   "id": "3bd261fc",
   "metadata": {},
   "outputs": [],
   "source": [
    "n_sub_clusters = []\n",
    "for cluster in clusters.values():\n",
    "    n_sub_clusters.append(len(cluster))\n",
    "len(n_sub_clusters)"
   ]
  },
  {
   "cell_type": "code",
   "execution_count": null,
   "id": "41626cad",
   "metadata": {},
   "outputs": [],
   "source": [
    "len([n for n in n_sub_clusters if n > 10])"
   ]
  },
  {
   "cell_type": "code",
   "execution_count": null,
   "id": "299f8b81",
   "metadata": {},
   "outputs": [],
   "source": [
    "len(clusters['elizabeth'])"
   ]
  },
  {
   "cell_type": "code",
   "execution_count": null,
   "id": "74468c29",
   "metadata": {},
   "outputs": [],
   "source": [
    "plt.figure(figsize=(10, 6))\n",
    "plt.hist(n_sub_clusters, bins=40, label=\"Number of Sub-clusters\")\n",
    "plt.title('Number of Sub-clusters')\n",
    "plt.xlabel('Number of Sub-clusters')\n",
    "plt.ylabel('Frequency')\n",
    "\n",
    "# Show the plot\n",
    "plt.tight_layout()\n",
    "plt.show()"
   ]
  },
  {
   "cell_type": "code",
   "execution_count": null,
   "id": "d48d139c",
   "metadata": {},
   "outputs": [],
   "source": []
  }
 ],
 "metadata": {
  "kernelspec": {
   "display_name": "nama",
   "language": "python",
   "name": "nama"
  },
  "language_info": {
   "codemirror_mode": {
    "name": "ipython",
    "version": 3
   },
   "file_extension": ".py",
   "mimetype": "text/x-python",
   "name": "python",
   "nbconvert_exporter": "python",
   "pygments_lexer": "ipython3",
   "version": "3.9.16"
  }
 },
 "nbformat": 4,
 "nbformat_minor": 5
}
