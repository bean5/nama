{
 "cells": [
  {
   "cell_type": "code",
   "execution_count": null,
   "id": "8837d91e",
   "metadata": {},
   "outputs": [],
   "source": [
    "%load_ext autoreload\n",
    "%autoreload 2"
   ]
  },
  {
   "cell_type": "markdown",
   "id": "8622d4a1",
   "metadata": {},
   "source": [
    "# Sample Query Given and Surnames"
   ]
  },
  {
   "cell_type": "code",
   "execution_count": null,
   "id": "1f94d97f",
   "metadata": {},
   "outputs": [],
   "source": [
    "import os\n",
    "import random\n",
    "from urllib.parse import unquote\n",
    "\n",
    "import pandas as pd\n",
    "\n",
    "from src.data.normalize import normalize"
   ]
  },
  {
   "cell_type": "code",
   "execution_count": null,
   "id": "c63a44a1",
   "metadata": {},
   "outputs": [],
   "source": [
    "input_dir = \"../data/queries\"\n",
    "\n",
    "freq_threshold = 20  # names must be associated with other names at least this many times\n",
    "sample_size = 5000\n",
    "\n",
    "given_train_path = \"s3://familysearch-names/processed/tree-hr-given-train-v2.csv.gz\"\n",
    "surname_train_path = \"s3://familysearch-names/processed/tree-hr-surname-train-v2.csv.gz\"\n",
    "\n",
    "given_query_path = \"s3://familysearch-names/processed/query-names-given-v2.csv.gz\"\n",
    "surname_query_path = \"s3://familysearch-names/processed/query-names-surname-v2.csv.gz\""
   ]
  },
  {
   "cell_type": "markdown",
   "id": "a1e362a2",
   "metadata": {},
   "source": [
    "## Read training data"
   ]
  },
  {
   "cell_type": "code",
   "execution_count": null,
   "id": "e0cff840",
   "metadata": {},
   "outputs": [],
   "source": [
    "given_train_df = pd.read_csv(given_train_path, keep_default_na=False)\n",
    "surname_train_df = pd.read_csv(surname_train_path, keep_default_na=False)"
   ]
  },
  {
   "cell_type": "code",
   "execution_count": null,
   "id": "29a91129",
   "metadata": {},
   "outputs": [],
   "source": [
    "# ignore frequency of names associated with themselves\n",
    "given_train_df = given_train_df[given_train_df[\"tree_name\"] != given_train_df[\"record_name\"]]\n",
    "surname_train_df = surname_train_df[surname_train_df[\"tree_name\"] != surname_train_df[\"record_name\"]]"
   ]
  },
  {
   "cell_type": "code",
   "execution_count": null,
   "id": "e6cd4bfb",
   "metadata": {},
   "outputs": [],
   "source": [
    "# we need to find tree names that are associated with other record names\n",
    "# more often than a threshold so we can calculate reliable precision and recall numbers \n",
    "frequent_given_df = given_train_df.groupby(\"tree_name\")[\"frequency\"].sum().reset_index()\n",
    "frequent_given_df = frequent_given_df[frequent_given_df[\"frequency\"] >= freq_threshold]\n",
    "print(frequent_given_df.shape)\n",
    "frequent_givens = set(frequent_given_df[\"tree_name\"].tolist())\n",
    "frequent_given_df.head(3)"
   ]
  },
  {
   "cell_type": "code",
   "execution_count": null,
   "id": "b49d74e3",
   "metadata": {},
   "outputs": [],
   "source": [
    "frequent_surname_df = surname_train_df.groupby(\"tree_name\")[\"frequency\"].sum().reset_index()\n",
    "frequent_surname_df = frequent_surname_df[frequent_surname_df[\"frequency\"] >= freq_threshold]\n",
    "print(frequent_surname_df.shape)\n",
    "frequent_surnames = set(frequent_surname_df[\"tree_name\"].tolist())\n",
    "frequent_surname_df.head(3)"
   ]
  },
  {
   "cell_type": "markdown",
   "id": "4169a63c",
   "metadata": {},
   "source": [
    "## Read Queries"
   ]
  },
  {
   "cell_type": "code",
   "execution_count": null,
   "id": "bb546c0f",
   "metadata": {},
   "outputs": [],
   "source": [
    "all_files = [f for f in os.listdir(input_dir) if f.endswith('.csv')]\n",
    "\n",
    "given_queries = []\n",
    "surname_queries = []\n",
    "\n",
    "for file in all_files:\n",
    "    file_path = os.path.join(input_dir, file)\n",
    "    with open(file_path, \"r\") as f:\n",
    "        for ix, line in enumerate(f.readlines()):\n",
    "            if ix == 0:\n",
    "                continue\n",
    "            line = line.strip('\"')\n",
    "            line = unquote(line)\n",
    "            for term in line.split('&'):\n",
    "                q, value = term.split('=')\n",
    "                if q != \"q.givenName\" and q != \"q.surname\":\n",
    "                    continue\n",
    "                is_surname = (q == \"q.surname\")\n",
    "                for name in normalize(value, \n",
    "                                      is_surname=is_surname, \n",
    "                                      handle_patronymics=True,\n",
    "                                      dont_return_empty=False):\n",
    "                    if len(name) < 3:\n",
    "                        continue\n",
    "                    if is_surname:\n",
    "                        if name not in frequent_surnames:\n",
    "                            continue\n",
    "                        surname_queries.append(name)\n",
    "                    else:\n",
    "                        if name not in frequent_givens:\n",
    "                            continue\n",
    "                        given_queries.append(name)\n",
    "                        \n",
    "print(\"given names\", len(given_queries))\n",
    "print(\"surnames\", len(surname_queries))"
   ]
  },
  {
   "cell_type": "code",
   "execution_count": null,
   "id": "00715cdd",
   "metadata": {},
   "outputs": [],
   "source": [
    "given_queries = random.sample(given_queries, k=sample_size)\n",
    "given_queries[:20]"
   ]
  },
  {
   "cell_type": "code",
   "execution_count": null,
   "id": "b9fc8fdc",
   "metadata": {},
   "outputs": [],
   "source": [
    "surname_queries = random.sample(surname_queries, k=sample_size)\n",
    "surname_queries[:20]"
   ]
  },
  {
   "cell_type": "markdown",
   "id": "759b4861",
   "metadata": {},
   "source": [
    "## Write sample query names"
   ]
  },
  {
   "cell_type": "code",
   "execution_count": null,
   "id": "14657b04",
   "metadata": {},
   "outputs": [],
   "source": [
    "given_df = pd.DataFrame(given_queries, columns=[\"name\"])\n",
    "print(given_df.shape)\n",
    "given_df.head(3)"
   ]
  },
  {
   "cell_type": "code",
   "execution_count": null,
   "id": "efb08aec",
   "metadata": {},
   "outputs": [],
   "source": [
    "surname_df = pd.DataFrame(surname_queries, columns=[\"name\"])\n",
    "print(surname_df.shape)\n",
    "surname_df.head(3)"
   ]
  },
  {
   "cell_type": "code",
   "execution_count": null,
   "id": "5fa2e8a6",
   "metadata": {},
   "outputs": [],
   "source": [
    "given_df.to_csv(given_query_path, index=False)"
   ]
  },
  {
   "cell_type": "code",
   "execution_count": null,
   "id": "1d9aa900",
   "metadata": {},
   "outputs": [],
   "source": [
    "surname_df.to_csv(surname_query_path, index=False)"
   ]
  },
  {
   "cell_type": "code",
   "execution_count": null,
   "id": "8658eb01",
   "metadata": {},
   "outputs": [],
   "source": []
  }
 ],
 "metadata": {
  "kernelspec": {
   "display_name": "nama",
   "language": "python",
   "name": "nama"
  },
  "language_info": {
   "codemirror_mode": {
    "name": "ipython",
    "version": 3
   },
   "file_extension": ".py",
   "mimetype": "text/x-python",
   "name": "python",
   "nbconvert_exporter": "python",
   "pygments_lexer": "ipython3",
   "version": "3.8.12"
  }
 },
 "nbformat": 4,
 "nbformat_minor": 5
}
