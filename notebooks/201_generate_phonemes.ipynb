{
 "cells": [
  {
   "cell_type": "code",
   "execution_count": null,
   "id": "b77c8cf0",
   "metadata": {},
   "outputs": [],
   "source": [
    "%load_ext autoreload\n",
    "%autoreload 2"
   ]
  },
  {
   "cell_type": "markdown",
   "id": "a9881a5b",
   "metadata": {},
   "source": [
    "# Generate phonemes \n",
    "Just for testing, to make sure we can\n",
    "\n",
    "We didn't actually use phonemes in the end"
   ]
  },
  {
   "cell_type": "code",
   "execution_count": null,
   "id": "d6540732",
   "metadata": {},
   "outputs": [],
   "source": [
    "from collections import Counter\n",
    "import json\n",
    "import random\n",
    "\n",
    "import pandas as pd\n",
    "from tqdm.auto import tqdm\n",
    "\n",
    "from src.data.filesystem import fopen"
   ]
  },
  {
   "cell_type": "code",
   "execution_count": null,
   "id": "243f0d8e",
   "metadata": {},
   "outputs": [],
   "source": [
    "given_surname = \"given\"\n",
    "sample_size = 500000\n",
    "num_unigrams = 63\n",
    "num_bigrams = 500\n",
    "\n",
    "train_path = f\"s3://familysearch-names/processed/tree-hr-{given_surname}-train-v2.csv.gz\"\n",
    "espeak_vocab_path = f\"s3://nama-data/data/models/fs-{given_surname}-espeak_phoneme_vocab.json\"\n",
    "espeak_bigrams_vocab_path = f\"s3://nama-data/data/models/fs-{given_surname}-espeak_phoneme_vocab_bigrams.json\""
   ]
  },
  {
   "cell_type": "markdown",
   "id": "1dbad6b1",
   "metadata": {},
   "source": [
    "## Load data"
   ]
  },
  {
   "cell_type": "code",
   "execution_count": null,
   "id": "e0b75e06",
   "metadata": {},
   "outputs": [],
   "source": [
    "df = pd.read_csv(train_path, na_filter=False)\n",
    "print(df.shape)\n",
    "df.head(3)"
   ]
  },
  {
   "cell_type": "code",
   "execution_count": null,
   "id": "adf6acbc",
   "metadata": {},
   "outputs": [],
   "source": [
    "all_names = set(df['tree_name']) | set(df['record_name'])\n",
    "print(len(all_names))\n",
    "next(iter(all_names))"
   ]
  },
  {
   "cell_type": "code",
   "execution_count": null,
   "id": "0fbd5184",
   "metadata": {},
   "outputs": [],
   "source": [
    "sampled_names = random.sample(list(all_names), sample_size)"
   ]
  },
  {
   "cell_type": "markdown",
   "id": "44d2de62",
   "metadata": {},
   "source": [
    "### Try eng_to_ipa\n",
    "This test failed, because eng_to_ipa just uses a dictionary lookup"
   ]
  },
  {
   "cell_type": "code",
   "execution_count": null,
   "id": "62503724",
   "metadata": {},
   "outputs": [],
   "source": [
    "import eng_to_ipa as ipa"
   ]
  },
  {
   "cell_type": "code",
   "execution_count": null,
   "id": "f1af40ed",
   "metadata": {},
   "outputs": [],
   "source": [
    "ipa.convert('john', stress_marks=False)"
   ]
  },
  {
   "cell_type": "code",
   "execution_count": null,
   "id": "1abffad5",
   "metadata": {},
   "outputs": [],
   "source": [
    "name_phonemes = {}\n",
    "for name in tqdm(sampled_names):\n",
    "    name_phonemes[name] = ipa.convert(name, stress_marks=False)\n",
    "len(name_phonemes)"
   ]
  },
  {
   "cell_type": "code",
   "execution_count": null,
   "id": "d89f9008",
   "metadata": {},
   "outputs": [],
   "source": [
    "for ix, (name, phonemes) in enumerate(name_phonemes.items()):\n",
    "    if ix > 20:\n",
    "        break\n",
    "    print(name, phonemes)"
   ]
  },
  {
   "cell_type": "markdown",
   "id": "2b0f98b5",
   "metadata": {},
   "source": [
    "### Try phonemizer"
   ]
  },
  {
   "cell_type": "code",
   "execution_count": null,
   "id": "e0bc1643",
   "metadata": {},
   "outputs": [],
   "source": [
    "# sudo apt-get install espeak-ng, festival, mbrola, mbrola-us1\n",
    "from phonemizer import phonemize\n",
    "from phonemizer.separator import Separator\n",
    "from phonemizer.backend import EspeakBackend, EspeakMbrolaBackend, SegmentsBackend, FestivalBackend"
   ]
  },
  {
   "cell_type": "code",
   "execution_count": null,
   "id": "f9b4c9d4",
   "metadata": {},
   "outputs": [],
   "source": [
    "EspeakBackend.supported_languages()"
   ]
  },
  {
   "cell_type": "code",
   "execution_count": null,
   "id": "f9cb3eb6",
   "metadata": {},
   "outputs": [],
   "source": [
    "EspeakMbrolaBackend.supported_languages()"
   ]
  },
  {
   "cell_type": "code",
   "execution_count": null,
   "id": "d6c62af3",
   "metadata": {},
   "outputs": [],
   "source": [
    "SegmentsBackend.supported_languages()"
   ]
  },
  {
   "cell_type": "code",
   "execution_count": null,
   "id": "53e38d11",
   "metadata": {},
   "outputs": [],
   "source": [
    "FestivalBackend.supported_languages()"
   ]
  },
  {
   "cell_type": "code",
   "execution_count": null,
   "id": "c618dc00",
   "metadata": {},
   "outputs": [],
   "source": [
    "espeak = EspeakBackend('en-us')\n",
    "mbrola = EspeakMbrolaBackend('mb-us1')\n",
    "festival = FestivalBackend('en-us')  # too slow\n",
    "\n",
    "# only festival supports separating syllables, so don't do it\n",
    "separator = Separator(phone=' ', syllable=None, word='|')"
   ]
  },
  {
   "cell_type": "code",
   "execution_count": null,
   "id": "5d94335d",
   "metadata": {},
   "outputs": [],
   "source": [
    "print(espeak.phonemize(\n",
    "    ['john'], \n",
    "    separator=separator,\n",
    "    strip=True\n",
    ")[0])\n",
    "print(mbrola.phonemize(\n",
    "    ['john'], \n",
    "    separator=separator,\n",
    "    strip=True\n",
    ")[0])\n",
    "# festival is too slow\n",
    "# print(festival.phonemize(\n",
    "#     ['gornale'], \n",
    "#     separator=separator,\n",
    "#     strip=True\n",
    "# )[0])"
   ]
  },
  {
   "cell_type": "code",
   "execution_count": null,
   "id": "134bf075",
   "metadata": {},
   "outputs": [],
   "source": [
    "espeak_phonemes = {}\n",
    "espeak_phoneme_bigrams = {}\n",
    "for name in tqdm(sampled_names):\n",
    "    phonemes = espeak.phonemize([name], separator=separator, strip=True)[0]\n",
    "    espeak_phonemes[name] = phonemes\n",
    "    # bigrams\n",
    "    context_phoneme = 'START'\n",
    "    phonemes = phonemes.split(' ')\n",
    "    phonemes.append('END')\n",
    "    phoneme_bigrams = []\n",
    "    for phoneme in phonemes:\n",
    "        phoneme_bigrams.append(f\"{context_phoneme},{phoneme}\")\n",
    "        context_phoneme = phoneme\n",
    "    espeak_phoneme_bigrams[name] = ' '.join(phoneme_bigrams)\n",
    "print(len(espeak_phonemes))\n",
    "print(len(espeak_phoneme_bigrams))\n",
    "print(espeak_phonemes['john'])\n",
    "print(espeak_phoneme_bigrams['john'])"
   ]
  },
  {
   "cell_type": "code",
   "execution_count": null,
   "id": "88feab06",
   "metadata": {},
   "outputs": [],
   "source": [
    "mbrola_phonemes = {}\n",
    "for name in tqdm(sampled_names):\n",
    "    mbrola_phonemes[name] = mbrola.phonemize([name], separator=separator, strip=True)[0]\n",
    "print(len(mbrola_phonemes))"
   ]
  },
  {
   "cell_type": "code",
   "execution_count": null,
   "id": "193c07c5",
   "metadata": {},
   "outputs": [],
   "source": [
    "# festival is incredibly slow\n",
    "# festival_phonemes = {}\n",
    "# for name in tqdm(sampled_names):\n",
    "#     festival_phonemes[name] = festival.phonemize([name], separator=separator, strip=True)[0]\n",
    "# print(len(festival_phonemes))"
   ]
  },
  {
   "cell_type": "code",
   "execution_count": null,
   "id": "c2d2b5b8",
   "metadata": {},
   "outputs": [],
   "source": [
    "# festival is incredibly slow\n",
    "festival_phonemes = {}\n",
    "for name in tqdm(sampled_names[:1000]):\n",
    "    festival_phonemes[name] = festival.phonemize([name], separator=separator, strip=True)[0]\n",
    "print(len(festival_phonemes))"
   ]
  },
  {
   "cell_type": "code",
   "execution_count": null,
   "id": "ce2ba2e6",
   "metadata": {},
   "outputs": [],
   "source": [
    "for ix, name in enumerate(espeak_phonemes):\n",
    "    if ix > 20:\n",
    "        break\n",
    "    print(name, 'espeak', espeak_phonemes[name], 'mbrola', mbrola_phonemes[name])"
   ]
  },
  {
   "cell_type": "code",
   "execution_count": null,
   "id": "16a861f0",
   "metadata": {},
   "outputs": [],
   "source": [
    "espeak_counter = Counter()\n",
    "espeak_lengths = Counter()\n",
    "espeak_bigrams_counter = Counter()\n",
    "for name, phonemes in espeak_phonemes.items():\n",
    "    phonemes_list = phonemes.split(' ')\n",
    "    for phoneme in phonemes_list:\n",
    "        espeak_counter[phoneme] += 1\n",
    "    context_phoneme = 'START'\n",
    "    phonemes_list.append('END')\n",
    "    for phoneme in phonemes_list:\n",
    "        espeak_bigrams_counter[f\"{context_phoneme},{phoneme}\"] += 1\n",
    "        context_phoneme = phoneme\n",
    "    espeak_lengths[len(phonemes_list)] += 1\n",
    "print(len(espeak_counter))\n",
    "print(len(espeak_bigrams_counter))"
   ]
  },
  {
   "cell_type": "code",
   "execution_count": null,
   "id": "1c16ed05",
   "metadata": {},
   "outputs": [],
   "source": [
    "mbrola_counter = Counter()\n",
    "for name, phonemes in mbrola_phonemes.items():\n",
    "    for phoneme in phonemes.split(' '):\n",
    "        mbrola_counter[phoneme] += 1\n",
    "print(len(mbrola_counter))"
   ]
  },
  {
   "cell_type": "code",
   "execution_count": null,
   "id": "82bc077b",
   "metadata": {},
   "outputs": [],
   "source": [
    "espeak_counter.most_common(num_unigrams)"
   ]
  },
  {
   "cell_type": "code",
   "execution_count": null,
   "id": "1469933d",
   "metadata": {},
   "outputs": [],
   "source": [
    "espeak_bigrams_counter.most_common(num_bigrams)"
   ]
  },
  {
   "cell_type": "code",
   "execution_count": null,
   "id": "5c19546a",
   "metadata": {},
   "outputs": [],
   "source": [
    "mbrola_counter.most_common()"
   ]
  },
  {
   "cell_type": "code",
   "execution_count": null,
   "id": "d48c2d42",
   "metadata": {},
   "outputs": [],
   "source": [
    "espeak_lengths"
   ]
  },
  {
   "cell_type": "markdown",
   "id": "30825ee4",
   "metadata": {},
   "source": [
    "### Try gruut\n",
    "MIT license but too slow"
   ]
  },
  {
   "cell_type": "code",
   "execution_count": null,
   "id": "6cf8af54",
   "metadata": {},
   "outputs": [],
   "source": [
    "from gruut import sentences"
   ]
  },
  {
   "cell_type": "code",
   "execution_count": null,
   "id": "a7c151da",
   "metadata": {},
   "outputs": [],
   "source": [
    "for sentence in sentences(\"john\", lang=\"en-us\"):\n",
    "    for word in sentence:\n",
    "        print(word.phonemes)"
   ]
  },
  {
   "cell_type": "code",
   "execution_count": null,
   "id": "d368c466",
   "metadata": {},
   "outputs": [],
   "source": [
    "gruut_phonemes = {}\n",
    "for name in tqdm(sampled_names[:1000]):\n",
    "    for ix, sentence in enumerate(sentences(name, lang='en-us')):\n",
    "        if ix > 0:\n",
    "            print(\"name has multiple sentences\", name)\n",
    "            break\n",
    "        for ix, word in enumerate(sentence):\n",
    "            if ix > 0:\n",
    "                print(\"name as multiple words\", name)\n",
    "                break\n",
    "            gruut_phonemes[name] = word.phonemes\n",
    "len(gruut_phonemes)"
   ]
  },
  {
   "cell_type": "code",
   "execution_count": null,
   "id": "01b4fbce",
   "metadata": {},
   "outputs": [],
   "source": [
    "gruut_counter = Counter()\n",
    "for name, phonemes in gruut_phonemes.items():\n",
    "    for phoneme in phonemes:\n",
    "        gruut_counter[phoneme] += 1\n",
    "print(len(gruut_counter))"
   ]
  },
  {
   "cell_type": "code",
   "execution_count": null,
   "id": "7705ece1",
   "metadata": {},
   "outputs": [],
   "source": [
    "gruut_counter.most_common()"
   ]
  },
  {
   "cell_type": "markdown",
   "id": "d512a9ea",
   "metadata": {},
   "source": [
    "## Save Vocab"
   ]
  },
  {
   "cell_type": "code",
   "execution_count": null,
   "id": "54fafbf2",
   "metadata": {},
   "outputs": [],
   "source": [
    "espeak_vocab = {}\n",
    "espeak_bigrams_vocab = {}\n",
    "ix = 0\n",
    "for phoneme, _ in espeak_counter.most_common(num_unigrams):\n",
    "    espeak_vocab[phoneme] = ix\n",
    "    espeak_bigrams_vocab[phoneme] = ix\n",
    "    ix += 1\n",
    "for phoneme_bigram, _ in espeak_bigrams_counter.most_common(num_bigrams):\n",
    "    espeak_bigrams_vocab[phoneme_bigram] = ix\n",
    "    ix += 1"
   ]
  },
  {
   "cell_type": "code",
   "execution_count": null,
   "id": "b3c1e958",
   "metadata": {},
   "outputs": [],
   "source": [
    "print(len(espeak_vocab))\n",
    "espeak_vocab"
   ]
  },
  {
   "cell_type": "code",
   "execution_count": null,
   "id": "d1f05951",
   "metadata": {},
   "outputs": [],
   "source": [
    "print(len(espeak_bigrams_vocab))\n",
    "espeak_bigrams_vocab"
   ]
  },
  {
   "cell_type": "code",
   "execution_count": null,
   "id": "63cb3b62",
   "metadata": {},
   "outputs": [],
   "source": [
    "with fopen(espeak_vocab_path, 'w') as f:\n",
    "    json.dump(espeak_vocab, f)"
   ]
  },
  {
   "cell_type": "code",
   "execution_count": null,
   "id": "3bdcecfd",
   "metadata": {},
   "outputs": [],
   "source": [
    "with fopen(espeak_bigrams_vocab_path, 'w') as f:\n",
    "    json.dump(espeak_bigrams_vocab, f)"
   ]
  },
  {
   "cell_type": "code",
   "execution_count": null,
   "id": "2703b9f0",
   "metadata": {},
   "outputs": [],
   "source": []
  }
 ],
 "metadata": {
  "kernelspec": {
   "display_name": "nama",
   "language": "python",
   "name": "nama"
  },
  "language_info": {
   "codemirror_mode": {
    "name": "ipython",
    "version": 3
   },
   "file_extension": ".py",
   "mimetype": "text/x-python",
   "name": "python",
   "nbconvert_exporter": "python",
   "pygments_lexer": "ipython3",
   "version": "3.9.16"
  }
 },
 "nbformat": 4,
 "nbformat_minor": 5
}
