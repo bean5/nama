{
 "cells": [
  {
   "cell_type": "code",
   "execution_count": null,
   "metadata": {},
   "outputs": [],
   "source": [
    "%load_ext autoreload\n",
    "%autoreload 2"
   ]
  },
  {
   "cell_type": "markdown",
   "metadata": {
    "pycharm": {
     "name": "#%% md\n"
    }
   },
   "source": [
    "# Get an idea of how much mass is in the top 1k, 50k, 100k, etc. names"
   ]
  },
  {
   "cell_type": "code",
   "execution_count": null,
   "metadata": {
    "pycharm": {
     "name": "#%%\n"
    }
   },
   "outputs": [],
   "source": [
    "import pandas as pd\n",
    "from tqdm.auto import tqdm\n",
    "import wandb"
   ]
  },
  {
   "cell_type": "code",
   "execution_count": null,
   "metadata": {
    "pycharm": {
     "name": "#%%\n"
    }
   },
   "outputs": [],
   "source": [
    "given_surname=\"given\"\n",
    "in_path = f\"s3://familysearch-names/processed/tree-preferred-{given_surname}-aggr.csv.gz\""
   ]
  },
  {
   "cell_type": "code",
   "execution_count": null,
   "metadata": {
    "pycharm": {
     "name": "#%%\n"
    }
   },
   "outputs": [],
   "source": [
    "tqdm.pandas()\n",
    "wandb.init(\n",
    "    project=\"nama\",\n",
    "    entity=\"nama\",\n",
    "    name=\"32_analyze_aggregate_preferred\",\n",
    "    group=given_surname,\n",
    "    notes=\"\",\n",
    "    config = {\n",
    "        \"in_path\": in_path,\n",
    "    }\n",
    ")"
   ]
  },
  {
   "cell_type": "code",
   "execution_count": null,
   "metadata": {
    "pycharm": {
     "name": "#%%\n"
    }
   },
   "outputs": [],
   "source": [
    "df = pd.read_csv(in_path)"
   ]
  },
  {
   "cell_type": "code",
   "execution_count": null,
   "metadata": {
    "pycharm": {
     "name": "#%%\n"
    }
   },
   "outputs": [],
   "source": [
    "df"
   ]
  },
  {
   "cell_type": "code",
   "execution_count": null,
   "metadata": {
    "pycharm": {
     "name": "#%%\n"
    }
   },
   "outputs": [],
   "source": [
    "total = df[\"frequency\"].sum()\n",
    "print(total)"
   ]
  },
  {
   "cell_type": "code",
   "execution_count": null,
   "metadata": {
    "pycharm": {
     "name": "#%%\n"
    }
   },
   "outputs": [],
   "source": [
    "top_n = 1000\n",
    "df[\"frequency\"][:top_n].sum() / total"
   ]
  },
  {
   "cell_type": "code",
   "execution_count": null,
   "metadata": {
    "pycharm": {
     "name": "#%%\n"
    }
   },
   "outputs": [],
   "source": [
    "top_n = 50000\n",
    "df[\"frequency\"][:top_n].sum() / total"
   ]
  },
  {
   "cell_type": "code",
   "execution_count": null,
   "metadata": {
    "pycharm": {
     "name": "#%%\n"
    }
   },
   "outputs": [],
   "source": [
    "top_n = 100000\n",
    "df[\"frequency\"][:top_n].sum() / total"
   ]
  },
  {
   "cell_type": "code",
   "execution_count": null,
   "metadata": {
    "pycharm": {
     "name": "#%%\n"
    }
   },
   "outputs": [],
   "source": [
    "top_n = 200000\n",
    "df[\"frequency\"][:top_n].sum() / total"
   ]
  },
  {
   "cell_type": "code",
   "execution_count": null,
   "metadata": {
    "pycharm": {
     "name": "#%%\n"
    }
   },
   "outputs": [],
   "source": [
    "top_n = 500000\n",
    "df[\"frequency\"][:top_n].sum() / total"
   ]
  },
  {
   "cell_type": "code",
   "execution_count": null,
   "metadata": {
    "pycharm": {
     "name": "#%%\n"
    }
   },
   "outputs": [],
   "source": [
    "top_n = 1000000\n",
    "df[\"frequency\"][:top_n].sum() / total"
   ]
  },
  {
   "cell_type": "code",
   "execution_count": null,
   "metadata": {
    "pycharm": {
     "name": "#%%\n"
    }
   },
   "outputs": [],
   "source": [
    "top_n = 2000000\n",
    "df[\"frequency\"][:top_n].sum() / total"
   ]
  },
  {
   "cell_type": "code",
   "execution_count": null,
   "metadata": {
    "pycharm": {
     "name": "#%%\n"
    }
   },
   "outputs": [],
   "source": [
    "top_n = 3000000\n",
    "df[\"frequency\"][:top_n].sum() / total"
   ]
  },
  {
   "cell_type": "code",
   "execution_count": null,
   "metadata": {
    "pycharm": {
     "name": "#%%\n"
    }
   },
   "outputs": [],
   "source": [
    "top_n = 5000000\n",
    "df[\"frequency\"][:top_n].sum() / total"
   ]
  },
  {
   "cell_type": "code",
   "execution_count": null,
   "metadata": {
    "pycharm": {
     "name": "#%%\n"
    }
   },
   "outputs": [],
   "source": [
    "top_n = 10000000\n",
    "df[\"frequency\"][:top_n].sum() / total"
   ]
  },
  {
   "cell_type": "code",
   "execution_count": null,
   "metadata": {
    "pycharm": {
     "name": "#%%\n"
    }
   },
   "outputs": [],
   "source": [
    "df[df[\"name\"] == \"quass\"]"
   ]
  },
  {
   "cell_type": "code",
   "execution_count": null,
   "metadata": {
    "pycharm": {
     "name": "#%%\n"
    }
   },
   "outputs": [],
   "source": [
    "df.iloc[100000:100001]"
   ]
  },
  {
   "cell_type": "code",
   "execution_count": null,
   "metadata": {
    "pycharm": {
     "name": "#%%\n"
    }
   },
   "outputs": [],
   "source": [
    "search_pieces = {\n",
    "    \"Abig\",\n",
    "    \"Abr\",\n",
    "    \"Agn\",\n",
    "    \"Alex\",\n",
    "    \"Alex\",\n",
    "    \"Alf\",\n",
    "    \"Amb\",\n",
    "    \"An\",\n",
    "    \"And\",\n",
    "    \"Ant\",\n",
    "    \"Art\",\n",
    "    \"Aug\",\n",
    "    \"Barb\",\n",
    "    \"Bart\",\n",
    "    \"Benj\",\n",
    "    \"Brid\",\n",
    "    \"Cath\",\n",
    "    \"Chas\",\n",
    "    \"Chr\",\n",
    "    \"Clem\",\n",
    "    \"Const\",\n",
    "    \"Corn\",\n",
    "    \"Danl\",\n",
    "    \"Dav\",\n",
    "    \"Deb\",\n",
    "    \"Den\",\n",
    "    \"Doug\",\n",
    "    \"Dy\",\n",
    "    \"Edm\",\n",
    "    \"Edr\",\n",
    "    \"Edw\",\n",
    "    \"Eliz\",\n",
    "    \"Elnr\",\n",
    "    \"Esth\",\n",
    "    \"Ezek\",\n",
    "    \"Fred\",\n",
    "    \"Froo\",\n",
    "    \"Fs\",\n",
    "    \"Gab\",\n",
    "    \"Geo\",\n",
    "    \"Geof\",\n",
    "    \"Godf\",\n",
    "    \"Greg\",\n",
    "    \"Gul\",\n",
    "    \"Han\",\n",
    "    \"Hen\",\n",
    "    \"Hel\",\n",
    "    \"Herb\",\n",
    "    \"Hy\",\n",
    "    \"Ioh\",\n",
    "    \"Is\",\n",
    "    \"Isb\",\n",
    "    \"Jab\",\n",
    "    \"Jac\",\n",
    "    \"Jas\",\n",
    "    \"Jer\",\n",
    "    \"Jno\",\n",
    "    \"Jon\",\n",
    "    \"Jos\",\n",
    "    \"Josh\",\n",
    "    \"Josh\",\n",
    "    \"Jud\",\n",
    "    \"Lau\",\n",
    "    \"Lawr\",\n",
    "    \"Leon\",\n",
    "    \"Lyd\",\n",
    "    \"Margt\",\n",
    "    \"Math\",\n",
    "    \"Matt\",\n",
    "    \"Mau\",\n",
    "    \"Mich\",\n",
    "    \"Micls\",\n",
    "    \"Mix\",\n",
    "    \"Mill\",\n",
    "    \"My\",\n",
    "    \"Nath\",\n",
    "    \"Nich\",\n",
    "    \"Nics\",\n",
    "    \"Ol\",\n",
    "    \"Pat\",\n",
    "    \"Pen\",\n",
    "    \"Pet\",\n",
    "    \"Phil\",\n",
    "    \"Phin\",\n",
    "    \"Phyl\",\n",
    "    \"Prisc\",\n",
    "    \"Pru\",\n",
    "    \"Rach\",\n",
    "    \"Ray\",\n",
    "    \"Reb\",\n",
    "    \"Reg\",\n",
    "    \"Ric\",\n",
    "    \"Richd\",\n",
    "    \"Robt\",\n",
    "    \"Rog\",\n",
    "    \"Saml\",\n",
    "    \"Sar\",\n",
    "    \"Silv\",\n",
    "    \"Sim\",\n",
    "    \"Sol\",\n",
    "    \"Ste\",\n",
    "    \"Sus\",\n",
    "    \"Susna\",\n",
    "    \"Theo\",\n",
    "    \"Thos\",\n",
    "    \"Tim\",\n",
    "    \"Urs\",\n",
    "    \"Val\",\n",
    "    \"Vinc\",\n",
    "    \"Walt\",\n",
    "    \"Win\",\n",
    "    \"Wm\",\n",
    "    \"Xpr\",\n",
    "    \"Xtian\",\n",
    "    \"Xtopher\",\n",
    "    \"Zach\",\n",
    "}\n",
    "\n",
    "search_pieces = {piece.lower() for piece in search_pieces}"
   ]
  },
  {
   "cell_type": "code",
   "execution_count": null,
   "metadata": {
    "pycharm": {
     "name": "#%%\n"
    }
   },
   "outputs": [],
   "source": [
    "df[df[\"name\"].isin(search_pieces)].head(60)"
   ]
  },
  {
   "cell_type": "code",
   "execution_count": null,
   "metadata": {
    "pycharm": {
     "name": "#%%\n"
    }
   },
   "outputs": [],
   "source": [
    "wandb.finish()"
   ]
  }
 ],
 "metadata": {
  "kernelspec": {
   "display_name": "nama",
   "language": "python",
   "name": "nama"
  },
  "language_info": {
   "codemirror_mode": {
    "name": "ipython",
    "version": 3
   },
   "file_extension": ".py",
   "mimetype": "text/x-python",
   "name": "python",
   "nbconvert_exporter": "python",
   "pygments_lexer": "ipython3",
   "version": "3.8.12"
  }
 },
 "nbformat": 4,
 "nbformat_minor": 1
}
