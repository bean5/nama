{
 "cells": [
  {
   "cell_type": "code",
   "execution_count": null,
   "id": "cathedral-converter",
   "metadata": {},
   "outputs": [],
   "source": [
    "%load_ext autoreload\n",
    "%autoreload 2"
   ]
  },
  {
   "cell_type": "code",
   "execution_count": null,
   "id": "productive-intervention",
   "metadata": {},
   "outputs": [],
   "source": [
    "import numpy as np\n",
    "import pandas as pd\n",
    "from scipy.sparse import vstack\n",
    "from sklearn.feature_extraction.text import TfidfVectorizer\n",
    "from sklearn.utils.extmath import safe_sparse_dot\n",
    "from tqdm import tqdm\n",
    "\n",
    "from src.data.ancestry import load_train_test\n",
    "from src.metrics import metrics\n",
    "from src.models import utils"
   ]
  },
  {
   "cell_type": "code",
   "execution_count": null,
   "id": "optimum-keeping",
   "metadata": {},
   "outputs": [],
   "source": [
    "np.set_printoptions(suppress=True)\n",
    "tqdm.pandas()"
   ]
  },
  {
   "cell_type": "markdown",
   "id": "neither-ranking",
   "metadata": {},
   "source": [
    "### Load and process data"
   ]
  },
  {
   "cell_type": "code",
   "execution_count": null,
   "id": "final-liabilities",
   "metadata": {},
   "outputs": [],
   "source": [
    "# Only need to run this once\n",
    "# It we split the data into train/test and will persist the data on disk\n",
    "# dataset.load_split_init(test_size=0.1)"
   ]
  },
  {
   "cell_type": "code",
   "execution_count": null,
   "id": "novel-director",
   "metadata": {},
   "outputs": [],
   "source": [
    "train, test = load_train_test(f'../data/raw/records25k_data_train.csv',\n",
    "                                             f'../data/raw/records25k_data_test.csv')\n",
    "\n",
    "input_names_train, weighted_actual_names_train, candidate_names_train = train\n",
    "input_names_test, weighted_actual_names_test, candidate_names_test = test\n",
    "\n",
    "candidate_names_all = np.concatenate((candidate_names_train, candidate_names_test))"
   ]
  },
  {
   "cell_type": "markdown",
   "id": "vital-homeless",
   "metadata": {},
   "source": [
    "### Model"
   ]
  },
  {
   "cell_type": "code",
   "execution_count": null,
   "id": "horizontal-wisconsin",
   "metadata": {},
   "outputs": [],
   "source": [
    "vectorizer = TfidfVectorizer(ngram_range=(1, 3), analyzer='char_wb', min_df=10, max_df=0.5)"
   ]
  },
  {
   "cell_type": "code",
   "execution_count": null,
   "id": "varying-essence",
   "metadata": {},
   "outputs": [],
   "source": [
    "X_train = vectorizer.fit_transform(candidate_names_train)\n",
    "X_test = vectorizer.transform(candidate_names_test)\n",
    "X_all = vstack((X_train, X_test))"
   ]
  },
  {
   "cell_type": "markdown",
   "id": "robust-johnston",
   "metadata": {},
   "source": [
    "#### Similarity Function"
   ]
  },
  {
   "cell_type": "code",
   "execution_count": null,
   "id": "psychological-archives",
   "metadata": {},
   "outputs": [],
   "source": [
    "def get_similars(name, k=10, demo_mode=False):\n",
    "    if demo_mode:\n",
    "        name = utils.add_padding(name)\n",
    "    x = vectorizer.transform([name]).toarray()\n",
    "    scores = safe_sparse_dot(X_all, x.T).flatten()\n",
    "    sorted_scores_idx = np.argsort(scores)[::-1][:k]\n",
    "    candidates = candidate_names_all[sorted_scores_idx]\n",
    "    if demo_mode:\n",
    "        candidates = [utils.remove_padding(candidate) for candidate in candidates]\n",
    "    candidates_scores = scores[sorted_scores_idx]\n",
    "\n",
    "    return list(zip(candidates, candidates_scores))"
   ]
  },
  {
   "cell_type": "markdown",
   "id": "elder-burden",
   "metadata": {},
   "source": [
    "#### Demo"
   ]
  },
  {
   "cell_type": "code",
   "execution_count": null,
   "id": "breathing-access",
   "metadata": {},
   "outputs": [],
   "source": [
    "get_similars('schumacher', 10, True)"
   ]
  },
  {
   "cell_type": "markdown",
   "id": "contemporary-stationery",
   "metadata": {},
   "source": [
    "### Generate candidates for all test names"
   ]
  },
  {
   "cell_type": "code",
   "execution_count": null,
   "id": "pleased-subcommittee",
   "metadata": {},
   "outputs": [],
   "source": [
    "k = 100  # Number of candidates to consider\n",
    "similar_names_scores_test = list(map(lambda x: get_similars(x, k=k), tqdm(input_names_test)))\n",
    "similar_names_test = np.array(similar_names_scores_test)[:, :, 0]"
   ]
  },
  {
   "cell_type": "code",
   "execution_count": null,
   "id": "aboriginal-museum",
   "metadata": {},
   "outputs": [],
   "source": [
    "len(similar_names_scores_test)"
   ]
  },
  {
   "cell_type": "markdown",
   "id": "expired-progress",
   "metadata": {},
   "source": [
    "#### Ugh - how can I create a 3D array with (str, float) as the third axis without taking apart and re-assembling the array?"
   ]
  },
  {
   "cell_type": "code",
   "execution_count": null,
   "id": "equivalent-timothy",
   "metadata": {},
   "outputs": [],
   "source": [
    "# names is a 2D array axis 0 = names, axis 1 = name of k similar-names\n",
    "names = np.array(list(list(cell[0] for cell in row) for row in similar_names_scores_test), dtype='O')\n",
    "# scores is a 2D array axis 0 = names, axis 1 = score of k similar-names\n",
    "scores = np.array(list(list(cell[1] for cell in row) for row in similar_names_scores_test), dtype='f8')\n",
    "# similar_names_test is now a 3D array axis 0 = names, axis 1 = k similar-names, axis 2 = name or score\n",
    "similar_names_scores_test = np.dstack((names, scores))"
   ]
  },
  {
   "cell_type": "markdown",
   "id": "quarterly-internship",
   "metadata": {},
   "source": [
    "### Evaluation"
   ]
  },
  {
   "cell_type": "markdown",
   "id": "earned-twist",
   "metadata": {},
   "source": [
    "### Average precision @0.65"
   ]
  },
  {
   "cell_type": "code",
   "execution_count": null,
   "id": "caroline-header",
   "metadata": {},
   "outputs": [],
   "source": [
    "metrics.avg_precision_at_threshold(weighted_actual_names_test, similar_names_scores_test, 0.65)"
   ]
  },
  {
   "cell_type": "markdown",
   "id": "promotional-blame",
   "metadata": {},
   "source": [
    "### Average recall @0.65"
   ]
  },
  {
   "cell_type": "code",
   "execution_count": null,
   "id": "linear-resistance",
   "metadata": {},
   "outputs": [],
   "source": [
    "metrics.avg_weighted_recall_at_threshold(weighted_actual_names_test, similar_names_scores_test, 0.65)"
   ]
  },
  {
   "cell_type": "markdown",
   "id": "broken-giant",
   "metadata": {},
   "source": [
    "### Precision-Recall Curve"
   ]
  },
  {
   "cell_type": "code",
   "execution_count": null,
   "id": "muslim-investor",
   "metadata": {},
   "outputs": [],
   "source": [
    "# minimum score threshold to test\n",
    "min_threshold = 0.5\n",
    "metrics.precision_weighted_recall_curve_at_threshold(weighted_actual_names_test, similar_names_scores_test, min_threshold)"
   ]
  },
  {
   "cell_type": "markdown",
   "id": "dc393819",
   "metadata": {
    "pycharm": {
     "name": "#%% md\n"
    }
   },
   "source": [
    "### Remove weights for mean average precision evaluations"
   ]
  },
  {
   "cell_type": "code",
   "execution_count": null,
   "id": "c969feb9",
   "metadata": {
    "pycharm": {
     "name": "#%%\n"
    }
   },
   "outputs": [],
   "source": [
    "actual_names_test = [[name for name, _, _ in name_weights] for name_weights in weighted_actual_names_test]"
   ]
  },
  {
   "cell_type": "markdown",
   "id": "ba64ec90",
   "metadata": {
    "pycharm": {
     "name": "#%% md\n"
    }
   },
   "source": [
    "### mAP@1"
   ]
  },
  {
   "cell_type": "code",
   "execution_count": null,
   "id": "5be8c425",
   "metadata": {
    "pycharm": {
     "name": "#%%\n"
    }
   },
   "outputs": [],
   "source": [
    "metrics.mean_avg_precision_k(actual_names_test, similar_names_test, 1)"
   ]
  },
  {
   "cell_type": "markdown",
   "id": "1ff414db",
   "metadata": {
    "pycharm": {
     "name": "#%% md\n"
    }
   },
   "source": [
    "### mAP@3"
   ]
  },
  {
   "cell_type": "code",
   "execution_count": null,
   "id": "83495e93",
   "metadata": {
    "pycharm": {
     "name": "#%%\n"
    }
   },
   "outputs": [],
   "source": [
    "metrics.mean_avg_precision_k(actual_names_test, similar_names_test, 3)"
   ]
  },
  {
   "cell_type": "markdown",
   "id": "c2fba05b",
   "metadata": {
    "pycharm": {
     "name": "#%% md\n"
    }
   },
   "source": [
    "### Precision-Recall Curve at k"
   ]
  },
  {
   "cell_type": "code",
   "execution_count": null,
   "id": "86fbe483",
   "metadata": {
    "pycharm": {
     "name": "#%%\n"
    }
   },
   "outputs": [],
   "source": [
    "# Number of rank cutoffs to test i.e precision_{i}, recall_{i} for i in (1, ..., N)\n",
    "N = 100\n",
    "metrics.precision_recall_curve_at_k(actual_names_test, similar_names_test, N)"
   ]
  },
  {
   "cell_type": "markdown",
   "id": "explicit-corruption",
   "metadata": {},
   "source": [
    "### Test"
   ]
  },
  {
   "cell_type": "code",
   "execution_count": null,
   "id": "residential-adelaide",
   "metadata": {},
   "outputs": [],
   "source": [
    "input_names_test[251]"
   ]
  },
  {
   "cell_type": "code",
   "execution_count": null,
   "id": "invalid-refrigerator",
   "metadata": {},
   "outputs": [],
   "source": [
    "weighted_actual_names_test[251]"
   ]
  },
  {
   "cell_type": "code",
   "execution_count": null,
   "id": "067b581c",
   "metadata": {
    "pycharm": {
     "name": "#%%\n"
    }
   },
   "outputs": [],
   "source": [
    "pd.DataFrame(similar_names_scores_test[251, 0:10], columns=[\"name\", \"score\"])"
   ]
  },
  {
   "cell_type": "code",
   "execution_count": null,
   "id": "mysterious-value",
   "metadata": {},
   "outputs": [],
   "source": [
    "metrics.weighted_recall_at_threshold(weighted_actual_names_test[251], similar_names_scores_test[251], 0.9)"
   ]
  },
  {
   "cell_type": "code",
   "execution_count": null,
   "id": "attractive-nicaragua",
   "metadata": {},
   "outputs": [],
   "source": [
    "metrics.weighted_recall_at_threshold(weighted_actual_names_test[251], similar_names_scores_test[251], 0.5)"
   ]
  },
  {
   "cell_type": "code",
   "execution_count": null,
   "id": "roman-shooting",
   "metadata": {},
   "outputs": [],
   "source": []
  }
 ],
 "metadata": {
  "kernelspec": {
   "display_name": "nama",
   "language": "python",
   "name": "nama"
  },
  "language_info": {
   "codemirror_mode": {
    "name": "ipython",
    "version": 3
   },
   "file_extension": ".py",
   "mimetype": "text/x-python",
   "name": "python",
   "nbconvert_exporter": "python",
   "pygments_lexer": "ipython3",
   "version": "3.8.5"
  }
 },
 "nbformat": 4,
 "nbformat_minor": 5
}
