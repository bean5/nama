{
 "cells": [
  {
   "cell_type": "code",
   "execution_count": null,
   "id": "2907945b",
   "metadata": {
    "pycharm": {
     "name": "#%%\n"
    }
   },
   "outputs": [],
   "source": [
    "%load_ext autoreload\n",
    "%autoreload 2\n",
    "%matplotlib inline"
   ]
  },
  {
   "cell_type": "markdown",
   "id": "3b2dac44",
   "metadata": {
    "pycharm": {
     "name": "#%% md\n"
    }
   },
   "source": [
    "# Evaluate Coder PR\n",
    "Calculate precision and recall for NYSIIS, Soundex, etc. code"
   ]
  },
  {
   "cell_type": "code",
   "execution_count": null,
   "id": "8d131857",
   "metadata": {
    "pycharm": {
     "name": "#%%\n"
    }
   },
   "outputs": [],
   "source": [
    "from collections import defaultdict\n",
    "\n",
    "import boto3\n",
    "import jellyfish\n",
    "import pandas as pd\n",
    "from py4j.java_gateway import JavaGateway\n",
    "from tqdm.autonotebook import tqdm\n",
    "\n",
    "from src.eval.freq_metrics import calc_avg_precision_recall"
   ]
  },
  {
   "cell_type": "code",
   "execution_count": null,
   "id": "b54bdec3",
   "metadata": {
    "pycharm": {
     "name": "#%%\n"
    }
   },
   "outputs": [],
   "source": [
    "# configure\n",
    "given_surname = \"given\"\n",
    "\n",
    "train_path = f\"s3://familysearch-names/processed/tree-hr-{given_surname}-train-v2.csv.gz\"\n",
    "test_path = f\"s3://familysearch-names/processed/tree-hr-{given_surname}-test-v2.csv.gz\"\n",
    "query_path = f\"s3://familysearch-names/processed/query-names-{given_surname}-v2.csv.gz\"\n",
    "nickname_bucket = \"familysearch-names\"\n",
    "nickname_path = \"processed/givenname_nicknames.csv\""
   ]
  },
  {
   "cell_type": "markdown",
   "id": "4190d2c0",
   "metadata": {
    "pycharm": {
     "name": "#%% md\n"
    }
   },
   "source": [
    "### Load data"
   ]
  },
  {
   "cell_type": "code",
   "execution_count": null,
   "id": "2f5157ea",
   "metadata": {},
   "outputs": [],
   "source": [
    "s3 = boto3.resource('s3')\n",
    "\n",
    "# these nicknames include nickname heads going to themselves (e.g., john -> john)\n",
    "nicknames = defaultdict(set)\n",
    "if given_surname == \"given\":\n",
    "    obj = s3.Object(nickname_bucket, nickname_path)\n",
    "    contents = obj.get()['Body'].read().decode('utf-8')\n",
    "    for ix, line in enumerate(contents.split('\\n')):\n",
    "        line = line.strip()\n",
    "        names = line.split(',')\n",
    "        headname = names[0]\n",
    "        for name in names:\n",
    "            nicknames[name].add(headname)\n",
    "print(len(nicknames))\n",
    "print(nicknames['zachery'])\n",
    "print(nicknames['zachariah'])"
   ]
  },
  {
   "cell_type": "code",
   "execution_count": null,
   "id": "5b215bc4",
   "metadata": {},
   "outputs": [],
   "source": [
    "query_names = pd.read_csv(query_path, keep_default_na=False)[\"name\"].tolist()\n",
    "print(len(query_names))\n",
    "query_names[0:3]"
   ]
  },
  {
   "cell_type": "code",
   "execution_count": null,
   "id": "74186497",
   "metadata": {},
   "outputs": [],
   "source": [
    "train_df = pd.read_csv(train_path, keep_default_na=False)\n",
    "print(train_df.shape)\n",
    "train_df.head(3)"
   ]
  },
  {
   "cell_type": "code",
   "execution_count": null,
   "id": "36b52952",
   "metadata": {},
   "outputs": [],
   "source": [
    "test_df = pd.read_csv(test_path, keep_default_na=False)\n",
    "print(test_df.shape)\n",
    "test_df.head(3)"
   ]
  },
  {
   "cell_type": "code",
   "execution_count": null,
   "id": "19e5c067",
   "metadata": {},
   "outputs": [],
   "source": [
    "all_df = pd.concat([train_df, test_df])\n",
    "print(all_df.shape)\n",
    "all_df.head(3)"
   ]
  },
  {
   "cell_type": "markdown",
   "id": "4d3d1200",
   "metadata": {},
   "source": [
    "## Set up FamilySearch coder"
   ]
  },
  {
   "cell_type": "code",
   "execution_count": null,
   "id": "c7e95f5e",
   "metadata": {},
   "outputs": [],
   "source": [
    "gateway = JavaGateway()"
   ]
  },
  {
   "cell_type": "code",
   "execution_count": null,
   "id": "faaa04f7",
   "metadata": {},
   "outputs": [],
   "source": [
    "def fs_coder(name):\n",
    "    # can result ever contain multiple comma-separated codes?\n",
    "    # if so, do we index both and query one, or index one and query both?\n",
    "    return gateway.getClusters(name, given_surname == 'surname', True)"
   ]
  },
  {
   "cell_type": "code",
   "execution_count": null,
   "id": "ae6f96c7",
   "metadata": {},
   "outputs": [],
   "source": [
    "fs_coder('ab')"
   ]
  },
  {
   "cell_type": "markdown",
   "id": "5802942e",
   "metadata": {},
   "source": [
    "## Evaluate"
   ]
  },
  {
   "cell_type": "code",
   "execution_count": null,
   "id": "7d742bac",
   "metadata": {},
   "outputs": [],
   "source": [
    "def get_codes(coder, nicknames, names):\n",
    "    # name2codes simulates query: given a name, what codes to lookup\n",
    "    name2codes = defaultdict(set)\n",
    "    # code2names simulates index: given a code, what names are indexed under that code\n",
    "    code2names = defaultdict(set)\n",
    "    for name in tqdm(names, mininterval=2.0):\n",
    "        # get code for name\n",
    "        codes = coder(name)\n",
    "        for code in codes.split(','):\n",
    "            # query code\n",
    "            name2codes[name].add(code)\n",
    "            # add name to code bucket\n",
    "            code2names[code].add(name)\n",
    "        if given_surname == \"given\" and name in nicknames:\n",
    "            # query codes for each nickhead of nickname\n",
    "            for nickhead in nicknames[name]:\n",
    "                codes = coder(nickhead)\n",
    "                for code in codes.split(','):\n",
    "                    name2codes[name].add(code)\n",
    "                    # make sure nickhead is added to the code bucket\n",
    "                    code2names[code].add(nickhead)\n",
    "    return name2codes, code2names\n",
    "\n",
    "def eval_clusters(coder_name, coder, nicknames, data_df, query_names):\n",
    "        name2codes, code2names = get_codes(coder,\n",
    "                                           # familysearch coder handles nicknames\n",
    "                                           [] if coder_name == 'familysearch' else nicknames,\n",
    "                                           set(data_df[\"tree_name\"]) | set(data_df[\"record_name\"]))\n",
    "        print(\"total names\", len(name2codes))\n",
    "        print(\"total index entries\", sum(len(names) for names in code2names.values()))\n",
    "        print(\"total codes\", len(code2names))\n",
    "        print(\"total queries\", len(query_names))\n",
    "        print(\"total lookups\", sum(len(name2codes[query]) for query in query_names))\n",
    "        precision, recall, f1, f2 = calc_avg_precision_recall(query_names, \n",
    "                                                              name2codes, \n",
    "                                                              code2names, \n",
    "                                                              data_df)\n",
    "        print(f\"precision={precision}, recall={recall} f1={f1} f2={f2}\")    "
   ]
  },
  {
   "cell_type": "code",
   "execution_count": null,
   "id": "5e7e9fb2",
   "metadata": {},
   "outputs": [],
   "source": [
    "coders = [\n",
    "#     ('soundex', jellyfish.soundex), \n",
    "#     ('nysiis', jellyfish.nysiis), \n",
    "    ('familysearch', fs_coder),\n",
    "    ]\n",
    "data_sources = [\n",
    "#    ('train', train_df),\n",
    "    ('all', all_df),\n",
    "    ]\n",
    "for label, data_df in data_sources:\n",
    "    print(label)\n",
    "    for coder_name, coder in coders:\n",
    "        print(coder_name)\n",
    "        eval_clusters(coder_name, coder, nicknames, data_df, query_names)"
   ]
  },
  {
   "cell_type": "code",
   "execution_count": null,
   "id": "ada9bcab",
   "metadata": {},
   "outputs": [],
   "source": []
  }
 ],
 "metadata": {
  "kernelspec": {
   "display_name": "nama",
   "language": "python",
   "name": "nama"
  },
  "language_info": {
   "codemirror_mode": {
    "name": "ipython",
    "version": 3
   },
   "file_extension": ".py",
   "mimetype": "text/x-python",
   "name": "python",
   "nbconvert_exporter": "python",
   "pygments_lexer": "ipython3",
   "version": "3.9.16"
  }
 },
 "nbformat": 4,
 "nbformat_minor": 5
}
