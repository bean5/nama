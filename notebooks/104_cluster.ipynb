{
 "cells": [
  {
   "cell_type": "code",
   "execution_count": null,
   "id": "2907945b",
   "metadata": {
    "pycharm": {
     "name": "#%%\n"
    }
   },
   "outputs": [],
   "source": [
    "%load_ext autoreload\n",
    "%autoreload 2\n",
    "%matplotlib inline"
   ]
  },
  {
   "cell_type": "markdown",
   "id": "3b2dac44",
   "metadata": {
    "pycharm": {
     "name": "#%% md\n"
    }
   },
   "source": [
    "# Train a clustering model\n",
    "Once we have a good scoring function (using the ensemble model), we can use a standard clustering algorithm to group names into clusters."
   ]
  },
  {
   "cell_type": "code",
   "execution_count": null,
   "id": "8d131857",
   "metadata": {
    "pycharm": {
     "name": "#%%\n"
    }
   },
   "outputs": [],
   "source": [
    "from bisect import bisect_left\n",
    "from collections import namedtuple, defaultdict\n",
    "import pickle\n",
    "import random\n",
    "\n",
    "import joblib\n",
    "import numpy as np\n",
    "import pandas as pd\n",
    "import torch\n",
    "import wandb\n",
    "\n",
    "from src.data.normalize import normalize_freq_names\n",
    "from src.data.utils import load_dataset\n",
    "from src.data.filesystem import fopen\n",
    "from src.models.cluster import (\n",
    "    get_names_to_cluster,\n",
    "    get_distances,\n",
    "    generate_clusters_from_distances,\n",
    "    write_clusters,\n",
    "    read_clusters,\n",
    ")\n",
    "from src.models.swivel import SwivelModel\n",
    "from src.models.utils import remove_padding"
   ]
  },
  {
   "cell_type": "code",
   "execution_count": null,
   "id": "b54bdec3",
   "metadata": {
    "pycharm": {
     "name": "#%%\n"
    }
   },
   "outputs": [],
   "source": [
    "# configure\n",
    "given_surname = \"given\"\n",
    "vocab_size = 610000 if given_surname == \"given\" else 2100000\n",
    "n_to_cluster = 50000\n",
    "cluster_threshold = 0.3\n",
    "n_jobs = 8\n",
    "\n",
    "embed_dim = 100\n",
    "encoder_layers = 2\n",
    "num_matches = 1000\n",
    "batch_size = 256\n",
    "verbose = True\n",
    "\n",
    "Config = namedtuple(\"Config\", [\n",
    "    \"eval_path\",\n",
    "    \"tree_freq_path\",\n",
    "    \"hr_freq_path\",\n",
    "    \"embed_dim\",\n",
    "    \"swivel_vocab_path\",\n",
    "    \"swivel_model_path\",\n",
    "    \"tfidf_path\",\n",
    "    \"ensemble_model_path\",\n",
    "    \"cluster_path\",\n",
    "])\n",
    "config = Config(\n",
    "    eval_path=f\"s3://familysearch-names/processed/tree-hr-{given_surname}-train.csv.gz\",\n",
    "    tree_freq_path=f\"s3://familysearch-names/processed/tree-preferred-{given_surname}-aggr.csv.gz\",\n",
    "    hr_freq_path=f\"s3://familysearch-names-private/hr-preferred-{given_surname}-aggr.csv.gz\",\n",
    "    embed_dim=embed_dim,\n",
    "    swivel_vocab_path=f\"s3://nama-data/data/models/fs-{given_surname}-swivel-vocab-{vocab_size}-augmented.csv\",\n",
    "    swivel_model_path=f\"s3://nama-data/data/models/fs-{given_surname}-swivel-model-{vocab_size}-{embed_dim}-augmented.pth\",\n",
    "    tfidf_path=f\"s3://nama-data/data/models/fs-{given_surname}-tfidf.joblib\",\n",
    "    ensemble_model_path=f\"s3://nama-data/data/models/fs-{given_surname}-ensemble-model-{vocab_size}-{embed_dim}-augmented-100.joblib\",\n",
    "    cluster_path=f\"s3://nama-data/data/models/fs-{given_surname}-cluster-names-{n_to_cluster}-{cluster_threshold}.csv\",\n",
    ")"
   ]
  },
  {
   "cell_type": "code",
   "execution_count": null,
   "id": "72dfc8f8",
   "metadata": {
    "pycharm": {
     "name": "#%%\n"
    }
   },
   "outputs": [],
   "source": [
    "wandb.init(\n",
    "    project=\"nama\",\n",
    "    entity=\"nama\",\n",
    "    name=\"81_cluster\",\n",
    "    group=given_surname,\n",
    "    notes=\"\",\n",
    "    config=config._asdict()\n",
    ")"
   ]
  },
  {
   "cell_type": "markdown",
   "id": "4190d2c0",
   "metadata": {
    "pycharm": {
     "name": "#%% md\n"
    }
   },
   "source": [
    "### Load data"
   ]
  },
  {
   "cell_type": "code",
   "execution_count": null,
   "id": "3aa76e0e",
   "metadata": {
    "pycharm": {
     "name": "#%%\n"
    }
   },
   "outputs": [],
   "source": [
    "device = torch.device(\"cuda:0\" if torch.cuda.is_available() else \"cpu\")\n",
    "print(device)"
   ]
  },
  {
   "cell_type": "code",
   "execution_count": null,
   "id": "f282f6c7",
   "metadata": {
    "pycharm": {
     "name": "#%%\n"
    }
   },
   "outputs": [],
   "source": [
    "freq_df = pd.read_csv(config.tree_freq_path, na_filter=False)\n",
    "tree_name_freq = normalize_freq_names(freq_df, is_surname=given_surname != \"given\", add_padding=True)\n",
    "freq_df = None"
   ]
  },
  {
   "cell_type": "code",
   "execution_count": null,
   "id": "1efe2878",
   "metadata": {
    "pycharm": {
     "name": "#%%\n"
    }
   },
   "outputs": [],
   "source": [
    "# create clusters based upon tree freq so we get consistent cluster names\n",
    "cluster_name_freq = tree_name_freq"
   ]
  },
  {
   "cell_type": "code",
   "execution_count": null,
   "id": "9e4ca49f",
   "metadata": {
    "pycharm": {
     "name": "#%%\n"
    }
   },
   "outputs": [],
   "source": [
    "vocab_df = pd.read_csv(fopen(config.swivel_vocab_path, \"rb\"), na_filter=False)\n",
    "swivel_vocab = {name: _id for name, _id in zip(vocab_df[\"name\"], vocab_df[\"index\"])}"
   ]
  },
  {
   "cell_type": "code",
   "execution_count": null,
   "id": "7597e75d",
   "metadata": {
    "pycharm": {
     "name": "#%%\n"
    }
   },
   "outputs": [],
   "source": [
    "swivel_model = SwivelModel(len(swivel_vocab), config.embed_dim)\n",
    "swivel_model.load_state_dict(torch.load(fopen(config.swivel_model_path, \"rb\"), map_location=torch.device(device)))\n",
    "swivel_model.to(device)\n",
    "swivel_model.eval()"
   ]
  },
  {
   "cell_type": "code",
   "execution_count": null,
   "id": "9d5f139a",
   "metadata": {
    "pycharm": {
     "name": "#%%\n"
    }
   },
   "outputs": [],
   "source": [
    "tfidf_vectorizer = joblib.load(fopen(config.tfidf_path, mode='rb'))"
   ]
  },
  {
   "cell_type": "code",
   "execution_count": null,
   "id": "e33b5fcf",
   "metadata": {
    "pycharm": {
     "name": "#%%\n"
    }
   },
   "outputs": [],
   "source": [
    "ensemble_model = joblib.load(fopen(config.ensemble_model_path, mode='rb'))"
   ]
  },
  {
   "cell_type": "markdown",
   "id": "0948df4b",
   "metadata": {
    "pycharm": {
     "name": "#%% md\n"
    }
   },
   "source": [
    "### Get names to cluster"
   ]
  },
  {
   "cell_type": "code",
   "execution_count": null,
   "id": "8a943799",
   "metadata": {
    "pycharm": {
     "name": "#%%\n"
    }
   },
   "outputs": [],
   "source": [
    "# TODO pass in swivel_vocab and ensure that only names in swivel_vocab were selected to cluster\n",
    "names_to_cluster = get_names_to_cluster(cluster_name_freq, n_to_cluster)"
   ]
  },
  {
   "cell_type": "markdown",
   "id": "80414d65",
   "metadata": {
    "pycharm": {
     "name": "#%% md\n"
    }
   },
   "source": [
    "### Compute clusters"
   ]
  },
  {
   "cell_type": "code",
   "execution_count": null,
   "id": "a97a6e62",
   "metadata": {
    "pycharm": {
     "name": "#%%\n"
    }
   },
   "outputs": [],
   "source": [
    "%%time\n",
    "distances = get_distances(cluster_name_freq, \n",
    "                          names_to_cluster,\n",
    "                          swivel_model=swivel_model,\n",
    "                          swivel_vocab=swivel_vocab,\n",
    "                          tfidf_vectorizer=tfidf_vectorizer,\n",
    "                          ensemble_model=ensemble_model,\n",
    "                          num_matches=num_matches,\n",
    "                          verbose=verbose,\n",
    "                          n_jobs=n_jobs,\n",
    "                         )"
   ]
  },
  {
   "cell_type": "code",
   "execution_count": null,
   "id": "f3fff038",
   "metadata": {
    "pycharm": {
     "name": "#%%\n"
    }
   },
   "outputs": [],
   "source": [
    "%%time\n",
    "model, name2cluster = generate_clusters_from_distances(\n",
    "                            cluster_algo=\"agglomerative\",\n",
    "                            cluster_linkage=\"average\",\n",
    "                            cluster_threshold=cluster_threshold,\n",
    "                            distances=distances,\n",
    "                            names_to_cluster=names_to_cluster,\n",
    "                            verbose=verbose,\n",
    "                            n_jobs=n_jobs)"
   ]
  },
  {
   "cell_type": "markdown",
   "id": "ccc2ffb9",
   "metadata": {
    "pycharm": {
     "name": "#%% md\n"
    }
   },
   "source": [
    "### Save clusters"
   ]
  },
  {
   "cell_type": "code",
   "execution_count": null,
   "id": "db383603",
   "metadata": {},
   "outputs": [],
   "source": [
    "cluster2names = defaultdict(set)\n",
    "for name, cluster in name2cluster.items():\n",
    "    cluster2names[cluster].add(remove_padding(name))\n",
    "len(cluster2names)"
   ]
  },
  {
   "cell_type": "code",
   "execution_count": null,
   "id": "06120121",
   "metadata": {
    "pycharm": {
     "name": "#%%\n"
    }
   },
   "outputs": [],
   "source": [
    "def get_most_frequent_name(names):\n",
    "    most_freq_name = None\n",
    "    highest_freq = -1\n",
    "    for name in names:\n",
    "        freq = cluster_name_freq.get(name, 0)\n",
    "        if freq > highest_freq:\n",
    "            most_freq_name = name\n",
    "            highest_freq = freq\n",
    "    return most_freq_name\n"
   ]
  },
  {
   "cell_type": "code",
   "execution_count": null,
   "id": "f29da99f",
   "metadata": {},
   "outputs": [],
   "source": [
    "all_names = []\n",
    "all_clusters = []\n",
    "for cluster_id, names in cluster2names.items():\n",
    "    cluster = get_most_frequent_name(names)\n",
    "    for name in names:\n",
    "        all_clusters.append(cluster)\n",
    "        all_names.append(name)\n",
    "df = pd.DataFrame({\"name\": all_names, \"cluster\": all_clusters})\n",
    "print(len(df))\n",
    "df.head(5)"
   ]
  },
  {
   "cell_type": "code",
   "execution_count": null,
   "id": "9e88a3c2",
   "metadata": {},
   "outputs": [],
   "source": [
    "df.to_csv(config.cluster_path, index=False)"
   ]
  },
  {
   "cell_type": "code",
   "execution_count": null,
   "id": "18ae1f38",
   "metadata": {
    "pycharm": {
     "name": "#%%\n"
    }
   },
   "outputs": [],
   "source": [
    "wandb.finish()"
   ]
  },
  {
   "cell_type": "code",
   "execution_count": null,
   "id": "a3babc94",
   "metadata": {},
   "outputs": [],
   "source": []
  }
 ],
 "metadata": {
  "kernelspec": {
   "display_name": "nama",
   "language": "python",
   "name": "nama"
  },
  "language_info": {
   "codemirror_mode": {
    "name": "ipython",
    "version": 3
   },
   "file_extension": ".py",
   "mimetype": "text/x-python",
   "name": "python",
   "nbconvert_exporter": "python",
   "pygments_lexer": "ipython3",
   "version": "3.9.16"
  }
 },
 "nbformat": 4,
 "nbformat_minor": 5
}
