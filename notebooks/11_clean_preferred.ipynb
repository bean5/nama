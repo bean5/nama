{
 "cells": [
  {
   "cell_type": "code",
   "execution_count": null,
   "metadata": {},
   "outputs": [],
   "source": [
    "%load_ext autoreload\n",
    "%autoreload 2"
   ]
  },
  {
   "cell_type": "markdown",
   "metadata": {},
   "source": [
    "# Clean preferred names and split into separate given and surname datasets"
   ]
  },
  {
   "cell_type": "code",
   "execution_count": null,
   "metadata": {},
   "outputs": [],
   "source": [
    "from os.path import join\n",
    "\n",
    "import pandas as pd\n",
    "from pathlib import Path\n",
    "from tqdm import tqdm\n",
    "import unidecode\n",
    "\n",
    "from src.data.filesystem import glob"
   ]
  },
  {
   "cell_type": "code",
   "execution_count": null,
   "metadata": {},
   "outputs": [],
   "source": [
    "in_path = \"s3://familysearch-names/raw/tree-preferred/\"\n",
    "given_out_path = \"s3://familysearch-names/interim/tree-preferred-given/\"\n",
    "surname_out_path = \"s3://familysearch-names/interim/tree-preferred-surname/\""
   ]
  },
  {
   "cell_type": "code",
   "execution_count": null,
   "metadata": {},
   "outputs": [],
   "source": [
    "# process files\n",
    "filenames = glob(in_path+\"*.gz\")\n",
    "for filename in tqdm(filenames):\n",
    "    basename = Path(filename).stem\n",
    "\n",
    "    df = pd.read_csv(\n",
    "        filename,\n",
    "        sep=\"|\",\n",
    "        compression=\"gzip\",\n",
    "        names=[\"name\"],\n",
    "        dtype={\"name\": str},\n",
    "        na_filter=False,\n",
    "        encoding=\"utf-8\",\n",
    "    )\n",
    "\n",
    "    # remove diacritics (do it now so we just have to map once for the full name)\n",
    "    df[\"name\"] = df[\"name\"].map(unidecode.unidecode)\n",
    "\n",
    "    # create separate given and surname dataframes\n",
    "    given_df = df[[\"name\"]].copy()\n",
    "    surname_df = df[[\"name\"]].copy()\n",
    "    del df\n",
    "\n",
    "    # split names into given and surname\n",
    "    given_df[\"name\"] = given_df[\"name\"].str.replace(\"\\^.*$\", \"\", regex=True)\n",
    "    surname_df[\"name\"] = surname_df[\"name\"].str.replace(\"^.*\\^\", \"\", regex=True)\n",
    "\n",
    "    # filter out non-latin names\n",
    "    given_df = given_df[\n",
    "        given_df[\"name\"].str.endswith(\"~Latn\")\n",
    "    ]\n",
    "    surname_df = surname_df[\n",
    "        surname_df[\"name\"].str.endswith(\"~Latn\")\n",
    "    ]\n",
    "\n",
    "    # remove ~Latn suffix and lowercase\n",
    "    given_df[\"name\"] = given_df[\"name\"].str.replace(\n",
    "        \"~Latn$\", \"\", regex=True\n",
    "    ).str.lower()\n",
    "    surname_df[\"name\"] = surname_df[\"name\"].str.replace(\n",
    "        \"~Latn$\", \"\", regex=True\n",
    "    ).str.lower()\n",
    "\n",
    "    # remove non-alpha (remove apostrophies, replace everything else with space) and strip\n",
    "    given_df[\"name\"] = (\n",
    "        given_df[\"name\"].str.replace(\"[`'´‘’]\", \"\", regex=True)\n",
    "        .str.replace(\"[^ a-z]\", \" \", regex=True)\n",
    "        .str.replace(\" +\", \" \", regex=True)\n",
    "        .str.strip()\n",
    "    )\n",
    "    surname_df[\"name\"] = (\n",
    "        surname_df[\"name\"].str.replace(\"[`'´‘’]\", \"\", regex=True)\n",
    "        .str.replace(\"[^ a-z]\", \" \", regex=True)\n",
    "        .str.replace(\" +\", \" \", regex=True)\n",
    "        .str.strip()\n",
    "    )\n",
    "\n",
    "    # write files\n",
    "    given_df.to_parquet(\n",
    "        join(given_out_path, basename) + \".parquet\", engine=\"pyarrow\", compression=\"snappy\"\n",
    "    )\n",
    "    surname_df.to_parquet(\n",
    "        join(surname_out_path, basename) + \".parquet\", engine=\"pyarrow\", compression=\"snappy\"\n",
    "    )"
   ]
  },
  {
   "cell_type": "code",
   "execution_count": null,
   "metadata": {
    "pycharm": {
     "name": "#%%\n"
    }
   },
   "outputs": [],
   "source": []
  }
 ],
 "metadata": {
  "interpreter": {
   "hash": "7a8115de58066eb2ca8cfe29f0da77ee43c62745e34e8f6d96cac148b862780f"
  },
  "jupytext": {
   "encoding": "# -*- coding: utf-8 -*-",
   "main_language": "python"
  },
  "kernelspec": {
   "display_name": "nama",
   "language": "python",
   "name": "nama"
  },
  "language_info": {
   "codemirror_mode": {
    "name": "ipython",
    "version": 3
   },
   "file_extension": ".py",
   "mimetype": "text/x-python",
   "name": "python",
   "nbconvert_exporter": "python",
   "pygments_lexer": "ipython3",
   "version": "3.8.11"
  }
 },
 "nbformat": 4,
 "nbformat_minor": 2
}
