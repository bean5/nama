{
 "cells": [
  {
   "cell_type": "code",
   "execution_count": null,
   "id": "ced62ec5",
   "metadata": {},
   "outputs": [],
   "source": [
    "%load_ext autoreload\n",
    "%autoreload 2"
   ]
  },
  {
   "cell_type": "markdown",
   "id": "5ca03eda",
   "metadata": {
    "pycharm": {
     "name": "#%% md\n"
    }
   },
   "source": [
    "# Generate a triplet-loss model based upon the autoencoder and near-negatives"
   ]
  },
  {
   "cell_type": "code",
   "execution_count": null,
   "id": "7fd76cca",
   "metadata": {},
   "outputs": [],
   "source": [
    "from collections import namedtuple\n",
    "import pickle\n",
    "import torch\n",
    "import wandb\n",
    "\n",
    "from src.data.filesystem import fopen\n",
    "from src.data.utils import load_train_test\n",
    "from src.eval import metrics\n",
    "from src.models.autoencoder import get_best_autoencoder_matches\n",
    "from src.models.triplet_loss import get_near_negatives, train_triplet_loss"
   ]
  },
  {
   "cell_type": "code",
   "execution_count": null,
   "id": "a9f9e784",
   "metadata": {
    "pycharm": {
     "name": "#%%\n"
    }
   },
   "outputs": [],
   "source": [
    "given_surname = \"given\"\n",
    "size = \"freq\"\n",
    "Config = namedtuple(\"Config\", \"train_path test_path near_negatives_path autoencoder_model_path triplet_model_path\")\n",
    "config = Config(\n",
    "#     train_path=f\"s3://familysearch-names/processed/tree-hr-{given_surname}-similar-{size}.csv.gz\",\n",
    "#     test_path=f\"s3://familysearch-names/processed/tree-hr-{given_surname}-similar-{size}.csv.gz\",\n",
    "    train_path=f\"s3://familysearch-names/processed/tree-hr-{given_surname}-similar-train-{size}.csv.gz\",\n",
    "    test_path=f\"s3://familysearch-names/processed/tree-hr-{given_surname}-similar-test-{size}.csv.gz\",\n",
    "    near_negatives_path=f\"s3://nama-data/data/processed/tree-hr-{given_surname}-near-negatives-{size}.csv.gz\",\n",
    "    autoencoder_model_path=f\"s3://nama-data/data/models/fs-{given_surname}-freq-autoencoder-bilstm-100-512.pth\",\n",
    "    triplet_model_path=f\"s3://nama-data/data/models/fs-{given_surname}-{size}-triplet-bilstm-100-512-40-05.pth\"\n",
    ")"
   ]
  },
  {
   "cell_type": "code",
   "execution_count": null,
   "id": "ccb6a9cd",
   "metadata": {
    "pycharm": {
     "name": "#%%\n"
    }
   },
   "outputs": [],
   "source": [
    "wandb.init(\n",
    "    project=\"nama\",\n",
    "    entity=\"nama\",\n",
    "    name=\"51_autoencoder_triplet\",\n",
    "    group=given_surname,\n",
    "    notes=\"\",\n",
    "    config=config._asdict()\n",
    ")"
   ]
  },
  {
   "cell_type": "markdown",
   "id": "6624bded",
   "metadata": {},
   "source": [
    "### Load autoencoder model"
   ]
  },
  {
   "cell_type": "code",
   "execution_count": null,
   "id": "23263f8a",
   "metadata": {},
   "outputs": [],
   "source": [
    "device = torch.device(\"cuda:0\" if torch.cuda.is_available() else \"cpu\")\n",
    "print(device)"
   ]
  },
  {
   "cell_type": "code",
   "execution_count": null,
   "id": "ba49b5de",
   "metadata": {},
   "outputs": [],
   "source": [
    "model = torch.load(fopen(config.autoencoder_model_path, \"rb\"), map_location=torch.device(device))\n",
    "model.device = device"
   ]
  },
  {
   "cell_type": "markdown",
   "id": "e099bde0",
   "metadata": {},
   "source": [
    "### Load data for fine-tuning and evaluation"
   ]
  },
  {
   "cell_type": "code",
   "execution_count": null,
   "id": "9b6dc19a",
   "metadata": {},
   "outputs": [],
   "source": [
    "train, test = load_train_test([config.train_path, config.test_path])\n",
    "\n",
    "input_names_train, weighted_actual_names_train, candidate_names_train = train\n",
    "input_names_test, weighted_actual_names_test, candidate_names_test = test"
   ]
  },
  {
   "cell_type": "markdown",
   "id": "5ec863f7",
   "metadata": {},
   "source": [
    "### Compute near-negatives"
   ]
  },
  {
   "cell_type": "code",
   "execution_count": null,
   "id": "3c14ae64",
   "metadata": {},
   "outputs": [],
   "source": [
    "near_negatives_train = get_near_negatives(\n",
    "    input_names_train, weighted_actual_names_train, candidate_names_train, k=50\n",
    ")"
   ]
  },
  {
   "cell_type": "code",
   "execution_count": null,
   "id": "7da82991",
   "metadata": {},
   "outputs": [],
   "source": [
    "# save near_negatives\n",
    "with fopen(config.near_negatives_path, \"wb\") as f:\n",
    "    pickle.dump(near_negatives_train, f)"
   ]
  },
  {
   "cell_type": "code",
   "execution_count": null,
   "id": "73b2cb28",
   "metadata": {},
   "outputs": [],
   "source": [
    "# load near_negatives\n",
    "with fopen(config.near_negatives_path, \"rb\") as f:\n",
    "    near_negatives_train = pickle.load(f)"
   ]
  },
  {
   "cell_type": "code",
   "execution_count": null,
   "id": "dee15253",
   "metadata": {},
   "outputs": [],
   "source": [
    "for ix, (key, values) in enumerate(near_negatives_train.items()):\n",
    "    if ix > 3:\n",
    "        break\n",
    "    print(key, \":\", \" \".join(values))"
   ]
  },
  {
   "cell_type": "code",
   "execution_count": null,
   "id": "a2d3f9c7",
   "metadata": {},
   "outputs": [],
   "source": [
    "ix = input_names_train.index(\"<ada>\")\n",
    "weighted_actual_names_train[ix]"
   ]
  },
  {
   "cell_type": "code",
   "execution_count": null,
   "id": "8e53f532",
   "metadata": {},
   "outputs": [],
   "source": [
    "print(len(input_names_train))\n",
    "print(len(candidate_names_train))"
   ]
  },
  {
   "cell_type": "code",
   "execution_count": null,
   "id": "2fc989f1",
   "metadata": {},
   "outputs": [],
   "source": [
    "print(len(input_names_test))\n",
    "print(len(candidate_names_test))"
   ]
  },
  {
   "cell_type": "code",
   "execution_count": null,
   "id": "90c27f82",
   "metadata": {},
   "outputs": [],
   "source": [
    "batch_size = 512"
   ]
  },
  {
   "cell_type": "code",
   "execution_count": null,
   "id": "4cf323ed",
   "metadata": {},
   "outputs": [],
   "source": [
    "train_triplet_loss(\n",
    "    model,\n",
    "    input_names_train,\n",
    "    weighted_actual_names_train,\n",
    "    near_negatives_train,\n",
    "    input_names_test,\n",
    "    weighted_actual_names_test,\n",
    "    candidate_names_test,\n",
    "    num_epochs=50,\n",
    "    batch_size=batch_size,\n",
    "    margin=.05,\n",
    "    k=100,\n",
    "    device=device,\n",
    ")"
   ]
  },
  {
   "cell_type": "code",
   "execution_count": null,
   "id": "ec7f9e6f",
   "metadata": {},
   "outputs": [],
   "source": [
    "torch.save(model, fopen(config.triplet_model_path, \"wb\"))"
   ]
  },
  {
   "cell_type": "code",
   "execution_count": null,
   "id": "31d72706",
   "metadata": {},
   "outputs": [],
   "source": [
    "model = torch.load(fopen(config.triplet_model_path, \"rb\"), map_location=torch.device(device))"
   ]
  },
  {
   "cell_type": "markdown",
   "id": "423be71d",
   "metadata": {},
   "source": [
    "## Evaluation"
   ]
  },
  {
   "cell_type": "code",
   "execution_count": null,
   "id": "4fd362f6",
   "metadata": {},
   "outputs": [],
   "source": [
    "# metric=euclidean is what TripletMarginLoss optimizes by default\n",
    "# but this means that scores will be in terms of distance, not similarity, so take this into account when computing PR at thresholds\n",
    "k = 100\n",
    "best_matches = get_best_autoencoder_matches(model, input_names_test, candidate_names_test, k, batch_size)"
   ]
  },
  {
   "cell_type": "markdown",
   "id": "483b240b",
   "metadata": {
    "pycharm": {
     "name": "#%% md\n"
    }
   },
   "source": [
    "### Test"
   ]
  },
  {
   "cell_type": "code",
   "execution_count": null,
   "id": "c7c37357",
   "metadata": {},
   "outputs": [],
   "source": [
    "print(best_matches.shape)\n",
    "print(best_matches[0, 0, 0])\n",
    "print(best_matches[0, 0, 1])"
   ]
  },
  {
   "cell_type": "code",
   "execution_count": null,
   "id": "9d5e4f82",
   "metadata": {},
   "outputs": [],
   "source": [
    "best_matches_names = best_matches[:, :, 0]\n",
    "print(best_matches_names.shape)"
   ]
  },
  {
   "cell_type": "markdown",
   "id": "7f446283",
   "metadata": {},
   "source": [
    "### PR Curve"
   ]
  },
  {
   "cell_type": "code",
   "execution_count": null,
   "id": "085e609e",
   "metadata": {},
   "outputs": [],
   "source": [
    "# minimum score threshold to test\n",
    "metrics.precision_weighted_recall_curve_at_threshold(\n",
    "    weighted_actual_names_test, best_matches, min_threshold=0.01, max_threshold=5.0, step=0.05, distances=True\n",
    ")"
   ]
  },
  {
   "cell_type": "markdown",
   "id": "6fd30411",
   "metadata": {},
   "source": [
    "### AUC"
   ]
  },
  {
   "cell_type": "code",
   "execution_count": null,
   "id": "a4b2323b",
   "metadata": {},
   "outputs": [],
   "source": [
    "metrics.get_auc(\n",
    "    weighted_actual_names_test, best_matches, min_threshold=0.01, max_threshold=5.0, step=0.05, distances=True\n",
    ")"
   ]
  },
  {
   "cell_type": "markdown",
   "id": "d18a8d99",
   "metadata": {
    "pycharm": {
     "name": "#%% md\n"
    }
   },
   "source": [
    "### Precision and recall at a threshold"
   ]
  },
  {
   "cell_type": "code",
   "execution_count": null,
   "id": "60b81aa5",
   "metadata": {
    "pycharm": {
     "name": "#%%\n"
    }
   },
   "outputs": [],
   "source": [
    "threshold = 1.2\n",
    "\n",
    "print(\n",
    "    \"precision\",\n",
    "    metrics.avg_precision_at_threshold(weighted_actual_names_test, best_matches, threshold=threshold, distances=True),\n",
    ")\n",
    "print(\n",
    "    \"recall\",\n",
    "    metrics.avg_weighted_recall_at_threshold(\n",
    "        weighted_actual_names_test, best_matches, threshold=threshold, distances=True\n",
    "    ),\n",
    ")"
   ]
  },
  {
   "cell_type": "code",
   "execution_count": null,
   "id": "34e4ae19",
   "metadata": {
    "pycharm": {
     "name": "#%%\n"
    }
   },
   "outputs": [],
   "source": [
    "wandb.finish()"
   ]
  },
  {
   "cell_type": "code",
   "execution_count": null,
   "id": "c0a680af",
   "metadata": {},
   "outputs": [],
   "source": [
    "train_matches = get_best_autoencoder_matches(model, input_names_train, \n",
    "                                             candidate_names_train, k, batch_size, n_jobs=1)"
   ]
  },
  {
   "cell_type": "code",
   "execution_count": null,
   "id": "9c4a9dac",
   "metadata": {},
   "outputs": [],
   "source": [
    "metrics.precision_weighted_recall_curve_at_threshold(\n",
    "    weighted_actual_names_train, train_matches, min_threshold=0.01, max_threshold=5.0, step=0.05, distances=True\n",
    ")"
   ]
  },
  {
   "cell_type": "code",
   "execution_count": null,
   "id": "4b9d008e",
   "metadata": {},
   "outputs": [],
   "source": [
    "metrics.get_auc(\n",
    "    weighted_actual_names_train, train_matches, min_threshold=0.01, max_threshold=5.0, step=0.05, distances=True\n",
    ")"
   ]
  },
  {
   "cell_type": "code",
   "execution_count": null,
   "id": "fe06e93e",
   "metadata": {},
   "outputs": [],
   "source": [
    "sum(len(wan) for wan in weighted_actual_names_train)"
   ]
  },
  {
   "cell_type": "code",
   "execution_count": null,
   "id": "d070cb44",
   "metadata": {},
   "outputs": [],
   "source": [
    "input_names_train[:15]"
   ]
  },
  {
   "cell_type": "code",
   "execution_count": null,
   "id": "4df67cdc",
   "metadata": {},
   "outputs": [],
   "source": [
    "import pandas as pd\n",
    "\n",
    "pref_path = \"s3://familysearch-names/processed/tree-preferred-given-aggr.csv.gz\"\n",
    "pref_df = pd.read_csv(pref_path)"
   ]
  },
  {
   "cell_type": "code",
   "execution_count": null,
   "id": "fa466b5c",
   "metadata": {},
   "outputs": [],
   "source": [
    "top_names = set([\"aafje\", \"aafke\", \"aage\", \"aagje\", \"aagot\", \"dallin\", \"dallan\"])\n",
    "pref_df[pref_df[\"name\"].isin(top_names)]"
   ]
  },
  {
   "cell_type": "code",
   "execution_count": null,
   "id": "4fb69577",
   "metadata": {},
   "outputs": [],
   "source": []
  }
 ],
 "metadata": {
  "kernelspec": {
   "display_name": "nama",
   "language": "python",
   "name": "nama"
  },
  "language_info": {
   "codemirror_mode": {
    "name": "ipython",
    "version": 3
   },
   "file_extension": ".py",
   "mimetype": "text/x-python",
   "name": "python",
   "nbconvert_exporter": "python",
   "pygments_lexer": "ipython3",
   "version": "3.8.12"
  }
 },
 "nbformat": 4,
 "nbformat_minor": 5
}
