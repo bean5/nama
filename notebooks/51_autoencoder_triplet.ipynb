{
 "cells": [
  {
   "cell_type": "code",
   "execution_count": null,
   "id": "c7e64c3f",
   "metadata": {},
   "outputs": [],
   "source": [
    "%load_ext autoreload\n",
    "%autoreload 2"
   ]
  },
  {
   "cell_type": "code",
   "execution_count": null,
   "id": "26b444c9",
   "metadata": {},
   "outputs": [],
   "source": [
    "from collections import namedtuple\n",
    "import numpy as np\n",
    "import pickle\n",
    "import torch\n",
    "import wandb\n",
    "\n",
    "from src.data.filesystem import fopen\n",
    "from src.data.utils import load_train_test\n",
    "from src.eval import metrics\n",
    "from src.eval.encoder import eval_encoder\n",
    "from src.models import utils\n",
    "from src.models import triplet_loss"
   ]
  },
  {
   "cell_type": "code",
   "execution_count": null,
   "id": "745cf732",
   "metadata": {
    "pycharm": {
     "name": "#%%\n"
    }
   },
   "outputs": [],
   "source": [
    "given_surname = \"surname\"\n",
    "size = \"freq\"\n",
    "Config = namedtuple(\"Config\", \"train_path test_path near_negatives_path autoencoder_model_path triplet_model_path\")\n",
    "config = Config(\n",
    "    train_path=f\"s3://familysearch-names/processed/tree-hr-{given_surname}-similar-train-{size}.csv.gz\",\n",
    "    test_path=f\"s3://familysearch-names/processed/tree-hr-{given_surname}-similar-test-{size}.csv.gz\",\n",
    "    near_negatives_path=f\"s3://nama-data/data/processed/tree-hr-{given_surname}-near-negatives-{size}.csv.gz\",\n",
    "    autoencoder_model_path=f\"s3://nama-data/data/models/fs-{size}-autoencoder-bilstm-100-512.pth\",\n",
    "    triplet_model_path=f\"s3://nama-data/data/models/fs-{size}-triplet-bilstm-100-512-40-05.pth\"\n",
    ")"
   ]
  },
  {
   "cell_type": "code",
   "execution_count": null,
   "id": "c35eaedf",
   "metadata": {
    "pycharm": {
     "name": "#%%\n"
    }
   },
   "outputs": [],
   "source": [
    "wandb.init(\n",
    "    project=\"nama\",\n",
    "    entity=\"nama\",\n",
    "    name=\"51_autoencoder_triplet\",\n",
    "    group=given_surname,\n",
    "    notes=\"\",\n",
    "    config=config._asdict()\n",
    ")"
   ]
  },
  {
   "cell_type": "code",
   "execution_count": null,
   "id": "36024e7e",
   "metadata": {
    "pycharm": {
     "name": "#%%\n"
    }
   },
   "outputs": [],
   "source": [
    "MAX_NAME_LENGTH = 30\n",
    "char_to_idx_map, idx_to_char_map = utils.build_token_idx_maps()"
   ]
  },
  {
   "cell_type": "markdown",
   "id": "42158b1e",
   "metadata": {},
   "source": [
    "### Load model"
   ]
  },
  {
   "cell_type": "code",
   "execution_count": null,
   "id": "14e948d7",
   "metadata": {},
   "outputs": [],
   "source": [
    "device = torch.device(\"cuda:0\" if torch.cuda.is_available() else \"cpu\")\n",
    "print(device)"
   ]
  },
  {
   "cell_type": "code",
   "execution_count": null,
   "id": "b77e1bc1",
   "metadata": {},
   "outputs": [],
   "source": [
    "model = torch.load(fopen(config.autoencoder_model_path, \"rb\"), map_location=torch.device(device))\n",
    "model.device = device"
   ]
  },
  {
   "cell_type": "markdown",
   "id": "776a2a45",
   "metadata": {},
   "source": [
    "### Load data for fine-tuning and evaluation"
   ]
  },
  {
   "cell_type": "code",
   "execution_count": null,
   "id": "ae37f6d0",
   "metadata": {},
   "outputs": [],
   "source": [
    "train, test = load_train_test([config.train_path, config.test_path])\n",
    "\n",
    "input_names_train, weighted_actual_names_train, candidate_names_train = train\n",
    "input_names_test, weighted_actual_names_test, candidate_names_test = test\n",
    "\n",
    "actual_names_train = [[name for name, _, _ in name_weights] for name_weights in weighted_actual_names_train]\n",
    "actual_names_test = [[name for name, _, _ in name_weights] for name_weights in weighted_actual_names_test]\n",
    "\n",
    "candidate_names_all = np.concatenate((candidate_names_train, candidate_names_test))"
   ]
  },
  {
   "cell_type": "markdown",
   "id": "5a88a3e5",
   "metadata": {},
   "source": [
    "### Fine-tune"
   ]
  },
  {
   "cell_type": "code",
   "execution_count": null,
   "id": "980f5e22",
   "metadata": {},
   "outputs": [],
   "source": [
    "near_negatives_train = triplet_loss.get_near_negatives(\n",
    "    input_names_train, weighted_actual_names_train, candidate_names_train, k=50\n",
    ")"
   ]
  },
  {
   "cell_type": "code",
   "execution_count": null,
   "id": "28492df5",
   "metadata": {},
   "outputs": [],
   "source": [
    "# save near_negatives\n",
    "with fopen(config.near_negatives_path, \"wb\") as f:\n",
    "    pickle.dump(near_negatives_train, f)"
   ]
  },
  {
   "cell_type": "code",
   "execution_count": null,
   "id": "94763a40",
   "metadata": {},
   "outputs": [],
   "source": [
    "# load near_negatives\n",
    "with fopen(config.near_negatives_path, \"rb\") as f:\n",
    "    near_negatives_train = pickle.load(f)"
   ]
  },
  {
   "cell_type": "code",
   "execution_count": null,
   "id": "d557e2eb",
   "metadata": {},
   "outputs": [],
   "source": [
    "print(len(input_names_train))\n",
    "print(len(candidate_names_train))"
   ]
  },
  {
   "cell_type": "code",
   "execution_count": null,
   "id": "1c7fa978",
   "metadata": {},
   "outputs": [],
   "source": [
    "print(len(input_names_test))\n",
    "print(len(candidate_names_test))"
   ]
  },
  {
   "cell_type": "code",
   "execution_count": null,
   "id": "c98eb1ef",
   "metadata": {},
   "outputs": [],
   "source": [
    "batch_size = 512"
   ]
  },
  {
   "cell_type": "code",
   "execution_count": null,
   "id": "02671586",
   "metadata": {},
   "outputs": [],
   "source": [
    "triplet_loss.train_triplet_loss(\n",
    "    model,\n",
    "    input_names_train,\n",
    "    weighted_actual_names_train,\n",
    "    near_negatives_train,\n",
    "    input_names_test,\n",
    "    weighted_actual_names_test,\n",
    "    candidate_names_test,\n",
    "    candidate_names_train,\n",
    "    candidate_names_all,\n",
    "    char_to_idx_map,\n",
    "    MAX_NAME_LENGTH,\n",
    "    40,\n",
    "    batch_size,\n",
    "    0.05,\n",
    "    100,\n",
    "    device,\n",
    ")"
   ]
  },
  {
   "cell_type": "code",
   "execution_count": null,
   "id": "5c4e31ed",
   "metadata": {},
   "outputs": [],
   "source": [
    "torch.save(model, fopen(config.triplet_model_path, \"wb\"))"
   ]
  },
  {
   "cell_type": "code",
   "execution_count": null,
   "id": "a96d2d20",
   "metadata": {},
   "outputs": [],
   "source": [
    "model = torch.load(fopen(config.triplet_model_path, \"rb\"), map_location=torch.device(device))"
   ]
  },
  {
   "cell_type": "markdown",
   "id": "a03dd795",
   "metadata": {},
   "source": [
    "## Evaluation"
   ]
  },
  {
   "cell_type": "code",
   "execution_count": null,
   "id": "a0fe6db7",
   "metadata": {},
   "outputs": [],
   "source": [
    "# Get embeddings for train candidate names\n",
    "candidate_names_train_X, _ = utils.convert_names_to_model_inputs(\n",
    "    candidate_names_train, char_to_idx_map, MAX_NAME_LENGTH\n",
    ")\n",
    "# Get Embeddings for the names from the encoder\n",
    "candidate_names_train_encoded = eval_encoder(model, candidate_names_train_X, batch_size)"
   ]
  },
  {
   "cell_type": "code",
   "execution_count": null,
   "id": "3bf8850d",
   "metadata": {},
   "outputs": [],
   "source": [
    "# Get embeddings for test input names\n",
    "input_names_test_X, _ = utils.convert_names_to_model_inputs(input_names_test, char_to_idx_map, MAX_NAME_LENGTH)\n",
    "# Get Embeddings for the names from the encoder\n",
    "input_names_test_encoded = eval_encoder(model, input_names_test_X, batch_size)"
   ]
  },
  {
   "cell_type": "code",
   "execution_count": null,
   "id": "1c8f0a03",
   "metadata": {},
   "outputs": [],
   "source": [
    "# Get embeddings for test candidate names\n",
    "candidate_names_test_X, _ = utils.convert_names_to_model_inputs(candidate_names_test, char_to_idx_map, MAX_NAME_LENGTH)\n",
    "candidate_names_test_encoded = eval_encoder(model, candidate_names_test_X, batch_size)"
   ]
  },
  {
   "cell_type": "code",
   "execution_count": null,
   "id": "9623f054",
   "metadata": {},
   "outputs": [],
   "source": [
    "candidate_names_all_encoded = np.vstack((candidate_names_train_encoded, candidate_names_test_encoded))"
   ]
  },
  {
   "cell_type": "code",
   "execution_count": null,
   "id": "e9169997",
   "metadata": {},
   "outputs": [],
   "source": [
    "input_names_test_encoded.shape"
   ]
  },
  {
   "cell_type": "markdown",
   "id": "f9b34874",
   "metadata": {
    "pycharm": {
     "name": "#%% md\n"
    }
   },
   "source": [
    "### Test"
   ]
  },
  {
   "cell_type": "code",
   "execution_count": null,
   "id": "be5c0520",
   "metadata": {},
   "outputs": [],
   "source": [
    "# matric=euclidean is what TripletMarginLoss optimizes by default\n",
    "# but this means that scores will be in terms of distance, not similarity, so take this into account when computing PR at thresholds\n",
    "k = 100\n",
    "best_matches = utils.get_best_matches(\n",
    "    input_names_test_encoded, candidate_names_all_encoded, candidate_names_all, num_candidates=k, metric=\"euclidean\"\n",
    ")\n",
    "print(best_matches.shape)\n",
    "print(best_matches[0, 0, 0])\n",
    "print(best_matches[0, 0, 1])"
   ]
  },
  {
   "cell_type": "code",
   "execution_count": null,
   "id": "97ca3507",
   "metadata": {},
   "outputs": [],
   "source": [
    "best_matches_names = best_matches[:, :, 0]\n",
    "print(best_matches_names.shape)"
   ]
  },
  {
   "cell_type": "markdown",
   "id": "75251e69",
   "metadata": {},
   "source": [
    "### PR Curve at k"
   ]
  },
  {
   "cell_type": "code",
   "execution_count": null,
   "id": "b92e3550",
   "metadata": {},
   "outputs": [],
   "source": [
    "metrics.precision_recall_curve_at_k(actual_names_test, best_matches_names, k)"
   ]
  },
  {
   "cell_type": "code",
   "execution_count": null,
   "id": "303ad10c",
   "metadata": {},
   "outputs": [],
   "source": [
    "metrics.avg_precision_at_threshold(weighted_actual_names_test, best_matches, 0.145, distances=True)"
   ]
  },
  {
   "cell_type": "code",
   "execution_count": null,
   "id": "4bbade3b",
   "metadata": {},
   "outputs": [],
   "source": [
    "metrics.avg_weighted_recall_at_threshold(weighted_actual_names_test, best_matches, 0.145, distances=True)"
   ]
  },
  {
   "cell_type": "markdown",
   "id": "a74cf42f",
   "metadata": {},
   "source": [
    "### PR Curve at threshold"
   ]
  },
  {
   "cell_type": "code",
   "execution_count": null,
   "id": "6ca554fc",
   "metadata": {},
   "outputs": [],
   "source": [
    "# minimum score threshold to test\n",
    "metrics.precision_weighted_recall_curve_at_threshold(\n",
    "    weighted_actual_names_test, best_matches, min_threshold=0.01, max_threshold=1.0, step=0.005, distances=True\n",
    ")"
   ]
  },
  {
   "cell_type": "markdown",
   "id": "27d7b15c",
   "metadata": {},
   "source": [
    "### AUC"
   ]
  },
  {
   "cell_type": "code",
   "execution_count": null,
   "id": "bb42f9e4",
   "metadata": {},
   "outputs": [],
   "source": [
    "metrics.get_auc(\n",
    "    weighted_actual_names_test, best_matches, min_threshold=0.01, max_threshold=1.0, step=0.005, distances=True\n",
    ")"
   ]
  },
  {
   "cell_type": "markdown",
   "id": "a6d4b9fa",
   "metadata": {
    "pycharm": {
     "name": "#%% md\n"
    }
   },
   "source": [
    "### Precision and recall at a specific threshold"
   ]
  },
  {
   "cell_type": "code",
   "execution_count": null,
   "id": "63e2ee40",
   "metadata": {
    "pycharm": {
     "name": "#%%\n"
    }
   },
   "outputs": [],
   "source": [
    "threshold = 0.14\n",
    "print(\n",
    "    \"precision\",\n",
    "    metrics.avg_precision_at_threshold(weighted_actual_names_test, best_matches, threshold=threshold, distances=True),\n",
    ")\n",
    "print(\n",
    "    \"recall\",\n",
    "    metrics.avg_weighted_recall_at_threshold(\n",
    "        weighted_actual_names_test, best_matches, threshold=threshold, distances=True\n",
    "    ),\n",
    ")"
   ]
  },
  {
   "cell_type": "code",
   "execution_count": null,
   "id": "c59f75fa",
   "metadata": {
    "pycharm": {
     "name": "#%%\n"
    }
   },
   "outputs": [],
   "source": [
    "wandb.finish()"
   ]
  }
 ],
 "metadata": {
  "jupytext": {
   "text_representation": {
    "extension": ".py",
    "format_name": "percent",
    "format_version": "1.3",
    "jupytext_version": "1.13.0"
   }
  },
  "kernelspec": {
   "display_name": "nama",
   "language": "python",
   "name": "nama"
  },
  "language_info": {
   "codemirror_mode": {
    "name": "ipython",
    "version": 3
   },
   "file_extension": ".py",
   "mimetype": "text/x-python",
   "name": "python",
   "nbconvert_exporter": "python",
   "pygments_lexer": "ipython3",
   "version": "3.8.12"
  }
 },
 "nbformat": 4,
 "nbformat_minor": 5
}
