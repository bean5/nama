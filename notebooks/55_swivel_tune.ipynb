{
 "cells": [
  {
   "cell_type": "code",
   "execution_count": null,
   "id": "9c9aefee",
   "metadata": {},
   "outputs": [],
   "source": [
    "import os\n",
    "\n",
    "import torch\n",
    "import numpy as np\n",
    "from ray import tune\n",
    "from ray.tune.schedulers import ASHAScheduler\n",
    "from ray.tune.suggest.hyperopt import HyperOptSearch\n",
    "\n",
    "from src.data.utils import load_train_test\n",
    "from src.eval import metrics\n",
    "from src.models import swivel"
   ]
  },
  {
   "cell_type": "code",
   "execution_count": null,
   "id": "9fb03ae0",
   "metadata": {},
   "outputs": [],
   "source": [
    "TRAIN_DATA_PATH = 's3://familysearch-names/processed/tree-hr-given-similar-train-freq.csv.gz'"
   ]
  },
  {
   "cell_type": "code",
   "execution_count": null,
   "id": "8e84f668",
   "metadata": {},
   "outputs": [],
   "source": [
    "input_names_train, weighted_actual_names_train, candidate_names_train = load_train_test([TRAIN_DATA_PATH])[0]"
   ]
  },
  {
   "cell_type": "code",
   "execution_count": null,
   "id": "c9e19f48",
   "metadata": {},
   "outputs": [],
   "source": [
    "VOCAB_SIZE = 1000\n",
    "input_names_train_sample = input_names_train[:100]\n",
    "weighted_actual_names_train_sample = weighted_actual_names_train[:100]"
   ]
  },
  {
   "cell_type": "code",
   "execution_count": null,
   "id": "45086840",
   "metadata": {},
   "outputs": [],
   "source": [
    "DEFUALT_EMBEDDING_DIM = 100\n",
    "DEFAULT_CONFIDENCE_BASE = 0.1\n",
    "DEFAULT_CONFIDENCE_SCALE = 0.25\n",
    "DEFAULT_CONFIDENCE_EXPONENT = 0.5\n",
    "DEFAULT_LEARNING_RATE = 0.05\n",
    "DEFAULT_SUBMATRIX_SIZE = 64 # Needs to be adjusted with full dataset\n",
    "DEFAULT_NUM_EPOCHS = 50 # Needs to be adjusted with full dataset"
   ]
  },
  {
   "cell_type": "code",
   "execution_count": null,
   "id": "445b1636",
   "metadata": {},
   "outputs": [],
   "source": [
    "dataset = swivel.SwivelDataset(input_names_train_sample, \n",
    "                               weighted_actual_names_train_sample,\n",
    "                               VOCAB_SIZE,\n",
    "                               symmetric=True)\n",
    "vocab = dataset.get_vocab()"
   ]
  },
  {
   "cell_type": "code",
   "execution_count": null,
   "id": "84affe09",
   "metadata": {},
   "outputs": [],
   "source": [
    "device = torch.device(\"cuda:0\" if torch.cuda.is_available() else \"cpu\")"
   ]
  },
  {
   "cell_type": "code",
   "execution_count": null,
   "id": "17827df8",
   "metadata": {},
   "outputs": [],
   "source": [
    "def compute_auc(model, \n",
    "                vocab, \n",
    "                input_names,\n",
    "                weighted_actual_names,\n",
    "                candidate_names):\n",
    "    best_matches = swivel.get_best_swivel_matches(model, \n",
    "                                                  vocab, \n",
    "                                                  input_names,\n",
    "                                                  candidate_names,\n",
    "                                                  k=100, \n",
    "                                                  batch_size=256,\n",
    "                                                  add_context=True, \n",
    "                                                  n_jobs=1,\n",
    "                                                  progress_bar=False)\n",
    "    return metrics.get_auc(weighted_actual_names, \n",
    "                           best_matches, \n",
    "                           min_threshold=0.01, \n",
    "                           max_threshold=2.0,\n",
    "                           step=0.03, \n",
    "                           distances=False)"
   ]
  },
  {
   "cell_type": "code",
   "execution_count": null,
   "id": "708ba76e",
   "metadata": {},
   "outputs": [],
   "source": [
    "def plot_pr_curve(model, \n",
    "                  vocab, \n",
    "                  input_names,\n",
    "                  weighted_actual_names,\n",
    "                  candidate_names):\n",
    "    best_matches = swivel.get_best_swivel_matches(model, \n",
    "                                                  vocab, \n",
    "                                                  input_names,\n",
    "                                                  candidate_names,\n",
    "                                                  k=100, \n",
    "                                                  batch_size=256,\n",
    "                                                  add_context=True, \n",
    "                                                  n_jobs=1,\n",
    "                                                  progress_bar=False)\n",
    "    \n",
    "    metrics.precision_weighted_recall_curve_at_threshold(weighted_actual_names_train, \n",
    "                                                         best_matches, \n",
    "                                                         min_threshold=0.01, \n",
    "                                                         max_threshold=2.0, \n",
    "                                                         step=0.05, \n",
    "                                                         distances=False)"
   ]
  },
  {
   "cell_type": "code",
   "execution_count": null,
   "id": "d6d55e71",
   "metadata": {},
   "outputs": [],
   "source": [
    "def train_model(param_config, \n",
    "                swivel_dataset,\n",
    "                vocab,\n",
    "                input_names,\n",
    "                weighted_actual_names,\n",
    "                candidate_names,\n",
    "                checkpoint_dir=None):\n",
    "    \n",
    "    # Instantiate the model \n",
    "    model = swivel.SwivelModel(len(vocab), \n",
    "                               param_config['embedding_dim'], \n",
    "                               param_config['confidence_base'], \n",
    "                               param_config['confidence_scale'], \n",
    "                               param_config['confidence_exponent'])\n",
    "    # Put model on device\n",
    "    model.to(device)\n",
    "    \n",
    "    # Create optimizer\n",
    "    optimizer = torch.optim.Adagrad(model.parameters(), \n",
    "                                   lr=param_config['learning_rate'])\n",
    "    \n",
    "    # Load checkpoint if exists\n",
    "    if checkpoint_dir:\n",
    "        model_state, optimizer_state = torch.load(\n",
    "            os.path.join(checkpoint_dir, \"checkpoint\"))\n",
    "        model.load_state_dict(model_state)\n",
    "        optimizer.load_state_dict(optimizer_state)\n",
    "\n",
    "    \n",
    "    for epoch in range(param_config['num_epochs']):\n",
    "        loss_values = swivel.train_swivel(model, \n",
    "                                          swivel_dataset,\n",
    "                                          n_steps=0, \n",
    "                                          submatrix_size=param_config['submatrix_size'], \n",
    "                                          lr=param_config['learning_rate'], \n",
    "                                          device=device,\n",
    "                                          verbose=False,\n",
    "                                          optimizer=optimizer)\n",
    "        \n",
    "        # Compute AUC on the train data\n",
    "        auc = compute_auc(model, \n",
    "                          vocab, \n",
    "                          input_names,\n",
    "                          weighted_actual_names,\n",
    "                          candidate_names)\n",
    "        \n",
    "        # Checkpoint the model\n",
    "        with tune.checkpoint_dir(epoch) as checkpoint_dir:\n",
    "            path = os.path.join(checkpoint_dir, \"checkpoint\")\n",
    "            torch.save((model.state_dict(), optimizer.state_dict()), path)\n",
    "        \n",
    "        # Report the metrics to Ray\n",
    "        tune.report(auc=auc, mean_loss=np.mean(loss_values))"
   ]
  },
  {
   "cell_type": "markdown",
   "id": "87a6fd69",
   "metadata": {},
   "source": [
    "### Search space for parameters"
   ]
  },
  {
   "cell_type": "code",
   "execution_count": null,
   "id": "ca715a5f",
   "metadata": {},
   "outputs": [],
   "source": [
    "param_config = {\n",
    "    \"embedding_dim\": tune.choice([25, 50, 100]),\n",
    "    \"confidence_base\": tune.quniform(0.05, 0.15, 0.01),\n",
    "    \"confidence_scale\": tune.quniform(0.05, 0.25, 0.01),\n",
    "    \"confidence_exponent\": tune.quniform(0.25, 1.0, 0.05),\n",
    "    \"learning_rate\": tune.quniform(0.01, 0.2, 0.01),\n",
    "    \"submatrix_size\": tune.choice([32, 64, 128]),\n",
    "    \"num_epochs\": 50 \n",
    "}"
   ]
  },
  {
   "cell_type": "code",
   "execution_count": null,
   "id": "77afe74f",
   "metadata": {},
   "outputs": [],
   "source": [
    "# Will try to terminate bad trials early\n",
    "# https://docs.ray.io/en/latest/tune/api_docs/schedulers.html\n",
    "scheduler = ASHAScheduler(max_t=100,\n",
    "                          grace_period=1, \n",
    "                          reduction_factor=4)"
   ]
  },
  {
   "cell_type": "code",
   "execution_count": null,
   "id": "7048f4d6",
   "metadata": {},
   "outputs": [],
   "source": [
    "# Can provide multiple points\n",
    "current_best_params = [\n",
    "        {\n",
    "            \"embedding_dim\": DEFUALT_EMBEDDING_DIM,\n",
    "            \"confidence_base\": DEFAULT_CONFIDENCE_BASE,\n",
    "            \"confidence_scale\": DEFAULT_CONFIDENCE_SCALE,\n",
    "            \"confidence_exponent\": DEFAULT_CONFIDENCE_EXPONENT,\n",
    "            \"learning_rate\": DEFAULT_LEARNING_RATE,\n",
    "            \"submatrix_size\": DEFAULT_SUBMATRIX_SIZE,\n",
    "            \"num_epochs\": DEFAULT_NUM_EPOCHS\n",
    "        }\n",
    "    ]\n",
    "\n",
    "# https://docs.ray.io/en/latest/tune/api_docs/suggestion.html#tune-hyperopt\n",
    "search_alg = HyperOptSearch(points_to_evaluate=current_best_params)"
   ]
  },
  {
   "cell_type": "markdown",
   "id": "558b048a",
   "metadata": {},
   "source": [
    "### Run HPO"
   ]
  },
  {
   "cell_type": "code",
   "execution_count": null,
   "id": "ee458455",
   "metadata": {},
   "outputs": [],
   "source": [
    "result = tune.run(tune.with_parameters(train_model, \n",
    "                                       swivel_dataset=dataset,\n",
    "                                       vocab=vocab,\n",
    "                                       input_names=input_names_train_sample,\n",
    "                                       weighted_actual_names=weighted_actual_names_train,\n",
    "                                       candidate_names=candidate_names_train),\n",
    "                  resources_per_trial={'cpu': 0.5}, # Add GPU\n",
    "                  scheduler=scheduler,\n",
    "                  config=param_config,\n",
    "                  search_alg=search_alg,\n",
    "                  num_samples=25, # Adjust during actual tuning\n",
    "                  metric='auc', \n",
    "                  mode='max',\n",
    "                  checkpoint_score_attr='auc')"
   ]
  },
  {
   "cell_type": "markdown",
   "id": "7971b34b",
   "metadata": {},
   "source": [
    "### Get best model"
   ]
  },
  {
   "cell_type": "code",
   "execution_count": null,
   "id": "b44f90f5",
   "metadata": {},
   "outputs": [],
   "source": [
    "# Get trial that has the highest AUC (can also do with mean_loss or any other metric)\n",
    "best_trial_auc = result.get_best_trial(metric='auc', mode='max', scope='all')"
   ]
  },
  {
   "cell_type": "code",
   "execution_count": null,
   "id": "1a589d97",
   "metadata": {},
   "outputs": [],
   "source": [
    "# Parameters with the highest AUC\n",
    "best_trial_auc.config"
   ]
  },
  {
   "cell_type": "code",
   "execution_count": null,
   "id": "97c05a1d",
   "metadata": {},
   "outputs": [],
   "source": [
    "print(f\"Best trial final train loss: {best_trial_auc.last_result['mean_loss']}\")\n",
    "print(f\"Best trial final train auc: {best_trial_auc.last_result['auc']}\")"
   ]
  },
  {
   "cell_type": "code",
   "execution_count": null,
   "id": "8e987e41",
   "metadata": {},
   "outputs": [],
   "source": [
    "# Get checkpoint dir for best model\n",
    "best_checkpoint_dir = best_trial_auc.checkpoint.value\n",
    "\n",
    "# Load best model\n",
    "model_state, optimizer_state = torch.load(os.path.join(best_checkpoint_dir, 'checkpoint'))\n",
    "best_trained_model = swivel.SwivelModel(len(vocab),\n",
    "                                        embedding_dim=best_trial_auc.config['embedding_dim'],\n",
    "                                        confidence_base=best_trial_auc.config['confidence_base'],\n",
    "                                        confidence_scale=best_trial_auc.config['confidence_scale'],\n",
    "                                        confidence_exponent=best_trial_auc.config['confidence_exponent'])\n",
    "best_trained_model.load_state_dict(model_state)"
   ]
  },
  {
   "cell_type": "markdown",
   "id": "971db31e",
   "metadata": {},
   "source": [
    "### Plot PR curve"
   ]
  },
  {
   "cell_type": "code",
   "execution_count": null,
   "id": "00c7ddcf",
   "metadata": {},
   "outputs": [],
   "source": [
    "# plot pr curve with best model\n",
    "plot_pr_curve(best_trained_model, \n",
    "              vocab, \n",
    "              input_names_train_sample,\n",
    "              weighted_actual_names_train_sample,\n",
    "              candidate_names_train)"
   ]
  },
  {
   "cell_type": "markdown",
   "id": "b102402f",
   "metadata": {},
   "source": [
    "### Demo"
   ]
  },
  {
   "cell_type": "code",
   "execution_count": null,
   "id": "1640ca2c",
   "metadata": {},
   "outputs": [],
   "source": [
    "best_matches = swivel.get_best_swivel_matches(best_trained_model, \n",
    "                                              vocab, \n",
    "                                              input_names_train_sample,\n",
    "                                              candidate_names_train,\n",
    "                                              k=100, \n",
    "                                              batch_size=256,\n",
    "                                              add_context=True, \n",
    "                                              n_jobs=1,\n",
    "                                              progress_bar=False)"
   ]
  },
  {
   "cell_type": "code",
   "execution_count": null,
   "id": "38d03724",
   "metadata": {},
   "outputs": [],
   "source": [
    "rndmx_name_idx = np.random.randint(len(input_names_train_sample))\n",
    "print(f\"Input name:  {input_names_train_sample[rndmx_name_idx]}\")\n",
    "print(\"Nearest names:\")\n",
    "print(best_matches[rndmx_name_idx][:10])"
   ]
  },
  {
   "cell_type": "code",
   "execution_count": null,
   "id": "1f306395",
   "metadata": {},
   "outputs": [],
   "source": [
    "print(\"Actual names:\")\n",
    "sorted(weighted_actual_names_train[rndmx_name_idx][:10], key=lambda k: k[1], reverse=True)"
   ]
  },
  {
   "cell_type": "markdown",
   "id": "009f36a3",
   "metadata": {},
   "source": [
    "### Get all trials as DF"
   ]
  },
  {
   "cell_type": "code",
   "execution_count": null,
   "id": "c64cf6eb",
   "metadata": {},
   "outputs": [],
   "source": [
    "# All trials as pandas dataframe\n",
    "df = result.results_df"
   ]
  },
  {
   "cell_type": "code",
   "execution_count": null,
   "id": "5e9fdd1c",
   "metadata": {},
   "outputs": [],
   "source": [
    "df"
   ]
  },
  {
   "cell_type": "code",
   "execution_count": null,
   "id": "92f585a3",
   "metadata": {},
   "outputs": [],
   "source": []
  }
 ],
 "metadata": {
  "kernelspec": {
   "display_name": "Python [conda env:nama] *",
   "language": "python",
   "name": "conda-env-nama-py"
  },
  "language_info": {
   "codemirror_mode": {
    "name": "ipython",
    "version": 3
   },
   "file_extension": ".py",
   "mimetype": "text/x-python",
   "name": "python",
   "nbconvert_exporter": "python",
   "pygments_lexer": "ipython3",
   "version": "3.8.12"
  }
 },
 "nbformat": 4,
 "nbformat_minor": 5
}
