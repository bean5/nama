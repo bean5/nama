{
 "cells": [
  {
   "cell_type": "code",
   "execution_count": null,
   "id": "1218e7a8",
   "metadata": {},
   "outputs": [],
   "source": [
    "%load_ext autoreload\n",
    "%autoreload 2\n",
    "%matplotlib inline"
   ]
  },
  {
   "cell_type": "markdown",
   "id": "87e3b816",
   "metadata": {
    "pycharm": {
     "name": "#%% md\n"
    }
   },
   "source": [
    "# Generate how likely a name is to be a given vs surname"
   ]
  },
  {
   "cell_type": "code",
   "execution_count": null,
   "id": "3b27a5b3",
   "metadata": {},
   "outputs": [],
   "source": [
    "import pandas as pd\n",
    "import s3fs\n",
    "\n",
    "from src.data.filesystem import fopen\n",
    "from src.data.normalize import normalize_freq_names"
   ]
  },
  {
   "cell_type": "code",
   "execution_count": null,
   "id": "d443ed97",
   "metadata": {},
   "outputs": [],
   "source": [
    "# in\n",
    "given_freq_path=\"s3://familysearch-names/processed/tree-preferred-given-aggr.csv.gz\"\n",
    "surname_freq_path=\"s3://familysearch-names/processed/tree-preferred-surname-aggr.csv.gz\"\n",
    "# out\n",
    "given_surname_freq_path=\"s3://familysearch-names/processed/tree-preferred-given-surname-freq.csv.gz\""
   ]
  },
  {
   "cell_type": "code",
   "execution_count": null,
   "id": "be2a2e3a",
   "metadata": {},
   "outputs": [],
   "source": [
    "given_freq_df = pd.read_csv(given_freq_path, na_filter=False)\n",
    "given_freq = normalize_freq_names(given_freq_df, is_surname=False, add_padding=False)\n",
    "given_freq_df = None"
   ]
  },
  {
   "cell_type": "code",
   "execution_count": null,
   "id": "b166fc2f",
   "metadata": {},
   "outputs": [],
   "source": [
    "surname_freq_df = pd.read_csv(surname_freq_path, na_filter=False)\n",
    "surname_freq = normalize_freq_names(surname_freq_df, is_surname=True, add_padding=False)\n",
    "surname_freq_df = None"
   ]
  },
  {
   "cell_type": "code",
   "execution_count": null,
   "id": "02f6f8a3",
   "metadata": {},
   "outputs": [],
   "source": [
    "all_names = set(given_freq.keys()).union(surname_freq.keys())\n",
    "print(len(all_names))"
   ]
  },
  {
   "cell_type": "code",
   "execution_count": null,
   "id": "7705b064",
   "metadata": {},
   "outputs": [],
   "source": [
    "name_freq = []\n",
    "for name in all_names:\n",
    "    name_freq.append({\n",
    "        \"name\": name, \n",
    "        \"given_freq\": given_freq.get(name, 0),\n",
    "        \"surname_freq\": surname_freq.get(name, 0),\n",
    "    })"
   ]
  },
  {
   "cell_type": "code",
   "execution_count": null,
   "id": "6c0f8dcb",
   "metadata": {},
   "outputs": [],
   "source": [
    "name_freq_df = pd.DataFrame(name_freq)\n",
    "print(len(name_freq_df))\n",
    "name_freq_df.head(5)"
   ]
  },
  {
   "cell_type": "code",
   "execution_count": null,
   "id": "d8a233fd",
   "metadata": {},
   "outputs": [],
   "source": [
    "# remove names occurring < 40 times\n",
    "name_freq_df = name_freq_df[name_freq_df[\"given_freq\"] + name_freq_df[\"surname_freq\"] >= 40]\n",
    "print(len(name_freq_df))\n",
    "name_freq_df.head(5)"
   ]
  },
  {
   "cell_type": "code",
   "execution_count": null,
   "id": "0c0f2370",
   "metadata": {},
   "outputs": [],
   "source": [
    "name_freq_df[\"total_freq\"] = name_freq_df[\"given_freq\"] + name_freq_df[\"surname_freq\"]\n",
    "name_freq_df[\"given_ratio\"] = name_freq_df[\"given_freq\"] / name_freq_df[\"total_freq\"]"
   ]
  },
  {
   "cell_type": "code",
   "execution_count": null,
   "id": "b6427bc2",
   "metadata": {},
   "outputs": [],
   "source": [
    "name_freq_df.head(5)"
   ]
  },
  {
   "cell_type": "code",
   "execution_count": null,
   "id": "2a43792e",
   "metadata": {},
   "outputs": [],
   "source": [
    "name_freq_df[name_freq_df[\"total_freq\"] < 1000].hist(column=\"total_freq\", bins=100)"
   ]
  },
  {
   "cell_type": "code",
   "execution_count": null,
   "id": "72ac7722",
   "metadata": {},
   "outputs": [],
   "source": [
    "name_freq_df[(name_freq_df[\"given_ratio\"] > 0) & (name_freq_df[\"given_ratio\"] < 1)].hist(column=\"given_ratio\", bins=100)"
   ]
  },
  {
   "cell_type": "code",
   "execution_count": null,
   "id": "91832998",
   "metadata": {},
   "outputs": [],
   "source": [
    "ambig_df = name_freq_df[(name_freq_df[\"given_ratio\"] > 0.4) & (name_freq_df[\"given_ratio\"] < 0.8)]\n",
    "print(len(ambig_df))\n",
    "ambig_df.head(30)"
   ]
  },
  {
   "cell_type": "code",
   "execution_count": null,
   "id": "be326e89",
   "metadata": {},
   "outputs": [],
   "source": [
    "# save to csv\n",
    "name_freq_df.to_csv(given_surname_freq_path, index=False)"
   ]
  },
  {
   "cell_type": "code",
   "execution_count": null,
   "id": "7dab1b2e",
   "metadata": {},
   "outputs": [],
   "source": []
  }
 ],
 "metadata": {
  "kernelspec": {
   "display_name": "nama",
   "language": "python",
   "name": "nama"
  },
  "language_info": {
   "codemirror_mode": {
    "name": "ipython",
    "version": 3
   },
   "file_extension": ".py",
   "mimetype": "text/x-python",
   "name": "python",
   "nbconvert_exporter": "python",
   "pygments_lexer": "ipython3",
   "version": "3.8.12"
  }
 },
 "nbformat": 4,
 "nbformat_minor": 5
}
