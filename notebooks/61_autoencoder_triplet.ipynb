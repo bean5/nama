{
 "cells": [
  {
   "cell_type": "code",
   "execution_count": null,
   "id": "athletic-nowhere",
   "metadata": {},
   "outputs": [],
   "source": [
    "%load_ext autoreload\n",
    "%autoreload 2"
   ]
  },
  {
   "cell_type": "code",
   "execution_count": null,
   "id": "mighty-lyric",
   "metadata": {},
   "outputs": [],
   "source": [
    "import pickle\n",
    "import torch\n",
    "import numpy as np\n",
    "from src.data.ancestry import load_ancestry_train_test\n",
    "from src.metrics import metrics\n",
    "from src.models import utils\n",
    "from src.models import triplet_loss"
   ]
  },
  {
   "cell_type": "code",
   "execution_count": null,
   "id": "covered-duplicate",
   "metadata": {},
   "outputs": [],
   "source": [
    "MAX_NAME_LENGTH=30\n",
    "char_to_idx_map, idx_to_char_map = utils.build_token_idx_maps()"
   ]
  },
  {
   "cell_type": "markdown",
   "id": "greek-serial",
   "metadata": {},
   "source": [
    "### Load model"
   ]
  },
  {
   "cell_type": "code",
   "execution_count": null,
   "id": "handy-garbage",
   "metadata": {},
   "outputs": [],
   "source": [
    "device = torch.device(\"cuda:0\" if torch.cuda.is_available() else \"cpu\")"
   ]
  },
  {
   "cell_type": "code",
   "execution_count": null,
   "id": "unexpected-stone",
   "metadata": {},
   "outputs": [],
   "source": [
    "model = torch.load('../models/anc-encoder-bilstm-100-512.pth')"
   ]
  },
  {
   "cell_type": "code",
   "execution_count": null,
   "id": "specialized-soviet",
   "metadata": {},
   "outputs": [],
   "source": [
    "print(device)\n",
    "model.to(device)\n",
    "model.device=device"
   ]
  },
  {
   "cell_type": "markdown",
   "id": "suited-mirror",
   "metadata": {},
   "source": [
    "### Load data for fine-tuning and evaluation"
   ]
  },
  {
   "cell_type": "code",
   "execution_count": null,
   "id": "electric-clinic",
   "metadata": {},
   "outputs": [],
   "source": [
    "train, test = load_ancestry_train_test(f'../data/raw/records25k_data_train.csv',\n",
    "                                       f'../data/raw/records25k_data_test.csv')\n",
    "\n",
    "input_names_train, weighted_actual_names_train, candidate_names_train = train\n",
    "input_names_test, weighted_actual_names_test, candidate_names_test = test\n",
    "\n",
    "actual_names_train = [[name for name, _, _ in name_weights] for name_weights in weighted_actual_names_train]\n",
    "actual_names_test = [[name for name, _, _ in name_weights] for name_weights in weighted_actual_names_test]\n",
    "\n",
    "candidate_names_all = np.concatenate((candidate_names_train, candidate_names_test))"
   ]
  },
  {
   "cell_type": "markdown",
   "id": "handled-basement",
   "metadata": {},
   "source": [
    "### Fine-tune"
   ]
  },
  {
   "cell_type": "code",
   "execution_count": null,
   "id": "surprised-apparel",
   "metadata": {},
   "outputs": [],
   "source": [
    "near_negatives_train = triplet_loss.get_near_negatives(input_names_train, weighted_actual_names_train, candidate_names_train, k=50)"
   ]
  },
  {
   "cell_type": "code",
   "execution_count": null,
   "id": "nuclear-investigator",
   "metadata": {},
   "outputs": [],
   "source": [
    "# save near_negatives\n",
    "with open('../data/processed/ancestry_near_negatives.pickle', 'wb') as f:\n",
    "    pickle.dump(near_negatives_train, f)"
   ]
  },
  {
   "cell_type": "code",
   "execution_count": null,
   "id": "declared-migration",
   "metadata": {},
   "outputs": [],
   "source": [
    "# load near_negatives\n",
    "with open('../data/processed/ancestry_near_negatives.pickle', 'rb') as f:\n",
    "    near_negatives_train = pickle.load(f)"
   ]
  },
  {
   "cell_type": "code",
   "execution_count": null,
   "id": "reflected-fossil",
   "metadata": {},
   "outputs": [],
   "source": [
    "triplet_loss.train_triplet_loss(model, input_names_train, weighted_actual_names_train, near_negatives_train,\n",
    "                                input_names_test, weighted_actual_names_test, candidate_names_test, candidate_names_train, candidate_names_all,\n",
    "                                char_to_idx_map, MAX_NAME_LENGTH, 40, 512, 0.05, 100, device)"
   ]
  },
  {
   "cell_type": "code",
   "execution_count": null,
   "id": "early-dating",
   "metadata": {},
   "outputs": [],
   "source": [
    "torch.save(model, '../data/models/anc-triplet-bilstm-100-512-40-05.pth')"
   ]
  },
  {
   "cell_type": "code",
   "execution_count": null,
   "id": "confident-creation",
   "metadata": {},
   "outputs": [],
   "source": [
    "model = torch.load('../data/models/anc-triplet-bilstm-100-512-40-05.pth')"
   ]
  },
  {
   "cell_type": "markdown",
   "id": "billion-turning",
   "metadata": {},
   "source": [
    "## Evaluation"
   ]
  },
  {
   "cell_type": "code",
   "execution_count": null,
   "id": "seventh-intention",
   "metadata": {},
   "outputs": [],
   "source": [
    "# move to cpu for evaluation so we don't run out of GPU memory\n",
    "model.to(\"cpu\")\n",
    "model.device=\"cpu\""
   ]
  },
  {
   "cell_type": "code",
   "execution_count": null,
   "id": "exclusive-reproduction",
   "metadata": {},
   "outputs": [],
   "source": [
    "# Get embeddings for train candidate names\n",
    "candidate_names_train_X, _ = utils.convert_names_to_model_inputs(candidate_names_train,\n",
    "                                                                 char_to_idx_map,\n",
    "                                                                 MAX_NAME_LENGTH)\n",
    "# Get Embeddings for the names from the encoder\n",
    "candidate_names_train_encoded = model(candidate_names_train_X, just_encoder=True).detach().numpy()"
   ]
  },
  {
   "cell_type": "code",
   "execution_count": null,
   "id": "assisted-diabetes",
   "metadata": {},
   "outputs": [],
   "source": [
    "# Get embeddings for test input names\n",
    "input_names_test_X, _ = utils.convert_names_to_model_inputs(input_names_test,\n",
    "                                                            char_to_idx_map,\n",
    "                                                            MAX_NAME_LENGTH)\n",
    "# Get Embeddings for the names from the encoder\n",
    "input_names_test_encoded = model(input_names_test_X, just_encoder=True).detach().numpy()"
   ]
  },
  {
   "cell_type": "code",
   "execution_count": null,
   "id": "imperial-wallpaper",
   "metadata": {},
   "outputs": [],
   "source": [
    "# Get embeddings for test candidate names\n",
    "candidate_names_test_X, _ = utils.convert_names_to_model_inputs(candidate_names_test,\n",
    "                                                                char_to_idx_map,\n",
    "                                                                MAX_NAME_LENGTH)\n",
    "candidate_names_test_encoded = model(candidate_names_test_X, just_encoder=True).detach().numpy()"
   ]
  },
  {
   "cell_type": "code",
   "execution_count": null,
   "id": "cellular-technical",
   "metadata": {},
   "outputs": [],
   "source": [
    "candidate_names_all_encoded = np.vstack((candidate_names_train_encoded, candidate_names_test_encoded))"
   ]
  },
  {
   "cell_type": "code",
   "execution_count": null,
   "id": "three-caution",
   "metadata": {},
   "outputs": [],
   "source": [
    "input_names_test_encoded.shape"
   ]
  },
  {
   "cell_type": "markdown",
   "id": "83dc11e8",
   "metadata": {
    "pycharm": {
     "name": "#%% md\n"
    }
   },
   "source": [
    "### Test"
   ]
  },
  {
   "cell_type": "code",
   "execution_count": null,
   "id": "mature-rebate",
   "metadata": {},
   "outputs": [],
   "source": [
    "# matric=euclidean is what TripletMarginLoss optimizes by default\n",
    "# but this means that scores will be in terms of distance, not similarity, so take this into account when computing PR at thresholds\n",
    "k = 100\n",
    "best_matches = utils.get_best_matches(input_names_test_encoded,\n",
    "                                      candidate_names_all_encoded,\n",
    "                                      candidate_names_all,\n",
    "                                      num_candidates=k,\n",
    "                                      metric='euclidean')\n",
    "print(best_matches.shape)\n",
    "print(best_matches[0, 0, 0])\n",
    "print(best_matches[0, 0, 1])"
   ]
  },
  {
   "cell_type": "code",
   "execution_count": null,
   "id": "dependent-authorization",
   "metadata": {},
   "outputs": [],
   "source": [
    "best_matches_names = best_matches[:, :, 0]\n",
    "print(best_matches_names.shape)"
   ]
  },
  {
   "cell_type": "markdown",
   "id": "chinese-transsexual",
   "metadata": {},
   "source": [
    "### PR Curve at k"
   ]
  },
  {
   "cell_type": "code",
   "execution_count": null,
   "id": "commercial-privilege",
   "metadata": {},
   "outputs": [],
   "source": [
    "metrics.precision_recall_curve_at_k(actual_names_test, best_matches_names, k)"
   ]
  },
  {
   "cell_type": "code",
   "execution_count": null,
   "id": "therapeutic-sucking",
   "metadata": {},
   "outputs": [],
   "source": [
    "metrics.avg_precision_at_threshold(weighted_actual_names_test, best_matches, 0.145, distances=True)"
   ]
  },
  {
   "cell_type": "code",
   "execution_count": null,
   "id": "comfortable-knowing",
   "metadata": {},
   "outputs": [],
   "source": [
    "metrics.avg_weighted_recall_at_threshold(weighted_actual_names_test, best_matches, 0.145, distances=True)"
   ]
  },
  {
   "cell_type": "markdown",
   "id": "promotional-scale",
   "metadata": {},
   "source": [
    "### PR Curve at threshold"
   ]
  },
  {
   "cell_type": "code",
   "execution_count": null,
   "id": "disturbed-fraction",
   "metadata": {},
   "outputs": [],
   "source": [
    "# minimum score threshold to test\n",
    "metrics.precision_weighted_recall_curve_at_threshold(weighted_actual_names_test, best_matches,\n",
    "                                                     min_threshold=0.01, max_threshold=1.0, step=.005, distances=True)"
   ]
  },
  {
   "cell_type": "markdown",
   "id": "impaired-enforcement",
   "metadata": {},
   "source": [
    "### AUC"
   ]
  },
  {
   "cell_type": "code",
   "execution_count": null,
   "id": "forbidden-prefix",
   "metadata": {},
   "outputs": [],
   "source": [
    "metrics.get_auc(weighted_actual_names_test, best_matches,\n",
    "                min_threshold=0.01, max_threshold=1.0, step=.005, distances=True)"
   ]
  },
  {
   "cell_type": "markdown",
   "id": "conventional-channel",
   "metadata": {
    "pycharm": {
     "name": "#%% md\n"
    }
   },
   "source": [
    "### Precision and recall at a specific threshold"
   ]
  },
  {
   "cell_type": "code",
   "execution_count": null,
   "id": "bc7d60f7",
   "metadata": {
    "pycharm": {
     "name": "#%%\n"
    }
   },
   "outputs": [],
   "source": [
    "threshold = 0.14\n",
    "print(\"precision\", metrics.avg_precision_at_threshold(weighted_actual_names_test, best_matches, threshold=threshold, distances=True))\n",
    "print(\"recall\", metrics.avg_weighted_recall_at_threshold(weighted_actual_names_test, best_matches, threshold=threshold, distances=True))"
   ]
  }
 ],
 "metadata": {
  "kernelspec": {
   "display_name": "nama",
   "language": "python",
   "name": "nama"
  },
  "language_info": {
   "codemirror_mode": {
    "name": "ipython",
    "version": 3
   },
   "file_extension": ".py",
   "mimetype": "text/x-python",
   "name": "python",
   "nbconvert_exporter": "python",
   "pygments_lexer": "ipython3",
   "version": "3.8.5"
  }
 },
 "nbformat": 4,
 "nbformat_minor": 5
}
