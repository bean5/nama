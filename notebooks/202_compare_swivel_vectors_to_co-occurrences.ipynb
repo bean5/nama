{
 "cells": [
  {
   "cell_type": "code",
   "execution_count": null,
   "id": "3df9fd14",
   "metadata": {},
   "outputs": [],
   "source": [
    "%load_ext autoreload\n",
    "%autoreload 2"
   ]
  },
  {
   "cell_type": "markdown",
   "id": "b6251fae",
   "metadata": {},
   "source": [
    "# Compare swivel vector similarities to tree-record name co-occurrences"
   ]
  },
  {
   "cell_type": "markdown",
   "id": "0daf4e43",
   "metadata": {},
   "source": [
    "## Make sure we handle surname prefixes!\n",
    "how many triplets include prefixed vs unprefixed surnames?"
   ]
  },
  {
   "cell_type": "code",
   "execution_count": null,
   "id": "1f39d518",
   "metadata": {},
   "outputs": [],
   "source": [
    "from collections import Counter\n",
    "import random\n",
    "\n",
    "import numpy as np\n",
    "import pandas as pd\n",
    "from sklearn.metrics.pairwise import cosine_similarity\n",
    "import torch\n",
    "from tqdm.auto import tqdm\n",
    "\n",
    "from src.data.filesystem import fopen\n",
    "from src.data.utils import load_dataset\n",
    "from src.models.swivel import SwivelModel, get_swivel_embeddings"
   ]
  },
  {
   "cell_type": "code",
   "execution_count": null,
   "id": "893d9f48",
   "metadata": {},
   "outputs": [],
   "source": [
    "# Config\n",
    "\n",
    "given_surname = \"given\"\n",
    "vocab_size = 610000 if given_surname == \"given\" else 2100000\n",
    "embed_dim = 100\n",
    "train_path=f\"s3://familysearch-names/processed/tree-hr-{given_surname}-train.csv.gz\"\n",
    "vocab_path=f\"s3://nama-data/data/models/fs-{given_surname}-swivel-vocab-{vocab_size}-augmented.csv\"\n",
    "model_path=f\"s3://nama-data/data/models/fs-{given_surname}-swivel-model-{vocab_size}-{embed_dim}-augmented.pth\"\n"
   ]
  },
  {
   "cell_type": "code",
   "execution_count": null,
   "id": "5f3c7f7d",
   "metadata": {},
   "outputs": [],
   "source": [
    "device = torch.device(\"cuda:0\" if torch.cuda.is_available() else \"cpu\")\n",
    "print(device)"
   ]
  },
  {
   "cell_type": "code",
   "execution_count": null,
   "id": "afd8c24b",
   "metadata": {},
   "outputs": [],
   "source": [
    "torch.cuda.empty_cache()\n",
    "print(torch.cuda.is_available())\n",
    "print(\"cuda total\", torch.cuda.get_device_properties(0).total_memory)\n",
    "print(\"cuda reserved\", torch.cuda.memory_reserved(0))\n",
    "print(\"cuda allocated\", torch.cuda.memory_allocated(0))"
   ]
  },
  {
   "cell_type": "markdown",
   "id": "587d1528",
   "metadata": {},
   "source": [
    "## Load data"
   ]
  },
  {
   "cell_type": "code",
   "execution_count": null,
   "id": "936aac10",
   "metadata": {},
   "outputs": [],
   "source": [
    "input_names_train, weighted_actual_names_train, candidate_names_train = \\\n",
    "    load_dataset(train_path)"
   ]
  },
  {
   "cell_type": "code",
   "execution_count": null,
   "id": "86963219",
   "metadata": {},
   "outputs": [],
   "source": [
    "print(\"input_names_train\", len(input_names_train))\n",
    "print(\"weighted_actual_names_train\", sum(len(wan) for wan in weighted_actual_names_train))\n",
    "print(\"total pairs\", sum(freq for wans in weighted_actual_names_train for _, _, freq in wans))\n",
    "print(\"candidate_names_train\", len(candidate_names_train))\n",
    "print(\"total names\", len(set(input_names_train).union(set(candidate_names_train))))"
   ]
  },
  {
   "cell_type": "code",
   "execution_count": null,
   "id": "9c5c2164",
   "metadata": {},
   "outputs": [],
   "source": [
    "vocab_df = pd.read_csv(fopen(vocab_path, \"rb\"))\n",
    "vocab = {name: _id for name, _id in zip(vocab_df[\"name\"], vocab_df[\"index\"])}\n",
    "model = SwivelModel(len(vocab), embed_dim)\n",
    "model.load_state_dict(torch.load(fopen(model_path, \"rb\")))\n",
    "model.eval()"
   ]
  },
  {
   "cell_type": "markdown",
   "id": "1bc4878f",
   "metadata": {},
   "source": [
    "## Review data"
   ]
  },
  {
   "cell_type": "code",
   "execution_count": null,
   "id": "562d3f1d",
   "metadata": {},
   "outputs": [],
   "source": [
    "input_names_train[468]"
   ]
  },
  {
   "cell_type": "code",
   "execution_count": null,
   "id": "f4fe4766",
   "metadata": {},
   "outputs": [],
   "source": [
    "candidate_names_train[:10]"
   ]
  },
  {
   "cell_type": "code",
   "execution_count": null,
   "id": "f7bc1a51",
   "metadata": {},
   "outputs": [],
   "source": [
    "# record-names that tree-name aaron co-occurs with\n",
    "rows = [row for row in weighted_actual_names_train[468] if row[2] >= 100]\n",
    "print(len(rows))\n",
    "rows"
   ]
  },
  {
   "cell_type": "code",
   "execution_count": null,
   "id": "12408281",
   "metadata": {},
   "outputs": [],
   "source": [
    "np.where(candidate_names_train == '<aaaron>')"
   ]
  },
  {
   "cell_type": "code",
   "execution_count": null,
   "id": "ebf7eb62",
   "metadata": {},
   "outputs": [],
   "source": [
    "candidate_names_train[1008]"
   ]
  },
  {
   "cell_type": "code",
   "execution_count": null,
   "id": "1eba1c68",
   "metadata": {},
   "outputs": [],
   "source": [
    "[row for row in weighted_actual_names_train[468] if row[0] == '<aaaron>']"
   ]
  },
  {
   "cell_type": "code",
   "execution_count": null,
   "id": "2581d42b",
   "metadata": {},
   "outputs": [],
   "source": [
    "tree_name_counts = Counter()\n",
    "record_name_counts = Counter()\n",
    "for input_name, wans in zip(input_names_train, weighted_actual_names_train):\n",
    "    for wan in wans:\n",
    "        tree_name_counts[input_name] += wan[2]\n",
    "        record_name_counts[wan[0]] += wan[2]\n",
    "print(len(tree_name_counts))\n",
    "print(len(record_name_counts))"
   ]
  },
  {
   "cell_type": "code",
   "execution_count": null,
   "id": "193729a2",
   "metadata": {},
   "outputs": [],
   "source": [
    "tree_name_counts.most_common()[9500:9540]"
   ]
  },
  {
   "cell_type": "code",
   "execution_count": null,
   "id": "48139ffe",
   "metadata": {},
   "outputs": [],
   "source": [
    "record_name_counts.most_common()[70000:70020]"
   ]
  },
  {
   "cell_type": "code",
   "execution_count": null,
   "id": "d2e59cdd",
   "metadata": {},
   "outputs": [],
   "source": [
    "record_name_counts.most_common()[45000:45020]"
   ]
  },
  {
   "cell_type": "code",
   "execution_count": null,
   "id": "7a7e2262",
   "metadata": {},
   "outputs": [],
   "source": [
    "total_tree_occurs = Counter()\n",
    "total_record_occurs = Counter()\n",
    "for input_name, wans in tqdm(zip(input_names_train, weighted_actual_names_train)):\n",
    "    for wan in wans:\n",
    "        # include co-occurrences even if a name goes to itself, \n",
    "        # because if a name usually goes to itself, we want its vector\n",
    "        # to not be that close to another vector\n",
    "        total_tree_occurs[input_name] += wan[2]\n",
    "        total_record_occurs[wan[0]] += wan[2]"
   ]
  },
  {
   "cell_type": "code",
   "execution_count": null,
   "id": "6fac7efd",
   "metadata": {},
   "outputs": [],
   "source": [
    "input_names_train_ixs = {}\n",
    "for ix, input_name in enumerate(input_names_train):\n",
    "    input_names_train_ixs[input_name] = ix"
   ]
  },
  {
   "cell_type": "code",
   "execution_count": null,
   "id": "aab36d41",
   "metadata": {},
   "outputs": [],
   "source": [
    "def score(tree_name, record_name):\n",
    "    tree_ix = input_names_train_ixs[tree_name]\n",
    "    co_occur = 0\n",
    "    for row in weighted_actual_names_train[tree_ix]:\n",
    "        if row[0] == record_name:\n",
    "            co_occur = row[2]\n",
    "            break\n",
    "    total_tree_occur = total_tree_occurs[tree_name]\n",
    "    tree_co_occur_ratio = co_occur / total_tree_occur\n",
    "    total_record_occur = total_record_occurs[record_name]\n",
    "    record_co_occur_ratio = co_occur / total_record_occur\n",
    "    return max(tree_co_occur_ratio, record_co_occur_ratio)"
   ]
  },
  {
   "cell_type": "code",
   "execution_count": null,
   "id": "9dd293db",
   "metadata": {},
   "outputs": [],
   "source": [
    "scores = []\n",
    "for row in weighted_actual_names_train[468]:\n",
    "    tree_name = input_names_train[468]\n",
    "    record_name = row[0]\n",
    "    scores.append((tree_name, record_name, score(tree_name, record_name)))\n",
    "sorted(scores, key=lambda tup: -tup[2])"
   ]
  },
  {
   "cell_type": "code",
   "execution_count": null,
   "id": "88ac334c",
   "metadata": {},
   "outputs": [],
   "source": [
    "tree_name_min_freq = 2000\n",
    "record_name_min_freq = 200\n",
    "pos_threshold = 0.5\n",
    "max_triplets_per_tree_name = 2000\n",
    "\n",
    "total_record_candidates = 0\n",
    "total_tree_names = 0\n",
    "triplets = []\n",
    "for input_name, wans in tqdm(zip(input_names_train, weighted_actual_names_train)):\n",
    "    if tree_name_counts[input_name] < tree_name_min_freq:\n",
    "        continue\n",
    "    record_candidates = [wan for wan in wans \\\n",
    "                         if record_name_counts[wan[0]] >= record_name_min_freq]\n",
    "    pairs = set()\n",
    "    for pos_candidate in record_candidates:\n",
    "        pos_name = pos_candidate[0]\n",
    "        if pos_name == input_name:\n",
    "            continue\n",
    "        for neg_candidate in record_candidates:\n",
    "            neg_name = neg_candidate[0]\n",
    "            if neg_name == input_name:\n",
    "                continue\n",
    "            if pos_name == neg_name:\n",
    "                continue\n",
    "            if f\"{pos_name},{neg_name}\" in pairs \\\n",
    "            or f\"{neg_name},{pos_name}\" in pairs:\n",
    "                continue\n",
    "            pos_score = score(input_name, pos_name)\n",
    "            neg_score = score(input_name, neg_name)\n",
    "            if max(pos_score, neg_score) < pos_threshold:\n",
    "                continue\n",
    "            if pos_score < neg_score:\n",
    "                pos_name, pos_score, neg_name, neg_score = neg_name, neg_score, pos_name, pos_score\n",
    "            pairs.add(f\"{pos_name},{neg_name}\")\n",
    "            triplets.append((input_name, pos_name, pos_score, neg_name, neg_score))\n",
    "            if len(pairs) == max_triplets_per_tree_name:\n",
    "                break\n",
    "        if len(pairs) == max_triplets_per_tree_name:\n",
    "            break\n",
    "    total_record_candidates += len(record_candidates)\n",
    "    total_tree_names += 1\n",
    "print('tree names', total_tree_names)\n",
    "print('total record candidates for all tree names', total_record_candidates)\n",
    "print('avg record candidates per tree name', total_record_candidates / total_tree_names)\n",
    "print('total triplets', len(triplets))"
   ]
  },
  {
   "cell_type": "code",
   "execution_count": null,
   "id": "85dfc5b4",
   "metadata": {},
   "outputs": [],
   "source": [
    "[triplet for triplet in triplets if triplet[0] == '<richard>']"
   ]
  },
  {
   "cell_type": "markdown",
   "id": "ea8c78b9",
   "metadata": {},
   "source": [
    "## Evaluate"
   ]
  },
  {
   "cell_type": "code",
   "execution_count": null,
   "id": "d2d9545f",
   "metadata": {},
   "outputs": [],
   "source": [
    "def softmax(z):\n",
    "    assert len(z.shape) == 2\n",
    "    s = np.max(z, axis=1)\n",
    "    s = s[:, np.newaxis] # necessary step to do broadcasting\n",
    "    e_x = np.exp(z - s)\n",
    "    div = np.sum(e_x, axis=1)\n",
    "    div = div[:, np.newaxis] # dito\n",
    "    return e_x / div\n",
    "\n",
    "def harmonic_mean(x,y):\n",
    "    return 2 / (1/x + 1/y)"
   ]
  },
  {
   "cell_type": "code",
   "execution_count": null,
   "id": "c9517091",
   "metadata": {},
   "outputs": [],
   "source": [
    "def eval(tree_name, record_name):\n",
    "    tree_ix = input_names_train.index(tree_name)\n",
    "    co_occur = [row for row in weighted_actual_names_train[tree_ix] if row[0] == record_name][0][2]\n",
    "    print('co-occur', co_occur)\n",
    "    total_tree_occur = total_tree_occurs[tree_name]\n",
    "    print('total tree occur', total_tree_occur)\n",
    "    tree_co_occur_ratio = co_occur / total_tree_occur\n",
    "    print('tree co-occur ratio', tree_co_occur_ratio)\n",
    "    total_record_occur = total_record_occurs[record_name]\n",
    "    print('total record occur', total_record_occur)\n",
    "    record_co_occur_ratio = co_occur / total_record_occur\n",
    "    print('record co-occur ratio', record_co_occur_ratio)\n",
    "    tree_record_occur = [(input_names_train[ix], row[2]) \\\n",
    "                             for ix in range(len(input_names_train)) \\\n",
    "                             for row in weighted_actual_names_train[ix] \\\n",
    "                             if row[0] == record_name]\n",
    "    print('all names going to record', tree_record_occur)\n",
    "    print('harmonic mean', harmonic_mean(tree_co_occur_ratio, record_co_occur_ratio))\n",
    "    print('max', max(tree_co_occur_ratio, record_co_occur_ratio))\n",
    "    print('tree-record co-occur ratio', co_occur / (total_tree_occur + total_record_occur - co_occur))\n",
    "    embs = get_swivel_embeddings(model, vocab, [tree_name, record_name], add_context=True)\n",
    "    print('cosine similarity', cosine_similarity([embs[0]], [embs[1]])[0][0]) "
   ]
  },
  {
   "cell_type": "code",
   "execution_count": null,
   "id": "25b11a26",
   "metadata": {},
   "outputs": [],
   "source": [
    "eval('<aaron>', '<aaaron>')"
   ]
  },
  {
   "cell_type": "code",
   "execution_count": null,
   "id": "578e3929",
   "metadata": {},
   "outputs": [],
   "source": [
    "eval('<aaron>', '<aron>')"
   ]
  },
  {
   "cell_type": "code",
   "execution_count": null,
   "id": "6f6e4f07",
   "metadata": {},
   "outputs": [],
   "source": [
    "eval('<aaron>', '<aarone>')"
   ]
  },
  {
   "cell_type": "code",
   "execution_count": null,
   "id": "92c60d50",
   "metadata": {},
   "outputs": [],
   "source": [
    "eval('<sarah>', '<sara>')"
   ]
  },
  {
   "cell_type": "code",
   "execution_count": null,
   "id": "89b037ae",
   "metadata": {},
   "outputs": [],
   "source": [
    "eval('<rebecca>', '<rebekah>')"
   ]
  },
  {
   "cell_type": "code",
   "execution_count": null,
   "id": "b5969af4",
   "metadata": {},
   "outputs": [],
   "source": [
    "eval('<donald>', '<ronald>')"
   ]
  },
  {
   "cell_type": "code",
   "execution_count": null,
   "id": "301b09d3",
   "metadata": {},
   "outputs": [],
   "source": [
    "eval('<richard>', '<richerd>')"
   ]
  },
  {
   "cell_type": "code",
   "execution_count": null,
   "id": "277fd764",
   "metadata": {},
   "outputs": [],
   "source": [
    "eval('<richard>', '<richand>')"
   ]
  },
  {
   "cell_type": "code",
   "execution_count": null,
   "id": "1a706b5e",
   "metadata": {},
   "outputs": [],
   "source": [
    "eval('<dallas>', '<dallan>')"
   ]
  },
  {
   "cell_type": "code",
   "execution_count": null,
   "id": "9c122026",
   "metadata": {},
   "outputs": [],
   "source": [
    "eval('<dallin>', '<dallan>')"
   ]
  },
  {
   "cell_type": "code",
   "execution_count": null,
   "id": "7a075798",
   "metadata": {},
   "outputs": [],
   "source": [
    "eval('<dallin>', '<dallen>')"
   ]
  },
  {
   "cell_type": "code",
   "execution_count": null,
   "id": "4ff6072d",
   "metadata": {},
   "outputs": [],
   "source": [
    "eval('<joan>', '<joanne>')"
   ]
  },
  {
   "cell_type": "code",
   "execution_count": null,
   "id": "c692c984",
   "metadata": {},
   "outputs": [],
   "source": [
    "eval('<joan>', '<joane>')"
   ]
  },
  {
   "cell_type": "code",
   "execution_count": null,
   "id": "7da2a4fb",
   "metadata": {},
   "outputs": [],
   "source": [
    "eval('<joanne>', '<joane>')"
   ]
  },
  {
   "cell_type": "code",
   "execution_count": null,
   "id": "913aaf47",
   "metadata": {},
   "outputs": [],
   "source": [
    "eval('<wilbur>', '<wilber>')"
   ]
  },
  {
   "cell_type": "code",
   "execution_count": null,
   "id": "f67c26de",
   "metadata": {},
   "outputs": [],
   "source": [
    "eval('<wilhelmina>', '<wilhelm>')"
   ]
  },
  {
   "cell_type": "code",
   "execution_count": null,
   "id": "10faca54",
   "metadata": {},
   "outputs": [],
   "source": [
    "eval('<richard>', '<card>')"
   ]
  },
  {
   "cell_type": "code",
   "execution_count": null,
   "id": "02c0e90f",
   "metadata": {},
   "outputs": [],
   "source": [
    "eval('<richard>', '<orchard>')"
   ]
  },
  {
   "cell_type": "code",
   "execution_count": null,
   "id": "2bea80a8",
   "metadata": {},
   "outputs": [],
   "source": []
  }
 ],
 "metadata": {
  "kernelspec": {
   "display_name": "nama",
   "language": "python",
   "name": "nama"
  },
  "language_info": {
   "codemirror_mode": {
    "name": "ipython",
    "version": 3
   },
   "file_extension": ".py",
   "mimetype": "text/x-python",
   "name": "python",
   "nbconvert_exporter": "python",
   "pygments_lexer": "ipython3",
   "version": "3.9.16"
  }
 },
 "nbformat": 4,
 "nbformat_minor": 5
}
