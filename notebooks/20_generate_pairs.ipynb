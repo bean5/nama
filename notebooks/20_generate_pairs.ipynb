{
 "cells": [
  {
   "cell_type": "code",
   "execution_count": null,
   "id": "530204d6",
   "metadata": {},
   "outputs": [],
   "source": [
    "%load_ext autoreload\n",
    "%autoreload 2"
   ]
  },
  {
   "cell_type": "markdown",
   "id": "216b5f9f",
   "metadata": {},
   "source": [
    "# Generate pairs of best-matching name pieces from multi-word given or surnames"
   ]
  },
  {
   "cell_type": "code",
   "execution_count": null,
   "id": "20a76005",
   "metadata": {},
   "outputs": [],
   "source": [
    "from os.path import join\n",
    "\n",
    "from pathlib import Path\n",
    "from pandarallel import pandarallel\n",
    "import pandas as pd\n",
    "from tqdm import tqdm\n",
    "\n",
    "from src.data.filesystem import glob\n",
    "from src.data.prepare import match_name_pairs"
   ]
  },
  {
   "cell_type": "code",
   "execution_count": null,
   "id": "5f913ce0",
   "metadata": {},
   "outputs": [],
   "source": [
    "# configure\n",
    "in_path = \"s3://familysearch-names/interim/tree-hr-surname/\"\n",
    "out_path = \"s3://familysearch-names/interim/tree-hr-surname-pairs/\"\n",
    "is_surname = True"
   ]
  },
  {
   "cell_type": "code",
   "execution_count": null,
   "id": "1e1b5ef3",
   "metadata": {},
   "outputs": [],
   "source": [
    "Path(out_path).mkdir(parents=True, exist_ok=True)\n",
    "pandarallel.initialize()"
   ]
  },
  {
   "cell_type": "code",
   "execution_count": null,
   "id": "40417510",
   "metadata": {},
   "outputs": [],
   "source": [
    "# TODO switch this over to mpire someday\n",
    "filenames = glob(in_path + \"*.parquet\")\n",
    "for filename in tqdm(filenames):\n",
    "    basename = Path(filename).stem\n",
    "\n",
    "    # read file\n",
    "    df = pd.read_parquet(filename)\n",
    "\n",
    "    # split name and alt-name into individual name pieces\n",
    "    df[\"name_pieces\"] = df[\"name\"].str.split()\n",
    "    df[\"alt_name_pieces\"] = df[\"alt_name\"].str.split()\n",
    "\n",
    "    # match pieces in name with the nearest alt_name pieces\n",
    "    df[\"pairs\"] = df.parallel_apply(match_name_pairs, axis=1)\n",
    "\n",
    "    # explode pairs into a new (name, alt_name) dataframe\n",
    "    df = pd.DataFrame(\n",
    "        df[[\"pairs\"]].explode(\"pairs\", ignore_index=True).dropna()[\"pairs\"].tolist(),\n",
    "        columns=[\"name\", \"alt_name\"],\n",
    "    )\n",
    "\n",
    "    # remove exact matches and empty\n",
    "    df = df[(df[\"name\"] != df[\"alt_name\"]) & ~df[\"name\"].isna() & ~df[\"alt_name\"].isna()]\n",
    "\n",
    "    # write\n",
    "    df.to_parquet(join(out_path, basename + \".parquet\"))"
   ]
  },
  {
   "cell_type": "code",
   "execution_count": null,
   "id": "98dc8cd0",
   "metadata": {},
   "outputs": [],
   "source": []
  }
 ],
 "metadata": {
  "kernelspec": {
   "display_name": "nama",
   "language": "python",
   "name": "nama"
  }
 },
 "nbformat": 4,
 "nbformat_minor": 5
}
