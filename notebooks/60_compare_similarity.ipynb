{
 "cells": [
  {
   "cell_type": "code",
   "execution_count": null,
   "id": "25f627d7",
   "metadata": {},
   "outputs": [],
   "source": [
    "%load_ext autoreload\n",
    "%autoreload 2\n",
    "%matplotlib inline"
   ]
  },
  {
   "cell_type": "code",
   "execution_count": null,
   "id": "3a4cfa11",
   "metadata": {},
   "outputs": [],
   "source": [
    "from collections import namedtuple\n",
    "import jellyfish\n",
    "import matplotlib.pyplot as plt\n",
    "from matplotlib.pyplot import cm\n",
    "from mpire import WorkerPool\n",
    "import numpy as np\n",
    "from scipy.sparse import vstack\n",
    "from sklearn.feature_extraction.text import TfidfVectorizer\n",
    "from sklearn.utils.extmath import safe_sparse_dot\n",
    "import torch\n",
    "from tqdm import tqdm\n",
    "import wandb\n",
    "\n",
    "from src.data.filesystem import fopen\n",
    "from src.data.utils import load_train_test\n",
    "from src.eval import metrics\n",
    "from src.eval.triplet import eval_triplet\n",
    "from src.eval.utils import similar_names_scores_to_ndarray\n",
    "from src.models.utils import remove_padding, get_best_matches, build_token_idx_maps, convert_names_to_model_inputs"
   ]
  },
  {
   "cell_type": "code",
   "execution_count": null,
   "id": "66584bd1",
   "metadata": {
    "pycharm": {
     "is_executing": true
    }
   },
   "outputs": [],
   "source": [
    "# config\n",
    "\n",
    "# from src.data.ancestry import load_train_test\n",
    "# train_path = \"../data/raw/records25k_data_train.csv\"\n",
    "# test_path = \"../data/raw/records25k_data_test.csv\"\n",
    "# sample_all_names = True\n",
    "\n",
    "given_surname = \"given\"\n",
    "Config = namedtuple(\"Config\", \"train_path test_path triplet_model_path sample_all_names\")\n",
    "config = Config(\n",
    "    train_path=f\"s3://familysearch-names/processed/tree-hr-{given_surname}-similar-train.csv.gz\",\n",
    "    test_path=f\"s3://familysearch-names/processed/tree-hr-{given_surname}-similar-train-freq.csv.gz\",\n",
    "    # test_path=f\"s3://familysearch-names/processed/tree-hr-{given_surname}-similar-test-freq.csv.gz\",\n",
    "    triplet_model_path=f\"s3://nama-data/data/models/anc-triplet-bilstm-100-512-40-05.pth\",\n",
    "    sample_all_names=False,\n",
    ")"
   ]
  },
  {
   "cell_type": "code",
   "execution_count": null,
   "id": "fd915ca5",
   "metadata": {
    "pycharm": {
     "name": "#%%\n"
    }
   },
   "outputs": [],
   "source": [
    "np.set_printoptions(suppress=True)\n",
    "tqdm.pandas()\n",
    "wandb.init(\n",
    "    project=\"nama\",\n",
    "    entity=\"nama\",\n",
    "    name=\"60_compare_similarity\",\n",
    "    group=given_surname,\n",
    "    notes=\"fs in-vocab\",\n",
    "    config=config._asdict(),\n",
    ")"
   ]
  },
  {
   "cell_type": "markdown",
   "id": "fc39ec33",
   "metadata": {},
   "source": [
    "### Load data"
   ]
  },
  {
   "cell_type": "code",
   "execution_count": null,
   "id": "90742d07",
   "metadata": {},
   "outputs": [],
   "source": [
    "# read data\n",
    "\n",
    "train, test = load_train_test([config.train_path, config.test_path])\n",
    "\n",
    "input_names_train, weighted_actual_names_train, candidate_names_train = train\n",
    "input_names_test, weighted_actual_names_test, candidate_names_test = test\n",
    "\n",
    "candidate_names_all = np.concatenate((candidate_names_train, candidate_names_test))\n",
    "input_names_all = input_names_train + input_names_test\n",
    "weighted_actual_names_all = weighted_actual_names_train + weighted_actual_names_test"
   ]
  },
  {
   "cell_type": "code",
   "execution_count": null,
   "id": "dc85ba84",
   "metadata": {
    "pycharm": {
     "name": "#%%\n"
    }
   },
   "outputs": [],
   "source": [
    "# sample\n",
    "\n",
    "input_names_sample = input_names_all if config.sample_all_names else input_names_test\n",
    "weighted_actual_names_sample = weighted_actual_names_all if config.sample_all_names else weighted_actual_names_test\n",
    "candidate_names_sample = candidate_names_all if config.sample_all_names else candidate_names_test"
   ]
  },
  {
   "cell_type": "code",
   "execution_count": null,
   "id": "4486b627",
   "metadata": {
    "pycharm": {
     "name": "#%%\n"
    }
   },
   "outputs": [],
   "source": [
    "print(\"input_names_train\", len(input_names_train))\n",
    "print(\"input_names_test\", len(input_names_test))\n",
    "print(\"input_names_all\", len(input_names_all))\n",
    "print(\"input_names_sample\", len(input_names_sample))\n",
    "print(\"weighted_actual_names_train\", len(weighted_actual_names_train))\n",
    "print(\"weighted_actual_names_test\", len(weighted_actual_names_test))\n",
    "print(\"weighted_actual_names_all\", len(weighted_actual_names_all))\n",
    "print(\"weighted_actual_names_sample\", len(weighted_actual_names_sample))\n",
    "print(\"candidate_names_train\", len(candidate_names_train))\n",
    "print(\"candidate_names_test\", len(candidate_names_test))\n",
    "print(\"candidate_names_all\", len(candidate_names_all))\n",
    "print(\"candidate_names_sample\", len(candidate_names_sample))"
   ]
  },
  {
   "cell_type": "markdown",
   "id": "ffb95159",
   "metadata": {},
   "source": [
    "### Models"
   ]
  },
  {
   "cell_type": "code",
   "execution_count": null,
   "id": "ddcadc9f",
   "metadata": {},
   "outputs": [],
   "source": [
    "# tfidf\n",
    "tfidf_vectorizer = TfidfVectorizer(ngram_range=(1, 3), analyzer=\"char_wb\", min_df=10, max_df=0.5)\n",
    "tfidf_X_train = tfidf_vectorizer.fit_transform(candidate_names_train)\n",
    "tfidf_X_test = tfidf_vectorizer.transform(candidate_names_test)\n",
    "tfidf_X_sample = vstack((tfidf_X_train, tfidf_X_test)) if config.sample_all_names else tfidf_X_test"
   ]
  },
  {
   "cell_type": "code",
   "execution_count": null,
   "id": "33874b68",
   "metadata": {
    "pycharm": {
     "name": "#%%\n"
    }
   },
   "outputs": [],
   "source": [
    "device = torch.device(\"cuda:0\" if torch.cuda.is_available() else \"cpu\")\n",
    "print(device)"
   ]
  },
  {
   "cell_type": "code",
   "execution_count": null,
   "id": "c6f21e7a",
   "metadata": {
    "lines_to_next_cell": 2,
    "pycharm": {
     "name": "#%%\n"
    }
   },
   "outputs": [],
   "source": [
    "# autoencoder with triplet loss\n",
    "triplet_model = torch.load(fopen(config.triplet_model_path, \"rb\"), map_location=torch.device(device))"
   ]
  },
  {
   "cell_type": "code",
   "execution_count": null,
   "id": "731048b1",
   "metadata": {
    "pycharm": {
     "name": "#%%\n"
    }
   },
   "outputs": [],
   "source": [
    "SimilarityAlgo = namedtuple(\"SimilarityAlgo\", \"name min_threshold max_threshold distances\")\n",
    "similarity_algos = [\n",
    "    SimilarityAlgo(\"tfidf\", 0.5, 1.0, False),\n",
    "    SimilarityAlgo(\"levenshtein\", 0.5, 1.0, False),\n",
    "    SimilarityAlgo(\"damerau_levenshtein\", 0.5, 1.0, False),\n",
    "    SimilarityAlgo(\"jaro_winkler\", 0.5, 1.0, False),\n",
    "    SimilarityAlgo(\"triplet\", 0.01, 1.0, True),\n",
    "]"
   ]
  },
  {
   "cell_type": "code",
   "execution_count": null,
   "id": "ef94be3a",
   "metadata": {},
   "outputs": [],
   "source": [
    "def calc_similarity_to(name, algo=\"levenshtein\"):\n",
    "    name = remove_padding(name)\n",
    "\n",
    "    def calc_similarity(row):\n",
    "        cand_name = remove_padding(row[0])\n",
    "        similarity = 0.0\n",
    "        if algo == \"levenshtein\":\n",
    "            dist = jellyfish.levenshtein_distance(name, cand_name)\n",
    "            similarity = 1 - (dist / max(len(name), len(cand_name)))\n",
    "        elif algo == \"damerau_levenshtein\":\n",
    "            dist = jellyfish.damerau_levenshtein_distance(name, cand_name)\n",
    "            similarity = 1 - (dist / max(len(name), len(cand_name)))\n",
    "        elif algo == \"jaro_winkler\":\n",
    "            similarity = jellyfish.jaro_winkler_similarity(name, cand_name)\n",
    "\n",
    "        return similarity\n",
    "\n",
    "    return calc_similarity"
   ]
  },
  {
   "cell_type": "markdown",
   "id": "fa9ca8a8",
   "metadata": {},
   "source": [
    "#### Similarity Function"
   ]
  },
  {
   "cell_type": "code",
   "execution_count": null,
   "id": "d161b01c",
   "metadata": {},
   "outputs": [],
   "source": [
    "def get_similars(shared, name=\"\"):\n",
    "    candidate_names_sample, k, algo, tfidf_vectorizer, tfidf_X_sample = shared\n",
    "    if algo == \"tfidf\":\n",
    "        x = tfidf_vectorizer.transform([name]).toarray()\n",
    "        scores = safe_sparse_dot(tfidf_X_sample, x.T).flatten()\n",
    "    else:\n",
    "        scores = np.apply_along_axis(calc_similarity_to(name, algo), 1, candidate_names_sample[:, None])\n",
    "    sorted_scores_idx = np.argsort(scores)[::-1][:k]\n",
    "    candidate_names = candidate_names_sample[sorted_scores_idx]\n",
    "    candidate_scores = scores[sorted_scores_idx]\n",
    "\n",
    "    return list(zip(candidate_names, candidate_scores))"
   ]
  },
  {
   "cell_type": "markdown",
   "id": "f67b3a80",
   "metadata": {},
   "source": [
    "#### Demo"
   ]
  },
  {
   "cell_type": "code",
   "execution_count": null,
   "id": "819b26ee",
   "metadata": {},
   "outputs": [],
   "source": [
    "probe_name = \"<bostelman>\" if given_surname == \"surname\" else \"<richard>\"\n",
    "get_similars((candidate_names_sample, 10, \"levenshtein\", None, None), probe_name)"
   ]
  },
  {
   "cell_type": "markdown",
   "id": "4e8ed5a6",
   "metadata": {
    "pycharm": {
     "name": "#%% md\n"
    }
   },
   "source": [
    "## Test tfidf"
   ]
  },
  {
   "cell_type": "code",
   "execution_count": null,
   "id": "14b204f4",
   "metadata": {
    "pycharm": {
     "name": "#%%\n"
    }
   },
   "outputs": [],
   "source": [
    "probe_name = \"<schumacher>\" if given_surname == \"surname\" else \"<richard>\"\n",
    "get_similars((candidate_names_sample, 10, \"tfidf\", tfidf_vectorizer, tfidf_X_sample), probe_name)"
   ]
  },
  {
   "cell_type": "markdown",
   "id": "a922cf35",
   "metadata": {},
   "source": [
    "## Test levenshtein"
   ]
  },
  {
   "cell_type": "code",
   "execution_count": null,
   "id": "343b3d17",
   "metadata": {
    "pycharm": {
     "name": "#%%\n"
    }
   },
   "outputs": [],
   "source": [
    "ix = 251\n",
    "input_names_test[ix]"
   ]
  },
  {
   "cell_type": "code",
   "execution_count": null,
   "id": "c3ffd316",
   "metadata": {
    "pycharm": {
     "name": "#%%\n"
    }
   },
   "outputs": [],
   "source": [
    "weighted_actual_names_test[ix]"
   ]
  },
  {
   "cell_type": "code",
   "execution_count": null,
   "id": "98023c07",
   "metadata": {
    "pycharm": {
     "name": "#%%\n"
    }
   },
   "outputs": [],
   "source": [
    "k = 100  # Number of candidates to consider\n",
    "similar_names_scores = [get_similars((candidate_names_sample, k, \"levenshtein\", None, None), input_names_test[ix])]\n",
    "similar_names_scores[0][:5]"
   ]
  },
  {
   "cell_type": "code",
   "execution_count": null,
   "id": "c042aa47",
   "metadata": {
    "pycharm": {
     "name": "#%%\n"
    }
   },
   "outputs": [],
   "source": [
    "similar_names_scores = similar_names_scores_to_ndarray(similar_names_scores)"
   ]
  },
  {
   "cell_type": "code",
   "execution_count": null,
   "id": "69a44830",
   "metadata": {
    "pycharm": {
     "name": "#%%\n"
    }
   },
   "outputs": [],
   "source": [
    "metrics.weighted_recall_at_threshold(weighted_actual_names_test[ix], similar_names_scores[0], 0.85)"
   ]
  },
  {
   "cell_type": "code",
   "execution_count": null,
   "id": "f4275913",
   "metadata": {
    "pycharm": {
     "name": "#%%\n"
    }
   },
   "outputs": [],
   "source": [
    "metrics.weighted_recall_at_threshold(weighted_actual_names_test[ix], similar_names_scores[0], 0.75)"
   ]
  },
  {
   "cell_type": "markdown",
   "id": "7b5f379a",
   "metadata": {},
   "source": [
    "# Evaluate each algorithm"
   ]
  },
  {
   "cell_type": "code",
   "execution_count": null,
   "id": "bfbaefd7",
   "metadata": {
    "pycharm": {
     "name": "#%%\n"
    }
   },
   "outputs": [],
   "source": [
    "k = 1000  # Number of candidates to consider\n",
    "n_pr_jobs = 16  # Number of jobs for precision_weighted_recall_at_thrshold\n",
    "\n",
    "actual_names_sample = [[name for name, _, _ in name_weights] for name_weights in weighted_actual_names_sample]\n",
    "figure, ax = plt.subplots(1, 1, figsize=(20, 15))\n",
    "ax.set_title(\"PR at threshold\")\n",
    "colors = cm.rainbow(np.linspace(0, 1, len(similarity_algos)))\n",
    "\n",
    "for algo, color in zip(similarity_algos, colors):\n",
    "    print(algo.name)\n",
    "    if algo.name == \"triplet\":\n",
    "        similar_names_scores = eval_triplet(triplet_model, input_names_sample, candidate_names_sample, k, 512)\n",
    "    else:\n",
    "        with WorkerPool(\n",
    "            shared_objects=(candidate_names_sample, k, algo.name, tfidf_vectorizer, tfidf_X_sample)\n",
    "        ) as pool:\n",
    "            similar_names_scores = pool.map(get_similars, input_names_sample, progress_bar=True)\n",
    "        similar_names_scores = similar_names_scores_to_ndarray(similar_names_scores)\n",
    "    precisions, recalls = metrics.precision_weighted_recall_at_threshold(\n",
    "        weighted_actual_names_sample,\n",
    "        similar_names_scores,\n",
    "        min_threshold=algo.min_threshold,\n",
    "        max_threshold=algo.max_threshold,\n",
    "        distances=algo.distances,\n",
    "        n_jobs=n_pr_jobs,\n",
    "        progress_bar=True,\n",
    "    )\n",
    "    ax.plot(recalls, precisions, \"o--\", color=color, label=algo.name)\n",
    "\n",
    "ax.legend()\n",
    "plt.xlim([0, 1.0])\n",
    "plt.ylim([0, 1.0])\n",
    "plt.show()"
   ]
  },
  {
   "cell_type": "code",
   "execution_count": null,
   "id": "8b9df5ee",
   "metadata": {
    "pycharm": {
     "name": "#%%\n"
    }
   },
   "outputs": [],
   "source": [
    "wandb.finish()"
   ]
  }
 ],
 "metadata": {
  "kernelspec": {
   "display_name": "nama",
   "language": "python",
   "name": "nama"
  }
 },
 "nbformat": 4,
 "nbformat_minor": 5
}
