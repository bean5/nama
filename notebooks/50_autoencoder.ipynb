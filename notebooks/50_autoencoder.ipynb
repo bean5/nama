{
 "cells": [
  {
   "cell_type": "code",
   "execution_count": null,
   "id": "3d9657a5",
   "metadata": {},
   "outputs": [],
   "source": [
    "%load_ext autoreload\n",
    "%autoreload 2"
   ]
  },
  {
   "cell_type": "code",
   "execution_count": null,
   "id": "bc6c394f",
   "metadata": {},
   "outputs": [],
   "source": [
    "from collections import namedtuple\n",
    "import torch\n",
    "import numpy as np\n",
    "import wandb\n",
    "\n",
    "from src.data import constants\n",
    "from src.data.filesystem import fopen\n",
    "from src.data.utils import load_train_test\n",
    "from src.eval import metrics\n",
    "from src.eval.encoder import eval_encoder\n",
    "from src.models import utils\n",
    "from src.models.autoencoder import AutoEncoder, train_model"
   ]
  },
  {
   "cell_type": "code",
   "execution_count": null,
   "id": "fe07a9a0",
   "metadata": {
    "pycharm": {
     "name": "#%%\n"
    }
   },
   "outputs": [],
   "source": [
    "given_surname = \"surname\"\n",
    "size = \"freq\"\n",
    "Config = namedtuple(\"Config\", \"size train_path test_path model_path\")\n",
    "config = Config(\n",
    "    size=size,\n",
    "    train_path=f\"s3://familysearch-names/processed/tree-hr-{given_surname}-similar-train-{size}.csv.gz\",\n",
    "    test_path=f\"s3://familysearch-names/processed/tree-hr-{given_surname}-similar-test-{size}.csv.gz\",\n",
    "    model_path=f\"s3://nama-data/data/models/fs-{size}-autoencoder-bilstm-100-512.pth\"\n",
    ")"
   ]
  },
  {
   "cell_type": "code",
   "execution_count": null,
   "id": "b6504bec",
   "metadata": {
    "pycharm": {
     "name": "#%%\n"
    }
   },
   "outputs": [],
   "source": [
    "wandb.init(\n",
    "    project=\"nama\",\n",
    "    entity=\"nama\",\n",
    "    name=\"50_autoencoder\",\n",
    "    group=given_surname,\n",
    "    notes=\"\",\n",
    "    config=config._asdict()\n",
    ")"
   ]
  },
  {
   "cell_type": "code",
   "execution_count": null,
   "id": "97eab92e",
   "metadata": {},
   "outputs": [],
   "source": [
    "MAX_NAME_LENGTH = 30\n",
    "char_to_idx_map, idx_to_char_map = utils.build_token_idx_maps()"
   ]
  },
  {
   "cell_type": "markdown",
   "id": "14199ba3",
   "metadata": {},
   "source": [
    "### Load data"
   ]
  },
  {
   "cell_type": "code",
   "execution_count": null,
   "id": "ed493526",
   "metadata": {},
   "outputs": [],
   "source": [
    "train, test = load_train_test([config.train_path, config.test_path])\n",
    "_, _, candidate_names_train = train\n",
    "input_names_test, weighted_actual_names_test, candidate_names_test = test\n",
    "\n",
    "actual_names_test = [[name for name, _, _ in name_weights] for name_weights in weighted_actual_names_test]\n",
    "\n",
    "candidate_names_all = np.concatenate((candidate_names_train, candidate_names_test))"
   ]
  },
  {
   "cell_type": "markdown",
   "id": "4e4a06d6",
   "metadata": {},
   "source": [
    "### Convert names to ids"
   ]
  },
  {
   "cell_type": "code",
   "execution_count": null,
   "id": "6e68ab54",
   "metadata": {},
   "outputs": [],
   "source": [
    "# Prepare data for training\n",
    "# inputs and targets have the same data just in different representations 1-hot vs normal sequences\n",
    "candidate_names_train_X, candidate_names_train_y = utils.convert_names_to_model_inputs(\n",
    "    candidate_names_train, char_to_idx_map, MAX_NAME_LENGTH\n",
    ")"
   ]
  },
  {
   "cell_type": "code",
   "execution_count": null,
   "id": "14887cde",
   "metadata": {},
   "outputs": [],
   "source": [
    "print(candidate_names_train_X.shape, candidate_names_train_y.shape)"
   ]
  },
  {
   "cell_type": "markdown",
   "id": "3daff526",
   "metadata": {},
   "source": [
    "### Model"
   ]
  },
  {
   "cell_type": "code",
   "execution_count": null,
   "id": "59ad7294",
   "metadata": {},
   "outputs": [],
   "source": [
    "device = torch.device(\"cuda:0\" if torch.cuda.is_available() else \"cpu\")\n",
    "print(device)"
   ]
  },
  {
   "cell_type": "code",
   "execution_count": null,
   "id": "d3d4a3ae",
   "metadata": {},
   "outputs": [],
   "source": [
    "model = AutoEncoder(\n",
    "    input_size=constants.VOCAB_SIZE + 1, hidden_size=100, num_layers=1, seq_len=MAX_NAME_LENGTH, device=device\n",
    ")"
   ]
  },
  {
   "cell_type": "code",
   "execution_count": null,
   "id": "562b1c45",
   "metadata": {},
   "outputs": [],
   "source": [
    "train_model(model, candidate_names_train_X, candidate_names_train_y, 100, 512)"
   ]
  },
  {
   "cell_type": "code",
   "execution_count": null,
   "id": "e5d19b13",
   "metadata": {},
   "outputs": [],
   "source": [
    "torch.save(model, fopen(config.model_path, \"wb\"))"
   ]
  },
  {
   "cell_type": "code",
   "execution_count": null,
   "id": "32657423",
   "metadata": {},
   "outputs": [],
   "source": [
    "model = torch.load(fopen(config.model_path, \"rb\"), map_location=torch.device(device))"
   ]
  },
  {
   "cell_type": "markdown",
   "id": "c82dec93",
   "metadata": {},
   "source": [
    "### Understand AutoEncoder"
   ]
  },
  {
   "cell_type": "code",
   "execution_count": null,
   "id": "b5cb2bdb",
   "metadata": {},
   "outputs": [],
   "source": [
    "loss_fn = torch.nn.CrossEntropyLoss()\n",
    "dataset_train = torch.utils.data.TensorDataset(candidate_names_train_X, candidate_names_train_y)\n",
    "data_loader = torch.utils.data.DataLoader(dataset_train, batch_size=512, shuffle=True)"
   ]
  },
  {
   "cell_type": "code",
   "execution_count": null,
   "id": "429592c4",
   "metadata": {},
   "outputs": [],
   "source": [
    "X, y = next(iter(data_loader))\n",
    "print(X.shape, y.shape)"
   ]
  },
  {
   "cell_type": "code",
   "execution_count": null,
   "id": "b07226f0",
   "metadata": {},
   "outputs": [],
   "source": [
    "model.zero_grad()\n",
    "# Encode(input,hidden) -> (batch,seq,dirs*hidden), ((dirs*layers,batch,hidden),(dirs*layers,batch,hidden)) - x_encoded is the last hidden state\n",
    "_, (x_encoded, _) = model.lstm_encoder(X.to(device))\n",
    "print(x_encoded.shape)"
   ]
  },
  {
   "cell_type": "code",
   "execution_count": null,
   "id": "e48400fa",
   "metadata": {},
   "outputs": [],
   "source": [
    "# Concatenate left-right hidden vectors\n",
    "x_encoded = torch.cat([x_encoded[0], x_encoded[1]], dim=1)\n",
    "print(x_encoded.shape)"
   ]
  },
  {
   "cell_type": "code",
   "execution_count": null,
   "id": "c4cd4040",
   "metadata": {},
   "outputs": [],
   "source": [
    "# Reshape data to have seq_len time steps\n",
    "# TODO why do we copy x_encoded to every time step?\n",
    "x_encoded = x_encoded.unsqueeze(1).repeat(1, MAX_NAME_LENGTH, 1)\n",
    "print(x_encoded.shape)"
   ]
  },
  {
   "cell_type": "code",
   "execution_count": null,
   "id": "32289059",
   "metadata": {},
   "outputs": [],
   "source": [
    "# Decode(hidden*dirs,hidden) -> (batch,seq,dirs*hidden), ((dirs*layers,batch,hidden),(dirs*layers,batch,hidden)) - x_decoded is the output\n",
    "x_decoded, (_, _) = model.lstm_decoder(x_encoded)\n",
    "print(x_decoded.shape)"
   ]
  },
  {
   "cell_type": "code",
   "execution_count": null,
   "id": "bd528b1a",
   "metadata": {},
   "outputs": [],
   "source": [
    "# linear layer(hidden,input) predicts characters\n",
    "x_prime = model.linear(x_decoded)\n",
    "print(x_prime.shape)"
   ]
  },
  {
   "cell_type": "code",
   "execution_count": null,
   "id": "c8192f11",
   "metadata": {},
   "outputs": [],
   "source": [
    "# Reshape output to match CrossEntropyLoss input\n",
    "x_prime = x_prime.transpose(1, -1)\n",
    "print(x_prime.shape)"
   ]
  },
  {
   "cell_type": "code",
   "execution_count": null,
   "id": "58189c73",
   "metadata": {},
   "outputs": [],
   "source": [
    "# Compute loss (batch,classes,seq), (batch,seq)\n",
    "loss = loss_fn(x_prime, y.to(device))\n",
    "print(loss)"
   ]
  },
  {
   "cell_type": "markdown",
   "id": "e3c6fd69",
   "metadata": {},
   "source": [
    "### Evaluation"
   ]
  },
  {
   "cell_type": "code",
   "execution_count": null,
   "id": "f0077927",
   "metadata": {
    "pycharm": {
     "name": "#%%\n"
    }
   },
   "outputs": [],
   "source": [
    "batch_size = 512"
   ]
  },
  {
   "cell_type": "code",
   "execution_count": null,
   "id": "192b14f7",
   "metadata": {},
   "outputs": [],
   "source": [
    "# Get Embeddings for the names from the encoder\n",
    "candidate_names_train_encoded = eval_encoder(model, candidate_names_train_X, batch_size)"
   ]
  },
  {
   "cell_type": "code",
   "execution_count": null,
   "id": "62a4301f",
   "metadata": {},
   "outputs": [],
   "source": [
    "print(candidate_names_train_X.shape)\n",
    "print(candidate_names_train_encoded.shape)"
   ]
  },
  {
   "cell_type": "code",
   "execution_count": null,
   "id": "5b93bd85",
   "metadata": {},
   "outputs": [],
   "source": [
    "# Convert test name inputs to correct format\n",
    "input_names_test_X, input_names_test_y = utils.convert_names_to_model_inputs(\n",
    "    input_names_test, char_to_idx_map, MAX_NAME_LENGTH\n",
    ")\n",
    "# Get Embeddings for the names from the encoder\n",
    "input_names_test_encoded = eval_encoder(model, input_names_test_X, batch_size)"
   ]
  },
  {
   "cell_type": "code",
   "execution_count": null,
   "id": "cd5a94d7",
   "metadata": {},
   "outputs": [],
   "source": [
    "print(input_names_test_X.shape, input_names_test_y.shape)\n",
    "print(input_names_test_encoded.shape)"
   ]
  },
  {
   "cell_type": "code",
   "execution_count": null,
   "id": "4e446169",
   "metadata": {},
   "outputs": [],
   "source": [
    "# Get embeddings for all candidate names (train + test)\n",
    "candidate_names_test_X, _ = utils.convert_names_to_model_inputs(candidate_names_test, char_to_idx_map, MAX_NAME_LENGTH)\n",
    "candidate_names_test_encoded = eval_encoder(model, candidate_names_test_X, batch_size)"
   ]
  },
  {
   "cell_type": "code",
   "execution_count": null,
   "id": "9a9f8219",
   "metadata": {},
   "outputs": [],
   "source": [
    "print(candidate_names_test_X.shape)\n",
    "print(candidate_names_test_encoded.shape)"
   ]
  },
  {
   "cell_type": "code",
   "execution_count": null,
   "id": "3bf8d81e",
   "metadata": {},
   "outputs": [],
   "source": [
    "candidate_names_all_encoded = np.vstack((candidate_names_train_encoded, candidate_names_test_encoded))"
   ]
  },
  {
   "cell_type": "code",
   "execution_count": null,
   "id": "4283750f",
   "metadata": {},
   "outputs": [],
   "source": [
    "print(candidate_names_all_encoded.shape)"
   ]
  },
  {
   "cell_type": "code",
   "execution_count": null,
   "id": "bcbb6fa7",
   "metadata": {},
   "outputs": [],
   "source": [
    "k = 100\n",
    "candidate_names_scores = utils.get_best_matches(\n",
    "    input_names_test_encoded, candidate_names_all_encoded, candidate_names_all, num_candidates=k\n",
    ")\n",
    "print(candidate_names_scores.shape)\n",
    "print(candidate_names_scores[0, 0, 0])\n",
    "print(candidate_names_scores[0, 0, 1])"
   ]
  },
  {
   "cell_type": "code",
   "execution_count": null,
   "id": "ccc15e8f",
   "metadata": {},
   "outputs": [],
   "source": [
    "candidate_names = candidate_names_scores[:, :, 0]\n",
    "print(candidate_names.shape)"
   ]
  },
  {
   "cell_type": "markdown",
   "id": "39832f72",
   "metadata": {},
   "source": [
    "### Demo"
   ]
  },
  {
   "cell_type": "code",
   "execution_count": null,
   "id": "24d665cc",
   "metadata": {},
   "outputs": [],
   "source": [
    "test_name_X = [\"<schumacher>\"]\n",
    "test_name_X, _ = utils.convert_names_to_model_inputs(test_name_X, char_to_idx_map, MAX_NAME_LENGTH)\n",
    "test_name_embedding = model(test_name_X, just_encoder=True).detach().numpy()\n",
    "\n",
    "print(utils.get_best_matches(test_name_embedding, candidate_names_all_encoded, candidate_names_all, num_candidates=10))"
   ]
  },
  {
   "cell_type": "markdown",
   "id": "f6110d5f",
   "metadata": {},
   "source": [
    "## Evaluate using weighted relevant names and score thresholds"
   ]
  },
  {
   "cell_type": "markdown",
   "id": "4a4d4cae",
   "metadata": {},
   "source": [
    "### Average precision at 0.97"
   ]
  },
  {
   "cell_type": "code",
   "execution_count": null,
   "id": "18c90d94",
   "metadata": {},
   "outputs": [],
   "source": [
    "metrics.avg_precision_at_threshold(weighted_actual_names_test, candidate_names_scores, 0.97)"
   ]
  },
  {
   "cell_type": "markdown",
   "id": "40928417",
   "metadata": {},
   "source": [
    "### Average recall at 0.97"
   ]
  },
  {
   "cell_type": "code",
   "execution_count": null,
   "id": "edd38d97",
   "metadata": {},
   "outputs": [],
   "source": [
    "metrics.avg_weighted_recall_at_threshold(weighted_actual_names_test, candidate_names_scores, 0.97)"
   ]
  },
  {
   "cell_type": "markdown",
   "id": "5bd0eaba",
   "metadata": {},
   "source": [
    "### PR Curve"
   ]
  },
  {
   "cell_type": "code",
   "execution_count": null,
   "id": "9ff02415",
   "metadata": {},
   "outputs": [],
   "source": [
    "# minimum score threshold to test\n",
    "min_threshold = 0.5\n",
    "metrics.precision_weighted_recall_curve_at_threshold(weighted_actual_names_test, candidate_names_scores, min_threshold)"
   ]
  },
  {
   "cell_type": "markdown",
   "id": "19bd26d8",
   "metadata": {},
   "source": [
    "### AUC"
   ]
  },
  {
   "cell_type": "code",
   "execution_count": null,
   "id": "85a4ffd9",
   "metadata": {},
   "outputs": [],
   "source": [
    "metrics.get_auc(weighted_actual_names_test, candidate_names_scores)"
   ]
  },
  {
   "cell_type": "code",
   "execution_count": null,
   "id": "745ac7bc",
   "metadata": {},
   "outputs": [],
   "source": []
  },
  {
   "cell_type": "code",
   "execution_count": null,
   "id": "fddad476",
   "metadata": {
    "pycharm": {
     "name": "#%%\n"
    }
   },
   "outputs": [],
   "source": []
  },
  {
   "cell_type": "code",
   "execution_count": null,
   "id": "d76e5086",
   "metadata": {
    "pycharm": {
     "name": "#%%\n"
    }
   },
   "outputs": [],
   "source": []
  }
 ],
 "metadata": {
  "jupytext": {
   "text_representation": {
    "extension": ".py",
    "format_name": "percent",
    "format_version": "1.3",
    "jupytext_version": "1.13.0"
   }
  },
  "kernelspec": {
   "display_name": "nama",
   "language": "python",
   "name": "nama"
  },
  "language_info": {
   "codemirror_mode": {
    "name": "ipython",
    "version": 3
   },
   "file_extension": ".py",
   "mimetype": "text/x-python",
   "name": "python",
   "nbconvert_exporter": "python",
   "pygments_lexer": "ipython3",
   "version": "3.8.12"
  }
 },
 "nbformat": 4,
 "nbformat_minor": 5
}
