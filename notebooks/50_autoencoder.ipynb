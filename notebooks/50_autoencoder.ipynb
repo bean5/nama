{
 "cells": [
  {
   "cell_type": "code",
   "execution_count": null,
   "id": "da42543f",
   "metadata": {},
   "outputs": [],
   "source": [
    "%load_ext autoreload\n",
    "%autoreload 2"
   ]
  },
  {
   "cell_type": "markdown",
   "id": "608073d2",
   "metadata": {
    "pycharm": {
     "name": "#%% md\n"
    }
   },
   "source": [
    "# Generate an autoencoder model based upon similar name pairs"
   ]
  },
  {
   "cell_type": "code",
   "execution_count": null,
   "id": "0080ad34",
   "metadata": {},
   "outputs": [],
   "source": [
    "from collections import namedtuple\n",
    "import torch\n",
    "import wandb\n",
    "\n",
    "from src.data import constants\n",
    "from src.data.filesystem import fopen\n",
    "from src.data.utils import load_train_test\n",
    "from src.eval import metrics\n",
    "from src.models.autoencoder import train_model, AutoEncoder, MAX_NAME_LENGTH, get_best_autoencoder_matches, convert_names_to_model_inputs"
   ]
  },
  {
   "cell_type": "code",
   "execution_count": null,
   "id": "fd9b1d57",
   "metadata": {
    "pycharm": {
     "name": "#%%\n"
    }
   },
   "outputs": [],
   "source": [
    "given_surname = \"given\"\n",
    "size = \"freq\"\n",
    "Config = namedtuple(\"Config\", \"size train_path test_path model_path\")\n",
    "config = Config(\n",
    "    size=size,\n",
    "    train_path=f\"s3://familysearch-names/processed/tree-hr-{given_surname}-similar-train-{size}.csv.gz\",\n",
    "    test_path=f\"s3://familysearch-names/processed/tree-hr-{given_surname}-similar-test-{size}.csv.gz\",\n",
    "    model_path=f\"s3://nama-data/data/models/fs-{given_surname}-{size}-autoencoder-bilstm-100-512.pth\"\n",
    ")"
   ]
  },
  {
   "cell_type": "code",
   "execution_count": null,
   "id": "30c57ff8",
   "metadata": {
    "pycharm": {
     "name": "#%%\n"
    }
   },
   "outputs": [],
   "source": [
    "wandb.init(\n",
    "    project=\"nama\",\n",
    "    entity=\"nama\",\n",
    "    name=\"50_autoencoder\",\n",
    "    group=given_surname,\n",
    "    notes=\"\",\n",
    "    config=config._asdict()\n",
    ")"
   ]
  },
  {
   "cell_type": "markdown",
   "id": "607823ae",
   "metadata": {},
   "source": [
    "### Load data"
   ]
  },
  {
   "cell_type": "code",
   "execution_count": null,
   "id": "78560ff1",
   "metadata": {},
   "outputs": [],
   "source": [
    "train, test = load_train_test([config.train_path, config.test_path])\n",
    "\n",
    "_, _, candidate_names_train = train\n",
    "input_names_test, weighted_actual_names_test, candidate_names_test = test"
   ]
  },
  {
   "cell_type": "markdown",
   "id": "9d7390c3",
   "metadata": {},
   "source": [
    "### Convert names to ids"
   ]
  },
  {
   "cell_type": "code",
   "execution_count": null,
   "id": "33dc9a05",
   "metadata": {},
   "outputs": [],
   "source": [
    "# Prepare data for training\n",
    "# inputs and targets have the same data just in different representations 1-hot vs normal sequences\n",
    "candidate_names_train_X, candidate_names_train_y = convert_names_to_model_inputs(\n",
    "    candidate_names_train\n",
    ")"
   ]
  },
  {
   "cell_type": "code",
   "execution_count": null,
   "id": "b47bbfc9",
   "metadata": {},
   "outputs": [],
   "source": [
    "print(candidate_names_train_X.shape, candidate_names_train_y.shape)"
   ]
  },
  {
   "cell_type": "markdown",
   "id": "53e14db0",
   "metadata": {},
   "source": [
    "### Model"
   ]
  },
  {
   "cell_type": "code",
   "execution_count": null,
   "id": "61d8e828",
   "metadata": {},
   "outputs": [],
   "source": [
    "device = torch.device(\"cuda:0\" if torch.cuda.is_available() else \"cpu\")\n",
    "print(device)"
   ]
  },
  {
   "cell_type": "code",
   "execution_count": null,
   "id": "56c827ec",
   "metadata": {},
   "outputs": [],
   "source": [
    "model = AutoEncoder(\n",
    "    input_size=constants.VOCAB_SIZE + 1, hidden_size=100, num_layers=1, device=device\n",
    ")"
   ]
  },
  {
   "cell_type": "code",
   "execution_count": null,
   "id": "46c76fc3",
   "metadata": {},
   "outputs": [],
   "source": [
    "train_model(model, candidate_names_train_X, candidate_names_train_y, 100, 512)"
   ]
  },
  {
   "cell_type": "code",
   "execution_count": null,
   "id": "a899cbab",
   "metadata": {},
   "outputs": [],
   "source": [
    "torch.save(model, fopen(config.model_path, \"wb\"))"
   ]
  },
  {
   "cell_type": "code",
   "execution_count": null,
   "id": "99987ebb",
   "metadata": {},
   "outputs": [],
   "source": [
    "model = torch.load(fopen(config.model_path, \"rb\"), map_location=torch.device(device))"
   ]
  },
  {
   "cell_type": "markdown",
   "id": "69ec24bc",
   "metadata": {},
   "source": [
    "### Understand AutoEncoder"
   ]
  },
  {
   "cell_type": "code",
   "execution_count": null,
   "id": "5ff9847b",
   "metadata": {},
   "outputs": [],
   "source": [
    "loss_fn = torch.nn.CrossEntropyLoss()\n",
    "dataset_train = torch.utils.data.TensorDataset(candidate_names_train_X, candidate_names_train_y)\n",
    "data_loader = torch.utils.data.DataLoader(dataset_train, batch_size=512, shuffle=True)"
   ]
  },
  {
   "cell_type": "code",
   "execution_count": null,
   "id": "95875b6f",
   "metadata": {},
   "outputs": [],
   "source": [
    "X, y = next(iter(data_loader))\n",
    "print(X.shape, y.shape)"
   ]
  },
  {
   "cell_type": "code",
   "execution_count": null,
   "id": "9cf5fb5d",
   "metadata": {},
   "outputs": [],
   "source": [
    "model.zero_grad()\n",
    "# Encode(input,hidden) -> (batch,seq,dirs*hidden), ((dirs*layers,batch,hidden),(dirs*layers,batch,hidden)) - x_encoded is the last hidden state\n",
    "_, (x_encoded, _) = model.lstm_encoder(X.to(device))\n",
    "print(x_encoded.shape)"
   ]
  },
  {
   "cell_type": "code",
   "execution_count": null,
   "id": "6d946b47",
   "metadata": {},
   "outputs": [],
   "source": [
    "# Concatenate left-right hidden vectors\n",
    "x_encoded = torch.cat([x_encoded[0], x_encoded[1]], dim=1)\n",
    "print(x_encoded.shape)"
   ]
  },
  {
   "cell_type": "code",
   "execution_count": null,
   "id": "7f56269e",
   "metadata": {},
   "outputs": [],
   "source": [
    "# Reshape data to have seq_len time steps\n",
    "# TODO why do we copy x_encoded to every time step?\n",
    "x_encoded = x_encoded.unsqueeze(1).repeat(1, MAX_NAME_LENGTH, 1)\n",
    "print(x_encoded.shape)"
   ]
  },
  {
   "cell_type": "code",
   "execution_count": null,
   "id": "2e31d281",
   "metadata": {},
   "outputs": [],
   "source": [
    "# Decode(hidden*dirs,hidden) -> (batch,seq,dirs*hidden), ((dirs*layers,batch,hidden),(dirs*layers,batch,hidden)) - x_decoded is the output\n",
    "x_decoded, (_, _) = model.lstm_decoder(x_encoded)\n",
    "print(x_decoded.shape)"
   ]
  },
  {
   "cell_type": "code",
   "execution_count": null,
   "id": "d6eb5461",
   "metadata": {},
   "outputs": [],
   "source": [
    "# linear layer(hidden,input) predicts characters\n",
    "x_prime = model.linear(x_decoded)\n",
    "print(x_prime.shape)"
   ]
  },
  {
   "cell_type": "code",
   "execution_count": null,
   "id": "3d753fec",
   "metadata": {},
   "outputs": [],
   "source": [
    "# Reshape output to match CrossEntropyLoss input\n",
    "x_prime = x_prime.transpose(1, -1)\n",
    "print(x_prime.shape)"
   ]
  },
  {
   "cell_type": "code",
   "execution_count": null,
   "id": "7b38c06d",
   "metadata": {},
   "outputs": [],
   "source": [
    "# Compute loss (batch,classes,seq), (batch,seq)\n",
    "loss = loss_fn(x_prime, y.to(device))\n",
    "print(loss)"
   ]
  },
  {
   "cell_type": "markdown",
   "id": "d7aa4171",
   "metadata": {},
   "source": [
    "### Test"
   ]
  },
  {
   "cell_type": "code",
   "execution_count": null,
   "id": "a859a4a6",
   "metadata": {},
   "outputs": [],
   "source": [
    "test_name = [\"<schumacher>\"]\n",
    "print(get_best_autoencoder_matches(model, test_name, candidate_names_test, k=10))"
   ]
  },
  {
   "cell_type": "markdown",
   "id": "e304380c",
   "metadata": {},
   "source": [
    "### Evaluation"
   ]
  },
  {
   "cell_type": "code",
   "execution_count": null,
   "id": "90fdfc0c",
   "metadata": {
    "pycharm": {
     "name": "#%%\n"
    }
   },
   "outputs": [],
   "source": [
    "batch_size = 512"
   ]
  },
  {
   "cell_type": "code",
   "execution_count": null,
   "id": "e341afef",
   "metadata": {},
   "outputs": [],
   "source": [
    "k = 100\n",
    "best_matches = get_best_autoencoder_matches(model, input_names_test, candidate_names_test, k, batch_size)\n",
    "print(best_matches.shape)\n",
    "print(best_matches[0, 0, 0])\n",
    "print(best_matches[0, 0, 1])"
   ]
  },
  {
   "cell_type": "code",
   "execution_count": null,
   "id": "e983688f",
   "metadata": {},
   "outputs": [],
   "source": [
    "best_matches_names = best_matches[:, :, 0]\n",
    "print(best_matches_names.shape)"
   ]
  },
  {
   "cell_type": "markdown",
   "id": "11ffa393",
   "metadata": {},
   "source": [
    "### PR Curve"
   ]
  },
  {
   "cell_type": "code",
   "execution_count": null,
   "id": "4c96cca9",
   "metadata": {},
   "outputs": [],
   "source": [
    "# minimum score threshold to test\n",
    "min_threshold = 0.5\n",
    "max_threshold = 5.0\n",
    "metrics.precision_weighted_recall_curve_at_threshold(weighted_actual_names_test, best_matches, \n",
    "                                                     min_threshold, max_threshold, step=0.05, distances=True)"
   ]
  },
  {
   "cell_type": "markdown",
   "id": "6f60aeb7",
   "metadata": {},
   "source": [
    "### AUC"
   ]
  },
  {
   "cell_type": "code",
   "execution_count": null,
   "id": "f4d29ced",
   "metadata": {},
   "outputs": [],
   "source": [
    "metrics.get_auc(weighted_actual_names_test, best_matches)"
   ]
  },
  {
   "cell_type": "markdown",
   "id": "e1cafc90",
   "metadata": {},
   "source": [
    "### Precision and recall at a threshold"
   ]
  },
  {
   "cell_type": "code",
   "execution_count": null,
   "id": "877384b0",
   "metadata": {},
   "outputs": [],
   "source": [
    "threshold = 0.97\n",
    "print(\n",
    "    \"precision\",\n",
    "    metrics.avg_precision_at_threshold(weighted_actual_names_test, best_matches, threshold=threshold, distances=True),\n",
    ")\n",
    "print(\n",
    "    \"recall\",\n",
    "    metrics.avg_weighted_recall_at_threshold(\n",
    "        weighted_actual_names_test, best_matches, threshold=threshold, distances=True\n",
    "    ),\n",
    ")"
   ]
  },
  {
   "cell_type": "code",
   "execution_count": null,
   "id": "5f19382e",
   "metadata": {},
   "outputs": [],
   "source": [
    "wandb.finish()"
   ]
  },
  {
   "cell_type": "code",
   "execution_count": null,
   "id": "e6919385",
   "metadata": {
    "pycharm": {
     "name": "#%%\n"
    }
   },
   "outputs": [],
   "source": []
  },
  {
   "cell_type": "code",
   "execution_count": null,
   "id": "47d75b37",
   "metadata": {
    "pycharm": {
     "name": "#%%\n"
    }
   },
   "outputs": [],
   "source": []
  }
 ],
 "metadata": {
  "kernelspec": {
   "display_name": "nama",
   "language": "python",
   "name": "nama"
  },
  "language_info": {
   "codemirror_mode": {
    "name": "ipython",
    "version": 3
   },
   "file_extension": ".py",
   "mimetype": "text/x-python",
   "name": "python",
   "nbconvert_exporter": "python",
   "pygments_lexer": "ipython3",
   "version": "3.8.12"
  }
 },
 "nbformat": 4,
 "nbformat_minor": 5
}
