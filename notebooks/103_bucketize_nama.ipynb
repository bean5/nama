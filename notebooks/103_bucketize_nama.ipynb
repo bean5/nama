{
 "cells": [
  {
   "cell_type": "code",
   "execution_count": null,
   "id": "8837d91e",
   "metadata": {},
   "outputs": [],
   "source": [
    "%load_ext autoreload\n",
    "%autoreload 2"
   ]
  },
  {
   "cell_type": "markdown",
   "id": "8622d4a1",
   "metadata": {},
   "source": [
    "# Analyze nama clusters and nicknames\n",
    "This notebook is just a scratchpad to review nama clusters, nicknames, and compare the nama nicknames to the existing nicknames."
   ]
  },
  {
   "cell_type": "code",
   "execution_count": null,
   "id": "1f94d97f",
   "metadata": {},
   "outputs": [],
   "source": [
    "from collections import defaultdict\n",
    "import gzip\n",
    "import json\n",
    "\n",
    "import boto3\n",
    "import pandas as pd"
   ]
  },
  {
   "cell_type": "code",
   "execution_count": null,
   "id": "c63a44a1",
   "metadata": {},
   "outputs": [],
   "source": [
    "given_surname = \"given\"\n",
    "\n",
    "cluster_path = f\"s3://nama-data/data/models/fs-{given_surname}-cluster-names.csv\"\n",
    "nickname_bucket = \"familysearch-names\"\n",
    "nickname_path = \"processed/givenname_nicknames.csv\"\n",
    "std_given_path = \"/home/dallan/fhd/searchng-standards-wrapper/src/main/resources/std_given.txt\""
   ]
  },
  {
   "cell_type": "markdown",
   "id": "a1e362a2",
   "metadata": {},
   "source": [
    "## Read Clusters"
   ]
  },
  {
   "cell_type": "code",
   "execution_count": null,
   "id": "005d10da",
   "metadata": {},
   "outputs": [],
   "source": [
    "df = pd.read_csv(cluster_path, na_filter=False)\n",
    "print(len(df))\n",
    "df.head(3)"
   ]
  },
  {
   "cell_type": "code",
   "execution_count": null,
   "id": "bb546c0f",
   "metadata": {},
   "outputs": [],
   "source": [
    "name2clusters = defaultdict(set)\n",
    "cluster2names = defaultdict(set)\n",
    "\n",
    "for name, cluster in zip(df['name'], df['cluster']):\n",
    "    name2clusters[name].add(cluster)\n",
    "    cluster2names[cluster].add(name)"
   ]
  },
  {
   "cell_type": "code",
   "execution_count": null,
   "id": "c4433e57",
   "metadata": {},
   "outputs": [],
   "source": [
    "clusters = name2clusters[\"john\"]\n",
    "print(clusters)\n",
    "print(cluster2names[next(iter(clusters))])\n",
    "clusters = name2clusters[\"johhnn\"]\n",
    "print(clusters)\n",
    "if len(clusters) > 0:\n",
    "    print(cluster2names[next(iter(clusters))])"
   ]
  },
  {
   "cell_type": "markdown",
   "id": "84094e89",
   "metadata": {},
   "source": [
    "## Read nicknames"
   ]
  },
  {
   "cell_type": "code",
   "execution_count": null,
   "id": "12c06c13",
   "metadata": {},
   "outputs": [],
   "source": [
    "nicknames = defaultdict(set)\n",
    "if nickname_path:\n",
    "    obj = s3.Object(nickname_bucket, nickname_path)\n",
    "    contents = obj.get()['Body'].read().decode('utf-8')\n",
    "    for ix, line in enumerate(contents.split('\\n')):\n",
    "        line = line.strip()\n",
    "        names = line.split(',')\n",
    "        headname = names[0]\n",
    "        for name in names[1:]:\n",
    "            if name != headname:\n",
    "                nicknames[name].add(headname)"
   ]
  },
  {
   "cell_type": "code",
   "execution_count": null,
   "id": "f5c8480c",
   "metadata": {},
   "outputs": [],
   "source": [
    "print(nicknames['ron'])\n",
    "print(nicknames['abigail'])\n",
    "print(nicknames['abby'])"
   ]
  },
  {
   "cell_type": "markdown",
   "id": "ae9491d5",
   "metadata": {},
   "source": [
    "## Look up standards for a name + nicknames"
   ]
  },
  {
   "cell_type": "code",
   "execution_count": null,
   "id": "ea08c910",
   "metadata": {},
   "outputs": [],
   "source": [
    "def get_standards(name):\n",
    "    standards = set()\n",
    "    lookups = set(name)\n",
    "    if name in nicknames:\n",
    "        lookups.update(nicknames[name])\n",
    "    for lookup in lookups:\n",
    "        if lookup in name2clusters:\n",
    "            standards.update(name2clusters[lookup])\n",
    "    return standards\n"
   ]
  },
  {
   "cell_type": "code",
   "execution_count": null,
   "id": "c604c14c",
   "metadata": {},
   "outputs": [],
   "source": [
    "print(get_standards('ron'))\n",
    "print(get_standards('abigail'))\n",
    "print(get_standards('abby'))"
   ]
  },
  {
   "cell_type": "code",
   "execution_count": null,
   "id": "6404fb36",
   "metadata": {},
   "outputs": [],
   "source": [
    "print(name2clusters['ronald'])\n",
    "print(cluster2names['donald'])"
   ]
  },
  {
   "cell_type": "markdown",
   "id": "f551343a",
   "metadata": {},
   "source": [
    "## Read existing standards"
   ]
  },
  {
   "cell_type": "code",
   "execution_count": null,
   "id": "e9008415",
   "metadata": {},
   "outputs": [],
   "source": [
    "std_nicknames = defaultdict(set)\n",
    "std_nickname_list = []\n",
    "if std_given_path:\n",
    "    with open(std_given_path, 'r', encoding='utf-8') as f:\n",
    "        for line in f.readlines():\n",
    "            line = line.strip()\n",
    "            headnames = set(line.split(':')[0].split(' '))\n",
    "            if len(headnames) > 1:\n",
    "                std_nickname_list.append(headnames)\n",
    "                for headname in headnames:\n",
    "                    std_nicknames[headname].update(headnames - {headname})\n"
   ]
  },
  {
   "cell_type": "code",
   "execution_count": null,
   "id": "4c5a47f2",
   "metadata": {},
   "outputs": [],
   "source": [
    "print(len(std_nickname_list))\n",
    "print(len(std_nicknames))\n",
    "print(std_nicknames['alf'])\n",
    "print(std_nicknames['ron'])"
   ]
  },
  {
   "cell_type": "markdown",
   "id": "3e033581",
   "metadata": {},
   "source": [
    "## Compare existing nicknames to new nicknames"
   ]
  },
  {
   "cell_type": "code",
   "execution_count": null,
   "id": "eedb0d52",
   "metadata": {},
   "outputs": [],
   "source": [
    "total = 0\n",
    "for std_ix, std_nicks in enumerate(std_nickname_list):\n",
    "    # find inclusive match in nickname list\n",
    "    found = False\n",
    "    for nicks in nickname_list:\n",
    "        if len(std_nicks & nicks) > 0 and len(std_nicks - nicks) == 0:\n",
    "            found = True\n",
    "    if found:\n",
    "        continue\n",
    "    # find partial match in nickname list\n",
    "    for ix, nicks in enumerate(nickname_list):\n",
    "        if len(std_nicks & nicks) > 0:\n",
    "            found = True\n",
    "            # if std_nicks has more nicks, print them\n",
    "            if len(std_nicks - nicks) > 0:\n",
    "                print(ix, \"nicks=\", nicks, \" std\", std_ix, \"=\", std_nicks, \" new \", (std_nicks - nicks))\n",
    "    total += 1\n",
    "    if found:\n",
    "        continue\n",
    "    print(std_ix, \"std_nicks\", std_nicks)\n",
    "print(total)"
   ]
  },
  {
   "cell_type": "code",
   "execution_count": null,
   "id": "72f5ff2f",
   "metadata": {},
   "outputs": [],
   "source": []
  }
 ],
 "metadata": {
  "kernelspec": {
   "display_name": "nama",
   "language": "python",
   "name": "nama"
  },
  "language_info": {
   "codemirror_mode": {
    "name": "ipython",
    "version": 3
   },
   "file_extension": ".py",
   "mimetype": "text/x-python",
   "name": "python",
   "nbconvert_exporter": "python",
   "pygments_lexer": "ipython3",
   "version": "3.9.16"
  }
 },
 "nbformat": 4,
 "nbformat_minor": 5
}
