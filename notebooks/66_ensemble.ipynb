{
 "cells": [
  {
   "cell_type": "markdown",
   "id": "50e8b612",
   "metadata": {},
   "source": [
    "## Train an ensemble model over swivel + levenshtein"
   ]
  },
  {
   "cell_type": "code",
   "execution_count": null,
   "id": "896a97b4",
   "metadata": {},
   "outputs": [],
   "source": [
    "%load_ext autoreload\n",
    "%autoreload 2\n",
    "%matplotlib inline"
   ]
  },
  {
   "cell_type": "code",
   "execution_count": null,
   "id": "ad2e0f1b",
   "metadata": {},
   "outputs": [],
   "source": [
    "from collections import namedtuple\n",
    "\n",
    "import joblib\n",
    "import matplotlib.pyplot as plt\n",
    "import numpy as np\n",
    "import pandas as pd\n",
    "import random\n",
    "from sklearn.linear_model import LogisticRegression\n",
    "from sklearn.metrics import auc, PrecisionRecallDisplay, precision_recall_curve\n",
    "from sklearn.model_selection import train_test_split\n",
    "import torch\n",
    "from tqdm import tqdm\n",
    "import wandb\n",
    "\n",
    "from src.data.filesystem import fopen\n",
    "from src.data.utils import load_dataset\n",
    "from src.models.ensemble import featurize\n",
    "from src.models.levenshtein import calc_lev_similarity, get_best_lev_matches\n",
    "from src.models.swivel import SwivelModel, get_best_swivel_matches\n",
    "from src.models.utils import add_padding, remove_padding"
   ]
  },
  {
   "cell_type": "code",
   "execution_count": null,
   "id": "2dfe0578",
   "metadata": {},
   "outputs": [],
   "source": [
    "# config\n",
    "\n",
    "given_surname = \"given\"\n",
    "vocab_size = 610000 if given_surname == \"given\" else 2100000\n",
    "train_sample_size = 40000\n",
    "test_sample_size = 40000\n",
    "neg_sample_rate = 0.50\n",
    "embed_dim = 100\n",
    "num_matches = 4500\n",
    "batch_size = 256\n",
    "tfidf_threshold=0.65\n",
    "Config = namedtuple(\"Config\", [\n",
    "    \"train_path\",\n",
    "    \"test_path\",\n",
    "    \"freq_path\",\n",
    "    \"embed_dim\",\n",
    "    \"swivel_vocab_path\",\n",
    "    \"swivel_model_path\",\n",
    "    \"tfidf_path\",\n",
    "    \"ensemble_model_path\",\n",
    "])\n",
    "config = Config(\n",
    "    train_path=f\"s3://familysearch-names/processed/tree-hr-{given_surname}-train.csv.gz\",\n",
    "    test_path=f\"s3://familysearch-names/processed/tree-hr-{given_surname}-test.csv.gz\",\n",
    "    freq_path=f\"s3://familysearch-names/processed/tree-preferred-{given_surname}-aggr.csv.gz\",\n",
    "    embed_dim=embed_dim,\n",
    "    swivel_vocab_path=f\"s3://nama-data/data/models/fs-{given_surname}-swivel-vocab-{vocab_size}-augmented.csv\",\n",
    "    swivel_model_path=f\"s3://nama-data/data/models/fs-{given_surname}-swivel-model-{vocab_size}-{embed_dim}-augmented.pth\",\n",
    "    tfidf_path=f\"s3://nama-data/data/models/fs-{given_surname}-tfidf.joblib\",\n",
    "    ensemble_model_path=f\"s3://nama-data/data/models/fs-{given_surname}-ensemble-model-{vocab_size}-{embed_dim}-augmented-40-40-50.joblib\",\n",
    ")"
   ]
  },
  {
   "cell_type": "code",
   "execution_count": null,
   "id": "3c13e7bb",
   "metadata": {},
   "outputs": [],
   "source": [
    "wandb.init(\n",
    "    project=\"nama\",\n",
    "    entity=\"nama\",\n",
    "    name=\"66_ensemble\",\n",
    "    group=given_surname,\n",
    "    notes=\"\",\n",
    "    config=config._asdict(),\n",
    ")"
   ]
  },
  {
   "cell_type": "code",
   "execution_count": null,
   "id": "9e17e3d3",
   "metadata": {},
   "outputs": [],
   "source": [
    "device = torch.device(\"cuda:0\" if torch.cuda.is_available() else \"cpu\")\n",
    "print(device)\n",
    "if torch.cuda.is_available():\n",
    "    print(\"cuda total\", torch.cuda.get_device_properties(0).total_memory)\n",
    "    print(\"cuda reserved\", torch.cuda.memory_reserved(0))\n",
    "    print(\"cuda allocated\", torch.cuda.memory_allocated(0))"
   ]
  },
  {
   "cell_type": "markdown",
   "id": "c349c2ee",
   "metadata": {},
   "source": [
    "## Load data"
   ]
  },
  {
   "cell_type": "code",
   "execution_count": null,
   "id": "390f4a78",
   "metadata": {},
   "outputs": [],
   "source": [
    "input_names_train, weighted_actual_names_train, candidate_names_train = load_dataset(config.train_path)\n",
    "input_names_test, weighted_actual_names_test, candidate_names_test = load_dataset(config.test_path)"
   ]
  },
  {
   "cell_type": "code",
   "execution_count": null,
   "id": "43f55084",
   "metadata": {},
   "outputs": [],
   "source": [
    "freq_df = pd.read_csv(config.freq_path, na_filter=False)\n",
    "name_freq = {add_padding(name): freq for name, freq in zip(freq_df[\"name\"], freq_df[\"frequency\"])}\n",
    "del freq_df"
   ]
  },
  {
   "cell_type": "code",
   "execution_count": null,
   "id": "21d68bea",
   "metadata": {},
   "outputs": [],
   "source": [
    "print(name_freq.get(\"<john>\", 0))\n",
    "print(name_freq.get(\"<dallan>\", 0))"
   ]
  },
  {
   "cell_type": "code",
   "execution_count": null,
   "id": "e269e938",
   "metadata": {},
   "outputs": [],
   "source": [
    "vocab_df = pd.read_csv(fopen(config.swivel_vocab_path, \"rb\"))\n",
    "swivel_vocab = {name: _id for name, _id in zip(vocab_df[\"name\"], vocab_df[\"index\"])}\n",
    "del vocab_df"
   ]
  },
  {
   "cell_type": "code",
   "execution_count": null,
   "id": "25b3e296",
   "metadata": {},
   "outputs": [],
   "source": [
    "swivel_model = SwivelModel(len(swivel_vocab), config.embed_dim)\n",
    "swivel_model.load_state_dict(torch.load(fopen(config.swivel_model_path, \"rb\"), map_location=torch.device(device)))\n",
    "swivel_model.to(device)\n",
    "swivel_model.eval()"
   ]
  },
  {
   "cell_type": "code",
   "execution_count": null,
   "id": "26c80776",
   "metadata": {},
   "outputs": [],
   "source": [
    "tfidf_vectorizer = joblib.load(fopen(config.tfidf_path, mode='rb'))"
   ]
  },
  {
   "cell_type": "code",
   "execution_count": null,
   "id": "e6d4b732",
   "metadata": {},
   "outputs": [],
   "source": [
    "_, input_names_train_sample, _, weighted_actual_names_train_sample = \\\n",
    "    train_test_split(input_names_train, weighted_actual_names_train, test_size=train_sample_size)\n",
    "candidate_names_train_sample = candidate_names_train\n",
    "_, input_names_test_sample, _, weighted_actual_names_test_sample = \\\n",
    "    train_test_split(input_names_test, weighted_actual_names_test, test_size=test_sample_size)\n",
    "candidate_names_test_sample = candidate_names_test"
   ]
  },
  {
   "cell_type": "code",
   "execution_count": null,
   "id": "6cf1e5e2",
   "metadata": {},
   "outputs": [],
   "source": [
    "print(\"input_names_train_sample\", len(input_names_train_sample))\n",
    "print(\"weighted_actual_names_train_sample\", len(weighted_actual_names_train_sample))\n",
    "print(\"candidate_names_train_sample\", len(candidate_names_train_sample))\n",
    "print(\"input_names_test_sample\", len(input_names_test_sample))\n",
    "print(\"weighted_actual_names_test_sample\", len(weighted_actual_names_test_sample))\n",
    "print(\"candidate_names_test_sample\", len(candidate_names_test_sample))"
   ]
  },
  {
   "cell_type": "code",
   "execution_count": null,
   "id": "8961968b",
   "metadata": {},
   "outputs": [],
   "source": [
    "# free memory\n",
    "del input_names_train\n",
    "del input_names_test\n",
    "del weighted_actual_names_train\n",
    "del weighted_actual_names_test\n",
    "del candidate_names_train \n",
    "del candidate_names_test"
   ]
  },
  {
   "cell_type": "markdown",
   "id": "412d2b45",
   "metadata": {},
   "source": [
    "## Generate ensemble training data"
   ]
  },
  {
   "cell_type": "code",
   "execution_count": null,
   "id": "1af4ead4",
   "metadata": {},
   "outputs": [],
   "source": [
    "features = []\n",
    "labels = []"
   ]
  },
  {
   "cell_type": "markdown",
   "id": "9cf1e377",
   "metadata": {},
   "source": [
    "### from train data"
   ]
  },
  {
   "cell_type": "code",
   "execution_count": null,
   "id": "02386fd8",
   "metadata": {},
   "outputs": [],
   "source": [
    "swivel_names_scores = get_best_swivel_matches(model=swivel_model, \n",
    "                                              vocab=swivel_vocab, \n",
    "                                              input_names=input_names_train_sample,\n",
    "                                              candidate_names=candidate_names_train_sample,\n",
    "                                              k=num_matches, \n",
    "                                              batch_size=batch_size,\n",
    "                                              add_context=True,\n",
    "                                              n_jobs=1)"
   ]
  },
  {
   "cell_type": "code",
   "execution_count": null,
   "id": "a28f2fc2",
   "metadata": {},
   "outputs": [],
   "source": [
    "print(sum(len(names_scores) for names_scores in swivel_names_scores))"
   ]
  },
  {
   "cell_type": "code",
   "execution_count": null,
   "id": "f2ab4e6b",
   "metadata": {},
   "outputs": [],
   "source": [
    "# free memory\n",
    "del swivel_model\n",
    "del candidate_names_train_sample"
   ]
  },
  {
   "cell_type": "code",
   "execution_count": null,
   "id": "cba73283",
   "metadata": {},
   "outputs": [],
   "source": [
    "# generate features and labels\n",
    "for input_name, wans, swivels in tqdm(zip(input_names_train_sample, \n",
    "                                          weighted_actual_names_train_sample, \n",
    "                                          swivel_names_scores)):\n",
    "    actual_names = set(name for name, _, _ in wans)\n",
    "    # generate features from swivel scores and frequency\n",
    "    input_name_freq = name_freq.get(input_name, 0)\n",
    "    input_name_unpadded = remove_padding(input_name)\n",
    "    for candidate_name, swivel_score in swivels:\n",
    "        candidate_name_freq = name_freq.get(candidate_name, 0)\n",
    "        candidate_name_unpadded = remove_padding(candidate_name)\n",
    "        lev_score = calc_lev_similarity(input_name_unpadded, candidate_name_unpadded)\n",
    "        feature = featurize(\n",
    "            swivel_score, \n",
    "            lev_score,\n",
    "            input_name_freq, \n",
    "            candidate_name_freq,\n",
    "            False,\n",
    "        )\n",
    "        label = 1 if candidate_name in actual_names else 0\n",
    "        features.append(feature)\n",
    "        labels.append(label)"
   ]
  },
  {
   "cell_type": "code",
   "execution_count": null,
   "id": "976639e0",
   "metadata": {},
   "outputs": [],
   "source": [
    "# free memory\n",
    "del input_names_train_sample\n",
    "del weighted_actual_names_train_sample\n",
    "del swivel_names_scores"
   ]
  },
  {
   "cell_type": "markdown",
   "id": "e9b7c69c",
   "metadata": {},
   "source": [
    "### from test data"
   ]
  },
  {
   "cell_type": "code",
   "execution_count": null,
   "id": "f9a0b92f",
   "metadata": {},
   "outputs": [],
   "source": [
    "# test get_best_lev_matches\n",
    "get_best_lev_matches(tfidf_vectorizer=tfidf_vectorizer,\n",
    "                     input_names = np.array([\"<richard>\", \"<dallan>\", \n",
    "                                             \"<william>\", \"<john>\"]),\n",
    "                     candidate_names = np.array([\"<ricardo>\", \"<dallin>\", \n",
    "                                                 \"<richaard>\", \"<dalliin>\",\n",
    "                                                 \"<willem>\", \"<johnny>\"]),\n",
    "                     k=4,\n",
    "                     batch_size=2,\n",
    "                    )"
   ]
  },
  {
   "cell_type": "code",
   "execution_count": null,
   "id": "91c9b9d9",
   "metadata": {},
   "outputs": [],
   "source": [
    "lev_names_scores = get_best_lev_matches(tfidf_vectorizer=tfidf_vectorizer, \n",
    "                                        input_names=input_names_test_sample,\n",
    "                                        candidate_names=candidate_names_test_sample,\n",
    "                                        k=num_matches,\n",
    "                                        batch_size=batch_size,\n",
    "                                        n_jobs=1)"
   ]
  },
  {
   "cell_type": "code",
   "execution_count": null,
   "id": "97d50078",
   "metadata": {},
   "outputs": [],
   "source": [
    "# free memory\n",
    "del candidate_names_test_sample"
   ]
  },
  {
   "cell_type": "code",
   "execution_count": null,
   "id": "0d08a1bd",
   "metadata": {},
   "outputs": [],
   "source": [
    "# generate features and labels\n",
    "for input_name, wans, levs in tqdm(zip(input_names_test_sample, \n",
    "                                       weighted_actual_names_test_sample, \n",
    "                                       lev_names_scores)):\n",
    "    actual_names = set(name for name, _, _ in wans)\n",
    "    # generate features from lev scores and frequency\n",
    "    input_name_freq = name_freq.get(input_name, 0)\n",
    "    for candidate_name, lev_score in levs:\n",
    "        candidate_name_freq = name_freq.get(candidate_name, 0)\n",
    "        feature = featurize(\n",
    "            0.0,  # no way to get swivel score\n",
    "            lev_score, \n",
    "            input_name_freq, \n",
    "            candidate_name_freq,\n",
    "            True,\n",
    "        )\n",
    "        label = 1 if candidate_name in actual_names else 0\n",
    "        features.append(feature)\n",
    "        labels.append(label)"
   ]
  },
  {
   "cell_type": "code",
   "execution_count": null,
   "id": "4e1687c0",
   "metadata": {},
   "outputs": [],
   "source": [
    "# free memory\n",
    "del input_names_test_sample\n",
    "del weighted_actual_names_test_sample\n",
    "del lev_names_scores"
   ]
  },
  {
   "cell_type": "code",
   "execution_count": null,
   "id": "d786826f",
   "metadata": {},
   "outputs": [],
   "source": [
    "print(len(features))\n",
    "print(len(labels))\n",
    "print(sum(labels))"
   ]
  },
  {
   "cell_type": "markdown",
   "id": "bd0284af",
   "metadata": {},
   "source": [
    "### Downsample negatives"
   ]
  },
  {
   "cell_type": "code",
   "execution_count": null,
   "id": "f4363e0b",
   "metadata": {},
   "outputs": [],
   "source": [
    "features_sample = []\n",
    "labels_sample = []\n",
    "for feature, label in zip(features, labels):\n",
    "    if label == 1 or random.random() <= neg_sample_rate:\n",
    "        features_sample.append(feature)\n",
    "        labels_sample.append(label)"
   ]
  },
  {
   "cell_type": "code",
   "execution_count": null,
   "id": "5594a231",
   "metadata": {},
   "outputs": [],
   "source": [
    "print(len(features_sample))\n",
    "print(len(labels_sample))\n",
    "print(sum(labels_sample))"
   ]
  },
  {
   "cell_type": "markdown",
   "id": "eb04aaca",
   "metadata": {},
   "source": [
    "### Train model"
   ]
  },
  {
   "cell_type": "code",
   "execution_count": null,
   "id": "94421275",
   "metadata": {},
   "outputs": [],
   "source": [
    "clf = LogisticRegression(max_iter=1000)\n",
    "clf.fit(features_sample, labels_sample)"
   ]
  },
  {
   "cell_type": "code",
   "execution_count": null,
   "id": "ee5049b0",
   "metadata": {},
   "outputs": [],
   "source": [
    "print(clf.coef_)\n",
    "print(clf.intercept_)"
   ]
  },
  {
   "cell_type": "markdown",
   "id": "76ad0602",
   "metadata": {},
   "source": [
    "### Save model"
   ]
  },
  {
   "cell_type": "code",
   "execution_count": null,
   "id": "1805e51b",
   "metadata": {},
   "outputs": [],
   "source": [
    "joblib.dump(clf, fopen(config.ensemble_model_path, mode='wb'))"
   ]
  },
  {
   "cell_type": "code",
   "execution_count": null,
   "id": "6d75f603",
   "metadata": {},
   "outputs": [],
   "source": [
    "clf = joblib.load(fopen(config.ensemble_model_path, mode='rb'))"
   ]
  },
  {
   "cell_type": "code",
   "execution_count": null,
   "id": "565a33a6",
   "metadata": {},
   "outputs": [],
   "source": [
    "print(clf.coef_)\n",
    "print(clf.intercept_)"
   ]
  },
  {
   "cell_type": "markdown",
   "id": "b9787658",
   "metadata": {},
   "source": [
    "### Eval model on itself"
   ]
  },
  {
   "cell_type": "code",
   "execution_count": null,
   "id": "ea500f3f",
   "metadata": {},
   "outputs": [],
   "source": [
    "predictions = clf.predict_proba(features)[:, 1]"
   ]
  },
  {
   "cell_type": "code",
   "execution_count": null,
   "id": "2ae5e2a4",
   "metadata": {},
   "outputs": [],
   "source": [
    "precisions, recalls, thresholds = precision_recall_curve(labels, predictions)\n",
    "disp = PrecisionRecallDisplay(precision=precisions, recall=recalls)\n",
    "disp.plot()\n",
    "plt.show()"
   ]
  },
  {
   "cell_type": "code",
   "execution_count": null,
   "id": "8b130596",
   "metadata": {},
   "outputs": [],
   "source": [
    "print(auc(recalls, precisions))"
   ]
  },
  {
   "cell_type": "code",
   "execution_count": null,
   "id": "0f2dd057",
   "metadata": {},
   "outputs": [],
   "source": [
    "wandb.finish()"
   ]
  },
  {
   "cell_type": "code",
   "execution_count": null,
   "id": "43332997",
   "metadata": {},
   "outputs": [],
   "source": []
  }
 ],
 "metadata": {
  "kernelspec": {
   "display_name": "nama",
   "language": "python",
   "name": "nama"
  },
  "language_info": {
   "codemirror_mode": {
    "name": "ipython",
    "version": 3
   },
   "file_extension": ".py",
   "mimetype": "text/x-python",
   "name": "python",
   "nbconvert_exporter": "python",
   "pygments_lexer": "ipython3",
   "version": "3.8.12"
  }
 },
 "nbformat": 4,
 "nbformat_minor": 5
}
