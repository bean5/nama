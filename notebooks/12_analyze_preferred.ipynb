{
 "cells": [
  {
   "cell_type": "code",
   "execution_count": null,
   "metadata": {},
   "outputs": [],
   "source": [
    "%load_ext autoreload\n",
    "%autoreload 2"
   ]
  },
  {
   "cell_type": "code",
   "execution_count": null,
   "metadata": {
    "pycharm": {
     "name": "#%%\n"
    }
   },
   "outputs": [],
   "source": [
    "from os.path import join\n",
    "\n",
    "import pandas as pd\n",
    "from src.data.filesystem import glob"
   ]
  },
  {
   "cell_type": "code",
   "execution_count": null,
   "metadata": {
    "pycharm": {
     "name": "#%%\n"
    }
   },
   "outputs": [],
   "source": [
    "in_path = \"s3://familysearch-names/interim/tree-preferred-given/\""
   ]
  },
  {
   "cell_type": "code",
   "execution_count": null,
   "metadata": {
    "pycharm": {
     "name": "#%%\n"
    }
   },
   "outputs": [],
   "source": [
    "filenames = glob(join(in_path, \"*.parquet\"))"
   ]
  },
  {
   "cell_type": "code",
   "execution_count": null,
   "metadata": {
    "pycharm": {
     "name": "#%%\n"
    }
   },
   "outputs": [],
   "source": [
    "print(len(filenames))"
   ]
  },
  {
   "cell_type": "code",
   "execution_count": null,
   "metadata": {
    "pycharm": {
     "name": "#%%\n"
    }
   },
   "outputs": [],
   "source": [
    "df = pd.read_parquet(filenames[0])"
   ]
  },
  {
   "cell_type": "code",
   "execution_count": null,
   "metadata": {
    "pycharm": {
     "name": "#%%\n"
    }
   },
   "outputs": [],
   "source": [
    "df[\"name_pieces\"] = df[\"name\"].str.split()"
   ]
  },
  {
   "cell_type": "code",
   "execution_count": null,
   "metadata": {
    "pycharm": {
     "name": "#%%\n"
    }
   },
   "outputs": [],
   "source": [
    "search_pieces = {\n",
    "    \"Abig\",\n",
    "    \"Abr\",\n",
    "    \"Agn\",\n",
    "    \"Alex\",\n",
    "    \"Alex\",\n",
    "    \"Alf\",\n",
    "    \"Amb\",\n",
    "    \"An\",\n",
    "    \"And\",\n",
    "    \"Ant\",\n",
    "    \"Art\",\n",
    "    \"Aug\",\n",
    "    \"Barb\",\n",
    "    \"Bart\",\n",
    "    \"Benj\",\n",
    "    \"Brid\",\n",
    "    \"Cath\",\n",
    "    \"Chas\",\n",
    "    \"Chr\",\n",
    "    \"Clem\",\n",
    "    \"Const\",\n",
    "    \"Corn\",\n",
    "    \"Danl\",\n",
    "    \"Dav\",\n",
    "    \"Deb\",\n",
    "    \"Den\",\n",
    "    \"Doug\",\n",
    "    \"Dy\",\n",
    "    \"Edm\",\n",
    "    \"Edr\",\n",
    "    \"Edw\",\n",
    "    \"Eliz\",\n",
    "    \"Elnr\",\n",
    "    \"Esth\",\n",
    "    \"Ezek\",\n",
    "    \"Fred\",\n",
    "    \"Froo\",\n",
    "    \"Fs\",\n",
    "    \"Gab\",\n",
    "    \"Geo\",\n",
    "    \"Geof\",\n",
    "    \"Godf\",\n",
    "    \"Greg\",\n",
    "    \"Gul\",\n",
    "    \"Han\",\n",
    "    \"Hen\",\n",
    "    \"Hel\",\n",
    "    \"Herb\",\n",
    "    \"Hy\",\n",
    "    \"Ioh\",\n",
    "    \"Is\",\n",
    "    \"Isb\",\n",
    "    \"Jab\",\n",
    "    \"Jac\",\n",
    "    \"Jas\",\n",
    "    \"Jer\",\n",
    "    \"Jno\",\n",
    "    \"Jon\",\n",
    "    \"Jos\",\n",
    "    \"Josh\",\n",
    "    \"Josh\",\n",
    "    \"Jud\",\n",
    "    \"Lau\",\n",
    "    \"Lawr\",\n",
    "    \"Leon\",\n",
    "    \"Lyd\",\n",
    "    \"Margt\",\n",
    "    \"Math\",\n",
    "    \"Matt\",\n",
    "    \"Mau\",\n",
    "    \"Mich\",\n",
    "    \"Micls\",\n",
    "    \"Mix\",\n",
    "    \"Mill\",\n",
    "    \"My\",\n",
    "    \"Nath\",\n",
    "    \"Nich\",\n",
    "    \"Nics\",\n",
    "    \"Ol\",\n",
    "    \"Pat\",\n",
    "    \"Pen\",\n",
    "    \"Pet\",\n",
    "    \"Phil\",\n",
    "    \"Phin\",\n",
    "    \"Phyl\",\n",
    "    \"Prisc\",\n",
    "    \"Pru\",\n",
    "    \"Rach\",\n",
    "    \"Ray\",\n",
    "    \"Reb\",\n",
    "    \"Reg\",\n",
    "    \"Ric\",\n",
    "    \"Richd\",\n",
    "    \"Robt\",\n",
    "    \"Rog\",\n",
    "    \"Saml\",\n",
    "    \"Sar\",\n",
    "    \"Silv\",\n",
    "    \"Sim\",\n",
    "    \"Sol\",\n",
    "    \"Ste\",\n",
    "    \"Sus\",\n",
    "    \"Susna\",\n",
    "    \"Theo\",\n",
    "    \"Thos\",\n",
    "    \"Tim\",\n",
    "    \"Urs\",\n",
    "    \"Val\",\n",
    "    \"Vinc\",\n",
    "    \"Walt\",\n",
    "    \"Win\",\n",
    "    \"Wm\",\n",
    "    \"Xpr\",\n",
    "    \"Xtian\",\n",
    "    \"Xtopher\",\n",
    "    \"Zach\",\n",
    "}\n",
    "\n",
    "search_pieces = {piece.lower() for piece in search_pieces}"
   ]
  },
  {
   "cell_type": "code",
   "execution_count": null,
   "metadata": {
    "pycharm": {
     "name": "#%%\n"
    }
   },
   "outputs": [],
   "source": [
    "for filename in filenames[:10]:\n",
    "    df = pd.read_parquet(filename)\n",
    "    df[\"name_pieces\"] = df[\"name\"].str.split()\n",
    "    print(df[df[\"name_pieces\"].apply(lambda pieces: any(piece in search_pieces for piece in pieces))])\n"
   ]
  },
  {
   "cell_type": "code",
   "execution_count": null,
   "metadata": {
    "pycharm": {
     "name": "#%%\n"
    }
   },
   "outputs": [],
   "source": []
  }
 ],
 "metadata": {
  "kernelspec": {
   "display_name": "Python 3",
   "language": "python",
   "name": "python3"
  },
  "language_info": {
   "codemirror_mode": {
    "name": "ipython",
    "version": 2
   },
   "file_extension": ".py",
   "mimetype": "text/x-python",
   "name": "python",
   "nbconvert_exporter": "python",
   "pygments_lexer": "ipython2",
   "version": "2.7.6"
  }
 },
 "nbformat": 4,
 "nbformat_minor": 0
}
