{
 "cells": [
  {
   "cell_type": "code",
   "execution_count": null,
   "id": "6ff95667",
   "metadata": {
    "pycharm": {
     "name": "#%%\n"
    }
   },
   "outputs": [],
   "source": [
    "%load_ext autoreload\n",
    "%autoreload 2"
   ]
  },
  {
   "cell_type": "markdown",
   "id": "945d9f1a",
   "metadata": {
    "pycharm": {
     "name": "#%% md\n"
    }
   },
   "source": [
    "# Aggregate preferred names\n",
    "Split into individual name pieces before aggregation"
   ]
  },
  {
   "cell_type": "code",
   "execution_count": null,
   "id": "b047809e",
   "metadata": {
    "pycharm": {
     "name": "#%%\n"
    }
   },
   "outputs": [],
   "source": [
    "from os.path import join\n",
    "\n",
    "import pandas as pd\n",
    "from mpire import WorkerPool\n",
    "\n",
    "from src.data.filesystem import glob"
   ]
  },
  {
   "cell_type": "code",
   "execution_count": null,
   "id": "4eb74209",
   "metadata": {
    "pycharm": {
     "name": "#%%\n"
    }
   },
   "outputs": [],
   "source": [
    "given_surname = \"given\"\n",
    "is_surname = False\n",
    "\n",
    "in_path = f\"s3://familysearch-names/interim/tree-preferred-{given_surname}/\"\n",
    "out_path = f\"../data/processed/tree-preferred-{given_surname}-aggr.csv.gz\""
   ]
  },
  {
   "cell_type": "code",
   "execution_count": null,
   "id": "def37075",
   "metadata": {
    "pycharm": {
     "name": "#%%\n"
    }
   },
   "outputs": [],
   "source": [
    "# read input files into dataframe array\n",
    "with WorkerPool() as pool:\n",
    "    dfs = pool.map(pd.read_parquet, glob(join(in_path, \"part-*\")), progress_bar=True)\n",
    "print(len(dfs))\n",
    "print(dfs[0].shape)\n",
    "print(dfs[0])"
   ]
  },
  {
   "cell_type": "code",
   "execution_count": null,
   "id": "e745c133",
   "metadata": {
    "pycharm": {
     "name": "#%%\n"
    }
   },
   "outputs": [],
   "source": [
    "# process and pre-aggregate each dataframe\n",
    "def parameterize(dfs):\n",
    "    # a second element in the tuple is needed to keep mpire from trying to also iterate over the df\n",
    "    return [(df, ix) for ix, df in enumerate(dfs)]\n",
    "\n",
    "\n",
    "def process(df, _):\n",
    "    # split into individual name pieces\n",
    "    df[\"name\"] = df[\"name\"].str.split()\n",
    "\n",
    "    # explode names\n",
    "    df = pd.DataFrame(\n",
    "        df.explode(\"name\", ignore_index=True).dropna()[\"name\"].tolist(),\n",
    "        columns=[\"name\"],\n",
    "    )\n",
    "\n",
    "    # group\n",
    "    df[\"frequency\"] = 1\n",
    "    return df.groupby([\"name\"]).sum().reset_index()\n",
    "\n",
    "\n",
    "with WorkerPool() as pool:\n",
    "    dfs = pool.map(process, parameterize(dfs), progress_bar=True)"
   ]
  },
  {
   "cell_type": "code",
   "execution_count": null,
   "id": "7371ec1e",
   "metadata": {
    "pycharm": {
     "name": "#%%\n"
    }
   },
   "outputs": [],
   "source": [
    "print(len(dfs))\n",
    "print(dfs[0].shape)\n",
    "print(dfs[0])"
   ]
  },
  {
   "cell_type": "code",
   "execution_count": null,
   "id": "e3f3736e",
   "metadata": {
    "pycharm": {
     "name": "#%%\n"
    }
   },
   "outputs": [],
   "source": [
    "%%time\n",
    "# combine all dataframes into a single dataframe\n",
    "df = pd.concat(dfs)\n",
    "del dfs\n",
    "print(df.shape)\n",
    "print(df)"
   ]
  },
  {
   "cell_type": "code",
   "execution_count": null,
   "id": "e8b05aa4",
   "metadata": {
    "pycharm": {
     "name": "#%%\n"
    }
   },
   "outputs": [],
   "source": [
    "%%time\n",
    "# group by name and sum frequency\n",
    "grouped = df.groupby([\"name\"]).sum().reset_index()\n",
    "del df\n",
    "print(grouped.shape)"
   ]
  },
  {
   "cell_type": "code",
   "execution_count": null,
   "id": "fc5fe1d9",
   "metadata": {
    "pycharm": {
     "name": "#%%\n"
    }
   },
   "outputs": [],
   "source": [
    "%%time\n",
    "# remove the empty name and single-occurrence names, and sort by descending frequency\n",
    "grouped = grouped[(grouped[\"name\"] != \"\") & (grouped[\"frequency\"] > 1)]\n",
    "grouped = grouped.sort_values(by=\"frequency\", ascending=False)"
   ]
  },
  {
   "cell_type": "code",
   "execution_count": null,
   "id": "88aa68d7",
   "metadata": {
    "pycharm": {
     "name": "#%%\n"
    }
   },
   "outputs": [],
   "source": [
    "print(grouped.memory_usage(deep=True))\n",
    "print(grouped)"
   ]
  },
  {
   "cell_type": "code",
   "execution_count": null,
   "id": "5a4e943c",
   "metadata": {
    "pycharm": {
     "name": "#%%\n"
    }
   },
   "outputs": [],
   "source": [
    "# write to csv\n",
    "grouped.to_csv(out_path, index=False)"
   ]
  },
  {
   "cell_type": "code",
   "execution_count": null,
   "id": "d11d1545",
   "metadata": {
    "pycharm": {
     "name": "#%%\n"
    }
   },
   "outputs": [],
   "source": []
  }
 ],
 "metadata": {
  "kernelspec": {
   "display_name": "nama",
   "language": "python",
   "name": "nama"
  },
  "language_info": {
   "codemirror_mode": {
    "name": "ipython",
    "version": 3
   },
   "file_extension": ".py",
   "mimetype": "text/x-python",
   "name": "python",
   "nbconvert_exporter": "python",
   "pygments_lexer": "ipython3",
   "version": "3.9.16"
  }
 },
 "nbformat": 4,
 "nbformat_minor": 5
}
