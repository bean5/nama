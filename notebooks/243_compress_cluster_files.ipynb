{
 "cells": [
  {
   "cell_type": "code",
   "execution_count": 1,
   "id": "2882991e",
   "metadata": {},
   "outputs": [],
   "source": [
    "%load_ext autoreload\n",
    "%autoreload 2"
   ]
  },
  {
   "cell_type": "markdown",
   "id": "d671df72",
   "metadata": {},
   "source": [
    "# Compress cluster and super-cluster files\n",
    "\n",
    "Read the existing cluster and super-cluster files, reduce the number of decimals in the centroids and write them in gzip format in order to keep them below 100Mb."
   ]
  },
  {
   "cell_type": "code",
   "execution_count": 19,
   "id": "3ab5d9f3",
   "metadata": {},
   "outputs": [],
   "source": [
    "import gzip\n",
    "import json\n",
    "import os\n",
    "\n",
    "import numpy as np"
   ]
  },
  {
   "cell_type": "code",
   "execution_count": 22,
   "id": "1ff83f53",
   "metadata": {},
   "outputs": [],
   "source": [
    "# configure\n",
    "given_surname = \"given\"\n",
    "\n",
    "n_decimals = 8\n",
    "\n",
    "linkage = \"average\"\n",
    "scorer = \"ce\"  # be, ce, or cebe\n",
    "similarity_threshold = 0.10 if given_surname == \"given\" else 0.25\n",
    "cluster_freq_normalizer = \"none\"\n",
    "\n",
    "augmented_clusters_path = f\"../data/processed/clusters_{given_surname}-{scorer}-{linkage}-{similarity_threshold}-{cluster_freq_normalizer}-augmented.json\"\n",
    "super_clusters_path = f\"../data/processed/super_clusters_{given_surname}-{scorer}-{linkage}-{similarity_threshold}-{cluster_freq_normalizer}.json\""
   ]
  },
  {
   "cell_type": "markdown",
   "id": "ad87f02c",
   "metadata": {},
   "source": [
    "## Load data"
   ]
  },
  {
   "cell_type": "code",
   "execution_count": 23,
   "id": "deaa1fe1",
   "metadata": {},
   "outputs": [],
   "source": [
    "with open(augmented_clusters_path, 'r') as f:\n",
    "    clusters = json.load(f)  # cluster label -> names, centroid\n",
    "\n",
    "with open(super_clusters_path, 'r') as f:\n",
    "    super_clusters = json.load(f)  # cluster label -> names, centroid"
   ]
  },
  {
   "cell_type": "markdown",
   "id": "713d5ecc-08cd-4825-a025-cf2387e09c12",
   "metadata": {},
   "source": [
    "## Reduce centroid decimal places"
   ]
  },
  {
   "cell_type": "code",
   "execution_count": 24,
   "id": "f57a1850-d154-493c-a391-2baf01c0d541",
   "metadata": {},
   "outputs": [],
   "source": [
    "for cluster in clusters.values():\n",
    "    cluster['centroid'] = np.around(np.array(cluster['centroid']), decimals=n_decimals).tolist()"
   ]
  },
  {
   "cell_type": "markdown",
   "id": "4d21aadc-fd95-4780-9198-db66511c85be",
   "metadata": {},
   "source": [
    "## Save gzipped"
   ]
  },
  {
   "cell_type": "code",
   "execution_count": 25,
   "id": "b855c628",
   "metadata": {},
   "outputs": [],
   "source": [
    "with gzip.open(f\"{augmented_clusters_path}.gz\", 'wt', encoding='UTF-8') as f:\n",
    "    json.dump(clusters, f)\n",
    "\n",
    "with gzip.open(f\"{super_clusters_path}.gz\", 'wt', encoding='UTF-8') as f:\n",
    "    json.dump(super_clusters, f)"
   ]
  },
  {
   "cell_type": "code",
   "execution_count": null,
   "id": "c5146991",
   "metadata": {},
   "outputs": [],
   "source": []
  }
 ],
 "metadata": {
  "kernelspec": {
   "display_name": "Python 3 (ipykernel)",
   "language": "python",
   "name": "python3"
  },
  "language_info": {
   "codemirror_mode": {
    "name": "ipython",
    "version": 3
   },
   "file_extension": ".py",
   "mimetype": "text/x-python",
   "name": "python",
   "nbconvert_exporter": "python",
   "pygments_lexer": "ipython3",
   "version": "3.9.18"
  }
 },
 "nbformat": 4,
 "nbformat_minor": 5
}
