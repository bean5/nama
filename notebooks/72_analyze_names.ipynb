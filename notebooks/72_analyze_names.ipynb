{
 "cells": [
  {
   "cell_type": "markdown",
   "id": "66df9988",
   "metadata": {},
   "source": [
    "# Analyze name frequencies and codes\n",
    "* count the number of distinct codes for various coders\n",
    "* put in buckets avg for every 1000 names in order from most-to-least frequent\n",
    "* graph based upon tree-record pair frequency or pref-tree-name frequency\n"
   ]
  },
  {
   "cell_type": "code",
   "execution_count": null,
   "id": "89b09153",
   "metadata": {},
   "outputs": [],
   "source": [
    "%load_ext autoreload\n",
    "%autoreload 2\n",
    "%matplotlib inline"
   ]
  },
  {
   "cell_type": "markdown",
   "id": "dcfbdee7",
   "metadata": {
    "pycharm": {
     "name": "#%% md\n"
    }
   },
   "source": [
    "# Graph various statistics of names and name-coders"
   ]
  },
  {
   "cell_type": "code",
   "execution_count": null,
   "id": "71a83c3d",
   "metadata": {},
   "outputs": [],
   "source": [
    "from collections import namedtuple, defaultdict\n",
    "\n",
    "import jellyfish\n",
    "import joblib\n",
    "import matplotlib.pyplot as plt\n",
    "from matplotlib.pyplot import cm\n",
    "from mpire import WorkerPool\n",
    "import numpy as np\n",
    "import pandas as pd\n",
    "from pyphonetics import RefinedSoundex\n",
    "# from rapidfuzz.string_metric import levenshtein\n",
    "import regex\n",
    "from sklearn.feature_extraction.text import TfidfVectorizer\n",
    "from sklearn.model_selection import train_test_split\n",
    "from sklearn.utils.extmath import safe_sparse_dot\n",
    "import torch\n",
    "from tqdm import tqdm\n",
    "from unidecode import unidecode\n",
    "import wandb\n",
    "\n",
    "from src.data.filesystem import fopen\n",
    "from src.data.utils import load_dataset, select_frequent_k, frequent_k_names\n",
    "from src.eval import metrics\n",
    "from src.eval.utils import similars_to_ndarray\n",
    "from src.models.ensemble import get_best_ensemble_matches\n",
    "from src.models.swivel import SwivelModel, get_best_swivel_matches\n",
    "from src.models.swivel_encoder import SwivelEncoderModel\n",
    "from src.models.utils import remove_padding, add_padding"
   ]
  },
  {
   "cell_type": "code",
   "execution_count": null,
   "id": "c31dba1c",
   "metadata": {},
   "outputs": [],
   "source": [
    "# config\n",
    "\n",
    "given_surname = \"given\"\n",
    "vocab_size = 610000 if given_surname == \"given\" else 2100000\n",
    "sample_size = 10000\n",
    "Config = namedtuple(\"Config\", [\n",
    "    \"eval_path\",\n",
    "    \"freq_path\",\n",
    "])\n",
    "config = Config(\n",
    "    eval_path=f\"s3://familysearch-names/processed/tree-hr-{given_surname}-train.csv.gz\",\n",
    "    freq_path=f\"s3://familysearch-names/processed/tree-preferred-{given_surname}-aggr.csv.gz\",\n",
    ")"
   ]
  },
  {
   "cell_type": "code",
   "execution_count": null,
   "id": "ec7980a8",
   "metadata": {},
   "outputs": [],
   "source": [
    "wandb.init(\n",
    "    project=\"nama\",\n",
    "    entity=\"nama\",\n",
    "    name=\"72_analyze_names\",\n",
    "    group=given_surname,\n",
    "    notes=\"\",\n",
    "    config=config._asdict(),\n",
    ")"
   ]
  },
  {
   "cell_type": "markdown",
   "id": "b8516650",
   "metadata": {},
   "source": [
    "### Load data"
   ]
  },
  {
   "cell_type": "code",
   "execution_count": null,
   "id": "0d33e439",
   "metadata": {},
   "outputs": [],
   "source": [
    "device = torch.device(\"cuda:0\" if torch.cuda.is_available() else \"cpu\")\n",
    "print(device)\n",
    "print(\"cuda total\", torch.cuda.get_device_properties(0).total_memory)\n",
    "print(\"cuda reserved\", torch.cuda.memory_reserved(0))\n",
    "print(\"cuda allocated\", torch.cuda.memory_allocated(0))"
   ]
  },
  {
   "cell_type": "code",
   "execution_count": null,
   "id": "1e81ffab",
   "metadata": {},
   "outputs": [],
   "source": [
    "input_names_eval, weighted_actual_names_eval, candidate_names_eval = load_dataset(config.eval_path, is_eval=False)"
   ]
  },
  {
   "cell_type": "code",
   "execution_count": null,
   "id": "0ec7ce50",
   "metadata": {},
   "outputs": [],
   "source": [
    "freq_df = pd.read_csv(config.freq_path, na_filter=False)\n",
    "name_freq = {add_padding(name): freq for name, freq in zip(freq_df[\"name\"], freq_df[\"frequency\"])}\n",
    "# freq_df = None"
   ]
  },
  {
   "cell_type": "markdown",
   "id": "7b0e9d99",
   "metadata": {},
   "source": [
    "### Nysiis codes"
   ]
  },
  {
   "cell_type": "code",
   "execution_count": null,
   "id": "25071e2d",
   "metadata": {},
   "outputs": [],
   "source": [
    "n_names = [50000, 100000, 200000, 400000, 610000]"
   ]
  },
  {
   "cell_type": "code",
   "execution_count": null,
   "id": "a8d711bf",
   "metadata": {},
   "outputs": [],
   "source": [
    "def clean(name):\n",
    "    name = unidecode(remove_padding(name.lower()))\n",
    "    name = regex.sub(r'[^a-z]', \"\", name)\n",
    "    return name"
   ]
  },
  {
   "cell_type": "code",
   "execution_count": null,
   "id": "0bf30a4b",
   "metadata": {},
   "outputs": [],
   "source": [
    "for num in n_names:\n",
    "    codes = set()\n",
    "    for ix, name in enumerate(name_freq.keys()):\n",
    "        if ix > num:\n",
    "            break\n",
    "        name = clean(name)\n",
    "        if not name:\n",
    "            continue\n",
    "        codes.add(jellyfish.nysiis(name))\n",
    "    print(num, len(codes))"
   ]
  },
  {
   "cell_type": "markdown",
   "id": "e545f34a",
   "metadata": {},
   "source": [
    "### Soundex codes"
   ]
  },
  {
   "cell_type": "code",
   "execution_count": null,
   "id": "71812a61",
   "metadata": {},
   "outputs": [],
   "source": [
    "for num in n_names:\n",
    "    codes = set()\n",
    "    for ix, name in enumerate(name_freq.keys()):\n",
    "        if ix > num:\n",
    "            break\n",
    "        name = clean(name)\n",
    "        if not name:\n",
    "            continue\n",
    "        codes.add(jellyfish.soundex(name))\n",
    "    print(num, len(codes))"
   ]
  },
  {
   "cell_type": "markdown",
   "id": "b738b555",
   "metadata": {},
   "source": [
    "### Refined Soundex"
   ]
  },
  {
   "cell_type": "code",
   "execution_count": null,
   "id": "483bef38",
   "metadata": {},
   "outputs": [],
   "source": [
    "refined_soundex = RefinedSoundex()\n",
    "\n",
    "for num in n_names:\n",
    "    codes = set()\n",
    "    for ix, name in enumerate(name_freq.keys()):\n",
    "        if ix > num:\n",
    "            break\n",
    "        name = clean(name)\n",
    "        if not name:\n",
    "            continue\n",
    "        try:\n",
    "            codes.add(refined_soundex.phonetics(name))\n",
    "        except:\n",
    "            print(name)\n",
    "    print(num, len(codes))"
   ]
  },
  {
   "cell_type": "markdown",
   "id": "7e85abd0",
   "metadata": {},
   "source": [
    "### Graph tree name frequencies"
   ]
  },
  {
   "cell_type": "code",
   "execution_count": null,
   "id": "05a8a48b",
   "metadata": {},
   "outputs": [],
   "source": [
    "sum_freq = 0\n",
    "cnt = 0\n",
    "xs = []\n",
    "ys = []\n",
    "for ix, (name, freq) in enumerate(name_freq.items()):\n",
    "    if cnt > 0 and ix % 1000 == 0:\n",
    "        xs.append(ix)\n",
    "        ys.append(sum_freq / cnt)\n",
    "        sum_freq = 0\n",
    "        cnt = 0\n",
    "    sum_freq += freq\n",
    "    cnt += 1\n",
    "print(len(xs), len(ys))   "
   ]
  },
  {
   "cell_type": "code",
   "execution_count": null,
   "id": "a4e1c73a",
   "metadata": {},
   "outputs": [],
   "source": [
    "figure, ax = plt.subplots(1, 1, figsize=(20, 15))\n",
    "ax.set_title(\"Name frequencies\")\n",
    "ax.scatter(xs, ys)\n",
    "plt.ylim([0, 1000])\n",
    "plt.xlim([0, 500000])\n",
    "plt.show()"
   ]
  },
  {
   "cell_type": "markdown",
   "id": "160c9c89",
   "metadata": {},
   "source": [
    "### Graph tree-record name frequencies"
   ]
  },
  {
   "cell_type": "code",
   "execution_count": null,
   "id": "8f67c10f",
   "metadata": {},
   "outputs": [],
   "source": [
    "freqs = defaultdict(int)\n",
    "for input_name, wans in zip(input_names_eval, weighted_actual_names_eval):\n",
    "    for name, _, freq in wans:\n",
    "        freqs[input_name] += freq\n",
    "        freqs[name] += freq\n",
    "freqs = sorted(freqs.items(), key=lambda item: item[1], reverse=True)"
   ]
  },
  {
   "cell_type": "code",
   "execution_count": null,
   "id": "ed527db4",
   "metadata": {},
   "outputs": [],
   "source": [
    "sum_freq = 0\n",
    "cnt = 0\n",
    "xs = []\n",
    "ys = []\n",
    "for ix, (name, freq) in enumerate(freqs):\n",
    "    if cnt > 0 and ix % 1000 == 0:\n",
    "        xs.append(ix)\n",
    "        ys.append(sum_freq / cnt)\n",
    "        sum_freq = 0\n",
    "        cnt = 0\n",
    "    sum_freq += freq\n",
    "    cnt += 1\n",
    "print(len(xs), len(ys))   "
   ]
  },
  {
   "cell_type": "code",
   "execution_count": null,
   "id": "5625340b",
   "metadata": {},
   "outputs": [],
   "source": [
    "figure, ax = plt.subplots(1, 1, figsize=(20, 15))\n",
    "ax.set_title(\"Tree-name <-> Record-name frequencies\")\n",
    "ax.scatter(xs, ys)\n",
    "plt.ylim([0, 1000])\n",
    "plt.show()"
   ]
  },
  {
   "cell_type": "markdown",
   "id": "2ee71172",
   "metadata": {},
   "source": [
    "### Graph same-name weights\n",
    "How likely is a name to be associated with itself"
   ]
  },
  {
   "cell_type": "code",
   "execution_count": null,
   "id": "a06a250c",
   "metadata": {},
   "outputs": [],
   "source": [
    "# freqs = {k: v for k, v in freqs}\n",
    "name_freq_weight_triplets = []\n",
    "for input_name, wans in zip(input_names_eval, weighted_actual_names_eval):\n",
    "    for name, weight, _ in wans:\n",
    "        if name == input_name:\n",
    "            name_freq_weight_triplets.append((input_name, name_freq.get(input_name, 0), weight))\n",
    "            break\n",
    "name_freq_weight_triplets = sorted(name_freq_weight_triplets, key=lambda item: item[1], reverse=True)"
   ]
  },
  {
   "cell_type": "code",
   "execution_count": null,
   "id": "0dd6c2aa",
   "metadata": {},
   "outputs": [],
   "source": [
    "sum_weight = 0.0\n",
    "cnt = 0\n",
    "xs = []\n",
    "ys = []\n",
    "for ix, (name, _, weight) in enumerate(name_freq_weight_triplets):\n",
    "    if cnt > 0 and ix % 10 == 0:\n",
    "        xs.append(ix)\n",
    "        ys.append(sum_weight / cnt)\n",
    "        sum_weight = 0.0\n",
    "        cnt = 0\n",
    "    sum_weight += weight\n",
    "    cnt += 1\n",
    "print(len(xs), len(ys)) "
   ]
  },
  {
   "cell_type": "code",
   "execution_count": null,
   "id": "854ddb80",
   "metadata": {},
   "outputs": [],
   "source": [
    "figure, ax = plt.subplots(1, 1, figsize=(20, 15))\n",
    "ax.set_title(\"Tree-name -> same record-name average weight\")\n",
    "ax.scatter(xs, ys)\n",
    "plt.ylim([0, 1.0])\n",
    "plt.xlim([0, 250000])\n",
    "plt.show()"
   ]
  },
  {
   "cell_type": "code",
   "execution_count": null,
   "id": "9312e8f7",
   "metadata": {},
   "outputs": [],
   "source": []
  }
 ],
 "metadata": {
  "kernelspec": {
   "display_name": "nama",
   "language": "python",
   "name": "nama"
  },
  "language_info": {
   "codemirror_mode": {
    "name": "ipython",
    "version": 3
   },
   "file_extension": ".py",
   "mimetype": "text/x-python",
   "name": "python",
   "nbconvert_exporter": "python",
   "pygments_lexer": "ipython3",
   "version": "3.8.12"
  }
 },
 "nbformat": 4,
 "nbformat_minor": 5
}
