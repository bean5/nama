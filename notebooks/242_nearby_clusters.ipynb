{
 "cells": [
  {
   "cell_type": "code",
   "execution_count": null,
   "id": "2882991e",
   "metadata": {},
   "outputs": [],
   "source": [
    "%load_ext autoreload\n",
    "%autoreload 2"
   ]
  },
  {
   "cell_type": "markdown",
   "id": "d671df72",
   "metadata": {},
   "source": [
    "# Save nearby clusters\n",
    "\n",
    "For each cluster, save a list of nearby clusters so that we don't have to calculate nearby clusters each time.\n",
    "\n",
    "Use a bi-encoder followed by a cross-encoder to determine which clusters are nearby."
   ]
  },
  {
   "cell_type": "code",
   "execution_count": null,
   "id": "3ab5d9f3",
   "metadata": {},
   "outputs": [],
   "source": [
    "from collections import defaultdict, Counter\n",
    "import json\n",
    "import math\n",
    "import os\n",
    "import random\n",
    "import re\n",
    "\n",
    "import matplotlib.pyplot as plt\n",
    "import numpy as np\n",
    "import pandas as pd\n",
    "# from py4j.java_gateway import JavaGateway\n",
    "from sentence_transformers.cross_encoder import CrossEncoder\n",
    "from sklearn.metrics.pairwise import cosine_similarity\n",
    "from statistics import harmonic_mean\n",
    "import torch\n",
    "from tqdm.auto import tqdm\n",
    "\n",
    "from src.data.normalize import normalize\n",
    "from src.data.utils import read_csv\n",
    "from src.models.biencoder import BiEncoder\n",
    "from src.models.tokenizer import get_tokenize_function_and_vocab\n",
    "from src.models.utils import get_cross_encoder_score, top_similar_names"
   ]
  },
  {
   "cell_type": "code",
   "execution_count": null,
   "id": "1ff83f53",
   "metadata": {},
   "outputs": [],
   "source": [
    "# configure\n",
    "given_surname = \"given\"\n",
    "\n",
    "be_score_threshold = 0.4\n",
    "be_limit = 50  # 100\n",
    "ce_score_threshold = 0.01\n",
    "\n",
    "max_tokens = 10\n",
    "subwords_path=f\"../data/models/fs-{given_surname}-subword-tokenizer-2000f.json\"\n",
    "ce_model_dir = f\"../data/models/cross-encoder-{given_surname}-10m-265-same-all\"\n",
    "be_model_type = 'cecommon+0+aug-0-1'\n",
    "be_model_path = f\"../data/models/bi_encoder-{given_surname}-{be_model_type}.pth\"\n",
    "tokenizer_max_length = 32\n",
    "scorer = \"ce\"\n",
    "linkage = \"average\"\n",
    "similarity_threshold = 0.1\n",
    "cluster_freq_normalizer = \"none\"\n",
    "clusters_path = f\"../data/processed/clusters_{given_surname}-{scorer}-{linkage}-{similarity_threshold}-{cluster_freq_normalizer}-augmented.json\"\n",
    "\n",
    "nearby_clusters_path = f\"../data/processed/nearby_clusters_{given_surname}-{scorer}-{linkage}-{similarity_threshold}-{cluster_freq_normalizer}.json\""
   ]
  },
  {
   "cell_type": "code",
   "execution_count": null,
   "id": "2159fd1a",
   "metadata": {},
   "outputs": [],
   "source": [
    "torch.cuda.empty_cache()\n",
    "print(torch.cuda.is_available())\n",
    "print(\"cuda total\", torch.cuda.get_device_properties(0).total_memory)\n",
    "print(\"cuda reserved\", torch.cuda.memory_reserved(0))\n",
    "print(\"cuda allocated\", torch.cuda.memory_allocated(0))"
   ]
  },
  {
   "cell_type": "markdown",
   "id": "ad87f02c",
   "metadata": {},
   "source": [
    "## Load data"
   ]
  },
  {
   "cell_type": "code",
   "execution_count": null,
   "id": "deaa1fe1",
   "metadata": {},
   "outputs": [],
   "source": [
    "cluster_position = {}\n",
    "cluster_names = {}\n",
    "cluster_centroids = []        # centroid for each cluster\n",
    "cluster_centroid_labels = []  # label for each cluster\n",
    "\n",
    "with open(clusters_path, 'r') as f:\n",
    "    clusters = json.load(f)  # cluster label -> names, centroid\n",
    "\n",
    "for label, cluster in clusters.items():\n",
    "    cluster_position[label] = len(cluster_centroids)\n",
    "    cluster_names[label] = set(cluster['names'])\n",
    "    cluster_centroid_labels.append(label)\n",
    "    cluster_centroids.append(np.array(cluster['centroid']))\n",
    "cluster_centroid_labels = np.array(cluster_centroid_labels)\n",
    "print(len(clusters), sum(len(names) for names in cluster_names.values()))"
   ]
  },
  {
   "cell_type": "code",
   "execution_count": null,
   "id": "13e8dc5b",
   "metadata": {},
   "outputs": [],
   "source": [
    "# load tokenize function\n",
    "tokenize, tokenizer_vocab = get_tokenize_function_and_vocab(\n",
    "    max_tokens=max_tokens,\n",
    "    subwords_path=subwords_path,\n",
    ")\n",
    "len(tokenizer_vocab)"
   ]
  },
  {
   "cell_type": "code",
   "execution_count": null,
   "id": "a3588988",
   "metadata": {},
   "outputs": [],
   "source": [
    "# load bi-encoder model\n",
    "be_model = torch.load(be_model_path)\n",
    "be_model.eval()"
   ]
  },
  {
   "cell_type": "code",
   "execution_count": null,
   "id": "ddc9b628",
   "metadata": {},
   "outputs": [],
   "source": [
    "# load cross encoder model\n",
    "ce_model = CrossEncoder(ce_model_dir, max_length=tokenizer_max_length)"
   ]
  },
  {
   "cell_type": "markdown",
   "id": "0065abb3",
   "metadata": {},
   "source": [
    "## Find nearby clusters"
   ]
  },
  {
   "cell_type": "code",
   "execution_count": null,
   "id": "a9e5d3df",
   "metadata": {},
   "outputs": [],
   "source": [
    "def sample_names(cluster):\n",
    "    if not cluster:\n",
    "        return ''\n",
    "    return ' '.join(list(cluster_names[cluster])[:8])"
   ]
  },
  {
   "cell_type": "code",
   "execution_count": null,
   "id": "a1499bc1",
   "metadata": {},
   "outputs": [],
   "source": [
    "def get_nearest_bi_encoder_cluster_scores(cluster, threshold, limit):\n",
    "    embedding = cluster_centroids[cluster_position[cluster]]\n",
    "    return top_similar_names(embedding, cluster_centroids, cluster_centroid_labels, threshold, limit)"
   ]
  },
  {
   "cell_type": "code",
   "execution_count": null,
   "id": "b8def493",
   "metadata": {},
   "outputs": [],
   "source": [
    "def get_cross_encoder_cluster_score(cluster, other_cluster):\n",
    "    pairs = []\n",
    "    total_score = 0\n",
    "    total_pairs = 0\n",
    "    # print('cluster', cluster)\n",
    "    for cluster_name in cluster_names[cluster]:\n",
    "        for other_name in cluster_names[other_cluster]:\n",
    "            if cluster_name == other_name:\n",
    "                total_score += 1.0\n",
    "                total_pairs += 1\n",
    "            else:\n",
    "                pairs.append((cluster_name, other_name))\n",
    "                pairs.append((other_name, cluster_name))\n",
    "    if len(pairs) > 0:\n",
    "        scores = ce_model.predict(pairs)\n",
    "        for ix in range(0, len(scores), 2):\n",
    "            total_score += harmonic_mean([scores[ix], scores[ix+1]])\n",
    "            total_pairs += 1\n",
    "    return total_score / total_pairs"
   ]
  },
  {
   "cell_type": "code",
   "execution_count": null,
   "id": "5f8d9026",
   "metadata": {},
   "outputs": [],
   "source": [
    "# test\n",
    "cluster = 'richard/richard'\n",
    "# get the 100 nearest clusters according to the bi-encoder\n",
    "clusters, scores = get_nearest_bi_encoder_cluster_scores(cluster, limit=10)\n",
    "print(*zip(clusters, scores))"
   ]
  },
  {
   "cell_type": "markdown",
   "id": "e4aa8f87",
   "metadata": {},
   "source": [
    "## Analyze bi-encoder and cross-encoder scores"
   ]
  },
  {
   "cell_type": "code",
   "execution_count": null,
   "id": "a7ecc56b",
   "metadata": {},
   "outputs": [],
   "source": [
    "be_scores = []\n",
    "ce_scores = []\n",
    "low_threshold = 0.01\n",
    "med_threshold = 0.02\n",
    "ce_low_scores = 0\n",
    "ce_med_scores = 0\n",
    "for cluster in tqdm(random.sample(list(clusters.keys()), 100)):\n",
    "    # print(cluster)\n",
    "    nears, scores = get_nearest_bi_encoder_cluster_scores(cluster, be_score_threshold, be_limit)\n",
    "    for near, score in zip(nears, scores):\n",
    "        if cluster == near:\n",
    "            continue\n",
    "        # print(near, score)\n",
    "        try:\n",
    "            ce_score = get_cross_encoder_cluster_score(cluster, near)\n",
    "        except Exception as e:\n",
    "            print(cluster, near, e)\n",
    "            continue\n",
    "        if ce_score < low_threshold:\n",
    "            continue\n",
    "        be_scores.append(score)\n",
    "        ce_scores.append(ce_score)\n",
    "        if ce_score >= low_threshold:\n",
    "            ce_low_scores += 1\n",
    "        if ce_score >= med_threshold:\n",
    "            ce_med_scores += 1\n",
    "print(low_threshold, ce_low_scores, med_threshold, ce_med_scores)"
   ]
  },
  {
   "cell_type": "code",
   "execution_count": null,
   "id": "ea8d3134",
   "metadata": {},
   "outputs": [],
   "source": [
    "plt.scatter(be_scores, ce_scores, s=1, alpha=1)\n",
    "plt.xlim(0.3, 0.5)\n",
    "plt.ylim(0.0, 0.1)"
   ]
  },
  {
   "cell_type": "markdown",
   "id": "d819bd85",
   "metadata": {},
   "source": [
    "### Compute nearby clusters"
   ]
  },
  {
   "cell_type": "code",
   "execution_count": null,
   "id": "9c9c1bc2",
   "metadata": {},
   "outputs": [],
   "source": [
    "near_clusters = {}\n",
    "total_near_clusters = 0\n",
    "for cluster in tqdm(clusters.keys(), mininterval=1.0):\n",
    "    near_scores = []\n",
    "    nears, _ = get_nearest_bi_encoder_cluster_scores(cluster, be_score_threshold, be_limit)\n",
    "    for near in nears:\n",
    "        if cluster == near:\n",
    "            continue\n",
    "        try:\n",
    "            ce_score = get_cross_encoder_cluster_score(cluster, near)\n",
    "        except Exception as e:\n",
    "            print(cluster, near, e)\n",
    "            continue\n",
    "        if ce_score < ce_score_threshold:\n",
    "            continue\n",
    "        near_scores.append((near, ce_score))\n",
    "        total_near_clusters += 1\n",
    "    near_clusters[cluster] = sorted(near_scores, key=lambda x: x[1], reverse=True)\n",
    "total_near_clusters"
   ]
  },
  {
   "cell_type": "markdown",
   "id": "5bddd9c7",
   "metadata": {},
   "source": [
    "## Save nearby clusters"
   ]
  },
  {
   "cell_type": "code",
   "execution_count": null,
   "id": "d23f8872",
   "metadata": {},
   "outputs": [],
   "source": [
    "with open(nearby_clusters_path, 'w') as f:\n",
    "    json.dump(near_clusters, f, indent=2)"
   ]
  },
  {
   "cell_type": "code",
   "execution_count": null,
   "id": "c8af699f",
   "metadata": {},
   "outputs": [],
   "source": []
  }
 ],
 "metadata": {
  "kernelspec": {
   "display_name": "nama",
   "language": "python",
   "name": "nama"
  },
  "language_info": {
   "codemirror_mode": {
    "name": "ipython",
    "version": 3
   },
   "file_extension": ".py",
   "mimetype": "text/x-python",
   "name": "python",
   "nbconvert_exporter": "python",
   "pygments_lexer": "ipython3",
   "version": "3.9.16"
  }
 },
 "nbformat": 4,
 "nbformat_minor": 5
}
