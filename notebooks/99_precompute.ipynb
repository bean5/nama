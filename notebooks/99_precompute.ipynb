{
 "cells": [
  {
   "cell_type": "code",
   "execution_count": null,
   "metadata": {},
   "outputs": [],
   "source": [
    "%load_ext autoreload\n",
    "%autoreload 2\n",
    "%matplotlib inline"
   ]
  },
  {
   "cell_type": "code",
   "execution_count": null,
   "metadata": {
    "pycharm": {
     "name": "#%%\n"
    }
   },
   "outputs": [],
   "source": [
    "from collections import namedtuple\n",
    "import re\n",
    "\n",
    "import pandas as pd\n",
    "import torch\n",
    "import wandb\n",
    "\n",
    "from src.data.filesystem import fopen\n",
    "from src.data.utils import load_datasets, load_nicknames\n",
    "from src.models.cluster import (\n",
    "    read_clusters, \n",
    "    get_clusters, \n",
    "    write_clusters, \n",
    "    write_cluster_scores, \n",
    "    merge_name2clusters\n",
    ")\n",
    "from src.models.swivel import SwivelModel, get_swivel_embeddings, write_swivel_embeddings\n",
    "from src.models.swivel_encoder import SwivelEncoderModel\n",
    "from src.models.utils import add_padding"
   ]
  },
  {
   "cell_type": "code",
   "execution_count": null,
   "metadata": {
    "pycharm": {
     "name": "#%%\n"
    }
   },
   "outputs": [],
   "source": [
    "# Config\n",
    "\n",
    "given_surname = \"given\"\n",
    "vocab_size = 600000 if given_surname == \"given\" else 2100000\n",
    "encoder_vocab_size = vocab_size\n",
    "embed_dim = 100\n",
    "MAX_SEARCH_CLUSTERS = 25\n",
    "\n",
    "Config = namedtuple(\"Config\", [ \n",
    "                    \"pref_name_path\",\n",
    "                    \"train_path\",\n",
    "                    \"test_path\",\n",
    "                    \"swivel_vocab_path\",\n",
    "                    \"swivel_model_path\",\n",
    "#                     \"encoder_model_path\",\n",
    "                    \"nicknames_path\",\n",
    "                    \"cluster_path\",\n",
    "                    \"embed_dim\",\n",
    "                    \"max_search_clusters\",\n",
    "                    \"embed_out_path\",\n",
    "                    \"cluster_scores_out_path\"])\n",
    "config = Config(\n",
    "    pref_name_path=f\"s3://familysearch-names/processed/tree-preferred-{given_surname}-aggr.csv.gz\",\n",
    "    train_path=f\"s3://familysearch-names/processed/tree-hr-{given_surname}-train.csv.gz\",\n",
    "    test_path=f\"s3://familysearch-names/processed/tree-hr-{given_surname}-test.csv.gz\",\n",
    "    nicknames_path=\"../references/givenname_nicknames.csv\",\n",
    "    embed_dim=embed_dim,\n",
    "    max_search_clusters=MAX_SEARCH_CLUSTERS,\n",
    "    swivel_vocab_path=f\"s3://nama-data/data/models/fs-{given_surname}-swivel-vocab-{vocab_size}.csv\",\n",
    "    swivel_model_path=f\"s3://nama-data/data/models/fs-{given_surname}-swivel-model-{vocab_size}-{embed_dim}.pth\",\n",
    "#     encoder_model_path=f\"s3://nama-data/data/models/fs-{given_surname}-encoder-model-{encoder_vocab_size}-{embed_dim}.pth\",\n",
    "    cluster_path=     f\"s3://nama-data/data/models/fs-{given_surname}-clusters-{vocab_size}-{embed_dim}.csv.gz\",\n",
    "    embed_out_path=   f\"s3://nama-data/data/processed/fs-{given_surname}-embeddings-{vocab_size}-{embed_dim}-precomputed.jsonl.gz\",\n",
    "    cluster_scores_out_path=f\"s3://nama-data/data/processed/fs-{given_surname}-cluster-scores-{vocab_size}-{embed_dim}-precomputed.jsonl.gz\",\n",
    ")"
   ]
  },
  {
   "cell_type": "code",
   "execution_count": null,
   "metadata": {
    "pycharm": {
     "name": "#%%\n"
    }
   },
   "outputs": [],
   "source": [
    "wandb.init(\n",
    "    project=\"nama\",\n",
    "    entity=\"nama\",\n",
    "    name=\"99_precompute\",\n",
    "    group=given_surname,\n",
    "    notes=\"\",\n",
    "    config=config._asdict()\n",
    ")"
   ]
  },
  {
   "cell_type": "markdown",
   "metadata": {
    "pycharm": {
     "name": "#%% md\n"
    }
   },
   "source": [
    "### Load data"
   ]
  },
  {
   "cell_type": "code",
   "execution_count": null,
   "metadata": {
    "pycharm": {
     "name": "#%%\n"
    }
   },
   "outputs": [],
   "source": [
    "pref_names = pd.read_csv(config.pref_name_path, na_filter=False)[\"name\"].tolist()"
   ]
  },
  {
   "cell_type": "code",
   "execution_count": null,
   "metadata": {},
   "outputs": [],
   "source": [
    "alpha = re.compile(\"[a-z]+\")\n",
    "pref_names = [add_padding(name) for name in pref_names if name and alpha.fullmatch(name)]"
   ]
  },
  {
   "cell_type": "code",
   "execution_count": null,
   "metadata": {},
   "outputs": [],
   "source": [
    "train, test = load_datasets([config.train_path, config.test_path])\n",
    "\n",
    "input_names_train, weighted_actual_names_train, candidate_names_train = train\n",
    "input_names_test, weighted_actual_names_test, candidate_names_test = test"
   ]
  },
  {
   "cell_type": "code",
   "execution_count": null,
   "metadata": {},
   "outputs": [],
   "source": [
    "names = list(set().union(pref_names, \n",
    "                         input_names_train, \n",
    "                         candidate_names_train, \n",
    "                         input_names_test, \n",
    "                         candidate_names_test, \n",
    "                        ))\n",
    "print(len(names))"
   ]
  },
  {
   "cell_type": "code",
   "execution_count": null,
   "metadata": {
    "pycharm": {
     "name": "#%%\n"
    }
   },
   "outputs": [],
   "source": [
    "name2variants = load_nicknames(config.nicknames_path)"
   ]
  },
  {
   "cell_type": "code",
   "execution_count": null,
   "metadata": {
    "pycharm": {
     "name": "#%%\n"
    }
   },
   "outputs": [],
   "source": [
    "device = torch.device(\"cuda:0\" if torch.cuda.is_available() else \"cpu\")\n",
    "print(device)"
   ]
  },
  {
   "cell_type": "code",
   "execution_count": null,
   "metadata": {
    "pycharm": {
     "name": "#%%\n"
    }
   },
   "outputs": [],
   "source": [
    "swivel_vocab_df = pd.read_csv(fopen(config.swivel_vocab_path, \"rb\"))\n",
    "print(swivel_vocab_df.head(5))"
   ]
  },
  {
   "cell_type": "code",
   "execution_count": null,
   "metadata": {
    "pycharm": {
     "name": "#%%\n"
    }
   },
   "outputs": [],
   "source": [
    "swivel_vocab = {name: _id for name, _id in zip(swivel_vocab_df[\"name\"], swivel_vocab_df[\"index\"])}\n",
    "print(swivel_vocab[\"<john>\"])"
   ]
  },
  {
   "cell_type": "code",
   "execution_count": null,
   "metadata": {
    "pycharm": {
     "name": "#%%\n"
    }
   },
   "outputs": [],
   "source": [
    "swivel_model = SwivelModel(len(swivel_vocab), embedding_dim=config.embed_dim)\n",
    "swivel_model.load_state_dict(torch.load(fopen(config.swivel_model_path, \"rb\"), map_location=torch.device(device)))\n",
    "swivel_model.to(device)\n",
    "swivel_model.eval()\n",
    "print(swivel_model)"
   ]
  },
  {
   "cell_type": "code",
   "execution_count": null,
   "metadata": {
    "pycharm": {
     "name": "#%%\n"
    }
   },
   "outputs": [],
   "source": [
    "encoder_model=None\n",
    "# encoder_model = SwivelEncoderModel(output_dim=config.embed_dim, device=device)\n",
    "# encoder_model.load_state_dict(torch.load(fopen(config.encoder_model_path, \"rb\"), map_location=torch.device(device)))\n",
    "# encoder_model.to(device)\n",
    "# encoder_model.eval()\n",
    "# print(encoder_model)"
   ]
  },
  {
   "cell_type": "code",
   "execution_count": null,
   "metadata": {
    "pycharm": {
     "name": "#%%\n"
    }
   },
   "outputs": [],
   "source": [
    "name2cluster = read_clusters(config.cluster_path)\n",
    "clustered_names = list(name2cluster.keys())\n",
    "clustered_name2cluster_id =list(name2cluster.values())\n",
    "print(\"cluster_names\", len(clustered_names))"
   ]
  },
  {
   "cell_type": "markdown",
   "metadata": {
    "pycharm": {
     "name": "#%% md\n"
    }
   },
   "source": [
    "### Calc embeddings"
   ]
  },
  {
   "cell_type": "code",
   "execution_count": null,
   "metadata": {
    "pycharm": {
     "name": "#%%\n"
    }
   },
   "outputs": [],
   "source": [
    "%%time\n",
    "clustered_name_embeddings = get_swivel_embeddings(model=swivel_model,\n",
    "                                                  vocab=swivel_vocab,\n",
    "                                                  names=clustered_names,\n",
    "                                                  encoder_model=encoder_model)"
   ]
  },
  {
   "cell_type": "code",
   "execution_count": null,
   "metadata": {
    "pycharm": {
     "name": "#%%\n"
    }
   },
   "outputs": [],
   "source": [
    "%%time\n",
    "name_embeddings = get_swivel_embeddings(model=swivel_model,\n",
    "                                        vocab=swivel_vocab,\n",
    "                                        names=names,\n",
    "                                        encoder_model=encoder_model)"
   ]
  },
  {
   "cell_type": "code",
   "execution_count": null,
   "metadata": {},
   "outputs": [],
   "source": [
    "print(names[:10])\n",
    "print(name_embeddings[:10])"
   ]
  },
  {
   "cell_type": "markdown",
   "metadata": {},
   "source": [
    "### Write embeddings"
   ]
  },
  {
   "cell_type": "code",
   "execution_count": null,
   "metadata": {},
   "outputs": [],
   "source": [
    "%%time\n",
    "write_swivel_embeddings(config.embed_out_path, names, name_embeddings)"
   ]
  },
  {
   "cell_type": "markdown",
   "metadata": {
    "pycharm": {
     "name": "#%% md\n"
    }
   },
   "source": [
    "### Calc cluster scores"
   ]
  },
  {
   "cell_type": "markdown",
   "metadata": {},
   "source": [
    "#### test"
   ]
  },
  {
   "cell_type": "code",
   "execution_count": null,
   "metadata": {},
   "outputs": [],
   "source": [
    "test_names = names[:10]\n",
    "test_embeddings = name_embeddings[:10]\n",
    "name2clusters, cluster2names = get_clusters(test_names,\n",
    "                                            test_embeddings,\n",
    "                                            clustered_name2cluster_id,\n",
    "                                            clustered_name_embeddings,\n",
    "                                            k=1024,\n",
    "                                            max_clusters=config.max_search_clusters,\n",
    "                                            verbose=True,\n",
    "                                           )"
   ]
  },
  {
   "cell_type": "code",
   "execution_count": null,
   "metadata": {},
   "outputs": [],
   "source": [
    "print(name2clusters)"
   ]
  },
  {
   "cell_type": "code",
   "execution_count": null,
   "metadata": {},
   "outputs": [],
   "source": [
    "print(cluster2names)"
   ]
  },
  {
   "cell_type": "markdown",
   "metadata": {},
   "source": [
    "#### calc all cluster scores"
   ]
  },
  {
   "cell_type": "code",
   "execution_count": null,
   "metadata": {
    "pycharm": {
     "name": "#%%\n"
    }
   },
   "outputs": [],
   "source": [
    "%%time\n",
    "name2clusters, _ = get_clusters(names,\n",
    "                                name_embeddings,\n",
    "                                clustered_name2cluster_id,\n",
    "                                clustered_name_embeddings,\n",
    "                                k=1024,\n",
    "                                max_clusters=config.max_search_clusters,\n",
    "                                verbose=True,\n",
    "                               )"
   ]
  },
  {
   "cell_type": "markdown",
   "metadata": {
    "pycharm": {
     "name": "#%% md\n"
    }
   },
   "source": [
    "### Write cluster scores"
   ]
  },
  {
   "cell_type": "markdown",
   "metadata": {
    "pycharm": {
     "name": "#%% md\n"
    }
   },
   "source": [
    "#### add nicknames"
   ]
  },
  {
   "cell_type": "code",
   "execution_count": null,
   "metadata": {},
   "outputs": [],
   "source": [
    "def get_variant_cluster_scores(name2variants, name2clusters):\n",
    "    variant_cluster_scores = {}\n",
    "    for name, variants in name2variants.items():\n",
    "        # gather cluster scores for each variant\n",
    "        cluster_scores = {}\n",
    "        for variant in variants:\n",
    "            cluster_scores[variant] = name2clusters[variant]\n",
    "        variant_cluster_scores[name] = merge_name2clusters(cluster_scores)    \n",
    "    return variant_cluster_scores"
   ]
  },
  {
   "cell_type": "code",
   "execution_count": null,
   "metadata": {
    "pycharm": {
     "name": "#%%\n"
    }
   },
   "outputs": [],
   "source": [
    "if given_surname == \"given\":\n",
    "    variant_cluster_scores = get_variant_cluster_scores(name2variants, name2clusters)\n",
    "    for name, cluster_scores in variant_cluster_scores.items():\n",
    "        # replace single-name cluster-scores with the merged cluster-scores for each variant\n",
    "        name2clusters[name] = cluster_scores"
   ]
  },
  {
   "cell_type": "code",
   "execution_count": null,
   "metadata": {},
   "outputs": [],
   "source": [
    "write_cluster_scores(config.cluster_scores_out_path, name2clusters)"
   ]
  },
  {
   "cell_type": "code",
   "execution_count": null,
   "metadata": {
    "pycharm": {
     "name": "#%%\n"
    }
   },
   "outputs": [],
   "source": [
    "wandb.finish()"
   ]
  },
  {
   "cell_type": "markdown",
   "metadata": {},
   "source": [
    "### Test"
   ]
  },
  {
   "cell_type": "code",
   "execution_count": null,
   "metadata": {},
   "outputs": [],
   "source": [
    "given_surname = \"given\"\n",
    "name2clusters = {\"john\": [(\"1\", 0.9), (\"2\", 0.6), (\"3\", 0.5)],\n",
    "                 \"mary\": [(\"4\", 1.0), (\"5\", 0.8), (\"6\", 0.3)],\n",
    "                 \"johnny\": [(\"2\", 1.0), (\"7\", 0.5), (\"3\", 0.2)]\n",
    "                }\n",
    "name2variants = {\"john\": set([\"john\", \"johnny\"]), \n",
    "                 \"johnny\": set([\"john\", \"johnny\"])\n",
    "                }"
   ]
  },
  {
   "cell_type": "code",
   "execution_count": null,
   "metadata": {},
   "outputs": [],
   "source": [
    "variant_cluster_scores = get_variant_cluster_scores(name2variants, name2clusters)\n",
    "for name, cluster_scores in variant_cluster_scores.items():\n",
    "    # replace single-name cluster-scores with the merged cluster-scores for each variant\n",
    "    name2clusters[name] = cluster_scores\n",
    "print(name2clusters)"
   ]
  },
  {
   "cell_type": "code",
   "execution_count": null,
   "metadata": {},
   "outputs": [],
   "source": []
  }
 ],
 "metadata": {
  "kernelspec": {
   "display_name": "Python 3 (ipykernel)",
   "language": "python",
   "name": "python3"
  },
  "language_info": {
   "codemirror_mode": {
    "name": "ipython",
    "version": 3
   },
   "file_extension": ".py",
   "mimetype": "text/x-python",
   "name": "python",
   "nbconvert_exporter": "python",
   "pygments_lexer": "ipython3",
   "version": "3.8.12"
  }
 },
 "nbformat": 4,
 "nbformat_minor": 1
}
