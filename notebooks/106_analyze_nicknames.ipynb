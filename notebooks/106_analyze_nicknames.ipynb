{
 "cells": [
  {
   "cell_type": "code",
   "execution_count": null,
   "id": "8837d91e",
   "metadata": {},
   "outputs": [],
   "source": [
    "%load_ext autoreload\n",
    "%autoreload 2"
   ]
  },
  {
   "cell_type": "markdown",
   "id": "8622d4a1",
   "metadata": {},
   "source": [
    "# Analyze Given Name Nicknames"
   ]
  },
  {
   "cell_type": "code",
   "execution_count": null,
   "id": "1f94d97f",
   "metadata": {},
   "outputs": [],
   "source": [
    "from collections import defaultdict\n",
    "\n",
    "import boto3\n",
    "import pandas as pd\n",
    "\n",
    "from src.data.normalize import normalize_freq_names"
   ]
  },
  {
   "cell_type": "code",
   "execution_count": null,
   "id": "c63a44a1",
   "metadata": {},
   "outputs": [],
   "source": [
    "nickname_bucket = \"familysearch-names\"\n",
    "nickname_path = \"processed/givenname_nicknames.csv\""
   ]
  },
  {
   "cell_type": "markdown",
   "id": "a1e362a2",
   "metadata": {},
   "source": [
    "## Read data"
   ]
  },
  {
   "cell_type": "code",
   "execution_count": null,
   "id": "f719eb98",
   "metadata": {},
   "outputs": [],
   "source": [
    "s3 = boto3.resource('s3')\n",
    "\n",
    "nicknames = defaultdict(set)\n",
    "nickname_heads = set()\n",
    "nickname_tails = set()\n",
    "obj = s3.Object(nickname_bucket, nickname_path)\n",
    "contents = obj.get()['Body'].read().decode('utf-8')\n",
    "for ix, line in enumerate(contents.split('\\n')):\n",
    "    line = line.strip()\n",
    "    names = line.split(',')\n",
    "    headname = names[0]\n",
    "    nickname_heads.add(headname)\n",
    "    for name in names[1:]:\n",
    "        nickname_tails.add(name)\n",
    "        if name != headname:\n",
    "            nicknames[name].add(headname)\n",
    "print(len(nicknames))\n",
    "print(len(nickname_heads))\n",
    "print(len(nickname_tails))"
   ]
  },
  {
   "cell_type": "markdown",
   "id": "37c1ec13",
   "metadata": {},
   "source": [
    "## Nickname heads that are also tails"
   ]
  },
  {
   "cell_type": "code",
   "execution_count": null,
   "id": "1ca4937b",
   "metadata": {},
   "outputs": [],
   "source": [
    "nickname_heads & nickname_tails"
   ]
  },
  {
   "cell_type": "markdown",
   "id": "8855ddb7",
   "metadata": {},
   "source": [
    "## Names with multiple nickname heads"
   ]
  },
  {
   "cell_type": "code",
   "execution_count": null,
   "id": "00c8424c",
   "metadata": {},
   "outputs": [],
   "source": [
    "cnt = 0\n",
    "for name, heads in nicknames.items():\n",
    "    if len(heads) > 1:\n",
    "        print(name, heads)\n",
    "        cnt += 1\n",
    "print(cnt)"
   ]
  },
  {
   "cell_type": "code",
   "execution_count": null,
   "id": "e7282219",
   "metadata": {},
   "outputs": [],
   "source": []
  }
 ],
 "metadata": {
  "kernelspec": {
   "display_name": "nama",
   "language": "python",
   "name": "nama"
  },
  "language_info": {
   "codemirror_mode": {
    "name": "ipython",
    "version": 3
   },
   "file_extension": ".py",
   "mimetype": "text/x-python",
   "name": "python",
   "nbconvert_exporter": "python",
   "pygments_lexer": "ipython3",
   "version": "3.8.12"
  }
 },
 "nbformat": 4,
 "nbformat_minor": 5
}
