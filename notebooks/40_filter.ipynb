{
 "cells": [
  {
   "cell_type": "code",
   "execution_count": null,
   "metadata": {},
   "outputs": [],
   "source": [
    "%load_ext autoreload\n",
    "%autoreload 2"
   ]
  },
  {
   "cell_type": "markdown",
   "metadata": {},
   "source": [
    "# Graph aggregate statistics and select similar and dissimilar pairs\n",
    "We will develop a similarity model for similar pairs; someone will review dissimilar pairs to find nicknames that we will incorporate later"
   ]
  },
  {
   "cell_type": "code",
   "execution_count": null,
   "metadata": {},
   "outputs": [],
   "source": [
    "import matplotlib.pyplot as plt\n",
    "import dask.dataframe as dd\n",
    "from dask.diagnostics import ProgressBar"
   ]
  },
  {
   "cell_type": "code",
   "execution_count": null,
   "metadata": {},
   "outputs": [],
   "source": [
    "in_path = \"s3://familysearch-names/interim/tree-hr-surname-aggr/\"\n",
    "similar_out_path = \"s3://nama-data/data/interim/tree-hr-surname-similar.csv\"\n",
    "dissimilar_out_path = \"s3://nama-data/data/interim/tree-hr-surname-dissimilar.csv\"\n",
    "# min_freq is 20 for surnames, 5 for given\n",
    "min_freq = 20"
   ]
  },
  {
   "cell_type": "code",
   "execution_count": null,
   "metadata": {},
   "outputs": [],
   "source": [
    "ProgressBar().register()"
   ]
  },
  {
   "cell_type": "code",
   "execution_count": null,
   "metadata": {},
   "outputs": [],
   "source": [
    "df = dd.read_parquet(in_path).compute()\n",
    "print(df.shape)"
   ]
  },
  {
   "cell_type": "code",
   "execution_count": null,
   "metadata": {},
   "outputs": [],
   "source": [
    "df.sample(n=10)"
   ]
  },
  {
   "cell_type": "code",
   "execution_count": null,
   "metadata": {},
   "outputs": [],
   "source": [
    "# review low-frequency names\n",
    "df[(df[\"total_name_frequency\"] < 100) | (df[\"total_alt_name_frequency\"] < 100)].sample(n=25)"
   ]
  },
  {
   "cell_type": "code",
   "execution_count": null,
   "metadata": {},
   "outputs": [],
   "source": [
    "# remove low-frequency names\n",
    "# freq = df[(df[\"total_name_frequency\"] >= 100) & (df[\"total_alt_name_frequency\"] >= 100)]"
   ]
  },
  {
   "cell_type": "code",
   "execution_count": null,
   "metadata": {
    "lines_to_next_cell": 2
   },
   "outputs": [],
   "source": [
    "\n",
    "fig, axs = plt.subplots(3, 1, figsize=(16, 16))\n",
    "axs[0].hist(df[\"ordered_prob\"], bins=20, log=True)\n",
    "axs[0].set_title(\"ordered_prob\")\n",
    "axs[1].hist(df[\"unordered_prob\"], bins=20, log=True)\n",
    "axs[1].set_title(\"unordered_prob\")\n",
    "axs[2].hist(df[\"similarity\"], bins=20)\n",
    "axs[2].set_title(\"similarity\")"
   ]
  },
  {
   "cell_type": "code",
   "execution_count": null,
   "metadata": {},
   "outputs": [],
   "source": [
    "plt.figure(figsize=(16, 8))\n",
    "plt.hist(df[\"total_name_frequency\"], bins=100, range=(1, 1000000), log=True)\n",
    "plt.title(\"total_name_frequency\")"
   ]
  },
  {
   "cell_type": "code",
   "execution_count": null,
   "metadata": {},
   "outputs": [],
   "source": [
    "plt.figure(figsize=(16, 8))\n",
    "plt.scatter(x=df[\"similarity\"], y=df[\"unordered_prob\"])\n",
    "plt.title(\"similarity vs probability\")\n",
    "plt.xlabel(\"similarity\")\n",
    "plt.ylabel(\"unordered_prob\")"
   ]
  },
  {
   "cell_type": "code",
   "execution_count": null,
   "metadata": {},
   "outputs": [],
   "source": [
    "print(df.shape)"
   ]
  },
  {
   "cell_type": "code",
   "execution_count": null,
   "metadata": {},
   "outputs": [],
   "source": [
    "# remove low similarity and low frequency\n",
    "freq = df[(df[\"similarity\"] > 0.4) & (df[\"frequency\"] > 1)]\n",
    "print(freq.shape)\n",
    "freq.sample(n=25)"
   ]
  },
  {
   "cell_type": "code",
   "execution_count": null,
   "metadata": {},
   "outputs": [],
   "source": [
    "# consider removing low-similarity, low-frequency, and low-probability pairs\n",
    "low_sim_to_remove_indexes = (freq[\"similarity\"] < 0.55) & ((freq[\"frequency\"] < min_freq) | (freq[\"ordered_prob\"] < .10))\n",
    "low_sim_to_keep_indexes = (freq[\"similarity\"] < 0.55) & ~((freq[\"frequency\"] < min_freq) | (freq[\"ordered_prob\"] < .10))\n",
    "low_sim_to_remove = freq[low_sim_to_remove_indexes]\n",
    "low_sim_to_keep = freq[low_sim_to_keep_indexes]"
   ]
  },
  {
   "cell_type": "code",
   "execution_count": null,
   "metadata": {},
   "outputs": [],
   "source": [
    "print(low_sim_to_remove.shape)\n",
    "low_sim_to_remove.sample(n=25)"
   ]
  },
  {
   "cell_type": "code",
   "execution_count": null,
   "metadata": {},
   "outputs": [],
   "source": [
    "print(low_sim_to_keep.shape)\n",
    "low_sim_to_keep.sample(n=50)"
   ]
  },
  {
   "cell_type": "code",
   "execution_count": null,
   "metadata": {},
   "outputs": [],
   "source": [
    "# remove noisy pairs as defined above\n",
    "sim = freq[~low_sim_to_remove_indexes]\n",
    "print(sim.shape)\n",
    "# review suspicious pairs\n",
    "print(sim[sim[\"similarity\"] < 0.55].shape)\n",
    "sim[sim[\"similarity\"] < 0.55].sample(n=25)"
   ]
  },
  {
   "cell_type": "code",
   "execution_count": null,
   "metadata": {},
   "outputs": [],
   "source": [
    "# review dissimilar but frequent pairs\n",
    "dis = df[\n",
    "    (df[\"similarity\"] <= 0.4) & ((df[\"frequency\"] + df[\"reverse_frequency\"]) >= 1000)\n",
    "]\n",
    "print(dis.shape)\n",
    "dis.sample(n=25)"
   ]
  },
  {
   "cell_type": "code",
   "execution_count": null,
   "metadata": {},
   "outputs": [],
   "source": [
    "# write similar and dissimilar pairs\n",
    "sim.to_csv(similar_out_path, index=False)\n",
    "dis.to_csv(dissimilar_out_path, index=False)"
   ]
  },
  {
   "cell_type": "code",
   "execution_count": null,
   "metadata": {
    "pycharm": {
     "name": "#%%\n"
    }
   },
   "outputs": [],
   "source": []
  }
 ],
 "metadata": {
  "interpreter": {
   "hash": "0715013af127e2dc4bb03749d8253e928c185e319349e2573055324de1fe4a80"
  },
  "jupytext": {
   "main_language": "python"
  },
  "kernelspec": {
   "display_name": "Python 3.8.12 64-bit ('nama': conda)",
   "name": "python3"
  },
  "language_info": {
   "codemirror_mode": {
    "name": "ipython",
    "version": 3
   },
   "file_extension": ".py",
   "mimetype": "text/x-python",
   "name": "python",
   "nbconvert_exporter": "python",
   "pygments_lexer": "ipython3",
   "version": "3.8.12"
  }
 },
 "nbformat": 4,
 "nbformat_minor": 2
}
