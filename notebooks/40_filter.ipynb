{
 "cells": [
  {
   "cell_type": "code",
   "execution_count": null,
   "metadata": {
    "pycharm": {
     "name": "#%%\n"
    }
   },
   "outputs": [],
   "source": [
    "%load_ext autoreload\n",
    "%autoreload 2"
   ]
  },
  {
   "cell_type": "markdown",
   "metadata": {
    "pycharm": {
     "name": "#%% md\n"
    }
   },
   "source": [
    "# Graph aggregate statistics and select similar and dissimilar pairs\n",
    "We will develop a similarity model for similar pairs; someone will review dissimilar pairs to find nicknames that we will incorporate later"
   ]
  },
  {
   "cell_type": "code",
   "execution_count": null,
   "metadata": {
    "pycharm": {
     "name": "#%%\n"
    }
   },
   "outputs": [],
   "source": [
    "from collections import namedtuple\n",
    "\n",
    "import matplotlib.pyplot as plt\n",
    "import pandas as pd\n",
    "import wandb"
   ]
  },
  {
   "cell_type": "code",
   "execution_count": null,
   "metadata": {
    "pycharm": {
     "name": "#%%\n"
    }
   },
   "outputs": [],
   "source": [
    "given_surname = \"surname\"\n",
    "Config = namedtuple(\"Config\", \"in_path min_freq similar_out_path dissimilar_out_path\")\n",
    "config = Config(\n",
    "    in_path=f\"s3://familysearch-names/interim/tree-hr-{given_surname}-aggr.parquet\",\n",
    "    min_freq = 20 if given_surname == \"surname\" else 5,\n",
    "    similar_out_path=f\"s3://familysearch-names/processed/tree-hr-{given_surname}-similar.csv.gz\",\n",
    "    dissimilar_out_path=f\"s3://familysearch-names/processed/tree-hr-{given_surname}-dissimilar.csv.gz\",\n",
    ")"
   ]
  },
  {
   "cell_type": "code",
   "execution_count": null,
   "metadata": {
    "pycharm": {
     "name": "#%%\n"
    }
   },
   "outputs": [],
   "source": [
    "wandb.init(\n",
    "    project=\"nama\",\n",
    "    entity=\"nama\",\n",
    "    name=\"40_filter\",\n",
    "    group=given_surname,\n",
    "    notes=\"\",\n",
    "    config=config._asdict()\n",
    ")"
   ]
  },
  {
   "cell_type": "code",
   "execution_count": null,
   "metadata": {
    "pycharm": {
     "name": "#%%\n"
    }
   },
   "outputs": [],
   "source": [
    "df = pd.read_parquet(config.in_path)\n",
    "print(df.shape)"
   ]
  },
  {
   "cell_type": "code",
   "execution_count": null,
   "metadata": {
    "pycharm": {
     "name": "#%%\n"
    }
   },
   "outputs": [],
   "source": [
    "df.sample(n=10)"
   ]
  },
  {
   "cell_type": "code",
   "execution_count": null,
   "metadata": {
    "pycharm": {
     "name": "#%%\n"
    }
   },
   "outputs": [],
   "source": [
    "# review low-frequency names\n",
    "df[(df[\"total_name_frequency\"] < 100) | (df[\"total_alt_name_frequency\"] < 100)].sample(n=25)"
   ]
  },
  {
   "cell_type": "code",
   "execution_count": null,
   "metadata": {
    "lines_to_next_cell": 2,
    "pycharm": {
     "name": "#%%\n"
    }
   },
   "outputs": [],
   "source": [
    "fig, axs = plt.subplots(3, 1, figsize=(16, 16))\n",
    "axs[0].hist(df[\"ordered_prob\"], bins=20, log=True)\n",
    "axs[0].set_title(\"ordered_prob\")\n",
    "axs[1].hist(df[\"unordered_prob\"], bins=20, log=True)\n",
    "axs[1].set_title(\"unordered_prob\")\n",
    "axs[2].hist(df[\"similarity\"], bins=20)\n",
    "axs[2].set_title(\"similarity\")"
   ]
  },
  {
   "cell_type": "code",
   "execution_count": null,
   "metadata": {
    "pycharm": {
     "name": "#%%\n"
    }
   },
   "outputs": [],
   "source": [
    "plt.figure(figsize=(16, 8))\n",
    "plt.hist(df[\"total_name_frequency\"], bins=100, range=(1, 1000000), log=True)\n",
    "plt.title(\"total_name_frequency\")"
   ]
  },
  {
   "cell_type": "code",
   "execution_count": null,
   "metadata": {
    "pycharm": {
     "name": "#%%\n"
    }
   },
   "outputs": [],
   "source": [
    "plt.figure(figsize=(16, 8))\n",
    "plt.scatter(x=df[\"similarity\"], y=df[\"unordered_prob\"])\n",
    "plt.title(\"similarity vs probability\")\n",
    "plt.xlabel(\"similarity\")\n",
    "plt.ylabel(\"unordered_prob\")"
   ]
  },
  {
   "cell_type": "code",
   "execution_count": null,
   "metadata": {
    "pycharm": {
     "name": "#%%\n"
    }
   },
   "outputs": [],
   "source": [
    "print(df.shape)"
   ]
  },
  {
   "cell_type": "code",
   "execution_count": null,
   "metadata": {
    "pycharm": {
     "name": "#%%\n"
    }
   },
   "outputs": [],
   "source": [
    "# remove low similarity and low frequency\n",
    "freq = df[(df[\"similarity\"] > 0.4) & (df[\"frequency\"] > 1)]\n",
    "print(freq.shape)\n",
    "freq.sample(n=25)"
   ]
  },
  {
   "cell_type": "code",
   "execution_count": null,
   "metadata": {
    "pycharm": {
     "name": "#%%\n"
    }
   },
   "outputs": [],
   "source": [
    "# consider removing low-similarity, low-frequency, and low-probability pairs\n",
    "low_sim_to_remove_indexes = (freq[\"similarity\"] < 0.55) & ((freq[\"frequency\"] < config.min_freq) | (freq[\"ordered_prob\"] < .08))\n",
    "low_sim_to_keep_indexes = (freq[\"similarity\"] < 0.55) & ~((freq[\"frequency\"] < config.min_freq) | (freq[\"ordered_prob\"] < .08))\n",
    "low_sim_to_remove = freq[low_sim_to_remove_indexes]\n",
    "low_sim_to_keep = freq[low_sim_to_keep_indexes]"
   ]
  },
  {
   "cell_type": "code",
   "execution_count": null,
   "metadata": {
    "pycharm": {
     "name": "#%%\n"
    }
   },
   "outputs": [],
   "source": [
    "print(low_sim_to_remove.shape)\n",
    "low_sim_to_remove.sample(n=25)"
   ]
  },
  {
   "cell_type": "code",
   "execution_count": null,
   "metadata": {
    "pycharm": {
     "name": "#%%\n"
    }
   },
   "outputs": [],
   "source": [
    "print(low_sim_to_keep.shape)\n",
    "low_sim_to_keep.sample(n=50)"
   ]
  },
  {
   "cell_type": "code",
   "execution_count": null,
   "metadata": {
    "pycharm": {
     "name": "#%%\n"
    }
   },
   "outputs": [],
   "source": [
    "# remove noisy pairs as defined above\n",
    "sim = freq[~low_sim_to_remove_indexes]\n",
    "print(sim.shape)\n",
    "# review suspicious pairs\n",
    "print(sim[sim[\"similarity\"] < 0.55].shape)\n",
    "sim[sim[\"similarity\"] < 0.55].sample(n=25)"
   ]
  },
  {
   "cell_type": "code",
   "execution_count": null,
   "metadata": {
    "pycharm": {
     "name": "#%%\n"
    }
   },
   "outputs": [],
   "source": [
    "# review dissimilar but frequent pairs\n",
    "dis = df[\n",
    "    (df[\"similarity\"] <= 0.4) & ((df[\"frequency\"] + df[\"reverse_frequency\"]) >= 1000)\n",
    "]\n",
    "print(dis.shape)\n",
    "dis.sample(n=25)"
   ]
  },
  {
   "cell_type": "code",
   "execution_count": null,
   "metadata": {
    "pycharm": {
     "name": "#%%\n"
    }
   },
   "outputs": [],
   "source": [
    "# write similar and dissimilar pairs\n",
    "sim.to_csv(config.similar_out_path, index=False)\n",
    "dis.to_csv(config.dissimilar_out_path, index=False)"
   ]
  },
  {
   "cell_type": "code",
   "execution_count": null,
   "metadata": {
    "pycharm": {
     "name": "#%%\n"
    }
   },
   "outputs": [],
   "source": [
    "wandb.finish()"
   ]
  },
  {
   "cell_type": "code",
   "execution_count": null,
   "metadata": {
    "pycharm": {
     "name": "#%%\n"
    }
   },
   "outputs": [],
   "source": []
  }
 ],
 "metadata": {
  "interpreter": {
   "hash": "0715013af127e2dc4bb03749d8253e928c185e319349e2573055324de1fe4a80"
  },
  "jupytext": {
   "main_language": "python"
  },
  "kernelspec": {
   "display_name": "nama",
   "language": "python",
   "name": "nama"
  },
  "language_info": {
   "codemirror_mode": {
    "name": "ipython",
    "version": 3
   },
   "file_extension": ".py",
   "mimetype": "text/x-python",
   "name": "python",
   "nbconvert_exporter": "python",
   "pygments_lexer": "ipython3",
   "version": "3.8.12"
  }
 },
 "nbformat": 4,
 "nbformat_minor": 2
}
