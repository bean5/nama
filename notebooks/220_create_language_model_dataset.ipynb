{
 "cells": [
  {
   "cell_type": "code",
   "execution_count": null,
   "id": "0ccd0eb4",
   "metadata": {},
   "outputs": [],
   "source": [
    "%load_ext autoreload\n",
    "%autoreload 2"
   ]
  },
  {
   "cell_type": "markdown",
   "id": "e4043a66",
   "metadata": {},
   "source": [
    "# Create dataset for training base Roberta masked language model\n",
    "\n",
    "Use preferred tree name and tree-record pairs to create two lists of names to train a Roberta masked language model."
   ]
  },
  {
   "cell_type": "code",
   "execution_count": null,
   "id": "2525d3d7",
   "metadata": {},
   "outputs": [],
   "source": [
    "import os\n",
    "import random\n",
    "\n",
    "from mpire import WorkerPool\n",
    "import pandas as pd\n",
    "from tqdm import tqdm\n",
    "\n",
    "from src.data.filesystem import glob\n",
    "from src.data.normalize import normalize"
   ]
  },
  {
   "cell_type": "code",
   "execution_count": null,
   "id": "bd5420dc",
   "metadata": {},
   "outputs": [],
   "source": [
    "given_surname = 'given'\n",
    "\n",
    "pref_path = f\"s3://familysearch-names/processed/tree-preferred-{given_surname}-aggr.csv.gz\"\n",
    "# copy tree_hr files locally to improve performance: aws s3 sync s3://familysearch-names/interim/tree-hr-{given_surname} tree-hr-{given_surname}\n",
    "# tree_hr_path = f\"s3://familysearch-names/interim/tree-hr-{given_surname}/\"\n",
    "tree_hr_path = f\"../data/tree-hr-{given_surname}/\"\n",
    "\n",
    "output_dir = \"../data/processed/\""
   ]
  },
  {
   "cell_type": "code",
   "execution_count": null,
   "id": "3435fc5f",
   "metadata": {},
   "outputs": [],
   "source": [
    "def normalize_name(name):\n",
    "    return normalize(\n",
    "        name, \n",
    "        is_surname=given_surname == 'surname', \n",
    "        preserve_wildcards=False,\n",
    "        handle_patronymics=True, \n",
    "        dont_return_empty=False,\n",
    "    )\n",
    "\n",
    "def save_names(output_path, names):\n",
    "    with open(output_path, 'w', encoding='utf-8') as f:\n",
    "        for name in names:\n",
    "            f.write(name + '\\n')"
   ]
  },
  {
   "cell_type": "markdown",
   "id": "fcc1e674",
   "metadata": {},
   "source": [
    "### Save preferred tree names"
   ]
  },
  {
   "cell_type": "code",
   "execution_count": null,
   "id": "cbc923e6",
   "metadata": {},
   "outputs": [],
   "source": [
    "pref_df = pd.read_csv(pref_path, na_filter=False)\n",
    "print(len(pref_df))\n",
    "print(pref_df['frequency'].sum())\n",
    "pref_df.head(3)"
   ]
  },
  {
   "cell_type": "code",
   "execution_count": null,
   "id": "93ddefc9",
   "metadata": {},
   "outputs": [],
   "source": [
    "all_names = []\n",
    "for name, frequency in tqdm(zip(pref_df['name'], pref_df['frequency'])):\n",
    "    normalized_names = normalize_name(name)\n",
    "    if len(normalized_names) == 0:\n",
    "        continue\n",
    "    all_names.extend(normalized_names * frequency)\n",
    "print(len(all_names))\n",
    "all_names[:10]"
   ]
  },
  {
   "cell_type": "code",
   "execution_count": null,
   "id": "2d87bed3",
   "metadata": {},
   "outputs": [],
   "source": [
    "del pref_df"
   ]
  },
  {
   "cell_type": "code",
   "execution_count": null,
   "id": "29aa9f15",
   "metadata": {},
   "outputs": [],
   "source": [
    "%%time\n",
    "random.shuffle(all_names)\n",
    "all_names[:10]"
   ]
  },
  {
   "cell_type": "code",
   "execution_count": null,
   "id": "8f5a2dc9",
   "metadata": {},
   "outputs": [],
   "source": [
    "save_names(os.path.join(output_dir, f\"all-tree-preferred-{given_surname}.txt\"), all_names)"
   ]
  },
  {
   "cell_type": "markdown",
   "id": "e0d6981e",
   "metadata": {},
   "source": [
    "### Save tree-record matches"
   ]
  },
  {
   "cell_type": "code",
   "execution_count": null,
   "id": "b2f1023e",
   "metadata": {},
   "outputs": [],
   "source": [
    "filenames = glob(os.path.join(tree_hr_path,\"*.parquet\"))\n",
    "print(len(filenames))\n",
    "filenames[:5]"
   ]
  },
  {
   "cell_type": "code",
   "execution_count": null,
   "id": "f40d206b",
   "metadata": {},
   "outputs": [],
   "source": [
    "def process_file(filename):\n",
    "    tree_record_names = []\n",
    "    df = pd.read_parquet(filename)\n",
    "    # we already have tree names, so just grab alt_name\n",
    "    for alt_name in df['alt_name']:\n",
    "        tree_record_names.extend(normalize_name(alt_name))\n",
    "    return tree_record_names"
   ]
  },
  {
   "cell_type": "code",
   "execution_count": null,
   "id": "2265054a",
   "metadata": {},
   "outputs": [],
   "source": [
    "# read tree-record names\n",
    "with WorkerPool() as pool:\n",
    "    results = pool.map(process_file, filenames, progress_bar=True)\n",
    "len(results)"
   ]
  },
  {
   "cell_type": "code",
   "execution_count": null,
   "id": "a328bf01",
   "metadata": {},
   "outputs": [],
   "source": [
    "# tree-record names\n",
    "all_names = []\n",
    "for result in tqdm(results):\n",
    "    all_names.extend(result)\n",
    "len(all_names)"
   ]
  },
  {
   "cell_type": "code",
   "execution_count": null,
   "id": "b3075800",
   "metadata": {},
   "outputs": [],
   "source": [
    "del results"
   ]
  },
  {
   "cell_type": "code",
   "execution_count": null,
   "id": "e00776b9",
   "metadata": {},
   "outputs": [],
   "source": [
    "%%time\n",
    "random.shuffle(all_names)\n",
    "all_names[:10]"
   ]
  },
  {
   "cell_type": "code",
   "execution_count": null,
   "id": "8200390b",
   "metadata": {},
   "outputs": [],
   "source": [
    "save_names(os.path.join(output_dir, f\"all-tree-hr-{given_surname}.txt\"), all_names)"
   ]
  },
  {
   "cell_type": "code",
   "execution_count": null,
   "id": "8b1f3c90",
   "metadata": {},
   "outputs": [],
   "source": []
  }
 ],
 "metadata": {
  "kernelspec": {
   "display_name": "nama",
   "language": "python",
   "name": "nama"
  },
  "language_info": {
   "codemirror_mode": {
    "name": "ipython",
    "version": 3
   },
   "file_extension": ".py",
   "mimetype": "text/x-python",
   "name": "python",
   "nbconvert_exporter": "python",
   "pygments_lexer": "ipython3",
   "version": "3.9.16"
  }
 },
 "nbformat": 4,
 "nbformat_minor": 5
}
