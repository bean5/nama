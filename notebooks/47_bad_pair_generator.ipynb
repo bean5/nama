{
 "cells": [
  {
   "cell_type": "code",
   "execution_count": null,
   "id": "8de817fb",
   "metadata": {
    "pycharm": {
     "name": "#%%\n"
    }
   },
   "outputs": [],
   "source": [
    "%load_ext autoreload\n",
    "%autoreload 2"
   ]
  },
  {
   "cell_type": "markdown",
   "id": "d6a3579b",
   "metadata": {
    "pycharm": {
     "name": "#%% md\n"
    }
   },
   "source": [
    "# Generate hard (near) negative name pairs"
   ]
  },
  {
   "cell_type": "code",
   "execution_count": null,
   "id": "4e5bedc3",
   "metadata": {
    "pycharm": {
     "name": "#%%\n"
    }
   },
   "outputs": [],
   "source": [
    "from collections import namedtuple\n",
    "\n",
    "import wandb\n",
    "\n",
    "from src.data.utils import load_dataset\n",
    "from src.models.triplet_loss import get_near_negatives"
   ]
  },
  {
   "cell_type": "code",
   "execution_count": null,
   "id": "d1c38316",
   "metadata": {
    "pycharm": {
     "name": "#%%\n"
    }
   },
   "outputs": [],
   "source": [
    "given_surname = \"surname\"\n",
    "Config = namedtuple(\"Config\", \"train_path near_negatives_path\")\n",
    "config = Config(\n",
    "    train_path=f\"s3://familysearch-names/processed/tree-hr-{given_surname}-train-unfiltered.csv.gz\",\n",
    "    near_negatives_path=f\"s3://nama-data/data/processed/tree-hr-{given_surname}-near-negatives.csv.gz\",\n",
    ")"
   ]
  },
  {
   "cell_type": "code",
   "execution_count": null,
   "id": "c0a2af0d",
   "metadata": {
    "pycharm": {
     "name": "#%%\n"
    }
   },
   "outputs": [],
   "source": [
    "wandb.init(\n",
    "    project=\"nama\",\n",
    "    entity=\"nama\",\n",
    "    name=\"47_bad_pair_generator\",\n",
    "    group=given_surname,\n",
    "    notes=\"\",\n",
    "    config=config._asdict()\n",
    ")"
   ]
  },
  {
   "cell_type": "code",
   "execution_count": null,
   "id": "c2fc7261",
   "metadata": {
    "pycharm": {
     "name": "#%%\n"
    }
   },
   "outputs": [],
   "source": [
    "train = load_dataset(config.train_path)\n",
    "\n",
    "input_names_train, weighted_actual_names_train, candidate_names_train = train"
   ]
  },
  {
   "cell_type": "code",
   "execution_count": null,
   "id": "f5f88c1c",
   "metadata": {
    "pycharm": {
     "name": "#%%\n"
    }
   },
   "outputs": [],
   "source": [
    "k = 50\n",
    "lower_threshold = 0.8  # 0.6\n",
    "upper_threshold = 0.99 # 0.74\n",
    "sample_size = 100 # 0\n",
    "near_negatives_train = get_near_negatives(\n",
    "    input_names_train, weighted_actual_names_train, candidate_names_train, \n",
    "    k=k, lower_threshold=lower_threshold, upper_threshold=upper_threshold,\n",
    "    total=sample_size\n",
    ")"
   ]
  },
  {
   "cell_type": "code",
   "execution_count": null,
   "id": "4bcef45c",
   "metadata": {
    "pycharm": {
     "name": "#%%\n"
    }
   },
   "outputs": [],
   "source": [
    "print(\"input_names_train\", len(input_names_train))\n",
    "# print(\"filtered_wans_train\", sum(len(wan) for wan in filtered_wans_train))\n",
    "print(\"candidate_names_train\", len(candidate_names_train))\n",
    "print(\"near_negatives_train\", sum(len(negs) for _, negs in near_negatives_train.items()))"
   ]
  },
  {
   "cell_type": "code",
   "execution_count": null,
   "id": "f28d99f5",
   "metadata": {
    "pycharm": {
     "name": "#%%\n"
    }
   },
   "outputs": [],
   "source": [
    "for ix in range(0, 100):\n",
    "    print(input_names_train[ix])\n",
    "    wans = sorted(weighted_actual_names_train[ix], key=lambda x: -x[2])\n",
    "    print(\"  positives\", wans)\n",
    "    print(\"  negatives\", near_negatives_train[input_names_train[ix]])"
   ]
  },
  {
   "cell_type": "code",
   "execution_count": null,
   "id": "45cd9fc7",
   "metadata": {
    "pycharm": {
     "name": "#%%\n"
    }
   },
   "outputs": [],
   "source": [
    "wandb.finish()"
   ]
  }
 ],
 "metadata": {
  "kernelspec": {
   "display_name": "nama",
   "language": "python",
   "name": "nama"
  },
  "language_info": {
   "codemirror_mode": {
    "name": "ipython",
    "version": 3
   },
   "file_extension": ".py",
   "mimetype": "text/x-python",
   "name": "python",
   "nbconvert_exporter": "python",
   "pygments_lexer": "ipython3",
   "version": "3.8.12"
  }
 },
 "nbformat": 4,
 "nbformat_minor": 5
}
