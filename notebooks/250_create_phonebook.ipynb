{
 "cells": [
  {
   "cell_type": "code",
   "execution_count": 1,
   "id": "2907945b",
   "metadata": {
    "pycharm": {
     "name": "#%%\n"
    }
   },
   "outputs": [],
   "source": [
    "%load_ext autoreload\n",
    "%autoreload 2\n",
    "%matplotlib inline"
   ]
  },
  {
   "cell_type": "markdown",
   "id": "3b2dac44",
   "metadata": {
    "pycharm": {
     "name": "#%% md\n"
    }
   },
   "source": [
    "# Create a phonebook\n",
    "\n",
    "A phonebook maps clusters to partitions under the following constraints.\n",
    "\n",
    "1. All clusters in the same bucket MUST go in the same partition.\n",
    "2. A partition CANNOT contain clusters totalling more than N records.\n",
    "3. Clusters that are similar to each other SHOULD go in the same partition.\n",
    "\n",
    "## Aproach\n",
    "\n",
    "1. Choose a maximum number of partitions and a maximum number of records per partition.\n",
    "2. Compute the top N most-similar clusters to each cluster.\n",
    "3. Start by putting the clusters for each bucket in their own partition.\n",
    "4. Some buckets because of their size will span multiple partitions. Split those buckets up-front.\n",
    "5. While there are more than the maximum number of partitions, merge partitions containing the most-similar (to least-similar) clusters so long as the combined partition doesn't exceed the maximum partition size.\n",
    "6. If you end up with too many partitions, or many partitions that have significantly fewer number of records than the maximum, consider repeating the steps with a lower maximum number of records per partition."
   ]
  },
  {
   "cell_type": "code",
   "execution_count": 2,
   "id": "8d131857",
   "metadata": {
    "pycharm": {
     "name": "#%%\n"
    }
   },
   "outputs": [],
   "source": [
    "from collections import defaultdict\n",
    "import json\n",
    "import re\n",
    "\n",
    "import matplotlib.pyplot as plt\n",
    "import numpy as np\n",
    "from tqdm.notebook import tqdm\n",
    "\n",
    "from src.data.utils import read_csv\n",
    "from src.models.utils import top_similar_names"
   ]
  },
  {
   "cell_type": "code",
   "execution_count": 13,
   "id": "b54bdec3",
   "metadata": {
    "pycharm": {
     "name": "#%%\n"
    }
   },
   "outputs": [],
   "source": [
    "# configure\n",
    "given_surname = \"surname\"\n",
    "phonebook_type = 'hr'  # 'tree'\n",
    "\n",
    "pref_prefix = 'hr' if phonebook_type == 'hr' else 'tree-preferred'\n",
    "n_partitions = 720\n",
    "max_partition_size = 15_800_000 if phonebook_type == 'hr' else 1_250_000\n",
    "min_threshold = 0.6\n",
    "\n",
    "linkage = \"average\"\n",
    "similarity_threshold = 0.25\n",
    "scorer = \"ce\"\n",
    "cluster_freq_normalizer = \"none\"\n",
    "clusters_path = f\"../data/processed/clusters_{given_surname}-{scorer}-{linkage}-{similarity_threshold}-{cluster_freq_normalizer}-augmented.json\"\n",
    "super_clusters_path = f\"../data/processed/super_clusters_{given_surname}-{scorer}-{linkage}-{similarity_threshold}-{cluster_freq_normalizer}.json\"\n",
    "pref_path = f\"../data/processed/{pref_prefix}-{given_surname}-aggr.csv.gz\"\n",
    "\n",
    "phonebook_path = f\"../data/processed/{phonebook_type}-phonebook.json\""
   ]
  },
  {
   "cell_type": "markdown",
   "id": "4190d2c0",
   "metadata": {
    "pycharm": {
     "name": "#%% md\n"
    }
   },
   "source": [
    "### Load data"
   ]
  },
  {
   "cell_type": "code",
   "execution_count": 15,
   "id": "cec1c31c",
   "metadata": {},
   "outputs": [],
   "source": [
    "# dict of name -> freq\n",
    "pref_df = read_csv(pref_path)\n",
    "name_freq = {name: freq for name, freq in zip(pref_df['name'], pref_df['frequency']) \\\n",
    "                if re.fullmatch(r'[a-z]+', name)}\n",
    "pref_df = None"
   ]
  },
  {
   "cell_type": "code",
   "execution_count": 16,
   "id": "c3b3a871-d8f8-4113-9f9f-b2bbad6f2c69",
   "metadata": {},
   "outputs": [
    {
     "name": "stdout",
     "output_type": "stream",
     "text": [
      "145979741\n",
      "12978634062\n"
     ]
    }
   ],
   "source": [
    "print(len(name_freq))\n",
    "print(sum(list(name_freq.values())))"
   ]
  },
  {
   "cell_type": "code",
   "execution_count": 6,
   "id": "5f7ae378",
   "metadata": {},
   "outputs": [],
   "source": [
    "# load clusters and super-clusters\n",
    "name_cluster = {}       # name -> cluster position\n",
    "cluster_centroids = []  # centroid for each cluster\n",
    "cluster_labels = []     # label for each cluster\n",
    "cluster_indexes = {}    # cluster label -> index\n",
    "cluster_sizes = []      # number of records for each cluster\n",
    "\n",
    "with open(clusters_path, 'r') as f:\n",
    "    clusters = json.load(f)  # cluster label -> names, centroid\n",
    "\n",
    "with open(super_clusters_path, 'r') as f:\n",
    "    super_clusters = json.load(f)  # super_cluster label -> cluster labels\n",
    "\n",
    "for label, cluster in clusters.items():\n",
    "    n_records = 0\n",
    "    for name in cluster['names']:\n",
    "        name_cluster[name] = len(cluster_labels)\n",
    "        n_records += name_freq.get(name, 0)\n",
    "    cluster_indexes[label] = len(cluster_labels)\n",
    "    cluster_labels.append(label)\n",
    "    cluster_sizes.append(n_records)\n",
    "    cluster_centroids.append(np.array(cluster['centroid']))\n",
    "cluster_labels = np.array(cluster_labels)"
   ]
  },
  {
   "cell_type": "code",
   "execution_count": 7,
   "id": "00eb0732",
   "metadata": {},
   "outputs": [
    {
     "name": "stdout",
     "output_type": "stream",
     "text": [
      "number of names 525447\n",
      "number of clusters 79888\n",
      "number of super-clusters 12091\n"
     ]
    }
   ],
   "source": [
    "print('number of names', len(name_cluster))\n",
    "print('number of clusters', len(cluster_labels))\n",
    "print('number of super-clusters', len(super_clusters))"
   ]
  },
  {
   "cell_type": "code",
   "execution_count": 8,
   "id": "1a83cabb",
   "metadata": {},
   "outputs": [
    {
     "name": "stdout",
     "output_type": "stream",
     "text": [
      "size of all clusters 11275305233\n"
     ]
    }
   ],
   "source": [
    "print('size of all clusters', sum(cluster_sizes))"
   ]
  },
  {
   "cell_type": "code",
   "execution_count": 9,
   "id": "1480b891",
   "metadata": {},
   "outputs": [
    {
     "name": "stdout",
     "output_type": "stream",
     "text": [
      "perfect partition size 15660146.156944444\n"
     ]
    }
   ],
   "source": [
    "print('perfect partition size', sum(cluster_sizes) / n_partitions)"
   ]
  },
  {
   "cell_type": "markdown",
   "id": "f9a355e1",
   "metadata": {},
   "source": [
    "## Compute nearby clusters"
   ]
  },
  {
   "cell_type": "code",
   "execution_count": 10,
   "id": "0f255605",
   "metadata": {},
   "outputs": [
    {
     "data": {
      "application/vnd.jupyter.widget-view+json": {
       "model_id": "02dfcd9a83b141acb9a66836ec4f7406",
       "version_major": 2,
       "version_minor": 0
      },
      "text/plain": [
       "0it [00:00, ?it/s]"
      ]
     },
     "metadata": {},
     "output_type": "display_data"
    }
   ],
   "source": [
    "cluster_similarity_scores = []  # [(ix1, ix2, similarity)]\n",
    "top_n = 1000\n",
    "for ix, centroid in tqdm(enumerate(cluster_centroids), mininterval=2.0):\n",
    "    nearby_clusters, similarities = top_similar_names(centroid, cluster_centroids, cluster_labels,\n",
    "                                                      threshold=min_threshold, top_n=top_n)\n",
    "    for nearby_cluster, similarity in zip(nearby_clusters, similarities):\n",
    "        nearby_ix = cluster_indexes[nearby_cluster]\n",
    "        if ix >= nearby_ix:\n",
    "            continue\n",
    "        cluster_similarity_scores.append((ix, nearby_ix, similarity))"
   ]
  },
  {
   "cell_type": "code",
   "execution_count": 11,
   "id": "0f496842",
   "metadata": {},
   "outputs": [],
   "source": [
    "cluster_similarity_scores = sorted(cluster_similarity_scores, key=lambda x: x[2], reverse=True)"
   ]
  },
  {
   "cell_type": "code",
   "execution_count": 12,
   "id": "596cc9a2",
   "metadata": {},
   "outputs": [
    {
     "data": {
      "text/plain": [
       "1338105"
      ]
     },
     "execution_count": 12,
     "metadata": {},
     "output_type": "execute_result"
    }
   ],
   "source": [
    "len(cluster_similarity_scores)"
   ]
  },
  {
   "cell_type": "markdown",
   "id": "4d3d1200",
   "metadata": {},
   "source": [
    "## Create phonebook"
   ]
  },
  {
   "cell_type": "code",
   "execution_count": 56,
   "id": "ceb83130",
   "metadata": {},
   "outputs": [],
   "source": [
    "def merge_partitions(ix1, ix2):\n",
    "    global partition_ix, partition_clusters, partition_size, cluster_partitions\n",
    "\n",
    "    # remove old partitions from cluster_partitions\n",
    "    for cluster in partition_clusters[ix1]:\n",
    "        cluster_partitions[cluster].remove(ix1)\n",
    "    for cluster in partition_clusters[ix2]:\n",
    "        cluster_partitions[cluster].remove(ix2)\n",
    "    # add clusters to new partition\n",
    "    partition_clusters[partition_ix] = partition_clusters[ix1] + partition_clusters[ix2]\n",
    "    for cluster in partition_clusters[partition_ix]:\n",
    "        cluster_partitions[cluster].append(partition_ix)    \n",
    "    # calc size of new partition\n",
    "    partition_size[partition_ix] = partition_size[ix1] + partition_size[ix2]\n",
    "    # delete old partitions\n",
    "    del partition_clusters[ix1]\n",
    "    del partition_clusters[ix2]\n",
    "    del partition_size[ix1]\n",
    "    del partition_size[ix2]\n",
    "    # update next available partition index\n",
    "    partition_ix += 1"
   ]
  },
  {
   "cell_type": "markdown",
   "id": "a7d98aea",
   "metadata": {},
   "source": [
    "### Start by creating partitions for each cluster"
   ]
  },
  {
   "cell_type": "code",
   "execution_count": 66,
   "id": "727f9746-5142-4d74-9ec1-78df388bf5db",
   "metadata": {},
   "outputs": [],
   "source": [
    "partition_ix = 0\n",
    "partition_clusters = {}                # partition -> [cluster ix]\n",
    "partition_size = {}                    # partition -> size\n",
    "cluster_partitions = defaultdict(list) # cluster -> [partition ix]"
   ]
  },
  {
   "cell_type": "code",
   "execution_count": 67,
   "id": "ae6f96c7",
   "metadata": {},
   "outputs": [
    {
     "name": "stdout",
     "output_type": "stream",
     "text": [
      "23470595 alves/alves\n",
      "29317173 anderson/anderson\n",
      "37807112 brown/brown\n",
      "22007112 brown/brown\n",
      "21475726 clark/clark\n",
      "21687242 conceicao/conceicao\n",
      "20918311 costa/costa\n",
      "28045580 cruz/cruz\n",
      "34661374 davis/davis\n",
      "18861374 davis/davis\n",
      "31674279 diaz/diaz\n",
      "15874279 diaz/diaz\n",
      "35072931 dossantos/dossantos\n",
      "19272931 dossantos/dossantos\n",
      "26225234 fernandez/fernandez\n",
      "30830166 ferreira/ferreira\n",
      "23865616 flores/flores\n",
      "66326721 garcia/garcia\n",
      "50526721 garcia/garcia\n",
      "34726721 garcia/garcia\n",
      "18926721 garcia/garcia\n",
      "47170656 gomez/gomez\n",
      "31370656 gomez/gomez\n",
      "49991670 gonzalez/gonzalez\n",
      "34191670 gonzalez/gonzalez\n",
      "18391670 gonzalez/gonzalez\n",
      "50257567 hernandez/hernandez\n",
      "34457567 hernandez/hernandez\n",
      "18657567 hernandez/hernandez\n",
      "17963448 jimenez/jimenez\n",
      "54733079 johnson/johnson\n",
      "38933079 johnson/johnson\n",
      "23133079 johnson/johnson\n",
      "44305068 jones/jones\n",
      "28505068 jones/jones\n",
      "20392682 lima/lima\n",
      "69183411 lopez/lopez\n",
      "53383411 lopez/lopez\n",
      "37583411 lopez/lopez\n",
      "21783411 lopez/lopez\n",
      "39099810 martin/martin\n",
      "23299810 martin/martin\n",
      "46616230 martinez/martinez\n",
      "30816230 martinez/martinez\n",
      "16137743 mendez/mendez\n",
      "34934412 miller/miller\n",
      "19134412 miller/miller\n",
      "20501658 moore/moore\n",
      "18258003 morales/morales\n",
      "20443627 nielsen/nielson\n",
      "43376971 oliver/oliver\n",
      "27576971 oliver/oliver\n",
      "18180132 pedersen/pederson\n",
      "32738065 pereira/pereira\n",
      "16938065 pereira/pereira\n",
      "48805005 perez/perez\n",
      "33005005 perez/perez\n",
      "17205005 perez/perez\n",
      "30184789 ramirez/ramirez\n",
      "19751204 ramos/ramos\n",
      "16549384 reyes/reyes\n",
      "25953359 rivera/rivera\n",
      "21792787 robinson/robinson\n",
      "72532304 rodriguez/rodriguez\n",
      "56732304 rodriguez/rodriguez\n",
      "40932304 rodriguez/rodriguez\n",
      "25132304 rodriguez/rodriguez\n",
      "16290510 ruiz/ruiz\n",
      "37973516 sanchez/sanchez\n",
      "22173516 sanchez/sanchez\n",
      "21177399 santos/santos\n",
      "119957736 silva/silva\n",
      "104157736 silva/silva\n",
      "88357736 silva/silva\n",
      "72557736 silva/silva\n",
      "56757736 silva/silva\n",
      "40957736 silva/silva\n",
      "25157736 silva/silva\n",
      "71531497 smith/smith\n",
      "55731497 smith/smith\n",
      "39931497 smith/smith\n",
      "24131497 smith/smith\n",
      "35544419 souza/souza\n",
      "19744419 souza/souza\n",
      "23428763 taylor/taylor\n",
      "20952631 thomas/thomas\n",
      "21961730 thompson/thompson\n",
      "23147338 torres/torres\n",
      "15999239 van/van\n",
      "19509569 vasquez/vasquez\n",
      "18314864 white/white\n",
      "42724045 williams/williams\n",
      "26924045 williams/williams\n",
      "23129350 wilson/wilson\n"
     ]
    }
   ],
   "source": [
    "for ix in range(len(cluster_labels)):\n",
    "    # calculate the number of partitions needed for the cluster\n",
    "    size = cluster_sizes[ix]\n",
    "    n_cluster_partitions = 1\n",
    "    while size > max_partition_size:\n",
    "        print(size, cluster_labels[ix])\n",
    "        n_cluster_partitions += 1\n",
    "        size -= max_partition_size\n",
    "    # assign cluster to n_cluster_partitions\n",
    "    for _ in range(n_cluster_partitions):\n",
    "        partition_clusters[partition_ix] = [ix]\n",
    "        cluster_partitions[ix].append(partition_ix)\n",
    "        partition_size[partition_ix] = cluster_sizes[ix] / n_cluster_partitions\n",
    "        partition_ix += 1"
   ]
  },
  {
   "cell_type": "code",
   "execution_count": 68,
   "id": "413d239a",
   "metadata": {},
   "outputs": [
    {
     "data": {
      "text/plain": [
       "79982"
      ]
     },
     "execution_count": 68,
     "metadata": {},
     "output_type": "execute_result"
    }
   ],
   "source": [
    "partition_ix"
   ]
  },
  {
   "cell_type": "markdown",
   "id": "6d1d7e54-c833-4358-8194-5add47e1f8c3",
   "metadata": {},
   "source": [
    "## Review single-character names"
   ]
  },
  {
   "cell_type": "code",
   "execution_count": 69,
   "id": "ea0ca82e-9c10-488f-8861-e5047bc0d068",
   "metadata": {},
   "outputs": [
    {
     "name": "stdout",
     "output_type": "stream",
     "text": [
      "c 332399\n",
      "j 139956\n",
      "p 266863\n",
      "o 406296\n",
      "z 31746\n",
      "s 477609\n",
      "h 245474\n",
      "m 1077026\n",
      "e 115579\n",
      "a 307938\n",
      "n 390344\n",
      "l 178197\n",
      "x 25290\n",
      "i 38836\n",
      "w 732992\n",
      "f 1029150\n",
      "k 172686\n",
      "u 246672\n",
      "b 622312\n",
      "d 381571\n",
      "v 76770\n",
      "y 60693\n",
      "q 9339\n",
      "g 190777\n",
      "r 212747\n",
      "t 110309\n",
      "7879571\n"
     ]
    }
   ],
   "source": [
    "total_freq = 0\n",
    "for name, freq in name_freq.items():\n",
    "    if len(name) > 1:\n",
    "        continue\n",
    "    print(name, freq)\n",
    "    total_freq += freq\n",
    "print(total_freq)"
   ]
  },
  {
   "cell_type": "markdown",
   "id": "baf7c070-d550-49f5-ab79-0cadff15ba24",
   "metadata": {},
   "source": [
    "### Merge clusters for the same super-cluster"
   ]
  },
  {
   "cell_type": "code",
   "execution_count": 70,
   "id": "53bd19bc-f478-4d74-bc5e-dae17e578cf5",
   "metadata": {},
   "outputs": [],
   "source": [
    "def get_smallest_partition(ixs):\n",
    "    size = None\n",
    "    smallest_ix = None\n",
    "    for ix in ixs:\n",
    "        if size is None or size > partition_size[ix]:\n",
    "            size = partition_size[ix]\n",
    "            smallest_ix = ix\n",
    "    return ix"
   ]
  },
  {
   "cell_type": "code",
   "execution_count": 71,
   "id": "ba6dcced-a461-4af5-8c35-f411705f13d1",
   "metadata": {},
   "outputs": [],
   "source": [
    "for super_cluster in super_clusters.values():\n",
    "    first_cluster_label = super_cluster[0]\n",
    "    for cluster_label in super_cluster[1:]:\n",
    "        ix1s = cluster_partitions[cluster_indexes[first_cluster_label]]\n",
    "        ix2s = cluster_partitions[cluster_indexes[cluster_label]]\n",
    "        # if both clusters span multiple partions, don't try to merge\n",
    "        if len(ix1s) > 1 and len(ix2s) > 1:\n",
    "            continue\n",
    "        # if clusters are already on same partition, don't need to merge\n",
    "        if (len(ix1s) == 1 and ix1s[0] in ix2s) or (len(ix2s) == 1 and ix2s[0] in ix1s):\n",
    "            continue\n",
    "        # merge the smallest partition if > 1 partition\n",
    "        ix1 = get_smallest_partition(ix1s) if len(ix1s) > 1 else ix1s[0]\n",
    "        ix2 = get_smallest_partition(ix2s) if len(ix2s) > 1 else ix2s[0]\n",
    "        if partition_size[ix1] + partition_size[ix2] <= max_partition_size:\n",
    "            merge_partitions(ix1, ix2)"
   ]
  },
  {
   "cell_type": "code",
   "execution_count": 72,
   "id": "db046a7d-704f-428e-9342-6dbdd7de1d94",
   "metadata": {},
   "outputs": [
    {
     "data": {
      "text/plain": [
       "53649"
      ]
     },
     "execution_count": 72,
     "metadata": {},
     "output_type": "execute_result"
    }
   ],
   "source": [
    "len(partition_clusters)"
   ]
  },
  {
   "cell_type": "markdown",
   "id": "4f7430ab",
   "metadata": {},
   "source": [
    "### Merge partitions containing most-similar clusters"
   ]
  },
  {
   "cell_type": "code",
   "execution_count": 73,
   "id": "410d3ecf",
   "metadata": {},
   "outputs": [
    {
     "data": {
      "application/vnd.jupyter.widget-view+json": {
       "model_id": "f2534b434bdc493cb2e2767596b57b8e",
       "version_major": 2,
       "version_minor": 0
      },
      "text/plain": [
       "  0%|          | 0/1338105 [00:00<?, ?it/s]"
      ]
     },
     "metadata": {},
     "output_type": "display_data"
    }
   ],
   "source": [
    "for cix1, cix2, _ in tqdm(cluster_similarity_scores, mininterval=2.0):\n",
    "    if len(partition_clusters) <= n_partitions:\n",
    "        break\n",
    "    pix1s = cluster_partitions[cix1]\n",
    "    pix2s = cluster_partitions[cix2]\n",
    "    # if both clusters span multiple partions, don't try to merge\n",
    "    if len(pix1s) > 1 and len(pix2s) > 1:\n",
    "        continue\n",
    "    # if clusters are already on same partition, don't need to merge\n",
    "    if (len(pix1s) == 1 and pix1s[0] in pix2s) or (len(pix2s) == 1 and pix2s[0] in pix1s):\n",
    "        continue\n",
    "    # merge the smallest partition if > 1 partition\n",
    "    pix1 = get_smallest_partition(pix1s) if len(pix1s) > 1 else pix1s[0]\n",
    "    pix2 = get_smallest_partition(pix2s) if len(pix2s) > 1 else pix2s[0]\n",
    "    if partition_size[pix1] + partition_size[pix2] <= max_partition_size:\n",
    "        merge_partitions(pix1, pix2)    "
   ]
  },
  {
   "cell_type": "code",
   "execution_count": 74,
   "id": "d5a8b79b",
   "metadata": {},
   "outputs": [
    {
     "data": {
      "text/plain": [
       "6495"
      ]
     },
     "execution_count": 74,
     "metadata": {},
     "output_type": "execute_result"
    }
   ],
   "source": [
    "len(partition_clusters)"
   ]
  },
  {
   "cell_type": "markdown",
   "id": "7c6ec4a5",
   "metadata": {},
   "source": [
    "### Merge other partitions using best-fit"
   ]
  },
  {
   "cell_type": "code",
   "execution_count": 75,
   "id": "84fac6a5",
   "metadata": {},
   "outputs": [],
   "source": [
    "while len(partition_clusters) > n_partitions:\n",
    "    # find the smallest partition\n",
    "    small_ix = min(partition_size, key=partition_size.get)\n",
    "    # find the largest (or first?) partition it will fit into\n",
    "    large_ix = None\n",
    "    for pix, size in partition_size.items():\n",
    "        if pix == small_ix or partition_size[small_ix] + size > max_partition_size:\n",
    "            continue\n",
    "        if large_ix is None or size > partition_size[large_ix]:\n",
    "            large_ix = pix\n",
    "    if large_ix is None:\n",
    "        break\n",
    "    # merge them\n",
    "    merge_partitions(small_ix, large_ix)"
   ]
  },
  {
   "cell_type": "markdown",
   "id": "8de35242-0150-40ad-bfaf-46eb7a4e85a9",
   "metadata": {},
   "source": [
    "## Check number of partitions"
   ]
  },
  {
   "cell_type": "code",
   "execution_count": 76,
   "id": "09b4f1bc-5852-49bd-8757-4963a84ba65e",
   "metadata": {},
   "outputs": [
    {
     "data": {
      "text/plain": [
       "720"
      ]
     },
     "execution_count": 76,
     "metadata": {},
     "output_type": "execute_result"
    }
   ],
   "source": [
    "if len(partition_clusters) > n_partitions:\n",
    "    print('We have a problem!')\n",
    "len(partition_clusters)"
   ]
  },
  {
   "cell_type": "markdown",
   "id": "3f77b490-d1d0-4776-bcbc-b97bc8773b2a",
   "metadata": {},
   "source": [
    "## Add single-character surnames to partitions\n",
    "\n",
    "Don't update partition_clusters because we don't use it from here on. \n",
    "\n",
    "Instead, add single-character surnames to cluster_labels and cluster_partitions, and update partition_size."
   ]
  },
  {
   "cell_type": "code",
   "execution_count": 77,
   "id": "48206410-e122-4c1b-9a00-8a72b1725e65",
   "metadata": {},
   "outputs": [
    {
     "data": {
      "text/plain": [
       "26"
      ]
     },
     "execution_count": 77,
     "metadata": {},
     "output_type": "execute_result"
    }
   ],
   "source": [
    "single_character_name_freq = {name: freq for name, freq in name_freq.items() if len(name) == 1}\n",
    "len(single_character_name_freq)"
   ]
  },
  {
   "cell_type": "code",
   "execution_count": 78,
   "id": "efb8be5d-190b-41e9-ba8b-da2a953403fb",
   "metadata": {},
   "outputs": [
    {
     "data": {
      "text/plain": [
       "79888"
      ]
     },
     "execution_count": 78,
     "metadata": {},
     "output_type": "execute_result"
    }
   ],
   "source": [
    "cluster_labels_list = cluster_labels.tolist()\n",
    "len(cluster_labels_list)"
   ]
  },
  {
   "cell_type": "code",
   "execution_count": 79,
   "id": "5d3ec6f9-b66a-413d-bcb2-d4b0cdbe0220",
   "metadata": {},
   "outputs": [
    {
     "name": "stdout",
     "output_type": "stream",
     "text": [
      "added m with freq 1077026 to partition 39356; new size is 9145897.5\n",
      "added f with freq 1029150 to partition 49381; new size is 9303842.0\n",
      "added w with freq 732992 to partition 149408; new size is 9371471.0\n",
      "added b with freq 622312 to partition 153406; new size is 9432032.0\n",
      "added s with freq 477609 to partition 45415; new size is 9567675.0\n",
      "added o with freq 406296 to partition 40663; new size is 9535297.5\n",
      "added n with freq 390344 to partition 39356; new size is 9536241.5\n",
      "added d with freq 381571 to partition 49381; new size is 9685413.0\n",
      "added c with freq 332399 to partition 149408; new size is 9703870.0\n",
      "added a with freq 307938 to partition 153406; new size is 9739970.0\n",
      "added p with freq 266863 to partition 40663; new size is 9802160.5\n",
      "added u with freq 246672 to partition 39356; new size is 9782913.5\n",
      "added h with freq 245474 to partition 45415; new size is 9813149.0\n",
      "added r with freq 212747 to partition 49381; new size is 9898160.0\n",
      "added g with freq 190777 to partition 149408; new size is 9894647.0\n",
      "added l with freq 178197 to partition 153406; new size is 9918167.0\n",
      "added k with freq 172686 to partition 39356; new size is 9955599.5\n",
      "added j with freq 139956 to partition 40663; new size is 9942116.5\n",
      "added e with freq 115579 to partition 45415; new size is 9928728.0\n",
      "added t with freq 110309 to partition 153425; new size is 9947078.0\n",
      "added v with freq 76770 to partition 153433; new size is 9926622.0\n",
      "added y with freq 60693 to partition 149408; new size is 9955340.0\n",
      "added i with freq 38836 to partition 49381; new size is 9936996.0\n",
      "added z with freq 31746 to partition 153406; new size is 9949913.0\n",
      "added x with freq 25290 to partition 153433; new size is 9951912.0\n",
      "added q with freq 9339 to partition 45415; new size is 9938067.0\n"
     ]
    }
   ],
   "source": [
    "for name, freq in sorted(single_character_name_freq.items(), key=lambda kv: kv[1], reverse=True):\n",
    "    cix = len(cluster_labels_list)\n",
    "    # add name to cluster_labels\n",
    "    cluster_labels_list.append(name)\n",
    "    # find the smallest partition\n",
    "    small_ix = min(partition_size, key=partition_size.get)\n",
    "    # add the name to that partition\n",
    "    cluster_partitions[cix] = [small_ix]\n",
    "    partition_size[small_ix] += freq \n",
    "    print(f\"added {name} with freq {freq} to partition {small_ix}; new size is {partition_size[small_ix]}\")\n",
    "    if partition_size[small_ix] > max_partition_size:\n",
    "        print('WARNING: oversized partition', ix, partition_size[small_ix])"
   ]
  },
  {
   "cell_type": "code",
   "execution_count": 80,
   "id": "d55fde7a-f1b8-4f29-a877-a3554761e606",
   "metadata": {},
   "outputs": [],
   "source": [
    "cluster_labels = np.array(cluster_labels_list)"
   ]
  },
  {
   "cell_type": "markdown",
   "id": "8ee639d3",
   "metadata": {},
   "source": [
    "### Check partition sizes"
   ]
  },
  {
   "cell_type": "code",
   "execution_count": 81,
   "id": "6237c1ab",
   "metadata": {},
   "outputs": [
    {
     "name": "stdout",
     "output_type": "stream",
     "text": [
      "0.9 18\n",
      "0.75 8\n",
      "0.5 0\n",
      "0.25 0\n"
     ]
    }
   ],
   "source": [
    "# count number of partitions that are less than 90% full, 75% full, half full\n",
    "for threshold in [0.90, 0.75, 0.5, 0.25]:\n",
    "    print(threshold, len([size for size in partition_size.values() if size < max_partition_size * threshold]))"
   ]
  },
  {
   "cell_type": "markdown",
   "id": "eb9128ad",
   "metadata": {},
   "source": [
    "## Plot partition sizes"
   ]
  },
  {
   "cell_type": "code",
   "execution_count": 82,
   "id": "2a697d81",
   "metadata": {},
   "outputs": [
    {
     "data": {
      "image/png": "[encoded data removed]",
      "text/plain": [
       "<Figure size 1000x600 with 1 Axes>"
      ]
     },
     "metadata": {},
     "output_type": "display_data"
    }
   ],
   "source": [
    "plt.figure(figsize=(10, 6))\n",
    "plt.hist(partition_size.values(), bins=100)\n",
    "plt.tight_layout()\n",
    "plt.show()"
   ]
  },
  {
   "cell_type": "markdown",
   "id": "8c4de633",
   "metadata": {},
   "source": [
    "## Plot scores"
   ]
  },
  {
   "cell_type": "code",
   "execution_count": 83,
   "id": "342bb377",
   "metadata": {},
   "outputs": [
    {
     "name": "stdout",
     "output_type": "stream",
     "text": [
      "240992\n",
      "1097113\n"
     ]
    }
   ],
   "source": [
    "same_partition_scores = []\n",
    "diff_partition_scores = []\n",
    "for cix1, cix2, score in cluster_similarity_scores:\n",
    "    if cix1 == cix2:\n",
    "        continue\n",
    "    pix1s = cluster_partitions[cix1]\n",
    "    pix2s = cluster_partitions[cix2]\n",
    "    if (len(pix1s) == 1 and pix1s[0] in pix2s) or (len(pix2s) == 1 and pix2s[0] in pix1s):\n",
    "        same_partition_scores.append(score)\n",
    "    else:\n",
    "        diff_partition_scores.append(score)\n",
    "print(len(same_partition_scores))\n",
    "print(len(diff_partition_scores))"
   ]
  },
  {
   "cell_type": "code",
   "execution_count": 84,
   "id": "ec97e8b1",
   "metadata": {},
   "outputs": [
    {
     "data": {
      "image/png": "[encoded data removed]",
      "text/plain": [
       "<Figure size 1000x600 with 1 Axes>"
      ]
     },
     "metadata": {},
     "output_type": "display_data"
    }
   ],
   "source": [
    "plt.figure(figsize=(10, 6))\n",
    "plt.hist(same_partition_scores, bins=100, alpha=0.5, label=\"same\", color='green')\n",
    "plt.hist(diff_partition_scores, bins=100, alpha=0.5, label=\"diff\", color='red')\n",
    "plt.legend(loc='upper right')\n",
    "plt.tight_layout()\n",
    "plt.show()"
   ]
  },
  {
   "cell_type": "markdown",
   "id": "f18f2ef9",
   "metadata": {},
   "source": [
    "## Save phonebook"
   ]
  },
  {
   "cell_type": "code",
   "execution_count": 85,
   "id": "5e6bb5a7",
   "metadata": {},
   "outputs": [],
   "source": [
    "final_partition_start = 0\n",
    "cluster_final_partition = defaultdict(list)\n",
    "partition2final_partition = {}\n",
    "# renumber partition ids to start at 0\n",
    "for cix, partitions in cluster_partitions.items():\n",
    "    cluster_id = cluster_labels[cix]\n",
    "    for partition in partitions:\n",
    "        if partition in partition2final_partition:\n",
    "            final_partition = partition2final_partition[partition]\n",
    "        else:\n",
    "            final_partition = final_partition_start\n",
    "            partition2final_partition[partition] = final_partition_start\n",
    "            final_partition_start += 1\n",
    "        cluster_final_partition[cluster_id].append(final_partition)"
   ]
  },
  {
   "cell_type": "code",
   "execution_count": 86,
   "id": "10c34d77",
   "metadata": {},
   "outputs": [
    {
     "data": {
      "text/plain": [
       "720"
      ]
     },
     "execution_count": 86,
     "metadata": {},
     "output_type": "execute_result"
    }
   ],
   "source": [
    "# should be 720\n",
    "final_partition_start"
   ]
  },
  {
   "cell_type": "code",
   "execution_count": 87,
   "id": "5233d3f1",
   "metadata": {},
   "outputs": [],
   "source": [
    "with open(phonebook_path, 'w') as f:\n",
    "    json.dump(cluster_final_partition, f);"
   ]
  },
  {
   "cell_type": "code",
   "execution_count": 88,
   "id": "abd95c23",
   "metadata": {},
   "outputs": [
    {
     "data": {
      "text/plain": [
       "'../data/processed/hr-phonebook.json'"
      ]
     },
     "execution_count": 88,
     "metadata": {},
     "output_type": "execute_result"
    }
   ],
   "source": [
    "phonebook_path"
   ]
  },
  {
   "cell_type": "code",
   "execution_count": 93,
   "id": "6f5e271e-d2aa-46a4-b03d-f6d4c5902b4c",
   "metadata": {},
   "outputs": [
    {
     "data": {
      "text/plain": [
       "[38]"
      ]
     },
     "execution_count": 93,
     "metadata": {},
     "output_type": "execute_result"
    }
   ],
   "source": [
    "cluster_final_partition['a']"
   ]
  },
  {
   "cell_type": "code",
   "execution_count": null,
   "id": "6394570d-8d1a-4cb0-a91a-1f6ba3f28157",
   "metadata": {},
   "outputs": [],
   "source": []
  }
 ],
 "metadata": {
  "kernelspec": {
   "display_name": "Python 3 (ipykernel)",
   "language": "python",
   "name": "python3"
  },
  "language_info": {
   "codemirror_mode": {
    "name": "ipython",
    "version": 3
   },
   "file_extension": ".py",
   "mimetype": "text/x-python",
   "name": "python",
   "nbconvert_exporter": "python",
   "pygments_lexer": "ipython3",
   "version": "3.9.18"
  }
 },
 "nbformat": 4,
 "nbformat_minor": 5
}
