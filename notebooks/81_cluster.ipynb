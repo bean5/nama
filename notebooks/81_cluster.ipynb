{
 "cells": [
  {
   "cell_type": "code",
   "execution_count": null,
   "id": "2907945b",
   "metadata": {},
   "outputs": [],
   "source": [
    "%load_ext autoreload\n",
    "%autoreload 2\n",
    "%matplotlib inline"
   ]
  },
  {
   "cell_type": "code",
   "execution_count": null,
   "id": "8d131857",
   "metadata": {},
   "outputs": [],
   "source": [
    "from collections import namedtuple\n",
    "\n",
    "import pandas as pd\n",
    "import torch\n",
    "\n",
    "from src.data.utils import load_train_test\n",
    "from src.data.filesystem import fopen\n",
    "from src.eval.metrics import avg_precision_at_threshold, avg_weighted_recall_at_threshold\n",
    "from src.models.swivel import get_swivel_embeddings\n",
    "from src.models.utils import add_padding\n",
    "from src.models.cluster import (\n",
    "    get_scores,\n",
    "    generate_closures,\n",
    "    generate_clusters,\n",
    "    assign_names_to_clusters,\n",
    "    get_best_cluster_matches,\n",
    "    write_clusters,\n",
    ")"
   ]
  },
  {
   "cell_type": "code",
   "execution_count": null,
   "id": "b54bdec3",
   "metadata": {},
   "outputs": [],
   "source": [
    "# configure\n",
    "\n",
    "given_surname = \"given\"\n",
    "size = \"freq\"\n",
    "NAMES_TO_CLUSTER = 100000\n",
    "CLOSURE_THRESHOLD = 1000\n",
    "CLUSTER_THRESHOLD = 0.4\n",
    "CLUSTER_LINKAGE = \"average\"\n",
    "K_NN = 1\n",
    "\n",
    "vocab_size = 500000\n",
    "embed_dim = 200\n",
    "Config = namedtuple(\"Config\", \"train_path pref_path vocab_path model_path cluster_path\")\n",
    "config = Config(\n",
    "    train_path=f\"s3://familysearch-names/processed/tree-hr-{given_surname}-similar-train-{size}.csv.gz\",\n",
    "    pref_path=f\"s3://familysearch-names/processed/tree-preferred-{given_surname}-aggr.csv.gz\",\n",
    "    vocab_path=f\"s3://nama-data/data/models/fs-{given_surname}-{size}-swivel-{vocab_size}-vocab-tfidf.csv\",\n",
    "    model_path=f\"../../nama-data/models/fs-{given_surname}-{size}-swivel-{vocab_size}-{embed_dim}-tfidf.pt\",\n",
    "    # model_path=f\"s3://nama-data/data/models/fs-{given_surname}-{size}-swivel-{vocab_size}-{embed_dim}-tfidf.pt\",\n",
    "    cluster_path=f\"s3://nama-data/processed/tree-hr-{given_surname}-clusters-{size}.csv.gz\"\n",
    ")"
   ]
  },
  {
   "cell_type": "code",
   "execution_count": null,
   "id": "72dfc8f8",
   "metadata": {},
   "outputs": [],
   "source": [
    "wandb.init(\n",
    "    project=\"nama\",\n",
    "    entity=\"nama\",\n",
    "    name=\"80_cluster\",\n",
    "    group=given_surname,\n",
    "    notes=\"\",\n",
    "    config=config._asdict()\n",
    ")"
   ]
  },
  {
   "cell_type": "markdown",
   "id": "4190d2c0",
   "metadata": {},
   "source": [
    "### Load data"
   ]
  },
  {
   "cell_type": "code",
   "execution_count": null,
   "id": "7597e75d",
   "metadata": {},
   "outputs": [],
   "source": [
    "[train] = load_train_test([config.train_path])"
   ]
  },
  {
   "cell_type": "code",
   "execution_count": null,
   "id": "78c1b6ed",
   "metadata": {},
   "outputs": [],
   "source": [
    "input_names_train, weighted_actual_names_train, candidate_names_train = train"
   ]
  },
  {
   "cell_type": "code",
   "execution_count": null,
   "id": "deb505d8",
   "metadata": {},
   "outputs": [],
   "source": [
    "# load preferred names (in frequency order)\n",
    "pref_df = pd.read_csv(config.pref_path)"
   ]
  },
  {
   "cell_type": "code",
   "execution_count": null,
   "id": "544a8878",
   "metadata": {},
   "outputs": [],
   "source": [
    "pref_df[:5]"
   ]
  },
  {
   "cell_type": "code",
   "execution_count": null,
   "id": "3164f2dc",
   "metadata": {},
   "outputs": [],
   "source": [
    "device = torch.device(\"cuda:0\" if torch.cuda.is_available() else \"cpu\")\n",
    "print(device)"
   ]
  },
  {
   "cell_type": "code",
   "execution_count": null,
   "id": "a6da445a",
   "metadata": {},
   "outputs": [],
   "source": [
    "vocab_df = pd.read_csv(fopen(config.vocab_path, \"rb\"))\n",
    "print(len(vocab_df))\n",
    "print(vocab_df.head(5))"
   ]
  },
  {
   "cell_type": "code",
   "execution_count": null,
   "id": "78946023",
   "metadata": {
    "pycharm": {
     "name": "#%%\n"
    }
   },
   "outputs": [],
   "source": [
    "swivel_vocab = {name: _id for name, _id in zip(vocab_df[\"name\"], vocab_df[\"index\"])}\n",
    "print(next(iter(swivel_vocab.items())))"
   ]
  },
  {
   "cell_type": "code",
   "execution_count": null,
   "id": "566852d9",
   "metadata": {},
   "outputs": [],
   "source": [
    "swivel_model = torch.load(fopen(config.model_path, \"rb\"))\n",
    "swivel_model.eval()\n",
    "print(swivel_model)"
   ]
  },
  {
   "cell_type": "markdown",
   "id": "0948df4b",
   "metadata": {},
   "source": [
    "### Get all_names, cluster_names, all_embeddings, cluster_embeddings"
   ]
  },
  {
   "cell_type": "code",
   "execution_count": null,
   "id": "8a943799",
   "metadata": {},
   "outputs": [],
   "source": [
    "all_names = set(input_names_train).union(set(candidate_names_train))\n",
    "print(len(all_names))"
   ]
  },
  {
   "cell_type": "code",
   "execution_count": null,
   "id": "7e5ae2ee",
   "metadata": {
    "pycharm": {
     "name": "#%%\n"
    }
   },
   "outputs": [],
   "source": [
    "pref_names = [add_padding(str(name)) for name in pref_df[\"name\"] if add_padding(str(name)) in all_names]\n",
    "print(len(pref_names))"
   ]
  },
  {
   "cell_type": "code",
   "execution_count": null,
   "id": "9eee080e",
   "metadata": {
    "pycharm": {
     "name": "#%%\n"
    }
   },
   "outputs": [],
   "source": [
    "all_names = list(all_names)"
   ]
  },
  {
   "cell_type": "code",
   "execution_count": null,
   "id": "bd494443",
   "metadata": {
    "pycharm": {
     "name": "#%%\n"
    }
   },
   "outputs": [],
   "source": [
    "clustered_names = pref_names[:NAMES_TO_CLUSTER]\n",
    "clustered_names[:5]"
   ]
  },
  {
   "cell_type": "markdown",
   "id": "8256fa88",
   "metadata": {
    "pycharm": {
     "name": "#%% md\n"
    }
   },
   "source": [
    "#### Compute embeddings"
   ]
  },
  {
   "cell_type": "code",
   "execution_count": null,
   "id": "f5ce84b7",
   "metadata": {
    "pycharm": {
     "name": "#%%\n"
    }
   },
   "outputs": [],
   "source": [
    "clustered_embeddings = get_swivel_embeddings(swivel_model, swivel_vocab, clustered_names).astype('float32')\n",
    "all_embeddings = get_swivel_embeddings(swivel_model, swivel_vocab, all_names).astype('float32')"
   ]
  },
  {
   "cell_type": "markdown",
   "id": "85ea9522",
   "metadata": {},
   "source": [
    "### Get sparse scores matrix and sorted scores (for generating closures)"
   ]
  },
  {
   "cell_type": "code",
   "execution_count": null,
   "id": "0aee45c7",
   "metadata": {
    "pycharm": {
     "name": "#%%\n"
    }
   },
   "outputs": [],
   "source": [
    "%%time\n",
    "clustered_scores_sparse, sorted_scores = get_scores(clustered_embeddings, threshold=0.4)"
   ]
  },
  {
   "cell_type": "markdown",
   "id": "da1dc846",
   "metadata": {},
   "source": [
    "### Generate closures"
   ]
  },
  {
   "cell_type": "code",
   "execution_count": null,
   "id": "fbc5cdc5",
   "metadata": {},
   "outputs": [],
   "source": [
    "%%time\n",
    "id2closure, closure2ids, not_merged, max_score_not_merged = generate_closures(sorted_scores, CLOSURE_THRESHOLD)\n",
    "\n",
    "print(\"total not merged\", not_merged)\n",
    "print(\"max score not merged\", max_score_not_merged)\n",
    "print(len(closure2ids))"
   ]
  },
  {
   "cell_type": "markdown",
   "id": "80414d65",
   "metadata": {},
   "source": [
    "### Compute clusters"
   ]
  },
  {
   "cell_type": "code",
   "execution_count": null,
   "id": "dbc30f88",
   "metadata": {},
   "outputs": [],
   "source": [
    "%%time\n",
    "id2cluster = generate_clusters(closure2ids, clustered_scores_sparse, clustered_names, \n",
    "                               CLUSTER_THRESHOLD, CLUSTER_LINKAGE, n_jobs=4)"
   ]
  },
  {
   "cell_type": "markdown",
   "id": "7f2f2769",
   "metadata": {
    "pycharm": {
     "name": "#%% md\n"
    }
   },
   "source": [
    "### Write clusters"
   ]
  },
  {
   "cell_type": "code",
   "execution_count": null,
   "id": "62185844",
   "metadata": {
    "pycharm": {
     "name": "#%%\n"
    }
   },
   "outputs": [],
   "source": [
    "write_clusters(config.cluster_path, clustered_names, id2cluster)"
   ]
  },
  {
   "cell_type": "markdown",
   "id": "c7634148",
   "metadata": {
    "pycharm": {
     "name": "#%% md\n"
    }
   },
   "source": [
    "### Eval"
   ]
  },
  {
   "cell_type": "markdown",
   "id": "39acc334",
   "metadata": {},
   "source": [
    "#### Assign all names to a cluster"
   ]
  },
  {
   "cell_type": "code",
   "execution_count": null,
   "id": "f0b5b08b",
   "metadata": {},
   "outputs": [],
   "source": [
    "name2cluster, cluster2names = assign_names_to_clusters(all_names,\n",
    "                                                       all_embeddings,\n",
    "                                                       id2cluster,\n",
    "                                                       clustered_embeddings,\n",
    "                                                       k=K_NN)"
   ]
  },
  {
   "cell_type": "markdown",
   "id": "2001c663",
   "metadata": {
    "pycharm": {
     "name": "#%% md\n"
    }
   },
   "source": [
    "#### Get best matches"
   ]
  },
  {
   "cell_type": "code",
   "execution_count": null,
   "id": "69a87de1",
   "metadata": {},
   "outputs": [],
   "source": [
    "best_matches = get_best_cluster_matches(name2cluster, cluster2names, input_names_train)"
   ]
  },
  {
   "cell_type": "markdown",
   "id": "e9d0ca09",
   "metadata": {
    "pycharm": {
     "name": "#%% md\n"
    }
   },
   "source": [
    "#### Calc PR"
   ]
  },
  {
   "cell_type": "code",
   "execution_count": null,
   "id": "c93f0913",
   "metadata": {
    "pycharm": {
     "name": "#%%\n"
    }
   },
   "outputs": [],
   "source": [
    "precision = avg_precision_at_threshold(weighted_actual_names_train, best_matches, 0.5)\n",
    "recall = avg_weighted_recall_at_threshold(weighted_actual_names_train, best_matches, 0.5)\n",
    "print(\"precision\", precision)\n",
    "print(\"recall\", recall)"
   ]
  },
  {
   "cell_type": "code",
   "execution_count": null,
   "id": "48091dc6",
   "metadata": {
    "pycharm": {
     "name": "#%%\n"
    }
   },
   "outputs": [],
   "source": [
    "wandb.finish()"
   ]
  }
 ],
 "metadata": {
  "kernelspec": {
   "display_name": "nama",
   "language": "python",
   "name": "nama"
  },
  "language_info": {
   "codemirror_mode": {
    "name": "ipython",
    "version": 3
   },
   "file_extension": ".py",
   "mimetype": "text/x-python",
   "name": "python",
   "nbconvert_exporter": "python",
   "pygments_lexer": "ipython3",
   "version": "3.8.12"
  }
 },
 "nbformat": 4,
 "nbformat_minor": 5
}
