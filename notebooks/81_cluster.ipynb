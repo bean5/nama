{
 "cells": [
  {
   "cell_type": "code",
   "execution_count": null,
   "id": "2907945b",
   "metadata": {},
   "outputs": [],
   "source": [
    "%load_ext autoreload\n",
    "%autoreload 2\n",
    "%matplotlib inline"
   ]
  },
  {
   "cell_type": "code",
   "execution_count": null,
   "id": "8d131857",
   "metadata": {},
   "outputs": [],
   "source": [
    "from collections import namedtuple\n",
    "\n",
    "import pandas as pd\n",
    "import torch\n",
    "import wandb\n",
    "\n",
    "from src.data.utils import load_datasets, select_frequent_k\n",
    "from src.data.filesystem import fopen\n",
    "from src.eval.metrics import (\n",
    "    precision_weighted_recall_curve_at_threshold, \n",
    "    avg_precision_at_threshold,\n",
    "    avg_weighted_recall_at_threshold,\n",
    "    get_auc,\n",
    ")\n",
    "from src.models.swivel import SwivelModel, get_swivel_embeddings\n",
    "from src.models.cluster import (\n",
    "    get_sorted_similarities,\n",
    "    generate_closures,\n",
    "    generate_clusters,\n",
    "    get_clusters,\n",
    "    get_best_cluster_matches,\n",
    "    write_clusters,\n",
    ")"
   ]
  },
  {
   "cell_type": "code",
   "execution_count": null,
   "id": "b54bdec3",
   "metadata": {},
   "outputs": [],
   "source": [
    "# configure\n",
    "\n",
    "given_surname = \"given\"\n",
    "NAMES_TO_CLUSTER = 600000\n",
    "CLUSTER_ONLY_INPUT_NAMES = False\n",
    "CLOSURE_THRESHOLD = 20000\n",
    "SEARCH_THRESHOLD = 0.6\n",
    "MAX_SEARCH_CLUSTERS = 20\n",
    "EVAL_SEARCH_CLUSTERS = 10\n",
    "CLUSTER_ALGO = \"agglomerative\"\n",
    "CLUSTER_THRESHOLD = 0.8\n",
    "CLUSTER_LINKAGE = \"average\"\n",
    "names_to_test = 200000\n",
    "\n",
    "vocab_size = 600000 if given_surname == \"given\" else 2100000\n",
    "embed_dim = 100\n",
    "Config = namedtuple(\"Config\", \"train_path embed_dim swivel_vocab_path swivel_model_path cluster_path\")\n",
    "config = Config(\n",
    "    train_path=f\"s3://familysearch-names/processed/tree-hr-{given_surname}-train.csv.gz\",\n",
    "    embed_dim=embed_dim,\n",
    "    swivel_vocab_path=f\"s3://nama-data/data/models/fs-{given_surname}-swivel-vocab-{vocab_size}.csv\",\n",
    "    # TODO fix\n",
    "    swivel_model_path=f\"s3://nama-data/data/models/fs-{given_surname}-swivel-model-{vocab_size}-{embed_dim}-50.pth\",\n",
    "    cluster_path=f\"s3://nama-data/processed/tree-hr-{given_surname}-clusters-{vocab_size}-{embed_dim}.json.gz\"\n",
    ")"
   ]
  },
  {
   "cell_type": "code",
   "execution_count": null,
   "id": "72dfc8f8",
   "metadata": {},
   "outputs": [],
   "source": [
    "wandb.init(\n",
    "    project=\"nama\",\n",
    "    entity=\"nama\",\n",
    "    name=\"81_cluster\",\n",
    "    group=given_surname,\n",
    "    notes=\"\",\n",
    "    config=config._asdict()\n",
    ")"
   ]
  },
  {
   "cell_type": "markdown",
   "id": "4190d2c0",
   "metadata": {},
   "source": [
    "### Load data"
   ]
  },
  {
   "cell_type": "code",
   "execution_count": null,
   "id": "7597e75d",
   "metadata": {},
   "outputs": [],
   "source": [
    "[train] = load_datasets([config.train_path])\n",
    "input_names_train, weighted_actual_names_train, candidate_names_train = train\n",
    "\n",
    "vocab_df = pd.read_csv(fopen(config.swivel_vocab_path, \"rb\"))\n",
    "swivel_vocab = {name: _id for name, _id in zip(vocab_df[\"name\"], vocab_df[\"index\"])}\n",
    "\n",
    "swivel_model = SwivelModel(len(swivel_vocab), config.embed_dim)\n",
    "swivel_model.load_state_dict(torch.load(fopen(config.swivel_model_path, \"rb\")))\n",
    "swivel_model.eval()"
   ]
  },
  {
   "cell_type": "markdown",
   "id": "0948df4b",
   "metadata": {},
   "source": [
    "### Get names to cluster and embeddings"
   ]
  },
  {
   "cell_type": "code",
   "execution_count": null,
   "id": "8a943799",
   "metadata": {},
   "outputs": [],
   "source": [
    "input_names_cluster, weighted_actual_names_cluster, candidate_names_cluster = \\\n",
    "    select_frequent_k(input_names_train,\n",
    "                      weighted_actual_names_train,\n",
    "                      candidate_names_train,\n",
    "                      NAMES_TO_CLUSTER,\n",
    "                      input_names_only=CLUSTER_ONLY_INPUT_NAMES)\n",
    "cluster_names = list(set(input_names_cluster).union(set(candidate_names_cluster)))\n",
    "cluster_embeddings = get_swivel_embeddings(swivel_model, swivel_vocab, cluster_names).astype('float32')\n",
    "print(\"cluster_names\", len(cluster_names))"
   ]
  },
  {
   "cell_type": "code",
   "execution_count": null,
   "id": "f5ce84b7",
   "metadata": {
    "pycharm": {
     "name": "#%%\n"
    }
   },
   "outputs": [],
   "source": [
    "# test names\n",
    "input_names_test, weighted_actual_names_test, candidate_names_test = \\\n",
    "    select_frequent_k(input_names_train,\n",
    "                      weighted_actual_names_train,\n",
    "                      candidate_names_train,\n",
    "                      names_to_test)    \n",
    "test_names = list(set(input_names_test).union(set(candidate_names_test)))\n",
    "test_embeddings = get_swivel_embeddings(swivel_model, swivel_vocab, test_names).astype('float32')\n",
    "\n",
    "print(\"test_names\", len(test_names))\n",
    "print(\"test_input_names\", len(input_names_test))"
   ]
  },
  {
   "cell_type": "markdown",
   "id": "da1dc846",
   "metadata": {},
   "source": [
    "### Generate closures"
   ]
  },
  {
   "cell_type": "code",
   "execution_count": null,
   "id": "1dfbfe7d",
   "metadata": {},
   "outputs": [],
   "source": [
    "%%time\n",
    "sorted_similarities = get_sorted_similarities(cluster_embeddings, threshold=0.4)"
   ]
  },
  {
   "cell_type": "code",
   "execution_count": null,
   "id": "fbc5cdc5",
   "metadata": {},
   "outputs": [],
   "source": [
    "%%time\n",
    "_, closure2ids, not_merged, max_score_not_merged = generate_closures(sorted_similarities, CLOSURE_THRESHOLD)\n",
    "\n",
    "print(\"total scores\", len(sorted_similarities))\n",
    "print(\"total not merged\", not_merged)\n",
    "print(\"max score not merged\", max_score_not_merged)\n",
    "print(\"num closures\", len(closure2ids))"
   ]
  },
  {
   "cell_type": "markdown",
   "id": "80414d65",
   "metadata": {},
   "source": [
    "### Compute clusters"
   ]
  },
  {
   "cell_type": "code",
   "execution_count": null,
   "id": "dbc30f88",
   "metadata": {},
   "outputs": [],
   "source": [
    "%%time\n",
    "n_jobs = 4\n",
    "id2cluster = generate_clusters(closure2ids,\n",
    "                               cluster_embeddings,\n",
    "                               cluster_algo=CLUSTER_ALGO,\n",
    "                               cluster_linkage=CLUSTER_LINKAGE,\n",
    "                               cluster_threshold=CLUSTER_THRESHOLD,\n",
    "                               n_jobs=n_jobs,\n",
    "                              )\n",
    "print(\"clusters\", len(set(id2cluster.values())))"
   ]
  },
  {
   "cell_type": "markdown",
   "id": "7f2f2769",
   "metadata": {
    "pycharm": {
     "name": "#%% md\n"
    }
   },
   "source": [
    "### Write clusters"
   ]
  },
  {
   "cell_type": "code",
   "execution_count": null,
   "id": "2c3aad6f",
   "metadata": {},
   "outputs": [],
   "source": [
    "%%time\n",
    "name2clusters, cluster2names = get_clusters(cluster_names,\n",
    "                                            cluster_embeddings,\n",
    "                                            id2cluster,\n",
    "                                            cluster_embeddings,\n",
    "                                            k=1024,\n",
    "                                            max_clusters=MAX_SEARCH_CLUSTERS,\n",
    "                                            verbose=True,\n",
    "                                           )"
   ]
  },
  {
   "cell_type": "code",
   "execution_count": null,
   "id": "627104c0",
   "metadata": {},
   "outputs": [],
   "source": [
    "write_clusters(config.cluster_path, name2clusters)"
   ]
  },
  {
   "cell_type": "markdown",
   "id": "c7634148",
   "metadata": {
    "pycharm": {
     "name": "#%% md\n"
    }
   },
   "source": [
    "### Eval"
   ]
  },
  {
   "cell_type": "markdown",
   "id": "39acc334",
   "metadata": {},
   "source": [
    "#### Get a list of (cluster_id, score) tuples for each name"
   ]
  },
  {
   "cell_type": "code",
   "execution_count": null,
   "id": "f0b5b08b",
   "metadata": {},
   "outputs": [],
   "source": [
    "%%time\n",
    "EVAL_SEARCH_CLUSTERS=10\n",
    "if len(test_names) != len(cluster_names) or EVAL_SEARCH_CLUSTERS != MAX_SEARCH_CLUSTERS:\n",
    "    name2clusters, cluster2names = get_clusters(test_names,\n",
    "                                                test_embeddings,\n",
    "                                                id2cluster,\n",
    "                                                cluster_embeddings,\n",
    "                                                k=100,\n",
    "                                                max_clusters=EVAL_SEARCH_CLUSTERS,\n",
    "                                                verbose=True,\n",
    "                                               )"
   ]
  },
  {
   "cell_type": "markdown",
   "id": "2001c663",
   "metadata": {
    "pycharm": {
     "name": "#%% md\n"
    }
   },
   "source": [
    "#### Get best matches"
   ]
  },
  {
   "cell_type": "code",
   "execution_count": null,
   "id": "69a87de1",
   "metadata": {},
   "outputs": [],
   "source": [
    "%%time\n",
    "best_matches = get_best_cluster_matches(name2clusters, cluster2names, input_names_test)"
   ]
  },
  {
   "cell_type": "markdown",
   "id": "3c40e1b4",
   "metadata": {},
   "source": [
    "#### Calc F1 @ search threshold"
   ]
  },
  {
   "cell_type": "code",
   "execution_count": null,
   "id": "45597d70",
   "metadata": {},
   "outputs": [],
   "source": [
    "%%time\n",
    "SEARCH_THRESHOLD=0.5\n",
    "precision = avg_precision_at_threshold(weighted_actual_names_test, best_matches, SEARCH_THRESHOLD)\n",
    "recall = avg_weighted_recall_at_threshold(weighted_actual_names_test, best_matches, SEARCH_THRESHOLD)\n",
    "f1 = 2 * (precision * recall) / (precision + recall)\n",
    "print(\"f1\", f1, \"precision\", precision, \"recall\", recall)"
   ]
  },
  {
   "cell_type": "markdown",
   "id": "e9d0ca09",
   "metadata": {
    "pycharm": {
     "name": "#%% md\n"
    }
   },
   "source": [
    "#### Show PR curve"
   ]
  },
  {
   "cell_type": "code",
   "execution_count": null,
   "id": "c93f0913",
   "metadata": {
    "pycharm": {
     "name": "#%%\n"
    }
   },
   "outputs": [],
   "source": [
    "%%time\n",
    "precision_weighted_recall_curve_at_threshold(\n",
    "    weighted_actual_names_test, best_matches, min_threshold=0.01, max_threshold=1.0, step=0.05, distances=False\n",
    ")"
   ]
  },
  {
   "cell_type": "code",
   "execution_count": null,
   "id": "6d76a606",
   "metadata": {},
   "outputs": [],
   "source": [
    "%%time\n",
    "print(get_auc(\n",
    "    weighted_actual_names_test, best_matches, min_threshold=0.01, max_threshold=1.0, step=0.05, distances=False\n",
    "))"
   ]
  },
  {
   "cell_type": "code",
   "execution_count": null,
   "id": "48091dc6",
   "metadata": {
    "pycharm": {
     "name": "#%%\n"
    }
   },
   "outputs": [],
   "source": [
    "wandb.finish()"
   ]
  },
  {
   "cell_type": "code",
   "execution_count": null,
   "id": "3a49bf47",
   "metadata": {},
   "outputs": [],
   "source": []
  }
 ],
 "metadata": {
  "kernelspec": {
   "display_name": "nama",
   "language": "python",
   "name": "nama"
  },
  "language_info": {
   "codemirror_mode": {
    "name": "ipython",
    "version": 3
   },
   "file_extension": ".py",
   "mimetype": "text/x-python",
   "name": "python",
   "nbconvert_exporter": "python",
   "pygments_lexer": "ipython3",
   "version": "3.8.12"
  }
 },
 "nbformat": 4,
 "nbformat_minor": 5
}
