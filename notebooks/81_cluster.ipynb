{
 "cells": [
  {
   "cell_type": "code",
   "execution_count": null,
   "id": "2907945b",
   "metadata": {},
   "outputs": [],
   "source": [
    "%load_ext autoreload\n",
    "%autoreload 2\n",
    "%matplotlib inline"
   ]
  },
  {
   "cell_type": "code",
   "execution_count": null,
   "id": "8d131857",
   "metadata": {},
   "outputs": [],
   "source": [
    "from collections import namedtuple\n",
    "\n",
    "import pandas as pd\n",
    "import torch\n",
    "import wandb\n",
    "\n",
    "from src.data.utils import load_datasets, select_frequent_k\n",
    "from src.data.filesystem import fopen\n",
    "from src.eval.metrics import (\n",
    "    precision_weighted_recall_curve_at_threshold, \n",
    "    avg_precision_at_threshold,\n",
    "    avg_weighted_recall_at_threshold,\n",
    "    get_auc,\n",
    ")\n",
    "from src.models.swivel import SwivelModel, get_swivel_embeddings\n",
    "from src.models.cluster import (\n",
    "    get_sorted_similarities,\n",
    "    generate_closures,\n",
    "    generate_clusters,\n",
    "    get_clusters,\n",
    "    get_best_cluster_matches,\n",
    "    write_clusters,\n",
    "    prettify_cluster_names\n",
    ")\n",
    "from src.models.utils import add_padding"
   ]
  },
  {
   "cell_type": "code",
   "execution_count": null,
   "id": "b54bdec3",
   "metadata": {},
   "outputs": [],
   "source": [
    "# configure\n",
    "\n",
    "given_surname = \"given\"\n",
    "vocab_size = 610000 if given_surname == \"given\" else 2100000\n",
    "names_to_test = vocab_size\n",
    "\n",
    "NAMES_TO_CLUSTER = vocab_size\n",
    "CLUSTER_ONLY_INPUT_NAMES = False\n",
    "CLOSURE_THRESHOLD = 20000\n",
    "SEARCH_THRESHOLD = 0.55\n",
    "MAX_SEARCH_CLUSTERS = 20\n",
    "CLUSTER_ALGO = \"agglomerative\"\n",
    "CLUSTER_THRESHOLD = 0.95\n",
    "CLUSTER_LINKAGE = \"complete\"\n",
    "\n",
    "# not used for agglomerative\n",
    "CLUSTER_METHOD = \"xi+dbscan\"\n",
    "CLUSTER_EPS = 0.05\n",
    "CLUSTER_XI = 0.15\n",
    "\n",
    "embed_dim = 100\n",
    "Config = namedtuple(\"Config\", \"train_path pref_name_path embed_dim swivel_vocab_path swivel_model_path cluster_path\")\n",
    "config = Config(\n",
    "    train_path=f\"s3://familysearch-names/processed/tree-hr-{given_surname}-train.csv.gz\",\n",
    "    pref_name_path = f\"s3://familysearch-names/processed/tree-preferred-{given_surname}-aggr.csv.gz\",\n",
    "    embed_dim=embed_dim,\n",
    "    swivel_vocab_path=f\"s3://nama-data/data/models/fs-{given_surname}-swivel-vocab-{vocab_size}.csv\",\n",
    "    swivel_model_path=f\"s3://nama-data/data/models/fs-{given_surname}-swivel-model-{vocab_size}-{embed_dim}.pth\",\n",
    "    cluster_path=     f\"s3://nama-data/data/models/fs-{given_surname}-clusters-{vocab_size}-{embed_dim}.csv.gz\"\n",
    ")"
   ]
  },
  {
   "cell_type": "code",
   "execution_count": null,
   "id": "72dfc8f8",
   "metadata": {},
   "outputs": [],
   "source": [
    "wandb.init(\n",
    "    project=\"nama\",\n",
    "    entity=\"nama\",\n",
    "    name=\"81_cluster\",\n",
    "    group=given_surname,\n",
    "    notes=\"\",\n",
    "    config=config._asdict()\n",
    ")"
   ]
  },
  {
   "cell_type": "markdown",
   "id": "4190d2c0",
   "metadata": {},
   "source": [
    "### Load data"
   ]
  },
  {
   "cell_type": "code",
   "execution_count": null,
   "id": "3aa76e0e",
   "metadata": {
    "pycharm": {
     "name": "#%%\n"
    }
   },
   "outputs": [],
   "source": [
    "device = torch.device(\"cuda:0\" if torch.cuda.is_available() else \"cpu\")\n",
    "print(device)"
   ]
  },
  {
   "cell_type": "code",
   "execution_count": null,
   "id": "7597e75d",
   "metadata": {},
   "outputs": [],
   "source": [
    "[train] = load_datasets([config.train_path])\n",
    "input_names_train, weighted_actual_names_train, candidate_names_train = train\n",
    "\n",
    "vocab_df = pd.read_csv(fopen(config.swivel_vocab_path, \"rb\"))\n",
    "swivel_vocab = {name: _id for name, _id in zip(vocab_df[\"name\"], vocab_df[\"index\"])}\n",
    "\n",
    "swivel_model = SwivelModel(len(swivel_vocab), config.embed_dim)\n",
    "swivel_model.load_state_dict(torch.load(fopen(config.swivel_model_path, \"rb\"), map_location=torch.device(device)))\n",
    "swivel_model.eval()"
   ]
  },
  {
   "cell_type": "code",
   "execution_count": null,
   "id": "76a04405",
   "metadata": {},
   "outputs": [],
   "source": [
    "pref_df = pd.read_csv(config.pref_name_path, na_filter=False)\n",
    "pref_name2freq = {add_padding(name): freq for name, freq in zip(pref_df[\"name\"], pref_df[\"frequency\"])}"
   ]
  },
  {
   "cell_type": "markdown",
   "id": "0948df4b",
   "metadata": {},
   "source": [
    "### Get names to cluster and embeddings"
   ]
  },
  {
   "cell_type": "code",
   "execution_count": null,
   "id": "8a943799",
   "metadata": {},
   "outputs": [],
   "source": [
    "input_names_cluster, weighted_actual_names_cluster, candidate_names_cluster = \\\n",
    "    select_frequent_k(input_names_train,\n",
    "                      weighted_actual_names_train,\n",
    "                      candidate_names_train,\n",
    "                      NAMES_TO_CLUSTER,\n",
    "                      input_names_only=CLUSTER_ONLY_INPUT_NAMES)\n",
    "cluster_names = list(set(input_names_cluster).union(set(candidate_names_cluster)))\n",
    "cluster_embeddings = get_swivel_embeddings(swivel_model, swivel_vocab, cluster_names).astype('float32')\n",
    "print(\"cluster_names\", len(cluster_names))"
   ]
  },
  {
   "cell_type": "code",
   "execution_count": null,
   "id": "f5ce84b7",
   "metadata": {
    "pycharm": {
     "name": "#%%\n"
    }
   },
   "outputs": [],
   "source": [
    "# test names\n",
    "input_names_test, weighted_actual_names_test, candidate_names_test = \\\n",
    "    select_frequent_k(input_names_train,\n",
    "                      weighted_actual_names_train,\n",
    "                      candidate_names_train,\n",
    "                      names_to_test)    \n",
    "test_names = list(set(input_names_test).union(set(candidate_names_test)))\n",
    "test_embeddings = get_swivel_embeddings(swivel_model, swivel_vocab, test_names).astype('float32')\n",
    "\n",
    "print(\"test_names\", len(test_names))\n",
    "print(\"test_input_names\", len(input_names_test))"
   ]
  },
  {
   "cell_type": "markdown",
   "id": "da1dc846",
   "metadata": {},
   "source": [
    "### Generate closures"
   ]
  },
  {
   "cell_type": "code",
   "execution_count": null,
   "id": "1dfbfe7d",
   "metadata": {},
   "outputs": [],
   "source": [
    "%%time\n",
    "sorted_similarities = get_sorted_similarities(cluster_embeddings, threshold=0.4)"
   ]
  },
  {
   "cell_type": "code",
   "execution_count": null,
   "id": "fbc5cdc5",
   "metadata": {},
   "outputs": [],
   "source": [
    "%%time\n",
    "_, closure2ids, not_merged, max_score_not_merged = generate_closures(sorted_similarities, CLOSURE_THRESHOLD)\n",
    "\n",
    "print(\"total scores\", len(sorted_similarities))\n",
    "print(\"total not merged\", not_merged)\n",
    "print(\"max score not merged\", max_score_not_merged)\n",
    "print(\"num closures\", len(closure2ids))"
   ]
  },
  {
   "cell_type": "markdown",
   "id": "80414d65",
   "metadata": {},
   "source": [
    "### Compute clusters"
   ]
  },
  {
   "cell_type": "code",
   "execution_count": null,
   "id": "dbc30f88",
   "metadata": {},
   "outputs": [],
   "source": [
    "%%time\n",
    "n_jobs = 4\n",
    "id2cluster = generate_clusters(closure2ids,\n",
    "                               cluster_embeddings,\n",
    "                               cluster_algo=CLUSTER_ALGO,\n",
    "                               cluster_linkage=CLUSTER_LINKAGE,\n",
    "                               cluster_threshold=CLUSTER_THRESHOLD,\n",
    "                               eps=CLUSTER_EPS,\n",
    "                               cluster_method=CLUSTER_METHOD,\n",
    "                               xi=CLUSTER_XI,\n",
    "                               n_jobs=n_jobs,\n",
    "                              )\n",
    "print(\"clusters\", len(set(id2cluster.values())))"
   ]
  },
  {
   "cell_type": "code",
   "execution_count": null,
   "id": "8aef32d7",
   "metadata": {},
   "outputs": [],
   "source": [
    "id2cluster = prettify_cluster_names(cluster_names, id2cluster, pref_name2freq)"
   ]
  },
  {
   "cell_type": "code",
   "execution_count": null,
   "id": "c5442635",
   "metadata": {},
   "outputs": [],
   "source": [
    "print(cluster_names[:10])\n",
    "print(list(id2cluster[i] for i in range(10)))"
   ]
  },
  {
   "cell_type": "markdown",
   "id": "7f2f2769",
   "metadata": {
    "pycharm": {
     "name": "#%% md\n"
    }
   },
   "source": [
    "### Write clusters"
   ]
  },
  {
   "cell_type": "code",
   "execution_count": null,
   "id": "627104c0",
   "metadata": {},
   "outputs": [],
   "source": [
    "write_clusters(config.cluster_path, cluster_names, id2cluster)"
   ]
  },
  {
   "cell_type": "markdown",
   "id": "c7634148",
   "metadata": {
    "pycharm": {
     "name": "#%% md\n"
    }
   },
   "source": [
    "### Eval"
   ]
  },
  {
   "cell_type": "markdown",
   "id": "39acc334",
   "metadata": {},
   "source": [
    "#### Get a list of (cluster_id, score) tuples for each name"
   ]
  },
  {
   "cell_type": "code",
   "execution_count": null,
   "id": "f0b5b08b",
   "metadata": {},
   "outputs": [],
   "source": [
    "%%time\n",
    "name2clusters, cluster2names = get_clusters(test_names,\n",
    "                                            test_embeddings,\n",
    "                                            id2cluster,\n",
    "                                            cluster_embeddings,\n",
    "                                            k=100,\n",
    "                                            max_clusters=MAX_SEARCH_CLUSTERS,\n",
    "                                            verbose=True,\n",
    "                                           )"
   ]
  },
  {
   "cell_type": "markdown",
   "id": "2001c663",
   "metadata": {
    "pycharm": {
     "name": "#%% md\n"
    }
   },
   "source": [
    "#### Get best matches"
   ]
  },
  {
   "cell_type": "code",
   "execution_count": null,
   "id": "69a87de1",
   "metadata": {},
   "outputs": [],
   "source": [
    "%%time\n",
    "best_matches = get_best_cluster_matches(name2clusters, cluster2names, input_names_test)"
   ]
  },
  {
   "cell_type": "markdown",
   "id": "3c40e1b4",
   "metadata": {},
   "source": [
    "#### Calc F1 @ search threshold"
   ]
  },
  {
   "cell_type": "code",
   "execution_count": null,
   "id": "45597d70",
   "metadata": {},
   "outputs": [],
   "source": [
    "%%time\n",
    "precision = avg_precision_at_threshold(weighted_actual_names_test, best_matches, SEARCH_THRESHOLD)\n",
    "recall = avg_weighted_recall_at_threshold(weighted_actual_names_test, best_matches, SEARCH_THRESHOLD)\n",
    "f1 = 2 * (precision * recall) / (precision + recall)\n",
    "print(\"f1\", f1, \"precision\", precision, \"recall\", recall)"
   ]
  },
  {
   "cell_type": "markdown",
   "id": "e9d0ca09",
   "metadata": {
    "pycharm": {
     "name": "#%% md\n"
    }
   },
   "source": [
    "#### Show PR curve"
   ]
  },
  {
   "cell_type": "code",
   "execution_count": null,
   "id": "c93f0913",
   "metadata": {
    "pycharm": {
     "name": "#%%\n"
    }
   },
   "outputs": [],
   "source": [
    "%%time\n",
    "precision_weighted_recall_curve_at_threshold(\n",
    "    weighted_actual_names_test, best_matches, min_threshold=0.01, max_threshold=1.0, step=0.05, distances=False\n",
    ")"
   ]
  },
  {
   "cell_type": "code",
   "execution_count": null,
   "id": "6d76a606",
   "metadata": {},
   "outputs": [],
   "source": [
    "%%time\n",
    "print(get_auc(\n",
    "    weighted_actual_names_test, best_matches, min_threshold=0.01, max_threshold=1.0, step=0.05, distances=False\n",
    "))"
   ]
  },
  {
   "cell_type": "code",
   "execution_count": null,
   "id": "48091dc6",
   "metadata": {
    "pycharm": {
     "name": "#%%\n"
    }
   },
   "outputs": [],
   "source": [
    "wandb.finish()"
   ]
  },
  {
   "cell_type": "markdown",
   "id": "cc6f953d",
   "metadata": {},
   "source": [
    "### Test"
   ]
  },
  {
   "cell_type": "code",
   "execution_count": null,
   "id": "3a49bf47",
   "metadata": {},
   "outputs": [],
   "source": [
    "from collections import defaultdict\n",
    "\n",
    "cluster2ids = defaultdict(list)\n",
    "for _id, cluster in id2cluster.items():\n",
    "    cluster2ids[cluster].append(_id)"
   ]
  },
  {
   "cell_type": "code",
   "execution_count": null,
   "id": "bbac6641",
   "metadata": {},
   "outputs": [],
   "source": [
    "n_multiple = 0\n",
    "max_cluster_size = 0\n",
    "max_cluster_id = 0\n",
    "for cluster, ids in cluster2ids.items():\n",
    "    if len(ids) > 1:\n",
    "        n_multiple += 1\n",
    "        if len(ids) > max_cluster_size:\n",
    "            max_cluster_size = len(ids)\n",
    "            max_cluster_id = cluster\n"
   ]
  },
  {
   "cell_type": "code",
   "execution_count": null,
   "id": "2840fee1",
   "metadata": {},
   "outputs": [],
   "source": [
    "print(n_multiple)\n",
    "print(max_cluster_size)\n",
    "print(max_cluster_id)"
   ]
  },
  {
   "cell_type": "code",
   "execution_count": null,
   "id": "4344a8e8",
   "metadata": {},
   "outputs": [],
   "source": [
    "cluster2ids[\"ELIZABETH\"]"
   ]
  },
  {
   "cell_type": "code",
   "execution_count": null,
   "id": "27dd19ff",
   "metadata": {},
   "outputs": [],
   "source": [
    "cluster_id = \"RICARDO\"\n",
    "for _id in cluster2ids[cluster_id]:\n",
    "    print(cluster_names[_id])"
   ]
  },
  {
   "cell_type": "code",
   "execution_count": null,
   "id": "18ae1f38",
   "metadata": {},
   "outputs": [],
   "source": []
  }
 ],
 "metadata": {
  "kernelspec": {
   "display_name": "nama",
   "language": "python",
   "name": "nama"
  },
  "language_info": {
   "codemirror_mode": {
    "name": "ipython",
    "version": 3
   },
   "file_extension": ".py",
   "mimetype": "text/x-python",
   "name": "python",
   "nbconvert_exporter": "python",
   "pygments_lexer": "ipython3",
   "version": "3.8.12"
  }
 },
 "nbformat": 4,
 "nbformat_minor": 5
}
