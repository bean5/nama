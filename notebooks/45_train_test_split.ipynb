{
 "cells": [
  {
   "cell_type": "code",
   "execution_count": null,
   "id": "e884811f",
   "metadata": {},
   "outputs": [],
   "source": [
    "%load_ext autoreload\n",
    "%autoreload 2"
   ]
  },
  {
   "cell_type": "markdown",
   "id": "d4e31dc9",
   "metadata": {},
   "source": [
    "# Split input pairs into train and test sets"
   ]
  },
  {
   "cell_type": "code",
   "execution_count": null,
   "id": "8a65722e",
   "metadata": {
    "pycharm": {
     "name": "#%%\n"
    }
   },
   "outputs": [],
   "source": [
    "import pandas as pd\n",
    "import wandb\n",
    "\n",
    "from src.data.familysearch import train_test_split\n",
    "from src.data.utils import load_train_test"
   ]
  },
  {
   "cell_type": "code",
   "execution_count": null,
   "id": "8ba65788",
   "metadata": {
    "pycharm": {
     "name": "#%%\n"
    }
   },
   "outputs": [],
   "source": [
    "given_surname = \"given\"\n",
    "config = {\n",
    "    \"pref_path\": f\"s3://familysearch-names/processed/tree-preferred-{given_surname}-aggr.csv.gz\",\n",
    "    \"in_path\": f\"s3://familysearch-names/processed/tree-hr-{given_surname}-similar.csv.gz\",\n",
    "    \"train_path\": f\"s3://familysearch-names/processed/tree-hr-{given_surname}-similar-train.csv.gz\",\n",
    "    \"test_path\": f\"s3://familysearch-names/processed/tree-hr-{given_surname}-similar-test.csv.gz\",\n",
    "    \"freq_train_path\": f\"s3://familysearch-names/processed/tree-hr-{given_surname}-similar-train-freq-tree-name.csv.gz\",\n",
    "    \"freq_test_path\": f\"s3://familysearch-names/processed/tree-hr-{given_surname}-similar-test-freq-tree-name.csv.gz\",\n",
    "    \"freq_cutoff\": 1000,\n",
    "    \"train_cutoff\": 0,\n",
    "}\n"
   ]
  },
  {
   "cell_type": "code",
   "execution_count": null,
   "id": "c867c2a7",
   "metadata": {
    "pycharm": {
     "name": "#%%\n"
    }
   },
   "outputs": [],
   "source": [
    "wandb.init(\n",
    "    project=\"nama\",\n",
    "    entity=\"nama\",\n",
    "    name=\"45_train_test_split\",\n",
    "    group=given_surname,\n",
    "    notes=\"\",\n",
    "    config = config\n",
    ")"
   ]
  },
  {
   "cell_type": "code",
   "execution_count": null,
   "id": "26c7f567",
   "metadata": {
    "pycharm": {
     "name": "#%%\n"
    }
   },
   "outputs": [],
   "source": [
    "train_test_split(config.pref_path, config.in_path, config.train_path, config.test_path, config.freq_train_path, config.freq_test_path,\n",
    "                 config.freq_cutoff, config.train_cutoff)"
   ]
  },
  {
   "cell_type": "code",
   "execution_count": null,
   "id": "a0a817a0",
   "metadata": {
    "pycharm": {
     "name": "#%%\n"
    }
   },
   "outputs": [],
   "source": [
    "train, freq_train, freq_test = load_train_test([config.train_path, config.freq_train_path, config.freq_test_path])\n",
    "\n",
    "input_names_train, weighted_actual_names_train, candidate_names_train = train\n",
    "input_names_freq_train, weighted_actual_names_freq_train, candidate_names_freq_train = freq_train\n",
    "input_names_freq_test, weighted_actual_names_freq_test, candidate_names_freq_test = freq_test"
   ]
  },
  {
   "cell_type": "code",
   "execution_count": null,
   "id": "0a099c6d",
   "metadata": {
    "pycharm": {
     "name": "#%%\n"
    }
   },
   "outputs": [],
   "source": [
    "print(\"train input names (name1), weighted actual (name1 -> [name2, weighted_count, co_occurrence], candidate names (name2)\")\n",
    "print(\"name1\", len(input_names_train))\n",
    "print(\"weighted actual - should be same as name1\", len(weighted_actual_names_train))\n",
    "print(\"number of actuals\", sum(len(wa) for wa in weighted_actual_names_train))\n",
    "print(\"name2\", len(candidate_names_train))\n",
    "print(\"total unique names\", len(set(input_names_train).union(set(candidate_names_train))))"
   ]
  },
  {
   "cell_type": "code",
   "execution_count": null,
   "id": "f7224163",
   "metadata": {
    "pycharm": {
     "name": "#%%\n"
    }
   },
   "outputs": [],
   "source": [
    "print(\"test in-vocab: input names (name1), weighted actual (name1 -> [name2, weighted_count, co_occurrence], candidate names (name2)\")\n",
    "print(\"name1\", len(input_names_freq_train))\n",
    "print(\"weighted actual - should be same as name1\", len(weighted_actual_names_freq_train))\n",
    "print(\"number of actuals\", sum(len(wa) for wa in weighted_actual_names_freq_train))\n",
    "print(\"name2\", len(candidate_names_freq_train))\n",
    "print(\"total unique names\", len(set(input_names_train).union(set(candidate_names_freq_train))))"
   ]
  },
  {
   "cell_type": "code",
   "execution_count": null,
   "id": "c8370ae5",
   "metadata": {
    "pycharm": {
     "name": "#%%\n"
    }
   },
   "outputs": [],
   "source": [
    "print(\"test out-of-vocab: input names (name1), weighted actual (name1 -> [name2, weighted_count, co_occurrence], candidate names (name2)\")\n",
    "print(\"name1\", len(input_names_freq_test))\n",
    "print(\"weighted actual - should be same as name1\", len(weighted_actual_names_freq_test))\n",
    "print(\"number of actuals\", sum(len(wa) for wa in weighted_actual_names_freq_test))\n",
    "print(\"name2\", len(candidate_names_freq_test))\n",
    "print(\"total unique names\", len(set(input_names_train).union(set(candidate_names_freq_test))))"
   ]
  },
  {
   "cell_type": "code",
   "execution_count": null,
   "id": "0dcf931b",
   "metadata": {
    "pycharm": {
     "name": "#%%\n"
    }
   },
   "outputs": [],
   "source": [
    "# probe datasets to validate\n",
    "probe_name = \"chesworth\" if given_surname == \"surname\" else \"richard\"\n",
    "print(\"freq_train\", weighted_actual_names_freq_train[input_names_freq_train.index(probe_name)])\n",
    "print(\"freq_test\", weighted_actual_names_freq_test[input_names_freq_test.index(probe_name)])"
   ]
  },
  {
   "cell_type": "code",
   "execution_count": null,
   "id": "3d81c180",
   "metadata": {
    "pycharm": {
     "name": "#%%\n"
    }
   },
   "outputs": [],
   "source": [
    "wandb.finish()"
   ]
  }
 ],
 "metadata": {
  "kernelspec": {
   "display_name": "Python 3",
   "language": "python",
   "name": "python3"
  }
 },
 "nbformat": 4,
 "nbformat_minor": 5
}
