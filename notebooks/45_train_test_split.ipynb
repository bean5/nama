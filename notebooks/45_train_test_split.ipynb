{
 "cells": [
  {
   "cell_type": "code",
   "execution_count": null,
   "id": "e884811f",
   "metadata": {},
   "outputs": [],
   "source": [
    "%load_ext autoreload\n",
    "%autoreload 2"
   ]
  },
  {
   "cell_type": "markdown",
   "id": "d4e31dc9",
   "metadata": {},
   "source": [
    "# Split input pairs into train and test sets"
   ]
  },
  {
   "cell_type": "code",
   "execution_count": null,
   "id": "8a65722e",
   "metadata": {
    "pycharm": {
     "name": "#%%\n"
    }
   },
   "outputs": [],
   "source": [
    "from collections import namedtuple\n",
    "import wandb\n",
    "\n",
    "from src.data.familysearch import train_test_split_on_frequency\n",
    "from src.data.utils import load_dataset\n",
    "from src.models.utils import add_padding"
   ]
  },
  {
   "cell_type": "code",
   "execution_count": null,
   "id": "8ba65788",
   "metadata": {
    "pycharm": {
     "name": "#%%\n"
    }
   },
   "outputs": [],
   "source": [
    "given_surname = \"given\"\n",
    "Config = namedtuple(\"Config\", \"in_path train_path test_path threshold\")\n",
    "config = Config(\n",
    "    in_path=f\"s3://familysearch-names/processed/tree-hr-{given_surname}-similar.csv.gz\",\n",
    "    train_path=f\"s3://familysearch-names/processed/tree-hr-{given_surname}-train-unfiltered.csv.gz\",\n",
    "    test_path=f\"s3://familysearch-names/processed/tree-hr-{given_surname}-test.csv.gz\",\n",
    "    threshold=0.5\n",
    ")"
   ]
  },
  {
   "cell_type": "code",
   "execution_count": null,
   "id": "bf9f91c4",
   "metadata": {
    "pycharm": {
     "name": "#%%\n"
    }
   },
   "outputs": [],
   "source": [
    "wandb.init(\n",
    "    project=\"nama\",\n",
    "    entity=\"nama\",\n",
    "    name=\"45_train_test_split\",\n",
    "    group=given_surname,\n",
    "    notes=\"\",\n",
    "    config=config._asdict()\n",
    ")"
   ]
  },
  {
   "cell_type": "code",
   "execution_count": null,
   "id": "26c7f567",
   "metadata": {
    "pycharm": {
     "name": "#%%\n"
    }
   },
   "outputs": [],
   "source": [
    "train_test_split_on_frequency(config.in_path, config.train_path, config.test_path, config.threshold)"
   ]
  },
  {
   "cell_type": "code",
   "execution_count": null,
   "id": "a0a817a0",
   "metadata": {
    "pycharm": {
     "name": "#%%\n"
    }
   },
   "outputs": [],
   "source": [
    "input_names_train, weighted_actual_names_train, candidate_names_train = \\\n",
    "        load_dataset(config.train_path)\n",
    "input_names_test, weighted_actual_names_test, candidate_names_test = \\\n",
    "        load_dataset(config.test_path)"
   ]
  },
  {
   "cell_type": "code",
   "execution_count": null,
   "id": "4edf62cb",
   "metadata": {
    "pycharm": {
     "name": "#%%\n"
    }
   },
   "outputs": [],
   "source": [
    "vocab = set(input_names_train).union(set(candidate_names_train))\n",
    "print(len(vocab))"
   ]
  },
  {
   "cell_type": "code",
   "execution_count": null,
   "id": "19be8458",
   "metadata": {
    "pycharm": {
     "name": "#%%\n"
    }
   },
   "outputs": [],
   "source": [
    "# check test set is correct\n",
    "n_zero = n_one = n_two = 0\n",
    "for input_name, wans in zip(input_names_test, weighted_actual_names_test):\n",
    "    for actual_name, _, _ in wans:\n",
    "        if input_name in vocab and actual_name in vocab and input_name != actual_name:\n",
    "            n_two += 1\n",
    "        elif input_name in vocab or actual_name in vocab:\n",
    "            n_one += 1\n",
    "        else:\n",
    "            n_zero += 1\n",
    "print(\"two names in vocab (should not be possible)\", n_two)\n",
    "print(\"one name in vocab\", n_one)\n",
    "print(\"zero names in vocab\", n_zero)"
   ]
  },
  {
   "cell_type": "code",
   "execution_count": null,
   "id": "742f0364",
   "metadata": {
    "pycharm": {
     "name": "#%%\n"
    }
   },
   "outputs": [],
   "source": [
    "print(\"train input names (name1), weighted actual (name1 -> [name2, weighted_count, co_occurrence], candidate names (name2)\")\n",
    "print(\"name1\", len(input_names_train))\n",
    "print(\"weighted actual - should be same as name1\", len(weighted_actual_names_train))\n",
    "print(\"number of actuals\", sum(len(wa) for wa in weighted_actual_names_train))\n",
    "print(\"name2\", len(candidate_names_train))\n",
    "print(\"total unique names\", len(set(input_names_train).union(set(candidate_names_train))))"
   ]
  },
  {
   "cell_type": "code",
   "execution_count": null,
   "id": "f5bac797",
   "metadata": {
    "pycharm": {
     "name": "#%%\n"
    }
   },
   "outputs": [],
   "source": [
    "print(\"test out-of-vocab: input names (name1), weighted actual (name1 -> [name2, weighted_count, co_occurrence], candidate names (name2)\")\n",
    "print(\"name1\", len(input_names_test))\n",
    "print(\"weighted actual - should be same as name1\", len(weighted_actual_names_test))\n",
    "print(\"number of actuals\", sum(len(wa) for wa in weighted_actual_names_test))\n",
    "print(\"name2\", len(candidate_names_test))\n",
    "print(\"total unique names\", len(set(input_names_test).union(set(candidate_names_test))))"
   ]
  },
  {
   "cell_type": "markdown",
   "id": "a1328d3e",
   "metadata": {
    "pycharm": {
     "name": "#%% md\n"
    }
   },
   "source": [
    "### Probe datasets"
   ]
  },
  {
   "cell_type": "code",
   "execution_count": null,
   "id": "c9097490",
   "metadata": {
    "pycharm": {
     "name": "#%%\n"
    }
   },
   "outputs": [],
   "source": [
    "def print_weighted_actual_names(label, weighted_actual_names, max=0):\n",
    "    print(label)\n",
    "    print(\"total\", len(weighted_actual_names))\n",
    "    if 0 < max < len(weighted_actual_names):\n",
    "        weighted_actual_names = weighted_actual_names[:max]\n",
    "    for wan in weighted_actual_names:\n",
    "        print(\"  \", wan)\n",
    "\n",
    "probe_name = add_padding(\"jones\" if given_surname == \"surname\" else \"richard\")\n",
    "print(\"total weight\", sum(wc for _, wc, _ in weighted_actual_names_train[input_names_train.index(probe_name)]))\n",
    "print_weighted_actual_names(\"train\", weighted_actual_names_train[input_names_train.index(probe_name)], 20)\n",
    "print(\"total weight\", sum(wc for _, wc, _ in weighted_actual_names_test[input_names_test.index(probe_name)]))\n",
    "print_weighted_actual_names(\"test\", weighted_actual_names_test[input_names_test.index(probe_name)], 20)"
   ]
  },
  {
   "cell_type": "code",
   "execution_count": null,
   "id": "f0a36074",
   "metadata": {
    "pycharm": {
     "name": "#%%\n"
    }
   },
   "outputs": [],
   "source": [
    "wandb.finish()"
   ]
  }
 ],
 "metadata": {
  "kernelspec": {
   "display_name": "nama",
   "language": "python",
   "name": "nama"
  },
  "language_info": {
   "codemirror_mode": {
    "name": "ipython",
    "version": 3
   },
   "file_extension": ".py",
   "mimetype": "text/x-python",
   "name": "python",
   "nbconvert_exporter": "python",
   "pygments_lexer": "ipython3",
   "version": "3.8.12"
  }
 },
 "nbformat": 4,
 "nbformat_minor": 5
}
