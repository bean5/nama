{
 "cells": [
  {
   "cell_type": "code",
   "execution_count": null,
   "id": "e884811f",
   "metadata": {},
   "outputs": [],
   "source": [
    "%load_ext autoreload\n",
    "%autoreload 2"
   ]
  },
  {
   "cell_type": "markdown",
   "id": "d4e31dc9",
   "metadata": {},
   "source": [
    "# Split input pairs into train and test sets"
   ]
  },
  {
   "cell_type": "code",
   "execution_count": null,
   "id": "8a65722e",
   "metadata": {
    "pycharm": {
     "name": "#%%\n"
    }
   },
   "outputs": [],
   "source": [
    "from src.data.familysearch import train_test_split, load_train_test"
   ]
  },
  {
   "cell_type": "code",
   "execution_count": null,
   "id": "8ba65788",
   "metadata": {
    "pycharm": {
     "name": "#%%\n"
    }
   },
   "outputs": [],
   "source": [
    "in_path = \"s3://nama-data/data/interim/tree-hr-surname-similar.csv.gz\"\n",
    "train_path = \"s3://nama-data/data/processed/tree-hr-surname-similar-train.csv.gz\"\n",
    "test_path = \"s3://nama-data/data/processed/tree-hr-surname-similar-test.csv.gz\""
   ]
  },
  {
   "cell_type": "code",
   "execution_count": null,
   "id": "26c7f567",
   "metadata": {
    "pycharm": {
     "name": "#%%\n"
    }
   },
   "outputs": [],
   "source": [
    "train_test_split(in_path, train_path, test_path, starting_test_size=0.55)"
   ]
  },
  {
   "cell_type": "code",
   "execution_count": null,
   "id": "a0a817a0",
   "metadata": {
    "pycharm": {
     "name": "#%%\n"
    }
   },
   "outputs": [],
   "source": [
    "train, test = load_train_test(train_path, test_path)\n",
    "\n",
    "input_names_train, weighted_actual_names_train, candidate_names_train = train\n",
    "input_names_test, weighted_actual_names_test, candidate_names_test = test"
   ]
  },
  {
   "cell_type": "code",
   "execution_count": null,
   "id": "3fa91a79",
   "metadata": {
    "pycharm": {
     "name": "#%%\n"
    }
   },
   "outputs": [],
   "source": [
    "print(\"train input, weighted actual, candidate\")\n",
    "print(len(input_names_train))\n",
    "print(len(weighted_actual_names_train))\n",
    "print(len(candidate_names_train))"
   ]
  },
  {
   "cell_type": "code",
   "execution_count": null,
   "id": "b0afac96",
   "metadata": {
    "pycharm": {
     "name": "#%%\n"
    }
   },
   "outputs": [],
   "source": [
    "print(\"test input, weighted actual, candidate\")\n",
    "print(len(input_names_test))\n",
    "print(len(weighted_actual_names_test))\n",
    "print(len(candidate_names_test))"
   ]
  }
 ],
 "metadata": {
  "kernelspec": {
   "display_name": "Python 3",
   "language": "python",
   "name": "python3"
  }
 },
 "nbformat": 4,
 "nbformat_minor": 5
}
