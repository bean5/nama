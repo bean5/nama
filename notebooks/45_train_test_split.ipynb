{
 "cells": [
  {
   "cell_type": "code",
   "execution_count": null,
   "id": "e884811f",
   "metadata": {},
   "outputs": [],
   "source": [
    "%load_ext autoreload\n",
    "%autoreload 2"
   ]
  },
  {
   "cell_type": "markdown",
   "id": "d4e31dc9",
   "metadata": {},
   "source": [
    "# Split input pairs into train and test sets"
   ]
  },
  {
   "cell_type": "code",
   "execution_count": null,
   "id": "8a65722e",
   "metadata": {
    "pycharm": {
     "name": "#%%\n"
    }
   },
   "outputs": [],
   "source": [
    "from collections import namedtuple\n",
    "import wandb\n",
    "\n",
    "from src.data.familysearch import train_test_split\n",
    "from src.data.utils import load_train_test\n",
    "from src.models.utils import add_padding"
   ]
  },
  {
   "cell_type": "code",
   "execution_count": null,
   "id": "8ba65788",
   "metadata": {
    "pycharm": {
     "name": "#%%\n"
    }
   },
   "outputs": [],
   "source": [
    "given_surname = \"given\"\n",
    "Config = namedtuple(\"Config\", [\n",
    "    \"pref_path\",\n",
    "    \"in_path\",\n",
    "    \"train_path\",\n",
    "    \"test_path\",\n",
    "    \"tiny_train_path\",\n",
    "    \"freq_train_path\",\n",
    "    \"tiny_test_path\",\n",
    "    \"freq_test_path\",\n",
    "    \"tiny_cutoff\",\n",
    "    \"freq_cutoff\",\n",
    "    \"train_cutoff\",\n",
    "])\n",
    "config = Config(\n",
    "    pref_path=f\"s3://familysearch-names/processed/tree-preferred-{given_surname}-aggr.csv.gz\",\n",
    "    in_path=f\"s3://familysearch-names/processed/tree-hr-{given_surname}-similar.csv.gz\",\n",
    "    train_path=f\"s3://familysearch-names/processed/tree-hr-{given_surname}-similar-train.csv.gz\",\n",
    "    test_path=f\"s3://familysearch-names/processed/tree-hr-{given_surname}-similar-test.csv.gz\",\n",
    "    tiny_train_path=f\"s3://familysearch-names/processed/tree-hr-{given_surname}-similar-train-tiny.csv.gz\",\n",
    "    freq_train_path=f\"s3://familysearch-names/processed/tree-hr-{given_surname}-similar-train-freq.csv.gz\",\n",
    "    tiny_test_path=f\"s3://familysearch-names/processed/tree-hr-{given_surname}-similar-test-tiny.csv.gz\",\n",
    "    freq_test_path=f\"s3://familysearch-names/processed/tree-hr-{given_surname}-similar-test-freq.csv.gz\",\n",
    "    tiny_cutoff=100,\n",
    "    freq_cutoff=1000,\n",
    "    train_cutoff=0,\n",
    ")"
   ]
  },
  {
   "cell_type": "code",
   "execution_count": null,
   "id": "bf9f91c4",
   "metadata": {
    "pycharm": {
     "name": "#%%\n"
    }
   },
   "outputs": [],
   "source": [
    "wandb.init(\n",
    "    project=\"nama\",\n",
    "    entity=\"nama\",\n",
    "    name=\"45_train_test_split\",\n",
    "    group=given_surname,\n",
    "    notes=\"\",\n",
    "    config=config._asdict()\n",
    ")"
   ]
  },
  {
   "cell_type": "code",
   "execution_count": null,
   "id": "26c7f567",
   "metadata": {
    "pycharm": {
     "name": "#%%\n"
    }
   },
   "outputs": [],
   "source": [
    "train_test_split(config.pref_path, config.in_path, config.train_path, config.test_path,\n",
    "                 config.tiny_train_path, config.freq_train_path,\n",
    "                 config.tiny_test_path, config.freq_test_path,\n",
    "                 config.tiny_cutoff, config.freq_cutoff, config.train_cutoff)"
   ]
  },
  {
   "cell_type": "code",
   "execution_count": null,
   "id": "a0a817a0",
   "metadata": {
    "pycharm": {
     "name": "#%%\n"
    }
   },
   "outputs": [],
   "source": [
    "train, tiny_train, freq_train, tiny_test, freq_test = load_train_test([config.train_path,\n",
    "                                                config.tiny_train_path, config.freq_train_path,\n",
    "                                                config.tiny_test_path, config.freq_test_path])\n",
    "\n",
    "input_names_train, weighted_actual_names_train, candidate_names_train = train\n",
    "input_names_tiny_train, weighted_actual_names_tiny_train, candidate_names_tiny_train = tiny_train\n",
    "input_names_freq_train, weighted_actual_names_freq_train, candidate_names_freq_train = freq_train\n",
    "input_names_tiny_test, weighted_actual_names_tiny_test, candidate_names_tiny_test = tiny_test\n",
    "input_names_freq_test, weighted_actual_names_freq_test, candidate_names_freq_test = freq_test"
   ]
  },
  {
   "cell_type": "code",
   "execution_count": null,
   "id": "742f0364",
   "metadata": {
    "pycharm": {
     "name": "#%%\n"
    }
   },
   "outputs": [],
   "source": [
    "print(\"train input names (name1), weighted actual (name1 -> [name2, weighted_count, co_occurrence], candidate names (name2)\")\n",
    "print(\"name1\", len(input_names_train))\n",
    "print(\"weighted actual - should be same as name1\", len(weighted_actual_names_train))\n",
    "print(\"number of actuals\", sum(len(wa) for wa in weighted_actual_names_train))\n",
    "print(\"name2\", len(candidate_names_train))\n",
    "print(\"total unique names\", len(set(input_names_train).union(set(candidate_names_train))))"
   ]
  },
  {
   "cell_type": "code",
   "execution_count": null,
   "id": "bce07889",
   "metadata": {
    "pycharm": {
     "name": "#%%\n"
    }
   },
   "outputs": [],
   "source": [
    "print(\"tiny test in-vocab: input names (name1), weighted actual (name1 -> [name2, weighted_count, co_occurrence], candidate names (name2)\")\n",
    "print(\"name1\", len(input_names_tiny_train))\n",
    "print(\"weighted actual - should be same as name1\", len(weighted_actual_names_tiny_train))\n",
    "print(\"number of actuals\", sum(len(wa) for wa in weighted_actual_names_tiny_train))\n",
    "print(\"name2\", len(candidate_names_tiny_train))\n",
    "print(\"total unique names\", len(set(input_names_tiny_train).union(set(candidate_names_tiny_train))))"
   ]
  },
  {
   "cell_type": "code",
   "execution_count": null,
   "id": "528c49df",
   "metadata": {
    "pycharm": {
     "name": "#%%\n"
    }
   },
   "outputs": [],
   "source": [
    "print(\"test in-vocab: input names (name1), weighted actual (name1 -> [name2, weighted_count, co_occurrence], candidate names (name2)\")\n",
    "print(\"name1\", len(input_names_freq_train))\n",
    "print(\"weighted actual - should be same as name1\", len(weighted_actual_names_freq_train))\n",
    "print(\"number of actuals\", sum(len(wa) for wa in weighted_actual_names_freq_train))\n",
    "print(\"name2\", len(candidate_names_freq_train))\n",
    "print(\"total unique names\", len(set(input_names_freq_train).union(set(candidate_names_freq_train))))"
   ]
  },
  {
   "cell_type": "code",
   "execution_count": null,
   "id": "fd0403ad",
   "metadata": {
    "pycharm": {
     "name": "#%%\n"
    }
   },
   "outputs": [],
   "source": [
    "print(\"tiny test out-of-vocab: input names (name1), weighted actual (name1 -> [name2, weighted_count, co_occurrence], candidate names (name2)\")\n",
    "print(\"name1\", len(input_names_tiny_test))\n",
    "print(\"weighted actual - should be same as name1\", len(weighted_actual_names_tiny_test))\n",
    "print(\"number of actuals\", sum(len(wa) for wa in weighted_actual_names_tiny_test))\n",
    "print(\"name2\", len(candidate_names_tiny_test))\n",
    "print(\"total unique names\", len(set(input_names_tiny_test).union(set(candidate_names_tiny_test))))"
   ]
  },
  {
   "cell_type": "code",
   "execution_count": null,
   "id": "3ad248be",
   "metadata": {
    "pycharm": {
     "name": "#%%\n"
    }
   },
   "outputs": [],
   "source": [
    "print(\"test out-of-vocab: input names (name1), weighted actual (name1 -> [name2, weighted_count, co_occurrence], candidate names (name2)\")\n",
    "print(\"name1\", len(input_names_freq_test))\n",
    "print(\"weighted actual - should be same as name1\", len(weighted_actual_names_freq_test))\n",
    "print(\"number of actuals\", sum(len(wa) for wa in weighted_actual_names_freq_test))\n",
    "print(\"name2\", len(candidate_names_freq_test))\n",
    "print(\"total unique names\", len(set(input_names_freq_test).union(set(candidate_names_freq_test))))"
   ]
  },
  {
   "cell_type": "code",
   "execution_count": null,
   "id": "c9097490",
   "metadata": {
    "pycharm": {
     "name": "#%%\n"
    }
   },
   "outputs": [],
   "source": [
    "# probe datasets to validate\n",
    "def print_weighted_actual_names(label, weighted_actual_names, max=0):\n",
    "    print(label)\n",
    "    print(\"total\", len(weighted_actual_names))\n",
    "    if 0 < max < len(weighted_actual_names):\n",
    "        weighted_actual_names = weighted_actual_names[:max]\n",
    "    for wan in weighted_actual_names:\n",
    "        print(\"  \", wan)\n",
    "\n",
    "probe_name = add_padding(\"jones\" if given_surname == \"surname\" else \"richard\")\n",
    "print(\"total weight\", sum(wc for _, wc, _ in weighted_actual_names_freq_train[input_names_freq_train.index(probe_name)]))\n",
    "print_weighted_actual_names(\"freq_train\", weighted_actual_names_freq_train[input_names_freq_train.index(probe_name)], 20)\n",
    "print(\"total weight\", sum(wc for _, wc, _ in weighted_actual_names_freq_test[input_names_freq_test.index(probe_name)]))\n",
    "print_weighted_actual_names(\"freq_test\", weighted_actual_names_freq_test[input_names_freq_test.index(probe_name)], 20)"
   ]
  },
  {
   "cell_type": "code",
   "execution_count": null,
   "id": "f0a36074",
   "metadata": {
    "pycharm": {
     "name": "#%%\n"
    }
   },
   "outputs": [],
   "source": [
    "wandb.finish()"
   ]
  }
 ],
 "metadata": {
  "kernelspec": {
   "display_name": "Python 3",
   "language": "python",
   "name": "python3"
  }
 },
 "nbformat": 4,
 "nbformat_minor": 5
}
