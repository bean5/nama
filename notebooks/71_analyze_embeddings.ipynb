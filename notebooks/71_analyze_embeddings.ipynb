{
 "cells": [
  {
   "cell_type": "code",
   "execution_count": null,
   "id": "c63679db",
   "metadata": {},
   "outputs": [],
   "source": [
    "%load_ext autoreload\n",
    "%autoreload 2\n",
    "%matplotlib inline"
   ]
  },
  {
   "cell_type": "markdown",
   "id": "bec5b56e",
   "metadata": {
    "pycharm": {
     "name": "#%% md\n"
    }
   },
   "source": [
    "# Visualize swivel vectors in 2d space"
   ]
  },
  {
   "cell_type": "code",
   "execution_count": null,
   "id": "29a1d9ad",
   "metadata": {},
   "outputs": [],
   "source": [
    "from collections import namedtuple\n",
    "\n",
    "import matplotlib.pyplot as plt\n",
    "from matplotlib.pyplot import cm\n",
    "import numpy as np\n",
    "import pandas as pd\n",
    "import torch\n",
    "from tqdm import tqdm\n",
    "import umap\n",
    "import wandb\n",
    "\n",
    "from src.data.filesystem import fopen\n",
    "from src.data.utils import load_dataset, select_frequent_k\n",
    "from src.eval import metrics\n",
    "from src.models.swivel import SwivelModel, get_swivel_embeddings, get_best_swivel_matches\n",
    "from src.models.utils import remove_padding, add_padding"
   ]
  },
  {
   "cell_type": "code",
   "execution_count": null,
   "id": "1e770235",
   "metadata": {
    "pycharm": {
     "is_executing": true
    }
   },
   "outputs": [],
   "source": [
    "# config\n",
    "\n",
    "plt.rcParams[\"figure.figsize\"] = [12, 12]\n",
    "\n",
    "given_surname = \"given\"\n",
    "vocab_size = 610000 if given_surname == \"given\" else 2100000\n",
    "embed_dim = 100\n",
    "Config = namedtuple(\"Config\", [\n",
    "    \"train_path\",\n",
    "    \"freq_path\",\n",
    "    \"embed_dim\",\n",
    "    \"swivel_vocab_path\",\n",
    "    \"swivel_model_path\",\n",
    "])\n",
    "config = Config(\n",
    "    train_path=f\"s3://familysearch-names/processed/tree-hr-{given_surname}-train.csv.gz\",\n",
    "    freq_path=f\"s3://familysearch-names/processed/tree-preferred-{given_surname}-aggr.csv.gz\",\n",
    "    embed_dim=embed_dim,\n",
    "    swivel_vocab_path=f\"s3://nama-data/data/models/fs-{given_surname}-swivel-vocab-{vocab_size}-augmented.csv\",\n",
    "    swivel_model_path=f\"s3://nama-data/data/models/fs-{given_surname}-swivel-model-{vocab_size}-{embed_dim}-augmented.pth\",\n",
    ")"
   ]
  },
  {
   "cell_type": "code",
   "execution_count": null,
   "id": "b482fe7e",
   "metadata": {
    "pycharm": {
     "name": "#%%\n"
    }
   },
   "outputs": [],
   "source": [
    "wandb.init(\n",
    "    project=\"nama\",\n",
    "    entity=\"nama\",\n",
    "    name=\"71_analyze_embeddings\",\n",
    "    group=given_surname,\n",
    "    notes=\"\",\n",
    "    config=config._asdict(),\n",
    ")"
   ]
  },
  {
   "cell_type": "markdown",
   "id": "0c2da8b6",
   "metadata": {},
   "source": [
    "### Load data"
   ]
  },
  {
   "cell_type": "code",
   "execution_count": null,
   "id": "75c95ea6",
   "metadata": {
    "pycharm": {
     "name": "#%%\n"
    }
   },
   "outputs": [],
   "source": [
    "# device = torch.device(\"cuda:0\" if torch.cuda.is_available() else \"cpu\")\n",
    "device=\"cpu\"\n",
    "print(device)"
   ]
  },
  {
   "cell_type": "code",
   "execution_count": null,
   "id": "f0f24292",
   "metadata": {},
   "outputs": [],
   "source": [
    "input_names_eval, weighted_actual_names_eval, candidate_names_eval = \\\n",
    "    load_dataset(config.train_path, is_eval=True)"
   ]
  },
  {
   "cell_type": "code",
   "execution_count": null,
   "id": "f5efe083",
   "metadata": {},
   "outputs": [],
   "source": [
    "freq_df = pd.read_csv(config.freq_path, na_filter=False)"
   ]
  },
  {
   "cell_type": "code",
   "execution_count": null,
   "id": "76da472c",
   "metadata": {},
   "outputs": [],
   "source": [
    "print(len(freq_df))"
   ]
  },
  {
   "cell_type": "code",
   "execution_count": null,
   "id": "707ee784",
   "metadata": {},
   "outputs": [],
   "source": [
    "vocab_df = pd.read_csv(fopen(config.swivel_vocab_path, \"rb\"))\n",
    "swivel_vocab = {name: _id for name, _id in zip(vocab_df[\"name\"], vocab_df[\"index\"])}"
   ]
  },
  {
   "cell_type": "code",
   "execution_count": null,
   "id": "d8b34e8f",
   "metadata": {},
   "outputs": [],
   "source": [
    "swivel_model = SwivelModel(len(swivel_vocab), config.embed_dim)\n",
    "swivel_model.load_state_dict(torch.load(fopen(config.swivel_model_path, \"rb\")))\n",
    "swivel_model.eval()\n",
    "swivel_model.to(device)"
   ]
  },
  {
   "cell_type": "code",
   "execution_count": null,
   "id": "2811865c",
   "metadata": {},
   "outputs": [],
   "source": [
    "encoder_model = None\n",
    "# encoder_model = SwivelEncoderModel(n_layers=encoder_layers, output_dim=config.embed_dim, device=device)\n",
    "# encoder_model.load_state_dict(torch.load(fopen(config.encoder_model_path, \"rb\"), map_location=torch.device(device)))\n",
    "# encoder_model.to(device)\n",
    "# encoder_model.eval()"
   ]
  },
  {
   "cell_type": "markdown",
   "id": "7ac39872",
   "metadata": {},
   "source": [
    "### PR Curve"
   ]
  },
  {
   "cell_type": "code",
   "execution_count": null,
   "id": "32e7f5ef",
   "metadata": {},
   "outputs": [],
   "source": [
    "# input_names_sample, weighted_actual_names_sample, candidate_names_sample = \\\n",
    "#     select_frequent_k(input_names_eval, weighted_actual_names_eval, candidate_names_eval, \n",
    "#                       50000)"
   ]
  },
  {
   "cell_type": "code",
   "execution_count": null,
   "id": "0278ee85",
   "metadata": {},
   "outputs": [],
   "source": [
    "freq_names = set(add_padding(name) for name in freq_df[\"name\"][:10000])"
   ]
  },
  {
   "cell_type": "code",
   "execution_count": null,
   "id": "a75ddcbb",
   "metadata": {},
   "outputs": [],
   "source": [
    "input_names_sample = []\n",
    "weighted_actual_names_sample = []\n",
    "# weighted_actual_names_temp = []\n",
    "for pos, name in enumerate(input_names_eval):\n",
    "    if name not in freq_names:\n",
    "        continue\n",
    "#     pos = input_names_eval.index(name)\n",
    "    input_names_sample.append(name)\n",
    "    weighted_actual_names_sample.append(weighted_actual_names_eval[pos])\n",
    "#     weighted_actual_names_temp.append(weighted_actual_names_eval[pos])\n",
    "# weighted_actual_names_sample = []\n",
    "# candidate_names_sample = set()\n",
    "# for wans in weighted_actual_names_temp:\n",
    "#     wans = sorted(wans, key=lambda wan: -wan[2])[:10]\n",
    "#     sum_freq = sum(freq for _, _, freq in wans)\n",
    "#     wans = [(name, freq / sum_freq, freq) for name, _, freq in wans]\n",
    "#     weighted_actual_names_sample.append(wans)\n",
    "#     candidate_names_sample.update([name for name, _, _ in wans])\n",
    "# candidate_names_sample = np.array(list(candidate_names_sample))\n",
    "candidate_names_sample = candidate_names_eval"
   ]
  },
  {
   "cell_type": "code",
   "execution_count": null,
   "id": "38679c1c",
   "metadata": {},
   "outputs": [],
   "source": [
    "print(len(input_names_eval))\n",
    "print(len(candidate_names_eval))\n",
    "print(len(input_names_sample))\n",
    "print(len(weighted_actual_names_sample))\n",
    "print(len(candidate_names_sample))"
   ]
  },
  {
   "cell_type": "code",
   "execution_count": null,
   "id": "d9974409",
   "metadata": {},
   "outputs": [],
   "source": [
    "print(input_names_sample[:100])\n",
    "print(freq_df[freq_df[\"name\"] == 'aagje'])"
   ]
  },
  {
   "cell_type": "code",
   "execution_count": null,
   "id": "86461353",
   "metadata": {},
   "outputs": [],
   "source": [
    "# get best matches\n",
    "# NOTE: only considers as potential matches names in candidate_names_eval, not names in input_names_eval\n",
    "k = 200\n",
    "eval_batch_size = 1024\n",
    "add_context = True\n",
    "n_jobs=1\n",
    "best_matches = get_best_swivel_matches(swivel_model, \n",
    "                                       swivel_vocab, \n",
    "                                       input_names_sample,\n",
    "                                       candidate_names_sample, \n",
    "                                       k, \n",
    "                                       eval_batch_size,\n",
    "                                       add_context=add_context, \n",
    "                                       n_jobs=n_jobs)"
   ]
  },
  {
   "cell_type": "code",
   "execution_count": null,
   "id": "35797160",
   "metadata": {},
   "outputs": [],
   "source": [
    "metrics.precision_weighted_recall_curve_at_threshold(\n",
    "    weighted_actual_names_sample, best_matches, min_threshold=0.01, max_threshold=1.0, step=0.05, distances=False\n",
    ")"
   ]
  },
  {
   "cell_type": "code",
   "execution_count": null,
   "id": "df3ac0b1",
   "metadata": {},
   "outputs": [],
   "source": [
    "input_names_graphed = set()\n",
    "candidate_names_graphed = set()\n",
    "step = 10\n",
    "total = 20\n",
    "for i, (name, matches, wans) in enumerate(zip(input_names_sample, best_matches, weighted_actual_names_sample)):\n",
    "    if i % step != 0:\n",
    "        continue\n",
    "    print(name)\n",
    "    input_names_graphed.add(name)\n",
    "    candidate_names_graphed.add(name)\n",
    "    true_names = {name: freq for name, _, freq in wans}\n",
    "    for j , (match, score) in enumerate(matches):\n",
    "        print(\" * \" if match in true_names.keys() else \"   \", j, match, score, true_names.get(match, 0))\n",
    "        candidate_names_graphed.add(match)\n",
    "        if j >= 20:\n",
    "            break\n",
    "    if i >= step * total:\n",
    "        break\n",
    "candidate_names_graphed = np.array(list(candidate_names_graphed))\n",
    "print(\"input_names_graphed\", len(input_names_graphed), input_names_graphed)\n",
    "print(len(candidate_names_graphed))"
   ]
  },
  {
   "cell_type": "code",
   "execution_count": null,
   "id": "9f9b2278",
   "metadata": {},
   "outputs": [],
   "source": [
    "candidate_names_graphed.shape"
   ]
  },
  {
   "cell_type": "markdown",
   "id": "c6153eae",
   "metadata": {},
   "source": [
    "### Get embeddings"
   ]
  },
  {
   "cell_type": "code",
   "execution_count": null,
   "id": "252363f6",
   "metadata": {},
   "outputs": [],
   "source": [
    "embeddings = get_swivel_embeddings(\n",
    "    swivel_model,\n",
    "    swivel_vocab,\n",
    "    candidate_names_graphed,\n",
    ")"
   ]
  },
  {
   "cell_type": "markdown",
   "id": "eb5cd794",
   "metadata": {},
   "source": [
    "### Use umap to reduce dimensionality"
   ]
  },
  {
   "cell_type": "code",
   "execution_count": null,
   "id": "17afda61",
   "metadata": {},
   "outputs": [],
   "source": [
    "reducer = umap.UMAP()\n",
    "reduced = reducer.fit_transform(embeddings)\n",
    "reduced.shape"
   ]
  },
  {
   "cell_type": "markdown",
   "id": "ae5c8b92",
   "metadata": {},
   "source": [
    "### Plot embeddings"
   ]
  },
  {
   "cell_type": "code",
   "execution_count": null,
   "id": "9d626680",
   "metadata": {},
   "outputs": [],
   "source": [
    "xs = list(x for x, _ in reduced)\n",
    "ys = list(y for _, y in reduced)\n",
    "plt.scatter(xs, ys)\n",
    "for ix, name in enumerate(candidate_names_graphed):\n",
    "    plt.annotate(name, xy=(xs[ix], ys[ix]), xytext=(5, 2),\n",
    "                 textcoords='offset points', ha='right', va='bottom')"
   ]
  },
  {
   "cell_type": "code",
   "execution_count": null,
   "id": "55c8722a",
   "metadata": {
    "pycharm": {
     "name": "#%%\n"
    }
   },
   "outputs": [],
   "source": [
    "wandb.finish()"
   ]
  },
  {
   "cell_type": "code",
   "execution_count": null,
   "id": "697409a7",
   "metadata": {},
   "outputs": [],
   "source": []
  }
 ],
 "metadata": {
  "kernelspec": {
   "display_name": "nama",
   "language": "python",
   "name": "nama"
  },
  "language_info": {
   "codemirror_mode": {
    "name": "ipython",
    "version": 3
   },
   "file_extension": ".py",
   "mimetype": "text/x-python",
   "name": "python",
   "nbconvert_exporter": "python",
   "pygments_lexer": "ipython3",
   "version": "3.8.12"
  }
 },
 "nbformat": 4,
 "nbformat_minor": 5
}
