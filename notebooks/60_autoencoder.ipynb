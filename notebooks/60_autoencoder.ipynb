{
 "cells": [
  {
   "cell_type": "code",
   "execution_count": null,
   "id": "aeb68b88",
   "metadata": {},
   "outputs": [],
   "source": [
    "%load_ext autoreload\n",
    "%autoreload 2"
   ]
  },
  {
   "cell_type": "code",
   "execution_count": null,
   "id": "0b948db1",
   "metadata": {},
   "outputs": [],
   "source": [
    "import torch\n",
    "import numpy as np\n",
    "from src.data import constants\n",
    "from src.data.ancestry import load_train_test\n",
    "from src.metrics import metrics\n",
    "from src.models import utils\n",
    "from src.models.autoencoder import AutoEncoder, train_model"
   ]
  },
  {
   "cell_type": "code",
   "execution_count": null,
   "id": "0085f131",
   "metadata": {},
   "outputs": [],
   "source": [
    "MAX_NAME_LENGTH = 30"
   ]
  },
  {
   "cell_type": "markdown",
   "id": "a857c39f",
   "metadata": {},
   "source": [
    "### Load data"
   ]
  },
  {
   "cell_type": "code",
   "execution_count": null,
   "id": "17529125",
   "metadata": {},
   "outputs": [],
   "source": [
    "train, test = load_train_test(f\"../data/raw/records25k_data_train.csv\", f\"../data/raw/records25k_data_test.csv\")\n",
    "_, _, candidate_names_train = train\n",
    "input_names_test, weighted_actual_names_test, candidate_names_test = test\n",
    "\n",
    "actual_names_test = [[name for name, _, _ in name_weights] for name_weights in weighted_actual_names_test]\n",
    "\n",
    "candidate_names_all = np.concatenate((candidate_names_train, candidate_names_test))"
   ]
  },
  {
   "cell_type": "markdown",
   "id": "11d6f3b0",
   "metadata": {},
   "source": [
    "### Build token index mappings"
   ]
  },
  {
   "cell_type": "code",
   "execution_count": null,
   "id": "f230344b",
   "metadata": {},
   "outputs": [],
   "source": [
    "char_to_idx_map, idx_to_char_map = utils.build_token_idx_maps()"
   ]
  },
  {
   "cell_type": "markdown",
   "id": "f4a8b27f",
   "metadata": {},
   "source": [
    "### Convert names to ids"
   ]
  },
  {
   "cell_type": "code",
   "execution_count": null,
   "id": "b7fae5b6",
   "metadata": {},
   "outputs": [],
   "source": [
    "# Prepare data for training\n",
    "# inputs and targets have the same data just in different representations 1-hot vs normal sequences\n",
    "candidate_names_train_X, candidate_names_train_y = utils.convert_names_to_model_inputs(\n",
    "    candidate_names_train, char_to_idx_map, MAX_NAME_LENGTH\n",
    ")"
   ]
  },
  {
   "cell_type": "code",
   "execution_count": null,
   "id": "7c92c3a6",
   "metadata": {},
   "outputs": [],
   "source": [
    "print(candidate_names_train_X.shape, candidate_names_train_y.shape)"
   ]
  },
  {
   "cell_type": "markdown",
   "id": "36fd3922",
   "metadata": {},
   "source": [
    "### Model"
   ]
  },
  {
   "cell_type": "code",
   "execution_count": null,
   "id": "beaa9437",
   "metadata": {},
   "outputs": [],
   "source": [
    "device = torch.device(\"cuda:0\" if torch.cuda.is_available() else \"cpu\")\n",
    "print(device)"
   ]
  },
  {
   "cell_type": "code",
   "execution_count": null,
   "id": "6baf7562",
   "metadata": {},
   "outputs": [],
   "source": [
    "model = AutoEncoder(\n",
    "    input_size=constants.VOCAB_SIZE + 1, hidden_size=100, num_layers=1, seq_len=MAX_NAME_LENGTH, device=device\n",
    ")"
   ]
  },
  {
   "cell_type": "code",
   "execution_count": null,
   "id": "3e7dd8cd",
   "metadata": {},
   "outputs": [],
   "source": [
    "train_model(model, candidate_names_train_X, candidate_names_train_y, 100, 512)"
   ]
  },
  {
   "cell_type": "code",
   "execution_count": null,
   "id": "08a13e7f",
   "metadata": {},
   "outputs": [],
   "source": [
    "torch.save(model, \"../models/anc-encoder-bilstm-100-512.pth\")"
   ]
  },
  {
   "cell_type": "code",
   "execution_count": null,
   "id": "349fe06b",
   "metadata": {},
   "outputs": [],
   "source": [
    "model = torch.load(\"../models/anc-encoder-bilstm-100-512.pth\")"
   ]
  },
  {
   "cell_type": "markdown",
   "id": "89a77e50",
   "metadata": {},
   "source": [
    "### Understand AutoEncoder"
   ]
  },
  {
   "cell_type": "code",
   "execution_count": null,
   "id": "d2bc3a01",
   "metadata": {},
   "outputs": [],
   "source": [
    "loss_fn = torch.nn.CrossEntropyLoss()\n",
    "dataset_train = torch.utils.data.TensorDataset(candidate_names_train_X, candidate_names_train_y)\n",
    "data_loader = torch.utils.data.DataLoader(dataset_train, batch_size=512, shuffle=True)"
   ]
  },
  {
   "cell_type": "code",
   "execution_count": null,
   "id": "8f6a8f1f",
   "metadata": {},
   "outputs": [],
   "source": [
    "X, y = next(iter(data_loader))\n",
    "print(X.shape, y.shape)"
   ]
  },
  {
   "cell_type": "code",
   "execution_count": null,
   "id": "a3722c1f",
   "metadata": {},
   "outputs": [],
   "source": [
    "model.zero_grad()\n",
    "# Encode(input,hidden) -> (batch,seq,dirs*hidden), ((dirs*layers,batch,hidden),(dirs*layers,batch,hidden)) - x_encoded is the last hidden state\n",
    "_, (x_encoded, _) = model.lstm_encoder(X.to(device))\n",
    "print(x_encoded.shape)"
   ]
  },
  {
   "cell_type": "code",
   "execution_count": null,
   "id": "b0959d2f",
   "metadata": {},
   "outputs": [],
   "source": [
    "# Concatenate left-right hidden vectors\n",
    "x_encoded = torch.cat([x_encoded[0], x_encoded[1]], dim=1)\n",
    "print(x_encoded.shape)"
   ]
  },
  {
   "cell_type": "code",
   "execution_count": null,
   "id": "b587066d",
   "metadata": {},
   "outputs": [],
   "source": [
    "# Reshape data to have seq_len time steps\n",
    "# TODO why do we copy x_encoded to every time step?\n",
    "x_encoded = x_encoded.unsqueeze(1).repeat(1, MAX_NAME_LENGTH, 1)\n",
    "print(x_encoded.shape)"
   ]
  },
  {
   "cell_type": "code",
   "execution_count": null,
   "id": "a087387d",
   "metadata": {},
   "outputs": [],
   "source": [
    "# Decode(hidden*dirs,hidden) -> (batch,seq,dirs*hidden), ((dirs*layers,batch,hidden),(dirs*layers,batch,hidden)) - x_decoded is the output\n",
    "x_decoded, (_, _) = model.lstm_decoder(x_encoded)\n",
    "print(x_decoded.shape)"
   ]
  },
  {
   "cell_type": "code",
   "execution_count": null,
   "id": "5fa98a64",
   "metadata": {},
   "outputs": [],
   "source": [
    "# linear layer(hidden,input) predicts characters\n",
    "x_prime = model.linear(x_decoded)\n",
    "print(x_prime.shape)"
   ]
  },
  {
   "cell_type": "code",
   "execution_count": null,
   "id": "a25b9c90",
   "metadata": {},
   "outputs": [],
   "source": [
    "# Reshape output to match CrossEntropyLoss input\n",
    "x_prime = x_prime.transpose(1, -1)\n",
    "print(x_prime.shape)"
   ]
  },
  {
   "cell_type": "code",
   "execution_count": null,
   "id": "d6ee754a",
   "metadata": {},
   "outputs": [],
   "source": [
    "# Compute loss (batch,classes,seq), (batch,seq)\n",
    "loss = loss_fn(x_prime, y.to(device))\n",
    "print(loss)"
   ]
  },
  {
   "cell_type": "markdown",
   "id": "96cd9e90",
   "metadata": {},
   "source": [
    "### Evaluation"
   ]
  },
  {
   "cell_type": "code",
   "execution_count": null,
   "id": "8f97a0e7",
   "metadata": {},
   "outputs": [],
   "source": [
    "model.to(\"cpu\")\n",
    "model.device = \"cpu\""
   ]
  },
  {
   "cell_type": "code",
   "execution_count": null,
   "id": "606982a0",
   "metadata": {},
   "outputs": [],
   "source": [
    "# Get Embeddings for the names from the encoder\n",
    "candidate_names_train_encoded = model(candidate_names_train_X, just_encoder=True).detach().numpy()"
   ]
  },
  {
   "cell_type": "code",
   "execution_count": null,
   "id": "10372d7d",
   "metadata": {},
   "outputs": [],
   "source": [
    "print(candidate_names_train_X.shape)\n",
    "print(candidate_names_train_encoded.shape)"
   ]
  },
  {
   "cell_type": "code",
   "execution_count": null,
   "id": "652a9853",
   "metadata": {},
   "outputs": [],
   "source": [
    "# Convert test name inputs to correct format\n",
    "input_names_test_X, input_names_test_y = utils.convert_names_to_model_inputs(\n",
    "    input_names_test, char_to_idx_map, MAX_NAME_LENGTH\n",
    ")\n",
    "# Get Embeddings for the names from the encoder\n",
    "input_names_test_encoded = model(input_names_test_X, just_encoder=True).detach().numpy()"
   ]
  },
  {
   "cell_type": "code",
   "execution_count": null,
   "id": "a994de7b",
   "metadata": {},
   "outputs": [],
   "source": [
    "print(input_names_test_X.shape, input_names_test_y.shape)\n",
    "print(input_names_test_encoded.shape)"
   ]
  },
  {
   "cell_type": "code",
   "execution_count": null,
   "id": "262fc27b",
   "metadata": {},
   "outputs": [],
   "source": [
    "# Get embeddings for all candidate names (train + test)\n",
    "candidate_names_test_X, _ = utils.convert_names_to_model_inputs(candidate_names_test, char_to_idx_map, MAX_NAME_LENGTH)\n",
    "candidate_names_test_encoded = model(candidate_names_test_X, just_encoder=True).detach().numpy()"
   ]
  },
  {
   "cell_type": "code",
   "execution_count": null,
   "id": "70524d2a",
   "metadata": {},
   "outputs": [],
   "source": [
    "print(candidate_names_test_X.shape)\n",
    "print(candidate_names_test_encoded.shape)"
   ]
  },
  {
   "cell_type": "code",
   "execution_count": null,
   "id": "22c5da2e",
   "metadata": {},
   "outputs": [],
   "source": [
    "candidate_names_all_encoded = np.vstack((candidate_names_train_encoded, candidate_names_test_encoded))"
   ]
  },
  {
   "cell_type": "code",
   "execution_count": null,
   "id": "0755848e",
   "metadata": {},
   "outputs": [],
   "source": [
    "print(candidate_names_all_encoded.shape)"
   ]
  },
  {
   "cell_type": "code",
   "execution_count": null,
   "id": "0071afdb",
   "metadata": {},
   "outputs": [],
   "source": [
    "k = 100\n",
    "candidate_names_scores = utils.get_best_matches(\n",
    "    input_names_test_encoded, candidate_names_all_encoded, candidate_names_all, num_candidates=k\n",
    ")\n",
    "print(candidate_names_scores.shape)\n",
    "print(candidate_names_scores[0, 0, 0])\n",
    "print(candidate_names_scores[0, 0, 1])"
   ]
  },
  {
   "cell_type": "code",
   "execution_count": null,
   "id": "5bb524f8",
   "metadata": {},
   "outputs": [],
   "source": [
    "candidate_names = candidate_names_scores[:, :, 0]\n",
    "print(candidate_names.shape)"
   ]
  },
  {
   "cell_type": "markdown",
   "id": "24b65bb5",
   "metadata": {},
   "source": [
    "### Evaluation"
   ]
  },
  {
   "cell_type": "code",
   "execution_count": null,
   "id": "61808c62",
   "metadata": {},
   "outputs": [],
   "source": [
    "metrics.precision_recall_curve_at_k(actual_names_test, candidate_names, k)"
   ]
  },
  {
   "cell_type": "markdown",
   "id": "4622f74a",
   "metadata": {},
   "source": [
    "### mAP @ 1"
   ]
  },
  {
   "cell_type": "code",
   "execution_count": null,
   "id": "102d1e38",
   "metadata": {},
   "outputs": [],
   "source": [
    "metrics.mean_avg_precision_k(actual_names_test, candidate_names, 1)"
   ]
  },
  {
   "cell_type": "markdown",
   "id": "9c6effff",
   "metadata": {},
   "source": [
    "### mAP @ 3"
   ]
  },
  {
   "cell_type": "code",
   "execution_count": null,
   "id": "a892c431",
   "metadata": {},
   "outputs": [],
   "source": [
    "metrics.mean_avg_precision_k(actual_names_test, candidate_names, 3)"
   ]
  },
  {
   "cell_type": "markdown",
   "id": "f842dcdc",
   "metadata": {},
   "source": [
    "### Demo"
   ]
  },
  {
   "cell_type": "code",
   "execution_count": null,
   "id": "6ebf1d3d",
   "metadata": {},
   "outputs": [],
   "source": [
    "test_name_X = [\"<schumacher>\"]\n",
    "test_name_X, _ = utils.convert_names_to_model_inputs(test_name_X, char_to_idx_map, MAX_NAME_LENGTH)\n",
    "test_name_embedding = model(test_name_X, just_encoder=True).detach().numpy()\n",
    "\n",
    "print(utils.get_best_matches(test_name_embedding, candidate_names_all_encoded, candidate_names_all, num_candidates=10))"
   ]
  },
  {
   "cell_type": "markdown",
   "id": "2eed4a47",
   "metadata": {},
   "source": [
    "## Evaluate using weighted relevant names and score thresholds"
   ]
  },
  {
   "cell_type": "markdown",
   "id": "a6c38bb6",
   "metadata": {},
   "source": [
    "### Average precision at 0.97"
   ]
  },
  {
   "cell_type": "code",
   "execution_count": null,
   "id": "5dc85cbf",
   "metadata": {},
   "outputs": [],
   "source": [
    "metrics.avg_precision_at_threshold(weighted_actual_names_test, candidate_names_scores, 0.97)"
   ]
  },
  {
   "cell_type": "markdown",
   "id": "240dae92",
   "metadata": {},
   "source": [
    "### Average recall at 0.97"
   ]
  },
  {
   "cell_type": "code",
   "execution_count": null,
   "id": "c8429e80",
   "metadata": {},
   "outputs": [],
   "source": [
    "metrics.avg_weighted_recall_at_threshold(weighted_actual_names_test, candidate_names_scores, 0.97)"
   ]
  },
  {
   "cell_type": "markdown",
   "id": "6107ca05",
   "metadata": {},
   "source": [
    "### PR Curve"
   ]
  },
  {
   "cell_type": "code",
   "execution_count": null,
   "id": "4ac89337",
   "metadata": {},
   "outputs": [],
   "source": [
    "# minimum score threshold to test\n",
    "min_threshold = 0.5\n",
    "metrics.precision_weighted_recall_curve_at_threshold(weighted_actual_names_test, candidate_names_scores, min_threshold)"
   ]
  },
  {
   "cell_type": "markdown",
   "id": "b82f8cfe",
   "metadata": {},
   "source": [
    "### AUC"
   ]
  },
  {
   "cell_type": "code",
   "execution_count": null,
   "id": "2394f55c",
   "metadata": {},
   "outputs": [],
   "source": [
    "metrics.get_auc(weighted_actual_names_test, candidate_names_scores)"
   ]
  },
  {
   "cell_type": "code",
   "execution_count": null,
   "id": "b60232ce",
   "metadata": {},
   "outputs": [],
   "source": []
  }
 ],
 "metadata": {
  "kernelspec": {
   "display_name": "nama",
   "language": "python",
   "name": "nama"
  }
 },
 "nbformat": 4,
 "nbformat_minor": 5
}
