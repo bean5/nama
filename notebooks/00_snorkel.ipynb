{
 "cells": [
  {
   "cell_type": "code",
   "execution_count": null,
   "metadata": {},
   "outputs": [],
   "source": [
    "%load_ext autoreload\n",
    "%autoreload 2"
   ]
  },
  {
   "cell_type": "code",
   "execution_count": null,
   "metadata": {
    "pycharm": {
     "name": "#%%\n"
    }
   },
   "outputs": [],
   "source": [
    "import random\n",
    "\n",
    "import pandas as pd\n",
    "from snorkel.labeling import labeling_function, PandasLFApplier\n",
    "from snorkel.labeling.model import LabelModel"
   ]
  },
  {
   "cell_type": "code",
   "execution_count": null,
   "metadata": {
    "pycharm": {
     "name": "#%%\n"
    }
   },
   "outputs": [],
   "source": [
    "# generate random training data\n",
    "N_INSTANCES = 10000\n",
    "values = [random.randrange(0, 100) for _ in range(N_INSTANCES)]\n",
    "labels = [1 if random.randrange(0, 100) <= v else 0 for v in values]\n",
    "df = pd.DataFrame({\"value\": values, \"label\": labels})\n",
    "print(df.label.sum())\n",
    "df.head()"
   ]
  },
  {
   "cell_type": "code",
   "execution_count": null,
   "metadata": {
    "pycharm": {
     "name": "#%%\n"
    }
   },
   "outputs": [],
   "source": [
    "ABSTAIN = -1\n",
    "NEGATIVE = 0\n",
    "POSITIVE = 1"
   ]
  },
  {
   "cell_type": "code",
   "execution_count": null,
   "metadata": {
    "pycharm": {
     "name": "#%%\n"
    }
   },
   "outputs": [],
   "source": [
    "# labeling functions\n",
    "\n",
    "def is_ge(threshold):\n",
    "    @labeling_function(name=\"is_ge_\"+str(threshold))\n",
    "    def fn(row):\n",
    "        return POSITIVE if row.value >= threshold else ABSTAIN\n",
    "    return fn\n",
    "\n",
    "def is_lt(threshold):\n",
    "    @labeling_function(name=\"is_lt_\"+str(threshold))\n",
    "    def fn(row):\n",
    "        return NEGATIVE if row.value < threshold else ABSTAIN\n",
    "    return fn\n",
    "\n",
    "def is_lt2(threshold):\n",
    "    @labeling_function(name=\"is_lt2_\"+str(threshold))\n",
    "    def fn(row):\n",
    "        return NEGATIVE if row.value < threshold else ABSTAIN\n",
    "    return fn\n",
    "\n",
    "def is_ge_lt(threshold):\n",
    "    @labeling_function(name=\"is_ge_lt_\"+str(threshold))\n",
    "    def fn(row):\n",
    "        return POSITIVE if row.value >= threshold else NEGATIVE\n",
    "    return fn\n",
    "\n",
    "def is_in_range(low, high):\n",
    "    @labeling_function(name=\"is_in_range_\"+str(low)+\"_\"+str(high))\n",
    "    def fn(row):\n",
    "        return POSITIVE if low <= row.value < high else ABSTAIN\n",
    "    return fn\n"
   ]
  },
  {
   "cell_type": "markdown",
   "metadata": {
    "pycharm": {
     "name": "#%% md\n"
    }
   },
   "source": [
    "## Try is_ge_lt"
   ]
  },
  {
   "cell_type": "code",
   "execution_count": null,
   "metadata": {
    "pycharm": {
     "name": "#%%\n"
    }
   },
   "outputs": [],
   "source": [
    "lfs = [is_ge_lt(threshold) for threshold in range(10, 100, 10)]\n",
    "train = PandasLFApplier(lfs).apply(df)"
   ]
  },
  {
   "cell_type": "code",
   "execution_count": null,
   "metadata": {
    "pycharm": {
     "name": "#%%\n"
    }
   },
   "outputs": [],
   "source": [
    "print(train.shape)\n",
    "print(df[0:3])\n",
    "print(train[0:3])"
   ]
  },
  {
   "cell_type": "code",
   "execution_count": null,
   "metadata": {
    "pycharm": {
     "name": "#%%\n"
    }
   },
   "outputs": [],
   "source": [
    "label_model = LabelModel(cardinality=2, verbose=True)\n",
    "label_model.fit(train, n_epochs=500, log_freq=50, class_balance=[0.5, 0.5])\n",
    "df[\"predict\"] = label_model.predict(L=train, tie_break_policy=\"abstain\")\n",
    "df.head(10)"
   ]
  },
  {
   "cell_type": "code",
   "execution_count": null,
   "metadata": {
    "pycharm": {
     "name": "#%%\n"
    }
   },
   "outputs": [],
   "source": [
    "len(df[df[\"label\"] == df[\"predict\"]])"
   ]
  },
  {
   "cell_type": "markdown",
   "metadata": {
    "pycharm": {
     "name": "#%% md\n"
    }
   },
   "source": [
    "## Try is_ge and is_lt"
   ]
  },
  {
   "cell_type": "code",
   "execution_count": null,
   "metadata": {
    "pycharm": {
     "name": "#%%\n"
    }
   },
   "outputs": [],
   "source": [
    "lfs = [is_ge(threshold) for threshold in range(10, 100, 10)] + [is_lt(threshold) for threshold in range(10, 100, 10)]\n",
    "train = PandasLFApplier(lfs).apply(df)\n",
    "label_model = LabelModel(cardinality=2, verbose=True)\n",
    "label_model.fit(train, n_epochs=500, log_freq=50, class_balance=[0.5, 0.5])\n",
    "df[\"predict\"] = label_model.predict(L=train, tie_break_policy=\"abstain\")\n",
    "len(df[df[\"label\"] == df[\"predict\"]])"
   ]
  },
  {
   "cell_type": "code",
   "execution_count": null,
   "metadata": {
    "pycharm": {
     "name": "#%%\n"
    }
   },
   "outputs": [],
   "source": [
    "train[0:5]"
   ]
  },
  {
   "cell_type": "markdown",
   "metadata": {
    "pycharm": {
     "name": "#%% md\n"
    }
   },
   "source": [
    "### Try is_in_range"
   ]
  },
  {
   "cell_type": "code",
   "execution_count": null,
   "metadata": {
    "pycharm": {
     "name": "#%%\n"
    }
   },
   "outputs": [],
   "source": [
    "lfs = [is_in_range(threshold, threshold+10) for threshold in range(0, 100, 10)] + \\\n",
    "      [is_lt(threshold) for threshold in range(10, 100, 10)]\n",
    "train = PandasLFApplier(lfs).apply(df)\n",
    "label_model = LabelModel(cardinality=2, verbose=True)\n",
    "label_model.fit(train, n_epochs=500, log_freq=50, class_balance=[0.5, 0.5])\n",
    "df[\"predict\"] = label_model.predict(L=train, tie_break_policy=\"abstain\")\n",
    "len(df[df[\"label\"] == df[\"predict\"]])"
   ]
  },
  {
   "cell_type": "markdown",
   "metadata": {
    "pycharm": {
     "name": "#%% md\n"
    }
   },
   "source": [
    "### Try repeating high-confidence learners"
   ]
  },
  {
   "cell_type": "code",
   "execution_count": null,
   "metadata": {
    "pycharm": {
     "name": "#%%\n"
    }
   },
   "outputs": [],
   "source": [
    "lfs = [is_ge(threshold) for threshold in range(10, 100, 10)] + \\\n",
    "      [is_lt(threshold) for threshold in range(10, 100, 10)] + \\\n",
    "      [is_in_range(80,90), is_in_range(90,100), is_lt2(10), is_lt2(20)]\n",
    "train = PandasLFApplier(lfs).apply(df)\n",
    "label_model = LabelModel(cardinality=2, verbose=True)\n",
    "label_model.fit(train, n_epochs=500, log_freq=50, class_balance=[0.5, 0.5])\n",
    "df[\"predict\"] = label_model.predict(L=train, tie_break_policy=\"abstain\")\n",
    "len(df[df[\"label\"] == df[\"predict\"]])"
   ]
  },
  {
   "cell_type": "markdown",
   "metadata": {
    "pycharm": {
     "name": "#%% md\n"
    }
   },
   "source": [
    "### Try modifying class balance"
   ]
  },
  {
   "cell_type": "code",
   "execution_count": null,
   "metadata": {
    "pycharm": {
     "name": "#%%\n"
    }
   },
   "outputs": [],
   "source": [
    "lfs = [is_ge_lt(threshold) for threshold in range(10, 100, 10)]\n",
    "train = PandasLFApplier(lfs).apply(df)\n",
    "label_model = LabelModel(cardinality=2, verbose=True)\n",
    "label_model.fit(train, n_epochs=500, log_freq=50, class_balance=[0.65, 0.35])\n",
    "df[\"predict\"] = label_model.predict(L=train, tie_break_policy=\"abstain\")\n",
    "len(df[df[\"label\"] == df[\"predict\"]])"
   ]
  },
  {
   "cell_type": "markdown",
   "metadata": {
    "pycharm": {
     "name": "#%% md\n"
    }
   },
   "source": [
    "### Try a \"perfect\" model"
   ]
  },
  {
   "cell_type": "code",
   "execution_count": null,
   "metadata": {
    "pycharm": {
     "name": "#%%\n"
    }
   },
   "outputs": [],
   "source": [
    "def predict(row):\n",
    "    return 1 if row.value >= 50 else 0\n",
    "\n",
    "df[\"predict\"] = df.apply(lambda row: predict(row), axis=1)\n",
    "len(df[df[\"label\"] == df[\"predict\"]])"
   ]
  },
  {
   "cell_type": "markdown",
   "metadata": {
    "pycharm": {
     "name": "#%% md\n"
    }
   },
   "source": [
    "### Try a simple majority vote"
   ]
  },
  {
   "cell_type": "code",
   "execution_count": null,
   "metadata": {
    "pycharm": {
     "name": "#%%\n"
    }
   },
   "outputs": [],
   "source": [
    "lfs = [is_ge_lt(threshold) for threshold in range(10, 100, 10)]\n",
    "train = PandasLFApplier(lfs).apply(df)\n",
    "\n",
    "def predict(train):\n",
    "    return (train.sum(axis=1) >= 5).astype(int)\n",
    "\n",
    "df[\"predict\"] = predict(train)\n",
    "len(df[df[\"label\"] == df[\"predict\"]])"
   ]
  },
  {
   "cell_type": "markdown",
   "metadata": {
    "pycharm": {
     "name": "#%% md\n"
    }
   },
   "source": [
    "### Questions\n",
    "1. is snorkel better than simple majority vote?\n",
    "2. does adding high-confidence learners multiple times help?\n",
    "3. does separating Pos/Neg into Pos/Abstain and Abstain/Neg help?\n",
    "4. does banding help?"
   ]
  },
  {
   "cell_type": "code",
   "execution_count": null,
   "metadata": {
    "pycharm": {
     "name": "#%%\n"
    }
   },
   "outputs": [],
   "source": []
  }
 ],
 "metadata": {
  "kernelspec": {
   "display_name": "nama",
   "language": "python",
   "name": "nama"
  },
  "language_info": {
   "codemirror_mode": {
    "name": "ipython",
    "version": 2
   },
   "file_extension": ".py",
   "mimetype": "text/x-python",
   "name": "python",
   "nbconvert_exporter": "python",
   "pygments_lexer": "ipython2",
   "version": "2.7.6"
  }
 },
 "nbformat": 4,
 "nbformat_minor": 0
}
