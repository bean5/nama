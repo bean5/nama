{
 "cells": [
  {
   "cell_type": "code",
   "execution_count": null,
   "id": "8de817fb",
   "metadata": {},
   "outputs": [],
   "source": [
    "%load_ext autoreload\n",
    "%autoreload 2"
   ]
  },
  {
   "cell_type": "code",
   "execution_count": null,
   "id": "4e5bedc3",
   "metadata": {},
   "outputs": [],
   "source": [
    "from collections import namedtuple\n",
    "\n",
    "import matplotlib.pyplot as plt\n",
    "\n",
    "from src.data.filesystem import fopen\n",
    "from src.data.utils import load_train_test\n",
    "from src.models.triplet_loss import get_near_negatives"
   ]
  },
  {
   "cell_type": "code",
   "execution_count": null,
   "id": "d1c38316",
   "metadata": {},
   "outputs": [],
   "source": [
    "given_surname = \"given\"\n",
    "size = \"tiny\"\n",
    "Config = namedtuple(\"Config\", \"train_path near_negatives_path\")\n",
    "config = Config(\n",
    "    train_path=f\"s3://familysearch-names/processed/tree-hr-{given_surname}-similar-train-{size}.csv.gz\",\n",
    "    near_negatives_path=f\"s3://nama-data/data/processed/tree-hr-{given_surname}-near-negatives-{size}.csv.gz\",\n",
    ")"
   ]
  },
  {
   "cell_type": "code",
   "execution_count": null,
   "id": "c2fc7261",
   "metadata": {},
   "outputs": [],
   "source": [
    "[train] = load_train_test([config.train_path])\n",
    "\n",
    "input_names_train, weighted_actual_names_train, candidate_names_train = train"
   ]
  },
  {
   "cell_type": "code",
   "execution_count": null,
   "id": "e4cf2436",
   "metadata": {},
   "outputs": [],
   "source": [
    "threshold = 0.001\n",
    "filtered_wans_train = []\n",
    "for wan in weighted_actual_names_train:\n",
    "    wans = [(name, weight, freq) for name, weight, freq in wan if weight > threshold]\n",
    "    filtered_wans_train.append(wans)\n",
    "print(\"filtered\", sum(len(wan) for wan in filtered_wans_train))"
   ]
  },
  {
   "cell_type": "code",
   "execution_count": null,
   "id": "f5f88c1c",
   "metadata": {},
   "outputs": [],
   "source": [
    "k = 50\n",
    "lower_threshold = 0.6\n",
    "upper_threshold = 0.74\n",
    "near_negatives_train = get_near_negatives(\n",
    "    input_names_train, weighted_actual_names_train, candidate_names_train, \n",
    "    k=k, lower_threshold=lower_threshold, upper_threshold=upper_threshold\n",
    ")"
   ]
  },
  {
   "cell_type": "code",
   "execution_count": null,
   "id": "4bcef45c",
   "metadata": {},
   "outputs": [],
   "source": [
    "print(\"input_names_train\", len(input_names_train))\n",
    "print(\"filtered_wans_train\", sum(len(wan) for wan in filtered_wans_train))\n",
    "print(\"candidate_names_train\", len(candidate_names_train))\n",
    "print(\"near_negatives_train\", sum(len(negs) for _, negs in near_negatives_train.items()))"
   ]
  },
  {
   "cell_type": "code",
   "execution_count": null,
   "id": "f28d99f5",
   "metadata": {},
   "outputs": [],
   "source": [
    "ix = 123\n",
    "print(input_names_train[ix])\n",
    "wans = sorted(filtered_wans_train[ix], key=lambda x: -x[2])\n",
    "# print(\"positives\", list(name for name, _, _ in weighted_actual_names_train[ix]))\n",
    "print(\"positives\", wans)\n",
    "print(\"negatives\", near_negatives_train[input_names_train[ix]])"
   ]
  },
  {
   "cell_type": "code",
   "execution_count": null,
   "id": "aa66cb9a",
   "metadata": {},
   "outputs": [],
   "source": [
    "weights = []\n",
    "for wan in weighted_actual_names_train:\n",
    "    for _, weight, _ in wan:\n",
    "        weights.append(weight)"
   ]
  },
  {
   "cell_type": "code",
   "execution_count": null,
   "id": "a6cf9f70",
   "metadata": {},
   "outputs": [],
   "source": [
    "ax = plt.gca()\n",
    "ax.set_ylim([0, 10000])\n",
    "ax.set_xlim([0, 0.1])\n",
    "plt.hist(weights, bins=100)"
   ]
  },
  {
   "cell_type": "code",
   "execution_count": null,
   "id": "45cd9fc7",
   "metadata": {},
   "outputs": [],
   "source": []
  }
 ],
 "metadata": {
  "kernelspec": {
   "display_name": "nama",
   "language": "python",
   "name": "nama"
  },
  "language_info": {
   "codemirror_mode": {
    "name": "ipython",
    "version": 3
   },
   "file_extension": ".py",
   "mimetype": "text/x-python",
   "name": "python",
   "nbconvert_exporter": "python",
   "pygments_lexer": "ipython3",
   "version": "3.8.12"
  }
 },
 "nbformat": 4,
 "nbformat_minor": 5
}
