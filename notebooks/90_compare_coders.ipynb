{
 "cells": [
  {
   "cell_type": "code",
   "execution_count": null,
   "id": "403ab30a",
   "metadata": {},
   "outputs": [],
   "source": [
    "%load_ext autoreload\n",
    "%autoreload 2\n",
    "%matplotlib inline"
   ]
  },
  {
   "cell_type": "code",
   "execution_count": null,
   "id": "0d6ea350",
   "metadata": {},
   "outputs": [],
   "source": [
    "import cologne_phonetics\n",
    "import jellyfish\n",
    "import matplotlib.pyplot as plt\n",
    "from matplotlib.pyplot import cm\n",
    "from metaphone import doublemetaphone\n",
    "from mpire import WorkerPool\n",
    "import numpy as np\n",
    "from pyphonetics import RefinedSoundex\n",
    "from spellwise import CaverphoneOne, CaverphoneTwo\n",
    "from tqdm import tqdm\n",
    "\n",
    "from src.data.ancestry import load_train_test\n",
    "from src.metrics import metrics\n",
    "from src.models.utils import remove_padding"
   ]
  },
  {
   "cell_type": "code",
   "execution_count": null,
   "id": "f52215f5",
   "metadata": {
    "pycharm": {
     "name": "#%%\n"
    }
   },
   "outputs": [],
   "source": [
    "# config\n",
    "\n",
    "# from src.data.ancestry import load_train_test\n",
    "# train_path = \"../data/raw/records25k_data_train.csv\"\n",
    "# test_path = \"../data/raw/records25k_data_test.csv\"\n",
    "# sample_all_names = True\n",
    "\n",
    "from src.data.familysearch import load_train_test\n",
    "train_path = \"s3://nama-data/data/processed/tree-hr-surname-similar-train.csv.gz\"\n",
    "test_path = \"s3://nama-data/data/processed/tree-hr-surname-similar-test.csv.gz\"\n",
    "sample_all_names = False"
   ]
  },
  {
   "cell_type": "code",
   "execution_count": null,
   "id": "800f0ea7",
   "metadata": {},
   "outputs": [],
   "source": [
    "np.set_printoptions(suppress=True)\n",
    "tqdm.pandas()"
   ]
  },
  {
   "cell_type": "markdown",
   "id": "efc2171a",
   "metadata": {},
   "source": [
    "### Load data"
   ]
  },
  {
   "cell_type": "code",
   "execution_count": null,
   "id": "5e19b85e",
   "metadata": {},
   "outputs": [],
   "source": [
    "# read data\n",
    "\n",
    "train, test = load_train_test(train_path, test_path)\n",
    "\n",
    "input_names_train, weighted_actual_names_train, candidate_names_train = train\n",
    "input_names_test, weighted_actual_names_test, candidate_names_test = test\n",
    "\n",
    "candidate_names_all = np.concatenate((candidate_names_train, candidate_names_test))\n",
    "input_names_all = input_names_train + input_names_test\n",
    "weighted_actual_names_all = weighted_actual_names_train + weighted_actual_names_test"
   ]
  },
  {
   "cell_type": "code",
   "execution_count": null,
   "id": "08ab9629",
   "metadata": {
    "pycharm": {
     "name": "#%%\n"
    }
   },
   "outputs": [],
   "source": [
    "input_names_sample = input_names_all if sample_all_names else input_names_test\n",
    "weighted_actual_names_sample = weighted_actual_names_all if sample_all_names else weighted_actual_names_test\n",
    "candidate_names_sample = candidate_names_all if sample_all_names else candidate_names_test"
   ]
  },
  {
   "cell_type": "code",
   "execution_count": null,
   "id": "bc32f861",
   "metadata": {
    "pycharm": {
     "name": "#%%\n"
    }
   },
   "outputs": [],
   "source": [
    "print(\"input_names_train\", len(input_names_train))\n",
    "print(\"input_names_test\", len(input_names_test))\n",
    "print(\"input_names_all\", len(input_names_all))\n",
    "print(\"input_names_sample\", len(input_names_sample))\n",
    "print(\"weighted_actual_names_train\", len(weighted_actual_names_train))\n",
    "print(\"weighted_actual_names_test\", len(weighted_actual_names_test))\n",
    "print(\"weighted_actual_names_all\", len(weighted_actual_names_all))\n",
    "print(\"weighted_actual_names_sample\", len(weighted_actual_names_sample))\n",
    "print(\"candidate_names_train\", len(candidate_names_train))\n",
    "print(\"candidate_names_test\", len(candidate_names_test))\n",
    "print(\"candidate_names_all\", len(candidate_names_all))\n",
    "print(\"candidate_names_sample\", len(candidate_names_sample))"
   ]
  },
  {
   "cell_type": "markdown",
   "id": "9ead0a08",
   "metadata": {},
   "source": [
    "### Models"
   ]
  },
  {
   "cell_type": "code",
   "execution_count": null,
   "id": "9c64b3d4",
   "metadata": {},
   "outputs": [],
   "source": [
    "# various coders\n",
    "caverphone_one = CaverphoneOne()\n",
    "caverphone_two = CaverphoneTwo()\n",
    "refined_soundex = RefinedSoundex()"
   ]
  },
  {
   "cell_type": "code",
   "execution_count": null,
   "id": "9f670567",
   "metadata": {
    "pycharm": {
     "name": "#%%\n"
    }
   },
   "outputs": [],
   "source": [
    "coding_algos = [\n",
    "    \"soundex\",\n",
    "    \"nysiis\",\n",
    "    \"metaphone\",\n",
    "    \"caverphone1\",\n",
    "    \"caverphone2\",\n",
    "    \"refined_soundex\",\n",
    "    \"double_metaphone\",\n",
    "    \"cologne_phonetics\",\n",
    "    \"match_rating\",\n",
    "]"
   ]
  },
  {
   "cell_type": "code",
   "execution_count": null,
   "id": "9527b1ed",
   "metadata": {},
   "outputs": [],
   "source": [
    "def calc_similarity_to(name, algo=\"levenshtein\"):\n",
    "    name = remove_padding(name)\n",
    "    \n",
    "    def calc_similarity(row):\n",
    "        cand_name = remove_padding(row[0])\n",
    "        similarity = 0.0\n",
    "        if algo == \"caverphone1\":\n",
    "            similarity = 1.0 if caverphone_one._pre_process(name) == caverphone_one._pre_process(cand_name) else 0.0\n",
    "        elif algo == \"caverphone2\":\n",
    "            similarity = 1.0 if caverphone_two._pre_process(name) == caverphone_two._pre_process(cand_name) else 0.0\n",
    "        elif algo == \"refined_soundex\":\n",
    "            similarity = 1.0 if refined_soundex.phonetics(name) == refined_soundex.phonetics(cand_name) else 0.0\n",
    "        elif algo == \"double_metaphone\":\n",
    "            dm1 = doublemetaphone(name)\n",
    "            dm2 = doublemetaphone(cand_name)\n",
    "            similarity = 1.0 if any(code in dm2 for code in dm1) else 0.0\n",
    "        elif algo == \"cologne_phonetics\":\n",
    "            similarity = 1.0 if cologne_phonetics.encode(name)[0][1] == cologne_phonetics.encode(cand_name)[0][1] else 0.0\n",
    "        elif algo == \"match_rating\":\n",
    "            similarity = 1.0 if jellyfish.match_rating_comparison(name, cand_name) else 0.0\n",
    "        elif algo == \"soundex\":\n",
    "            similarity = 1.0 if jellyfish.soundex(name) == jellyfish.soundex(cand_name) else 0.0\n",
    "        elif algo == \"nysiis\":\n",
    "            similarity = 1.0 if jellyfish.nysiis(name) == jellyfish.nysiis(cand_name) else 0.0\n",
    "        elif algo == \"metaphone\":\n",
    "            similarity = 1.0 if jellyfish.metaphone(name) == jellyfish.metaphone(cand_name) else 0.0\n",
    "        return similarity\n",
    "\n",
    "    return calc_similarity"
   ]
  },
  {
   "cell_type": "code",
   "execution_count": null,
   "id": "17d19fcf",
   "metadata": {},
   "outputs": [],
   "source": [
    "# test double metaphone\n",
    "name = \"smith\"\n",
    "cand_name = \"schmidt\"\n",
    "dm1 = doublemetaphone(name)\n",
    "dm2 = doublemetaphone(cand_name)\n",
    "similarity = 1.0 if any(code in dm2 for code in dm1) else 0.0\n",
    "print(\"dm1\", dm1)\n",
    "print(\"dm2\", dm2)\n",
    "print(\"similarity\", similarity)"
   ]
  },
  {
   "cell_type": "markdown",
   "id": "7b3c4728",
   "metadata": {},
   "source": [
    "#### Similarity Function"
   ]
  },
  {
   "cell_type": "code",
   "execution_count": null,
   "id": "34a1e9f8",
   "metadata": {},
   "outputs": [],
   "source": [
    "def get_similars(shared, name=''):\n",
    "    candidate_names_sample, k, algo = shared\n",
    "    scores = np.apply_along_axis(calc_similarity_to(name, algo), 1, candidate_names_sample[:, None])\n",
    "    sorted_scores_idx = np.argsort(scores)[::-1][:k]\n",
    "    candidate_names = candidate_names_sample[sorted_scores_idx]\n",
    "    candidate_scores = scores[sorted_scores_idx]\n",
    "\n",
    "    return list(zip(candidate_names, candidate_scores))"
   ]
  },
  {
   "cell_type": "markdown",
   "id": "bd3455a0",
   "metadata": {},
   "source": [
    "#### Demo"
   ]
  },
  {
   "cell_type": "markdown",
   "id": "318b12e1",
   "metadata": {},
   "source": [
    "## Test Soundex"
   ]
  },
  {
   "cell_type": "code",
   "execution_count": null,
   "id": "dd3bc695",
   "metadata": {},
   "outputs": [],
   "source": [
    "k = 1000  # Number of candidates to consider\n",
    "similar_names_scores = [get_similars((candidate_names_sample, k, \"soundex\", None, None), input_names_test[251])]\n",
    "similar_names_scores[0][:5]"
   ]
  },
  {
   "cell_type": "code",
   "execution_count": null,
   "id": "1eb5e52a",
   "metadata": {},
   "outputs": [],
   "source": [
    "# Ugh - how can I create a 3D array with (str, float) as the third axis without taking apart and re-assembling the array?\n",
    "# names is a 2D array axis 0 = names, axis 1 = name of k similar-names\n",
    "names = np.array(list(list(cell[0] for cell in row) for row in similar_names_scores), dtype=\"O\")\n",
    "# scores is a 2D array axis 0 = names, axis 1 = score of k similar-names\n",
    "scores = np.array(list(list(cell[1] for cell in row) for row in similar_names_scores), dtype=\"f8\")\n",
    "# similar_names is now a 3D array axis 0 = names, axis 1 = k similar-names, axis 2 = name or score\n",
    "similar_names_scores = np.dstack((names, scores))"
   ]
  },
  {
   "cell_type": "code",
   "execution_count": null,
   "id": "08331bbd",
   "metadata": {},
   "outputs": [],
   "source": [
    "metrics.weighted_recall_at_threshold(weighted_actual_names_test[251], similar_names_scores[0], 0.5)"
   ]
  },
  {
   "cell_type": "code",
   "execution_count": null,
   "id": "68cf8fd8",
   "metadata": {},
   "outputs": [],
   "source": [
    "metrics.precision_at_threshold(weighted_actual_names_test[251], similar_names_scores[0], 0.5)"
   ]
  },
  {
   "cell_type": "markdown",
   "id": "cefb8e0c",
   "metadata": {},
   "source": [
    "# Evaluate each algorithm"
   ]
  },
  {
   "cell_type": "code",
   "execution_count": null,
   "id": "1d506ebb",
   "metadata": {
    "pycharm": {
     "name": "#%%\n"
    }
   },
   "outputs": [],
   "source": [
    "k = 2000  # Number of candidates to consider\n",
    "actual_names_sample = [[name for name, _, _ in name_weights] for name_weights in weighted_actual_names_sample]\n",
    "figure, ax = plt.subplots(1, 1, figsize=(20, 15))\n",
    "ax.set_title(\"PR at threshold\")\n",
    "colors = cm.rainbow(np.linspace(0, 1, len(coding_algos)+2))\n",
    "\n",
    "# plot anc-triplet-bilstm-100-512-40-05 model\n",
    "ax.plot([.809], [.664], \"o--\", color=colors[0], label=\"triplet-cluster\")\n",
    "ax.plot([.594], [.543], \"o--\", color=colors[1], label=\"dam-lev-cluster\")\n",
    "\n",
    "for algo, color in zip(coding_algos, colors[2:]):\n",
    "    print(algo)\n",
    "    with WorkerPool(shared_objects=(candidate_names_sample, k, algo)) as pool:\n",
    "        similar_names_scores = pool.map(get_similars, input_names_sample, progress_bar=True)\n",
    "    similar_names = [[name for name, _ in name_similarities] for name_similarities in similar_names_scores]\n",
    "    names = np.array(list(list(cell[0] for cell in row) for row in similar_names_scores), dtype=\"O\")\n",
    "    scores = np.array(list(list(cell[1] for cell in row) for row in similar_names_scores), dtype=\"f8\")\n",
    "    similar_names_scores = np.dstack((names, scores))\n",
    "    precision = metrics.avg_precision_at_threshold(weighted_actual_names_sample, similar_names_scores, 0.5)\n",
    "    recall = metrics.avg_weighted_recall_at_threshold(weighted_actual_names_sample, similar_names_scores, 0.5)\n",
    "    print(f\"precision={precision} recall={recall}\")\n",
    "    precisions = [precision]\n",
    "    recalls = [recall]\n",
    "    ax.plot(recalls, precisions, \"o--\", color=color, label=algo)\n",
    "\n",
    "ax.legend()\n",
    "plt.show()"
   ]
  },
  {
   "cell_type": "code",
   "execution_count": null,
   "id": "70ca8de9",
   "metadata": {
    "pycharm": {
     "name": "#%%\n"
    }
   },
   "outputs": [],
   "source": []
  }
 ],
 "metadata": {
  "jupytext": {
   "text_representation": {
    "extension": ".py",
    "format_name": "percent",
    "format_version": "1.3",
    "jupytext_version": "1.13.0"
   }
  },
  "kernelspec": {
   "display_name": "nama",
   "language": "python",
   "name": "nama"
  },
  "language_info": {
   "codemirror_mode": {
    "name": "ipython",
    "version": 3
   },
   "file_extension": ".py",
   "mimetype": "text/x-python",
   "name": "python",
   "nbconvert_exporter": "python",
   "pygments_lexer": "ipython3",
   "version": "3.8.12"
  }
 },
 "nbformat": 4,
 "nbformat_minor": 5
}
