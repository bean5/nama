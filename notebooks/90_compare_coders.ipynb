{
 "cells": [
  {
   "cell_type": "code",
   "execution_count": null,
   "id": "c8262d44",
   "metadata": {},
   "outputs": [],
   "source": [
    "%load_ext autoreload\n",
    "%autoreload 2\n",
    "%matplotlib inline"
   ]
  },
  {
   "cell_type": "code",
   "execution_count": null,
   "id": "b2c205f5",
   "metadata": {},
   "outputs": [],
   "source": [
    "from collections import namedtuple\n",
    "\n",
    "import cologne_phonetics\n",
    "import jellyfish\n",
    "import matplotlib.pyplot as plt\n",
    "from matplotlib.pyplot import cm\n",
    "from metaphone import doublemetaphone\n",
    "from mpire import WorkerPool\n",
    "import numpy as np\n",
    "from pyphonetics import RefinedSoundex\n",
    "from sklearn.model_selection import train_test_split\n",
    "from spellwise import CaverphoneOne, CaverphoneTwo\n",
    "import pandas as pd\n",
    "import torch\n",
    "from tqdm import tqdm\n",
    "import wandb\n",
    "\n",
    "from src.data.filesystem import fopen\n",
    "from src.data.utils import load_datasets\n",
    "from src.eval import metrics\n",
    "from src.models.utils import remove_padding\n",
    "from src.models.cluster import read_clusters, get_clusters\n",
    "from src.models.swivel import SwivelModel, get_swivel_embeddings\n",
    "from src.models.swivel_encoder import SwivelEncoderModel"
   ]
  },
  {
   "cell_type": "code",
   "execution_count": null,
   "id": "56a0fe18",
   "metadata": {
    "pycharm": {
     "name": "#%%\n"
    }
   },
   "outputs": [],
   "source": [
    "# config\n",
    "\n",
    "given_surname = \"surname\"\n",
    "vocab_size = 600000 if given_surname == \"given\" else 2100000\n",
    "encoder_vocab_size = vocab_size\n",
    "sample_size = 10000\n",
    "embed_dim = 100\n",
    "NAMA_THRESHOLD = 0.60\n",
    "NAMA_MAX_CLUSTERS = 10\n",
    "Config = namedtuple(\"Config\", [\n",
    "    \"train_path\",\n",
    "    \"test_path\",\n",
    "    \"embed_dim\",\n",
    "    \"swivel_vocab_path\",\n",
    "    \"swivel_model_path\",\n",
    "#     \"encoder_model_path\",\n",
    "    \"cluster_path\"])\n",
    "config = Config(\n",
    "    train_path=f\"s3://familysearch-names/processed/tree-hr-{given_surname}-train.csv.gz\",\n",
    "    test_path=f\"s3://familysearch-names/processed/tree-hr-{given_surname}-test.csv.gz\",\n",
    "    embed_dim=embed_dim,\n",
    "    swivel_vocab_path=f\"s3://nama-data/data/models/fs-{given_surname}-swivel-vocab-{vocab_size}.csv\",\n",
    "    swivel_model_path=f\"s3://nama-data/data/models/fs-{given_surname}-swivel-model-{vocab_size}-{embed_dim}.pth\",\n",
    "#     encoder_model_path=f\"s3://nama-data/data/models/fs-{given_surname}-encoder-model-{encoder_vocab_size}-{embed_dim}.pth\",\n",
    "    cluster_path=     f\"s3://nama-data/data/models/fs-{given_surname}-clusters-{vocab_size}-{embed_dim}.csv.gz\",\n",
    "    \n",
    ")"
   ]
  },
  {
   "cell_type": "code",
   "execution_count": null,
   "id": "aa465334",
   "metadata": {},
   "outputs": [],
   "source": [
    "np.set_printoptions(suppress=True)\n",
    "tqdm.pandas()\n",
    "wandb.init(\n",
    "    project=\"nama\",\n",
    "    entity=\"nama\",\n",
    "    name=\"90_compare_coders\",\n",
    "    group=given_surname,\n",
    "    notes=\"\",\n",
    "    config=config._asdict(),\n",
    ")"
   ]
  },
  {
   "cell_type": "markdown",
   "id": "c7498122",
   "metadata": {},
   "source": [
    "### Load data"
   ]
  },
  {
   "cell_type": "code",
   "execution_count": null,
   "id": "36556f13",
   "metadata": {},
   "outputs": [],
   "source": [
    "# read data\n",
    "\n",
    "train, test = load_datasets([config.train_path, config.test_path])\n",
    "\n",
    "input_names_train, weighted_actual_names_train, candidate_names_train = train\n",
    "input_names_test, weighted_actual_names_test, candidate_names_test = test"
   ]
  },
  {
   "cell_type": "code",
   "execution_count": null,
   "id": "3d18d88c",
   "metadata": {
    "pycharm": {
     "name": "#%%\n"
    }
   },
   "outputs": [],
   "source": [
    "print(\"input_names_train\", len(input_names_train))\n",
    "print(\"candidate_names_train\", len(candidate_names_train))\n",
    "\n",
    "print(\"input_names_test\", len(input_names_test))\n",
    "print(\"candidate_names_test\", len(candidate_names_test))"
   ]
  },
  {
   "cell_type": "code",
   "execution_count": null,
   "id": "0557b726",
   "metadata": {
    "pycharm": {
     "name": "#%%\n"
    }
   },
   "outputs": [],
   "source": [
    "swivel_vocab_df = pd.read_csv(fopen(config.swivel_vocab_path, \"rb\"))\n",
    "swivel_vocab = {name: _id for name, _id in zip(swivel_vocab_df[\"name\"], swivel_vocab_df[\"index\"])}"
   ]
  },
  {
   "cell_type": "code",
   "execution_count": null,
   "id": "873833a7",
   "metadata": {
    "pycharm": {
     "name": "#%%\n"
    }
   },
   "outputs": [],
   "source": [
    "device = torch.device(\"cuda:0\" if torch.cuda.is_available() else \"cpu\")\n",
    "print(device)"
   ]
  },
  {
   "cell_type": "code",
   "execution_count": null,
   "id": "394d3428",
   "metadata": {
    "pycharm": {
     "name": "#%%\n"
    }
   },
   "outputs": [],
   "source": [
    "swivel_model = SwivelModel(len(swivel_vocab), embedding_dim=config.embed_dim)\n",
    "swivel_model.load_state_dict(torch.load(fopen(config.swivel_model_path, \"rb\"), map_location=torch.device(device)))\n",
    "swivel_model.to(device)\n",
    "swivel_model.eval()\n",
    "print(swivel_model)"
   ]
  },
  {
   "cell_type": "code",
   "execution_count": null,
   "id": "d99e1c78",
   "metadata": {
    "pycharm": {
     "name": "#%%\n"
    }
   },
   "outputs": [],
   "source": [
    "encoder_model = None\n",
    "# encoder_model = SwivelEncoderModel(output_dim=config.embed_dim, device=device)\n",
    "# encoder_model.load_state_dict(torch.load(fopen(config.encoder_model_path, \"rb\"), map_location=torch.device(device)))\n",
    "# encoder_model.to(device)\n",
    "# encoder_model.eval()\n",
    "# print(encoder_model)"
   ]
  },
  {
   "cell_type": "code",
   "execution_count": null,
   "id": "24fd88f7",
   "metadata": {
    "pycharm": {
     "name": "#%%\n"
    }
   },
   "outputs": [],
   "source": [
    "name2cluster = read_clusters(config.cluster_path)\n",
    "clustered_names = list(name2cluster.keys())\n",
    "clustered_name2cluster_id =list(name2cluster.values())\n",
    "print(\"cluster_names\", len(clustered_names))"
   ]
  },
  {
   "cell_type": "code",
   "execution_count": null,
   "id": "4fb0614e",
   "metadata": {
    "pycharm": {
     "name": "#%%\n"
    }
   },
   "outputs": [],
   "source": [
    "clustered_name_embeddings = get_swivel_embeddings(model=swivel_model,\n",
    "                                                  vocab=swivel_vocab,\n",
    "                                                  names=clustered_names,\n",
    "                                                  encoder_model=encoder_model)"
   ]
  },
  {
   "cell_type": "markdown",
   "id": "9f648503",
   "metadata": {},
   "source": [
    "### Other Models"
   ]
  },
  {
   "cell_type": "code",
   "execution_count": null,
   "id": "3e75073f",
   "metadata": {},
   "outputs": [],
   "source": [
    "# various coders\n",
    "caverphone_one = CaverphoneOne()\n",
    "caverphone_two = CaverphoneTwo()\n",
    "refined_soundex = RefinedSoundex()"
   ]
  },
  {
   "cell_type": "code",
   "execution_count": null,
   "id": "cebaa126",
   "metadata": {
    "pycharm": {
     "name": "#%%\n"
    }
   },
   "outputs": [],
   "source": [
    "coding_algos = [\n",
    "    \"nama\",\n",
    "    \"soundex\",\n",
    "    \"nysiis\",\n",
    "    \"metaphone\",\n",
    "    \"caverphone1\",\n",
    "    \"caverphone2\",\n",
    "    \"refined_soundex\",\n",
    "    #     \"double_metaphone\",  # bad implementation?\n",
    "    \"cologne_phonetics\",\n",
    "]"
   ]
  },
  {
   "cell_type": "code",
   "execution_count": null,
   "id": "b735e736",
   "metadata": {
    "pycharm": {
     "name": "#%%\n"
    }
   },
   "outputs": [],
   "source": [
    "# test double metaphone\n",
    "name = \"smith\"\n",
    "cand_name = \"schmidt\"\n",
    "dm1 = doublemetaphone(name)\n",
    "dm2 = doublemetaphone(cand_name)\n",
    "similarity = 1.0 if any(code in dm2 for code in dm1) else 0.0\n",
    "print(\"dm1\", dm1)\n",
    "print(\"dm2\", dm2)\n",
    "print(\"similarity\", similarity)"
   ]
  },
  {
   "cell_type": "markdown",
   "id": "2e339779",
   "metadata": {
    "pycharm": {
     "name": "#%% md\n"
    }
   },
   "source": [
    "### Similarity functions"
   ]
  },
  {
   "cell_type": "code",
   "execution_count": null,
   "id": "db1c41b0",
   "metadata": {
    "pycharm": {
     "name": "#%%\n"
    }
   },
   "outputs": [],
   "source": [
    "def get_codes(name, algo, name2clusters):\n",
    "    if algo == \"nama\":\n",
    "        return [cluster[0] for ix, cluster in enumerate(name2clusters[name]) if ix == 0 or cluster[1] >= NAMA_THRESHOLD]\n",
    "\n",
    "    name = remove_padding(name)\n",
    "    if algo == \"caverphone1\":\n",
    "        return [caverphone_one._pre_process(name)]\n",
    "    elif algo == \"caverphone2\":\n",
    "        return [caverphone_two._pre_process(name)]\n",
    "    elif algo == \"refined_soundex\":\n",
    "        return [refined_soundex.phonetics(name)]\n",
    "    elif algo == \"double_metaphone\":\n",
    "        return doublemetaphone(name)\n",
    "    elif algo == \"cologne_phonetics\":\n",
    "        return [cologne_phonetics.encode(name)[0][1]]\n",
    "    elif algo == \"soundex\":\n",
    "        return [jellyfish.soundex(name)]\n",
    "    elif algo == \"nysiis\":\n",
    "        return [jellyfish.nysiis(name)]\n",
    "    elif algo == \"metaphone\":\n",
    "        return [jellyfish.metaphone(name)]"
   ]
  },
  {
   "cell_type": "code",
   "execution_count": null,
   "id": "1a37d97b",
   "metadata": {},
   "outputs": [],
   "source": [
    "def calc_similarity_to(name, name2codes):\n",
    "    codes1 = set(name2codes[name])\n",
    "\n",
    "    def calc_similarity(row):\n",
    "        cand_name = row[0]\n",
    "        code2 = name2codes[cand_name][0]  # code2 is the code cand_name is indexed under\n",
    "        return 1.0 if code2 in codes1 else 0.0\n",
    "\n",
    "    return calc_similarity"
   ]
  },
  {
   "cell_type": "code",
   "execution_count": null,
   "id": "4fb8560e",
   "metadata": {},
   "outputs": [],
   "source": [
    "def get_similars(shared, name=\"\"):\n",
    "    candidate_names, k, name2codes = shared\n",
    "    scores = np.apply_along_axis(calc_similarity_to(name, name2codes), 1, candidate_names[:, None])\n",
    "    sorted_scores_idx = np.argsort(scores)[::-1][:k]\n",
    "    candidate_names = candidate_names[sorted_scores_idx]\n",
    "    candidate_scores = scores[sorted_scores_idx]\n",
    "\n",
    "    return list(zip(candidate_names, candidate_scores))"
   ]
  },
  {
   "cell_type": "markdown",
   "id": "37e1f414",
   "metadata": {},
   "source": [
    "# Evaluate each algorithm"
   ]
  },
  {
   "cell_type": "code",
   "execution_count": null,
   "id": "dab98f85",
   "metadata": {
    "pycharm": {
     "name": "#%%\n"
    }
   },
   "outputs": [],
   "source": [
    "def evaluate_algos(coding_algos,\n",
    "                   swivel_vocab,\n",
    "                   swivel_model,\n",
    "                   encoder_model,\n",
    "                   clustered_name2cluster_id,\n",
    "                   clustered_name_embeddings,\n",
    "                   input_names,\n",
    "                   weighted_actual_names,\n",
    "                   candidate_names):\n",
    "    all_names = list(set(input_names).union(set(candidate_names)))\n",
    "    all_name_embeddings = get_swivel_embeddings(model=swivel_model,\n",
    "                                                vocab=swivel_vocab,\n",
    "                                                names=all_names,\n",
    "                                                encoder_model=encoder_model)\n",
    "    name2clusters, _ = get_clusters(all_names,\n",
    "                                    all_name_embeddings,\n",
    "                                    clustered_name2cluster_id,\n",
    "                                    clustered_name_embeddings,\n",
    "                                    k=100,\n",
    "                                    max_clusters=NAMA_MAX_CLUSTERS,\n",
    "                                    verbose=True,\n",
    "                                   )\n",
    "\n",
    "    k = 5000  # Number of candidates to consider\n",
    "    figure, ax = plt.subplots(1, 1, figsize=(20, 15))\n",
    "    ax.set_title(\"PR at threshold\")\n",
    "    colors = cm.rainbow(np.linspace(0, 1, len(coding_algos)))\n",
    "\n",
    "    for algo, color in zip(coding_algos, colors):\n",
    "        print(algo)\n",
    "        name2codes = {name: get_codes(name, algo, name2clusters) for name in all_names}\n",
    "        with WorkerPool(shared_objects=(candidate_names, k, name2codes)) as pool:\n",
    "            similar_names_scores = pool.map(get_similars, input_names, progress_bar=True)\n",
    "        similar_names = [[name for name, _ in name_similarities] for name_similarities in similar_names_scores]\n",
    "        names = np.array(list(list(cell[0] for cell in row) for row in similar_names_scores), dtype=\"O\")\n",
    "        scores = np.array(list(list(cell[1] for cell in row) for row in similar_names_scores), dtype=\"f8\")\n",
    "        total = max(scores.sum(axis=1))\n",
    "        print(\"max sum of scores\", total)\n",
    "        if total == k:\n",
    "            print(\"WARNING!!! need to increase k!!!\")\n",
    "        similar_names_scores = np.dstack((names, scores))\n",
    "        precision = metrics.avg_precision_at_threshold(weighted_actual_names, similar_names_scores, 0.5)\n",
    "        recall = metrics.avg_weighted_recall_at_threshold(weighted_actual_names, similar_names_scores, 0.5)\n",
    "        print(f\"precision={precision} recall={recall}\")\n",
    "        precisions = [precision]\n",
    "        recalls = [recall]\n",
    "        ax.plot(recalls, precisions, \"o--\", color=color, label=algo)\n",
    "\n",
    "    ax.legend()\n",
    "    plt.xlim([0, 1.0])\n",
    "    plt.ylim([0, 1.0])\n",
    "    plt.show()"
   ]
  },
  {
   "cell_type": "markdown",
   "id": "7925affd",
   "metadata": {
    "pycharm": {
     "name": "#%% md\n"
    }
   },
   "source": [
    "#### on in-vocabulary names (training data)"
   ]
  },
  {
   "cell_type": "code",
   "execution_count": null,
   "id": "35594069",
   "metadata": {
    "pycharm": {
     "name": "#%%\n"
    }
   },
   "outputs": [],
   "source": [
    "_, input_names_sample, _, weighted_actual_names_sample = \\\n",
    "    train_test_split(input_names_train, weighted_actual_names_train, test_size=sample_size)\n",
    "candidate_names_sample = candidate_names_train\n",
    "\n",
    "print(\"input_names\", len(input_names_sample))\n",
    "print(\"weighted_actual_names\", len(weighted_actual_names_sample))\n",
    "print(\"candidate_names\", len(candidate_names_sample))"
   ]
  },
  {
   "cell_type": "code",
   "execution_count": null,
   "id": "69b25ead",
   "metadata": {
    "pycharm": {
     "name": "#%%\n"
    }
   },
   "outputs": [],
   "source": [
    "%%time\n",
    "evaluate_algos(coding_algos,\n",
    "                   swivel_vocab,\n",
    "                   swivel_model,\n",
    "                   encoder_model,\n",
    "                   clustered_name2cluster_id,\n",
    "                   clustered_name_embeddings,\n",
    "                   input_names_sample,\n",
    "                   weighted_actual_names_sample,\n",
    "                   candidate_names_sample)"
   ]
  },
  {
   "cell_type": "markdown",
   "id": "e1f25279",
   "metadata": {
    "pycharm": {
     "name": "#%% md\n"
    }
   },
   "source": [
    "#### on out-of-vocabulary names (test data)"
   ]
  },
  {
   "cell_type": "code",
   "execution_count": null,
   "id": "58b364b5",
   "metadata": {},
   "outputs": [],
   "source": [
    "_, input_names_sample, _, weighted_actual_names_sample = \\\n",
    "    train_test_split(input_names_test, weighted_actual_names_test, test_size=sample_size)\n",
    "candidate_names_sample = candidate_names_test\n",
    "\n",
    "print(\"input_names\", len(input_names_sample))\n",
    "print(\"weighted_actual_names\", len(weighted_actual_names_sample))\n",
    "print(\"candidate_names\", len(candidate_names_sample))\n",
    "print(\"all names\", len(set(input_names).union(set(candidate_names))))"
   ]
  },
  {
   "cell_type": "code",
   "execution_count": null,
   "id": "c8e6832a",
   "metadata": {},
   "outputs": [],
   "source": [
    "n_zero = n_one = n_two = 0\n",
    "for input_name, wans in zip(input_names_sample, weighted_actual_names_sample):\n",
    "    for actual_name, _, _ in wans:\n",
    "        if input_name in swivel_vocab and actual_name in swivel_vocab:\n",
    "            n_two += 1\n",
    "        elif input_name in swivel_vocab or actual_name in swivel_vocab:\n",
    "            n_one += 1\n",
    "        else:\n",
    "            n_zero += 1\n",
    "print(\"two names in vocab (should not be possible)\", n_two)\n",
    "print(\"one name in vocab\", n_one)\n",
    "print(\"zero names in vocab\", n_zero)"
   ]
  },
  {
   "cell_type": "code",
   "execution_count": null,
   "id": "3277d44c",
   "metadata": {
    "pycharm": {
     "name": "#%%\n"
    }
   },
   "outputs": [],
   "source": [
    "# %%time\n",
    "# evaluate_algos(coding_algos,\n",
    "#                    swivel_vocab,\n",
    "#                    swivel_model,\n",
    "#                    encoder_model,\n",
    "#                    clustered_name2cluster_id,\n",
    "#                    clustered_name_embeddings,\n",
    "#                    input_names_sample,\n",
    "#                    weighted_actual_names_sample,\n",
    "#                    candidate_names_sample)"
   ]
  },
  {
   "cell_type": "code",
   "execution_count": null,
   "id": "ed367dde",
   "metadata": {
    "pycharm": {
     "name": "#%%\n"
    }
   },
   "outputs": [],
   "source": [
    "wandb.finish()"
   ]
  },
  {
   "cell_type": "code",
   "execution_count": null,
   "id": "254e2a07",
   "metadata": {},
   "outputs": [],
   "source": []
  }
 ],
 "metadata": {
  "kernelspec": {
   "display_name": "nama",
   "language": "python",
   "name": "nama"
  },
  "language_info": {
   "codemirror_mode": {
    "name": "ipython",
    "version": 3
   },
   "file_extension": ".py",
   "mimetype": "text/x-python",
   "name": "python",
   "nbconvert_exporter": "python",
   "pygments_lexer": "ipython3",
   "version": "3.8.12"
  }
 },
 "nbformat": 4,
 "nbformat_minor": 5
}
