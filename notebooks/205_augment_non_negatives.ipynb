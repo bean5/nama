{
 "cells": [
  {
   "cell_type": "code",
   "execution_count": null,
   "id": "139bee68",
   "metadata": {},
   "outputs": [],
   "source": [
    "%load_ext autoreload\n",
    "%autoreload 2"
   ]
  },
  {
   "cell_type": "markdown",
   "id": "028823c5",
   "metadata": {},
   "source": [
    "# Augment common non-negatives\n",
    "\n",
    "Add triplets and name variants and nicknames to common non-negatives"
   ]
  },
  {
   "cell_type": "code",
   "execution_count": null,
   "id": "e0364890",
   "metadata": {},
   "outputs": [],
   "source": [
    "import pandas as pd\n",
    "from tqdm.auto import tqdm\n",
    "\n",
    "from src.data.utils import read_csv"
   ]
  },
  {
   "cell_type": "code",
   "execution_count": null,
   "id": "774de195",
   "metadata": {},
   "outputs": [],
   "source": [
    "given_surname = \"given\"\n",
    "\n",
    "common_non_negatives_path = f\"../references/common_{given_surname}_non_negatives.csv\"\n",
    "triplets_path=f\"../data/processed/tree-hr-{given_surname}-triplets-v2-1000.csv.gz\"\n",
    "name_variants_path = f\"../references/{given_surname}_variants.csv\"\n",
    "given_nicknames_path = \"../references/givenname_nicknames.csv\"\n",
    "\n",
    "augmented_path = f\"../data/processed/common_{given_surname}_non_negatives-augmented.csv\""
   ]
  },
  {
   "cell_type": "markdown",
   "id": "e7c030b7",
   "metadata": {},
   "source": [
    "## Load data"
   ]
  },
  {
   "cell_type": "markdown",
   "id": "401ad99c",
   "metadata": {},
   "source": [
    "### read common non-negatives"
   ]
  },
  {
   "cell_type": "code",
   "execution_count": null,
   "id": "3606383a",
   "metadata": {},
   "outputs": [],
   "source": [
    "common_non_negatives_df = read_csv(common_non_negatives_path)\n",
    "print(len(common_non_negatives_df))\n",
    "common_non_negatives_df.head(3)"
   ]
  },
  {
   "cell_type": "code",
   "execution_count": null,
   "id": "ab78be66",
   "metadata": {},
   "outputs": [],
   "source": [
    "common_non_negatives = set()\n",
    "for name1, name2 in common_non_negatives_df.values.tolist():\n",
    "    common_non_negatives.add((name1, name2))\n",
    "    common_non_negatives.add((name2, name1))\n",
    "len(common_non_negatives)"
   ]
  },
  {
   "cell_type": "markdown",
   "id": "2b26cb96",
   "metadata": {},
   "source": [
    "### add triplets"
   ]
  },
  {
   "cell_type": "code",
   "execution_count": null,
   "id": "8a5eb692",
   "metadata": {},
   "outputs": [],
   "source": [
    "triplets_df = pd.read_csv(triplets_path)\n",
    "print(len(triplets_df))\n",
    "triplets_df.head(3)"
   ]
  },
  {
   "cell_type": "code",
   "execution_count": null,
   "id": "538e50c4",
   "metadata": {},
   "outputs": [],
   "source": [
    "for anchor, pos, neg in zip(\n",
    "    triplets_df['anchor'], \n",
    "    triplets_df['positive'],\n",
    "    triplets_df['negative'],\n",
    "):\n",
    "    common_non_negatives.add((anchor, pos))\n",
    "    common_non_negatives.add((pos, anchor))\n",
    "    common_non_negatives.add((anchor, neg))\n",
    "    common_non_negatives.add((neg, anchor))\n",
    "len(common_non_negatives)"
   ]
  },
  {
   "cell_type": "markdown",
   "id": "2a9e8224",
   "metadata": {},
   "source": [
    "### add name variants"
   ]
  },
  {
   "cell_type": "code",
   "execution_count": null,
   "id": "7174dff9",
   "metadata": {},
   "outputs": [],
   "source": [
    "name_variants_df = read_csv(name_variants_path)\n",
    "print(len(name_variants_df))\n",
    "name_variants_df.head(3)"
   ]
  },
  {
   "cell_type": "code",
   "execution_count": null,
   "id": "fc2e63ac",
   "metadata": {},
   "outputs": [],
   "source": [
    "for name1, name2 in name_variants_df.values.tolist():\n",
    "    common_non_negatives.add((name1, name2))\n",
    "    common_non_negatives.add((name2, name1))\n",
    "len(common_non_negatives)"
   ]
  },
  {
   "cell_type": "markdown",
   "id": "b7d9ce98",
   "metadata": {},
   "source": [
    "### add given nicknames"
   ]
  },
  {
   "cell_type": "code",
   "execution_count": null,
   "id": "b7fe87dc",
   "metadata": {},
   "outputs": [],
   "source": [
    "if given_surname == \"given\":\n",
    "    with open(given_nicknames_path, \"rt\") as f:\n",
    "        for line in f.readlines():\n",
    "            names = line.split(',')\n",
    "            for name1 in names:\n",
    "                for name2 in names:\n",
    "                    if name1 > name2:\n",
    "                        common_non_negatives.add((name1, name2))\n",
    "                        common_non_negatives.add((name2, name1))\n",
    "len(common_non_negatives)"
   ]
  },
  {
   "cell_type": "markdown",
   "id": "e0df5a95",
   "metadata": {},
   "source": [
    "## Save augmented non-negatives"
   ]
  },
  {
   "cell_type": "code",
   "execution_count": null,
   "id": "efe649b2",
   "metadata": {},
   "outputs": [],
   "source": [
    "records = []\n",
    "for name1, name2 in common_non_negatives:\n",
    "    records.append({'name1': name1, 'name2': name2})\n",
    "df = pd.DataFrame(records)\n",
    "df.to_csv(augmented_path, index=False)"
   ]
  },
  {
   "cell_type": "markdown",
   "id": "21fa63a6",
   "metadata": {},
   "source": [
    "## Miscellaneous\n",
    "\n",
    "Generate common non-negatives from existing standard"
   ]
  },
  {
   "cell_type": "raw",
   "id": "9278c668",
   "metadata": {},
   "source": [
    "common_names_set = set(common_names)\n",
    "\n",
    "with open(f\"../references/std_{given_surname}.txt\") as f:\n",
    "    for ix, line in enumerate(f.readlines()):\n",
    "        line = line.strip()\n",
    "        head_names, tail_names = line.split(':')\n",
    "        head_names = head_names.strip()\n",
    "        tail_names = tail_names.strip()\n",
    "        names = set()\n",
    "        if len(head_names):\n",
    "            names |= set(head_names.split(' '))\n",
    "        if len(tail_names):\n",
    "            names |= set(tail_names.split(' '))\n",
    "        names = [name for name in names if len(name) > 0]\n",
    "        for i in range(0, len(names)):\n",
    "            if names[i] not in common_names_set:\n",
    "                continue\n",
    "            for j in range(i+1, len(names)):\n",
    "                if names[j] not in common_names_set:\n",
    "                    continue\n",
    "                name1 = names[i]\n",
    "                name2 = names[j]\n",
    "                if name1 > name2:\n",
    "                    name1, name2 = name2, name1\n",
    "                common_non_negatives.add(f\"{name1}:{name2}\")\n",
    "print(len(common_non_negatives))\n",
    "\n",
    "variants = []\n",
    "for name_pair in sorted(common_non_negatives):\n",
    "    name1, name2 = name_pair.split(':')\n",
    "    if name1 > name2:\n",
    "        print(\"ERROR\", name1, name2)\n",
    "    variants.append({\"name1\": name1, \"name2\": name2})\n",
    "print(len(variants))\n",
    "df = pd.DataFrame(variants)\n",
    "df.to_csv(common_non_negatives_path, index=False)"
   ]
  },
  {
   "cell_type": "code",
   "execution_count": null,
   "id": "dd31da69",
   "metadata": {},
   "outputs": [],
   "source": []
  }
 ],
 "metadata": {
  "kernelspec": {
   "display_name": "nama",
   "language": "python",
   "name": "nama"
  },
  "language_info": {
   "codemirror_mode": {
    "name": "ipython",
    "version": 3
   },
   "file_extension": ".py",
   "mimetype": "text/x-python",
   "name": "python",
   "nbconvert_exporter": "python",
   "pygments_lexer": "ipython3",
   "version": "3.9.16"
  }
 },
 "nbformat": 4,
 "nbformat_minor": 5
}
