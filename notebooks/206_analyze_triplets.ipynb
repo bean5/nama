{
 "cells": [
  {
   "cell_type": "code",
   "execution_count": null,
   "id": "7523a2e3",
   "metadata": {},
   "outputs": [],
   "source": [
    "%load_ext autoreload\n",
    "%autoreload 2"
   ]
  },
  {
   "cell_type": "markdown",
   "id": "24241820",
   "metadata": {},
   "source": [
    "# Analyze Triplets\n",
    "\n",
    "- plot pos scores, neg scores, and margins\n",
    "\n",
    "- review common non-negatives that aren't represented in anchor-pos pairs\n",
    "- review anchor-pos pairs that aren't represented in common non-negatives"
   ]
  },
  {
   "cell_type": "code",
   "execution_count": null,
   "id": "6a70c385",
   "metadata": {},
   "outputs": [],
   "source": [
    "import re\n",
    "\n",
    "import pandas as pd\n",
    "\n",
    "from src.data.filesystem import fopen"
   ]
  },
  {
   "cell_type": "code",
   "execution_count": null,
   "id": "1fdc154b",
   "metadata": {},
   "outputs": [],
   "source": [
    "given_surname = \"surname\"\n",
    "sample_frac = 1.0\n",
    "num_common_names = 1000 if given_surname == \"given\" else 2500\n",
    "num_semi_common_names = 1500 if given_surname == \"given\" else 4000\n",
    "\n",
    "pref_path = f\"s3://familysearch-names/processed/tree-preferred-{given_surname}-aggr.csv.gz\"\n",
    "triplets_path=f\"../data/processed/tree-hr-{given_surname}-triplets-v2-1000.csv.gz\"\n",
    "common_non_negatives_path = f\"../data/processed/common_{given_surname}_non_negatives.csv\""
   ]
  },
  {
   "cell_type": "code",
   "execution_count": null,
   "id": "396ccd17",
   "metadata": {},
   "outputs": [],
   "source": [
    "def stringify_pair(name1, name2):\n",
    "    return f\"{name1}:{name2}\""
   ]
  },
  {
   "cell_type": "markdown",
   "id": "934e6f54",
   "metadata": {},
   "source": [
    "## Load data"
   ]
  },
  {
   "cell_type": "markdown",
   "id": "1f5f7231",
   "metadata": {},
   "source": [
    "### Triplets"
   ]
  },
  {
   "cell_type": "code",
   "execution_count": null,
   "id": "0839aea4",
   "metadata": {},
   "outputs": [],
   "source": [
    "triplets_df = pd.read_csv(triplets_path)\n",
    "print(len(triplets_df))\n",
    "triplets_df.head(3)"
   ]
  },
  {
   "cell_type": "code",
   "execution_count": null,
   "id": "861486a9",
   "metadata": {},
   "outputs": [],
   "source": [
    "anchor_pos_pairs = set()\n",
    "for anchor, pos in zip(triplets_df['anchor'], triplets_df['positive']):\n",
    "    anchor_pos_pairs.add(stringify_pair(anchor, pos))\n",
    "len(anchor_pos_pairs)"
   ]
  },
  {
   "cell_type": "code",
   "execution_count": null,
   "id": "d81796a7",
   "metadata": {},
   "outputs": [],
   "source": [
    "triplets_df[(triplets_df['anchor'] == 'zsuzsanna') | (triplets_df['positive'] == 'zsuzsanna')]"
   ]
  },
  {
   "cell_type": "code",
   "execution_count": null,
   "id": "05ce6ee1",
   "metadata": {},
   "outputs": [],
   "source": [
    "name = 'quass'\n",
    "triplets_df[(triplets_df['anchor'] == name) | (triplets_df['positive'] == name)]"
   ]
  },
  {
   "cell_type": "markdown",
   "id": "086d25ac",
   "metadata": {},
   "source": [
    "### Common names"
   ]
  },
  {
   "cell_type": "code",
   "execution_count": null,
   "id": "d65a172f",
   "metadata": {},
   "outputs": [],
   "source": [
    "pref_df = pd.read_csv(pref_path, keep_default_na=False)\n",
    "common_names = set([name for name in pref_df['name'][:num_common_names].tolist() \\\n",
    "                if len(name) > 1 and re.fullmatch(r'[a-z]+', name)])\n",
    "len(common_names)"
   ]
  },
  {
   "cell_type": "code",
   "execution_count": null,
   "id": "e3ff97ab",
   "metadata": {},
   "outputs": [],
   "source": [
    "next(iter(common_names))"
   ]
  },
  {
   "cell_type": "code",
   "execution_count": null,
   "id": "509814bf",
   "metadata": {},
   "outputs": [],
   "source": [
    "# zsuzsanna is the hungarian form of Susanna\n",
    "pref_df[pref_df['name'] == 'zsuzsanna']"
   ]
  },
  {
   "cell_type": "code",
   "execution_count": null,
   "id": "6a0f078e",
   "metadata": {},
   "outputs": [],
   "source": [
    "semi_common_names = set([name for name in pref_df['name'][:num_semi_common_names].tolist() \\\n",
    "                if len(name) > 1 and re.fullmatch(r'[a-z]+', name)])\n",
    "len(semi_common_names)"
   ]
  },
  {
   "cell_type": "markdown",
   "id": "82521c57",
   "metadata": {},
   "source": [
    "### Common non-negative pairs"
   ]
  },
  {
   "cell_type": "code",
   "execution_count": null,
   "id": "3dd2bb4f",
   "metadata": {},
   "outputs": [],
   "source": [
    "common_non_negatives_df = pd.read_csv(common_non_negatives_path, keep_default_na=False)\n",
    "common_non_negatives = set()\n",
    "for name1, name2 in common_non_negatives_df.values.tolist():\n",
    "    common_non_negatives.add((name1, name2))\n",
    "len(common_non_negatives)"
   ]
  },
  {
   "cell_type": "markdown",
   "id": "6d2ee5c0",
   "metadata": {},
   "source": [
    "## Analyze positive and negative score distributions"
   ]
  },
  {
   "cell_type": "code",
   "execution_count": null,
   "id": "bd8f235c",
   "metadata": {},
   "outputs": [],
   "source": [
    "save_df = triplets_df.copy()"
   ]
  },
  {
   "cell_type": "code",
   "execution_count": null,
   "id": "9b7765fa",
   "metadata": {},
   "outputs": [],
   "source": [
    "triplets_df = save_df.copy()"
   ]
  },
  {
   "cell_type": "code",
   "execution_count": null,
   "id": "39d8118a",
   "metadata": {},
   "outputs": [],
   "source": [
    "triplets_df[triplets_df['positive_score'] < triplets_df['negative_score']]"
   ]
  },
  {
   "cell_type": "code",
   "execution_count": null,
   "id": "f956f8d9",
   "metadata": {},
   "outputs": [],
   "source": [
    "triplets_df['margin'] = triplets_df['positive_score'] - triplets_df['negative_score']"
   ]
  },
  {
   "cell_type": "code",
   "execution_count": null,
   "id": "d93653a7",
   "metadata": {},
   "outputs": [],
   "source": [
    "triplets_df['positive_score'].hist(bins=20)"
   ]
  },
  {
   "cell_type": "code",
   "execution_count": null,
   "id": "b710c779",
   "metadata": {},
   "outputs": [],
   "source": [
    "triplets_df['negative_score'].hist(bins=20)"
   ]
  },
  {
   "cell_type": "code",
   "execution_count": null,
   "id": "b9e4270b",
   "metadata": {},
   "outputs": [],
   "source": [
    "triplets_df['margin'].hist(bins=20)"
   ]
  },
  {
   "cell_type": "code",
   "execution_count": null,
   "id": "7d4fa3ca",
   "metadata": {},
   "outputs": [],
   "source": [
    "triplets_df[(triplets_df['margin'] > 0.2)].head(20)"
   ]
  },
  {
   "cell_type": "markdown",
   "id": "1868de97",
   "metadata": {},
   "source": [
    "## Review common anchor-pos pairs"
   ]
  },
  {
   "cell_type": "code",
   "execution_count": null,
   "id": "48feadd6",
   "metadata": {},
   "outputs": [],
   "source": [
    "cnt = 0\n",
    "max_cnt = 500\n",
    "for anchor_pos_pair in anchor_pos_pairs:\n",
    "    anchor, pos = anchor_pos_pair.split(':')\n",
    "    if anchor in common_names and pos in common_names:\n",
    "        if cnt < max_cnt:\n",
    "            print(anchor, pos)\n",
    "        cnt += 1\n",
    "cnt"
   ]
  },
  {
   "cell_type": "markdown",
   "id": "b09c7c6c",
   "metadata": {},
   "source": [
    "## Review semi-common non-negatives that aren't represented in anchor-pos pairs\n",
    "\n",
    "**TODO:** We should ask someone to review these pairs and take out the non-non-negatives (non-matches), \n",
    "and then somehow add the remaining matches when we augment the triplets in notebook 207."
   ]
  },
  {
   "cell_type": "code",
   "execution_count": null,
   "id": "272af739",
   "metadata": {},
   "outputs": [],
   "source": [
    "cnt = 0\n",
    "max_cnt = 10000\n",
    "for name1, name2 in common_non_negatives:\n",
    "    if name1 in semi_common_names and name2 in semi_common_names and \\\n",
    "            stringify_pair(name1, name2) not in anchor_pos_pairs and \\\n",
    "            stringify_pair(name2, name1) not in anchor_pos_pairs:\n",
    "        if cnt < max_cnt:\n",
    "            print(f\"{name1} {name2}\")\n",
    "        cnt += 1\n",
    "cnt     "
   ]
  },
  {
   "cell_type": "markdown",
   "id": "072e5b2c",
   "metadata": {},
   "source": [
    "## Review anchor-pos pairs that aren't represented in common non-negatives"
   ]
  },
  {
   "cell_type": "code",
   "execution_count": null,
   "id": "3fe8f6d7",
   "metadata": {},
   "outputs": [],
   "source": [
    "cnt = 0\n",
    "for anchor, pos in zip(triplets_df['anchor'], triplets_df['positive']):\n",
    "    if anchor in common_names and pos in common_names and (anchor, pos) not in common_non_negatives:\n",
    "        if cnt < 1000:\n",
    "            print(anchor, pos)\n",
    "        cnt += 1\n",
    "cnt"
   ]
  },
  {
   "cell_type": "markdown",
   "id": "deaef7cd",
   "metadata": {},
   "source": [
    "## Review strange model errors"
   ]
  },
  {
   "cell_type": "code",
   "execution_count": null,
   "id": "9405ee57",
   "metadata": {},
   "outputs": [],
   "source": [
    "def find_pairs(name1, name2):\n",
    "    result = []\n",
    "    for anchor_pos_pair in anchor_pos_pairs:\n",
    "        anchor, pos = anchor_pos_pair.split(':')\n",
    "        if (anchor.startswith(name1) and pos.startswith(name2)) or \\\n",
    "                (anchor.startswith(name2) and pos.startswith(name1)):\n",
    "            result.append(anchor_pos_pair)\n",
    "    return result"
   ]
  },
  {
   "cell_type": "code",
   "execution_count": null,
   "id": "37ff2fb2",
   "metadata": {},
   "outputs": [],
   "source": [
    "# marie + annie\n",
    "find_pairs('mar', 'ann')"
   ]
  },
  {
   "cell_type": "code",
   "execution_count": null,
   "id": "cd7d2cd6",
   "metadata": {},
   "outputs": [],
   "source": [
    "# charles + frances\n",
    "find_pairs('charl', 'franc')"
   ]
  },
  {
   "cell_type": "code",
   "execution_count": null,
   "id": "f29fffac",
   "metadata": {},
   "outputs": [],
   "source": []
  },
  {
   "cell_type": "code",
   "execution_count": null,
   "id": "dc36f6c3",
   "metadata": {},
   "outputs": [],
   "source": []
  }
 ],
 "metadata": {
  "kernelspec": {
   "display_name": "nama",
   "language": "python",
   "name": "nama"
  },
  "language_info": {
   "codemirror_mode": {
    "name": "ipython",
    "version": 3
   },
   "file_extension": ".py",
   "mimetype": "text/x-python",
   "name": "python",
   "nbconvert_exporter": "python",
   "pygments_lexer": "ipython3",
   "version": "3.9.16"
  }
 },
 "nbformat": 4,
 "nbformat_minor": 5
}
