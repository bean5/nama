{
 "cells": [
  {
   "cell_type": "code",
   "execution_count": null,
   "id": "139bee68",
   "metadata": {},
   "outputs": [],
   "source": [
    "%load_ext autoreload\n",
    "%autoreload 2"
   ]
  },
  {
   "cell_type": "markdown",
   "id": "028823c5",
   "metadata": {},
   "source": [
    "# Generate common non-negatives\n",
    "\n",
    "Add existing standard, triplets, and nicknames to common non-negatives"
   ]
  },
  {
   "cell_type": "code",
   "execution_count": null,
   "id": "e0364890",
   "metadata": {},
   "outputs": [],
   "source": [
    "import re\n",
    "\n",
    "import pandas as pd\n",
    "from tqdm.auto import tqdm\n",
    "\n",
    "from src.data.utils import read_csv"
   ]
  },
  {
   "cell_type": "code",
   "execution_count": null,
   "id": "774de195",
   "metadata": {},
   "outputs": [],
   "source": [
    "given_surname = \"surname\"\n",
    "\n",
    "num_common_names = 10000\n",
    "\n",
    "pref_path = f\"s3://familysearch-names/processed/tree-preferred-{given_surname}-aggr.csv.gz\"\n",
    "std_path = f\"../references/std_{given_surname}.txt\"\n",
    "triplets_path=f\"../data/processed/tree-hr-{given_surname}-triplets-v2-1000.csv.gz\"\n",
    "given_nicknames_path = \"../references/givenname_nicknames.csv\"\n",
    "\n",
    "non_negatives_path = f\"../data/processed/common_{given_surname}_non_negatives.csv\""
   ]
  },
  {
   "cell_type": "markdown",
   "id": "e7c030b7",
   "metadata": {},
   "source": [
    "## Load data"
   ]
  },
  {
   "cell_type": "markdown",
   "id": "401ad99c",
   "metadata": {},
   "source": [
    "### read preferred names"
   ]
  },
  {
   "cell_type": "code",
   "execution_count": null,
   "id": "3606383a",
   "metadata": {},
   "outputs": [],
   "source": [
    "pref_df = read_csv(pref_path)\n",
    "common_names = set([name for name in pref_df['name'][:num_common_names].tolist() \\\n",
    "                if len(name) > 1 and re.fullmatch(r'[a-z]+', name)])\n",
    "len(common_names)"
   ]
  },
  {
   "cell_type": "markdown",
   "id": "2be4909b",
   "metadata": {},
   "source": [
    "## Start with FS buckets"
   ]
  },
  {
   "cell_type": "code",
   "execution_count": null,
   "id": "6a359ed7",
   "metadata": {},
   "outputs": [],
   "source": [
    "common_names_set = set(common_names)\n",
    "common_non_negatives = set()\n",
    "\n",
    "with open(std_path) as f:\n",
    "    for ix, line in enumerate(f.readlines()):\n",
    "        line = line.strip()\n",
    "        head_names, tail_names = line.split(':')\n",
    "        head_names = head_names.strip()\n",
    "        tail_names = tail_names.strip()\n",
    "        names = set()\n",
    "        if len(head_names):\n",
    "            names |= set(head_names.split(' '))\n",
    "        if len(tail_names):\n",
    "            names |= set(tail_names.split(' '))\n",
    "        names = [name for name in names if len(name) > 0]\n",
    "        for name1 in names:\n",
    "            if name1 not in common_names_set:\n",
    "                continue\n",
    "            for name2 in names:\n",
    "                if name2 not in common_names_set:\n",
    "                    continue\n",
    "                if name1 == name2:\n",
    "                    continue\n",
    "                common_non_negatives.add((name1, name2))\n",
    "print(len(common_non_negatives))"
   ]
  },
  {
   "cell_type": "markdown",
   "id": "2b26cb96",
   "metadata": {},
   "source": [
    "### add triplets"
   ]
  },
  {
   "cell_type": "code",
   "execution_count": null,
   "id": "8a5eb692",
   "metadata": {},
   "outputs": [],
   "source": [
    "triplets_df = pd.read_csv(triplets_path)\n",
    "print(len(triplets_df))\n",
    "triplets_df.head(3)"
   ]
  },
  {
   "cell_type": "code",
   "execution_count": null,
   "id": "538e50c4",
   "metadata": {},
   "outputs": [],
   "source": [
    "for anchor, pos, neg in zip(\n",
    "    triplets_df['anchor'], \n",
    "    triplets_df['positive'],\n",
    "    triplets_df['negative'],\n",
    "):\n",
    "    common_non_negatives.add((anchor, pos))\n",
    "    common_non_negatives.add((pos, anchor))\n",
    "    common_non_negatives.add((anchor, neg))\n",
    "    common_non_negatives.add((neg, anchor))\n",
    "len(common_non_negatives)"
   ]
  },
  {
   "cell_type": "markdown",
   "id": "b7d9ce98",
   "metadata": {},
   "source": [
    "### add given nicknames"
   ]
  },
  {
   "cell_type": "code",
   "execution_count": null,
   "id": "b7fe87dc",
   "metadata": {},
   "outputs": [],
   "source": [
    "if given_surname == \"given\":\n",
    "    with open(given_nicknames_path, \"rt\") as f:\n",
    "        for line in f.readlines():\n",
    "            names = line.split(',')\n",
    "            for name1 in names:\n",
    "                for name2 in names:\n",
    "                    if name1 > name2:\n",
    "                        common_non_negatives.add((name1, name2))\n",
    "                        common_non_negatives.add((name2, name1))\n",
    "len(common_non_negatives)"
   ]
  },
  {
   "cell_type": "markdown",
   "id": "e0df5a95",
   "metadata": {},
   "source": [
    "## Save common non-negatives"
   ]
  },
  {
   "cell_type": "code",
   "execution_count": null,
   "id": "efe649b2",
   "metadata": {},
   "outputs": [],
   "source": [
    "records = []\n",
    "for name1, name2 in common_non_negatives:\n",
    "    records.append({'name1': name1, 'name2': name2})\n",
    "df = pd.DataFrame(records)\n",
    "df.to_csv(non_negatives_path, index=False)"
   ]
  },
  {
   "cell_type": "code",
   "execution_count": null,
   "id": "4a0ac472",
   "metadata": {},
   "outputs": [],
   "source": []
  }
 ],
 "metadata": {
  "kernelspec": {
   "display_name": "nama",
   "language": "python",
   "name": "nama"
  },
  "language_info": {
   "codemirror_mode": {
    "name": "ipython",
    "version": 3
   },
   "file_extension": ".py",
   "mimetype": "text/x-python",
   "name": "python",
   "nbconvert_exporter": "python",
   "pygments_lexer": "ipython3",
   "version": "3.9.16"
  }
 },
 "nbformat": 4,
 "nbformat_minor": 5
}
