{
 "cells": [
  {
   "cell_type": "code",
   "execution_count": null,
   "id": "8837d91e",
   "metadata": {},
   "outputs": [],
   "source": [
    "%load_ext autoreload\n",
    "%autoreload 2"
   ]
  },
  {
   "cell_type": "markdown",
   "id": "8622d4a1",
   "metadata": {},
   "source": [
    "# Compute Frequency-based Precision & Recall for various codes"
   ]
  },
  {
   "cell_type": "code",
   "execution_count": null,
   "id": "1f94d97f",
   "metadata": {},
   "outputs": [],
   "source": [
    "from collections import defaultdict\n",
    "\n",
    "import boto3\n",
    "import jellyfish\n",
    "import pandas as pd\n",
    "from py4j.java_gateway import JavaGateway\n",
    "from tqdm.autonotebook import tqdm\n",
    "\n",
    "from src.eval.freq_metrics import calc_avg_precision_recall"
   ]
  },
  {
   "cell_type": "code",
   "execution_count": null,
   "id": "c63a44a1",
   "metadata": {},
   "outputs": [],
   "source": [
    "given_surname = \"surname\"\n",
    "n_to_cluster = 200000\n",
    "cluster_threshold = 0.1\n",
    "\n",
    "train_path = f\"s3://familysearch-names/processed/tree-hr-{given_surname}-train-v2.csv.gz\"\n",
    "test_path = f\"s3://familysearch-names/processed/tree-hr-{given_surname}-test-v2.csv.gz\"\n",
    "query_path = f\"s3://familysearch-names/processed/query-names-{given_surname}-v2.csv.gz\"\n",
    "\n",
    "cluster_path = f\"s3://nama-data/data/models/fs-{given_surname}-cluster-names-{n_to_cluster}-{cluster_threshold}.csv\"\n",
    "\n",
    "nickname_bucket = \"familysearch-names\"\n",
    "nickname_path = \"processed/givenname_nicknames.csv\""
   ]
  },
  {
   "cell_type": "markdown",
   "id": "a1e362a2",
   "metadata": {},
   "source": [
    "## Read data"
   ]
  },
  {
   "cell_type": "code",
   "execution_count": null,
   "id": "bb546c0f",
   "metadata": {},
   "outputs": [],
   "source": [
    "train_df = pd.read_csv(train_path, keep_default_na=False)\n",
    "print(train_df.shape)\n",
    "train_df.head(3)"
   ]
  },
  {
   "cell_type": "code",
   "execution_count": null,
   "id": "89c537b5",
   "metadata": {},
   "outputs": [],
   "source": [
    "test_df = pd.read_csv(test_path, keep_default_na=False)\n",
    "print(test_df.shape)\n",
    "test_df.head(3)"
   ]
  },
  {
   "cell_type": "code",
   "execution_count": null,
   "id": "97e2110c",
   "metadata": {},
   "outputs": [],
   "source": [
    "query_names = pd.read_csv(query_path, keep_default_na=False)[\"name\"].tolist()\n",
    "print(len(query_names))\n",
    "query_names[0:3]"
   ]
  },
  {
   "cell_type": "markdown",
   "id": "afa50fff",
   "metadata": {},
   "source": [
    "### Read Nama Clusters"
   ]
  },
  {
   "cell_type": "code",
   "execution_count": null,
   "id": "0ae4b452",
   "metadata": {},
   "outputs": [],
   "source": [
    "df = pd.read_csv(cluster_path, na_filter=False)\n",
    "print(len(df))\n",
    "df.head(3)"
   ]
  },
  {
   "cell_type": "code",
   "execution_count": null,
   "id": "7b7b6626",
   "metadata": {},
   "outputs": [],
   "source": [
    "nama_name2clusters = defaultdict(set)\n",
    "clusters = set()\n",
    "for name, cluster in zip(df['name'], df['cluster']):\n",
    "    nama_name2clusters[name].add(cluster)\n",
    "    clusters.add(cluster)\n",
    "    \n",
    "print(len(nama_name2clusters))\n",
    "print(len(clusters))\n",
    "nama_name2clusters['ronald']"
   ]
  },
  {
   "cell_type": "markdown",
   "id": "a52bb231",
   "metadata": {},
   "source": [
    "### Read Nicknames"
   ]
  },
  {
   "cell_type": "code",
   "execution_count": null,
   "id": "f719eb98",
   "metadata": {},
   "outputs": [],
   "source": [
    "s3 = boto3.resource('s3')\n",
    "\n",
    "nama_nicknames = defaultdict(set)\n",
    "if given_surname == \"given\":\n",
    "    obj = s3.Object(nickname_bucket, nickname_path)\n",
    "    contents = obj.get()['Body'].read().decode('utf-8')\n",
    "    for ix, line in enumerate(contents.split('\\n')):\n",
    "        line = line.strip()\n",
    "        names = line.split(',')\n",
    "        headname = names[0]\n",
    "        for name in names[1:]:\n",
    "            if name != headname:\n",
    "                nama_nicknames[name].add(headname)\n",
    "print(len(nama_nicknames))\n",
    "nama_nicknames['zachery']"
   ]
  },
  {
   "cell_type": "markdown",
   "id": "37c1ec13",
   "metadata": {},
   "source": [
    "## Compute codes"
   ]
  },
  {
   "cell_type": "code",
   "execution_count": null,
   "id": "2c403939",
   "metadata": {},
   "outputs": [],
   "source": [
    "gateway = JavaGateway()"
   ]
  },
  {
   "cell_type": "code",
   "execution_count": null,
   "id": "369f7671",
   "metadata": {},
   "outputs": [],
   "source": [
    "def get_identity(names):\n",
    "    name2codes = defaultdict(set)\n",
    "    code2names = defaultdict(set)\n",
    "    for name in names:\n",
    "        code = name\n",
    "        name2codes[name].add(code)\n",
    "        code2names[code].add(name)\n",
    "    return name2codes, code2names\n",
    "\n",
    "def get_nysiis(names):\n",
    "    name2codes = defaultdict(set)\n",
    "    code2names = defaultdict(set)\n",
    "    for name in names:\n",
    "        code = jellyfish.nysiis(name)\n",
    "        name2codes[name].add(code)\n",
    "        code2names[code].add(name)\n",
    "    return name2codes, code2names\n",
    "\n",
    "def get_soundex(names):\n",
    "    name2codes = defaultdict(set)\n",
    "    code2names = defaultdict(set)\n",
    "    for name in names:\n",
    "        code = jellyfish.soundex(name)\n",
    "        name2codes[name].add(code)\n",
    "        code2names[code].add(name)\n",
    "    return name2codes, code2names\n",
    "\n",
    "def get_fs(names):\n",
    "    name2codes = defaultdict(set)\n",
    "    code2names = defaultdict(set)\n",
    "    for name in tqdm(names):\n",
    "        result = gateway.getClusters(name, given_surname == \"surname\")\n",
    "        for code in result.split(','):\n",
    "            name2codes[name].add(code)\n",
    "            code2names[code].add(name)\n",
    "    return name2codes, code2names   \n",
    "\n",
    "def get_fs_soundex(names):\n",
    "    name2codes = defaultdict(set)\n",
    "    code2names = defaultdict(set)\n",
    "    for name in tqdm(names):\n",
    "        result = gateway.getClustersUsingSoundex(name, given_surname == \"surname\")\n",
    "        codes = result.split(',')\n",
    "        for code in codes:\n",
    "            name2codes[name].add(code)\n",
    "            if len(codes) > 1 and code.startswith(\"_\"):\n",
    "                # if this name is associated with multiple clusters, \n",
    "                # and this cluster is a soundex code, \n",
    "                # then don't associate this name with this soundex cluster,\n",
    "                # because it is already associated (indexed) under another cluster\n",
    "                continue\n",
    "            code2names[code].add(name)\n",
    "    return name2codes, code2names\n",
    "\n",
    "def get_fs_nysiis(names):\n",
    "    name2codes = defaultdict(set)\n",
    "    code2names = defaultdict(set)\n",
    "    for name in tqdm(names):\n",
    "        result = gateway.getClustersUsingNysiis(name, given_surname == \"surname\")\n",
    "        codes = result.split(',')\n",
    "        for code in codes:\n",
    "            name2codes[name].add(code)\n",
    "            if len(codes) > 1 and code.startswith(\"_\"):\n",
    "                # if this name is associated with multiple clusters, \n",
    "                # and this cluster is a nysiis code, \n",
    "                # then don't associate this name with this nysiis cluster,\n",
    "                # because it is already associated (indexed) under another cluster\n",
    "                continue\n",
    "            code2names[code].add(name)\n",
    "    return name2codes, code2names\n",
    "\n",
    "def _get_nama_standards(name):\n",
    "    standards = set()\n",
    "    lookups = set([name])\n",
    "    if given_surname == \"given\" and name in nama_nicknames:\n",
    "        lookups.update(nama_nicknames[name])\n",
    "    for lookup in lookups:\n",
    "        if lookup in nama_name2clusters:\n",
    "            standards.update(nama_name2clusters[lookup])\n",
    "    return standards\n",
    "\n",
    "def get_nama_soundex(names):\n",
    "    name2codes = defaultdict(set)\n",
    "    code2names = defaultdict(set)\n",
    "    for name in tqdm(names):\n",
    "        codes = _get_nama_standards(name)\n",
    "        for code in codes:\n",
    "            name2codes[name].add(code)\n",
    "            code2names[code].add(name)\n",
    "        code = jellyfish.soundex(name)\n",
    "        # always query soundex code\n",
    "        # name2codes simulates query: given a name, what codes to lookup\n",
    "        name2codes[name].add(code)\n",
    "        # add name to soundex bucket only if it isn't in another bucket\n",
    "        # code2names simulates an index lookup: given code, what names are indexed with that code\n",
    "        if len(codes) == 0:\n",
    "            code2names[code].add(name)\n",
    "    return name2codes, code2names\n",
    "\n",
    "def get_nama_nysiis(names):\n",
    "    name2codes = defaultdict(set)\n",
    "    code2names = defaultdict(set)\n",
    "    for name in tqdm(names):\n",
    "        codes = _get_nama_standards(name)\n",
    "        for code in codes:\n",
    "            name2codes[name].add(code)\n",
    "            code2names[code].add(name)\n",
    "        code = jellyfish.nysiis(name)\n",
    "        # always query nysiis code\n",
    "        # name2codes simulates query: given a name, what codes to lookup\n",
    "        name2codes[name].add(code)\n",
    "        # add name to nysiis bucket only if it isn't in another bucket\n",
    "        # code2names simulates an index lookup: given code, what names are indexed with that code\n",
    "        if len(codes) == 0:\n",
    "            code2names[code].add(name)\n",
    "    return name2codes, code2names"
   ]
  },
  {
   "cell_type": "code",
   "execution_count": null,
   "id": "9a05d1e5",
   "metadata": {},
   "outputs": [],
   "source": [
    "get_nama_soundex(['john', 'dallan', 'johnny', 'elizabeth', 'quass'])"
   ]
  },
  {
   "cell_type": "markdown",
   "id": "5fec3e6e",
   "metadata": {},
   "source": [
    "# Compute Precision and Recall on Train"
   ]
  },
  {
   "cell_type": "markdown",
   "id": "0af34be9",
   "metadata": {},
   "source": [
    "## Identity"
   ]
  },
  {
   "cell_type": "code",
   "execution_count": null,
   "id": "cd34e706",
   "metadata": {},
   "outputs": [],
   "source": [
    "df = train_df\n",
    "name2codes, code2names = get_identity(set(df[\"tree_name\"]) | set(df[\"record_name\"]))\n",
    "precision, recall, f1, f2 = calc_avg_precision_recall(query_names, name2codes, code2names, df)\n",
    "print(f\"precision={precision}, recall={recall} f1={f1} f2={f2}\")"
   ]
  },
  {
   "cell_type": "markdown",
   "id": "19e59ddd",
   "metadata": {},
   "source": [
    "## NYSIIS"
   ]
  },
  {
   "cell_type": "code",
   "execution_count": null,
   "id": "f45be30b",
   "metadata": {},
   "outputs": [],
   "source": [
    "df = train_df\n",
    "name2codes, code2names = get_nysiis(set(df[\"tree_name\"]) | set(df[\"record_name\"]))\n",
    "precision, recall, f1, f2 = calc_avg_precision_recall(query_names, name2codes, code2names, df)\n",
    "print(f\"precision={precision}, recall={recall} f1={f1} f2={f2}\")"
   ]
  },
  {
   "cell_type": "markdown",
   "id": "2252f507",
   "metadata": {},
   "source": [
    "## Soundex"
   ]
  },
  {
   "cell_type": "code",
   "execution_count": null,
   "id": "c292fce8",
   "metadata": {},
   "outputs": [],
   "source": [
    "df = train_df\n",
    "name2codes, code2names = get_soundex(set(df[\"tree_name\"]) | set(df[\"record_name\"]))\n",
    "precision, recall, f1, f2 = calc_avg_precision_recall(query_names, name2codes, code2names, df)\n",
    "print(f\"precision={precision}, recall={recall} f1={f1} f2={f2}\")"
   ]
  },
  {
   "cell_type": "markdown",
   "id": "71482de8",
   "metadata": {},
   "source": [
    "## Nama-Soundex"
   ]
  },
  {
   "cell_type": "code",
   "execution_count": null,
   "id": "6ce4792a",
   "metadata": {},
   "outputs": [],
   "source": [
    "df = train_df\n",
    "name2codes, code2names = get_nama_soundex(set(df[\"tree_name\"]) | set(df[\"record_name\"]))\n",
    "precision, recall, f1, f2 = calc_avg_precision_recall(query_names, name2codes, code2names, df)\n",
    "print(f\"precision={precision}, recall={recall} f1={f1} f2={f2}\")"
   ]
  },
  {
   "cell_type": "markdown",
   "id": "411f0833",
   "metadata": {},
   "source": [
    "## Nama-NYSIIS"
   ]
  },
  {
   "cell_type": "code",
   "execution_count": null,
   "id": "39ff1363",
   "metadata": {},
   "outputs": [],
   "source": [
    "df = train_df\n",
    "name2codes, code2names = get_nama_nysiis(set(df[\"tree_name\"]) | set(df[\"record_name\"]))\n",
    "precision, recall, f1, f2 = calc_avg_precision_recall(query_names, name2codes, code2names, df)\n",
    "print(f\"precision={precision}, recall={recall} f1={f1} f2={f2}\")"
   ]
  },
  {
   "cell_type": "markdown",
   "id": "e701ad25",
   "metadata": {},
   "source": [
    "## FS-Soundex"
   ]
  },
  {
   "cell_type": "code",
   "execution_count": null,
   "id": "4751e759",
   "metadata": {},
   "outputs": [],
   "source": [
    "df = train_df\n",
    "name2codes, code2names = get_fs_soundex(set(df[\"tree_name\"]) | set(df[\"record_name\"]))\n",
    "precision, recall, f1, f2 = calc_avg_precision_recall(query_names, name2codes, code2names, df)\n",
    "print(f\"precision={precision}, recall={recall} f1={f1} f2={f2}\")"
   ]
  },
  {
   "cell_type": "markdown",
   "id": "bdb15c66",
   "metadata": {},
   "source": [
    "## FS-NYSIIS"
   ]
  },
  {
   "cell_type": "code",
   "execution_count": null,
   "id": "09a25355",
   "metadata": {},
   "outputs": [],
   "source": [
    "df = train_df\n",
    "name2codes, code2names = get_fs_nysiis(set(df[\"tree_name\"]) | set(df[\"record_name\"]))\n",
    "precision, recall, f1, f2 = calc_avg_precision_recall(query_names, name2codes, code2names, df)\n",
    "print(f\"precision={precision}, recall={recall} f1={f1} f2={f2}\")"
   ]
  },
  {
   "cell_type": "markdown",
   "id": "e53dc55c",
   "metadata": {},
   "source": [
    "## FS"
   ]
  },
  {
   "cell_type": "code",
   "execution_count": null,
   "id": "42cf5510",
   "metadata": {},
   "outputs": [],
   "source": [
    "df = train_df\n",
    "name2codes, code2names = get_fs(set(df[\"tree_name\"]) | set(df[\"record_name\"]))\n",
    "precision, recall, f1, f2 = calc_avg_precision_recall(query_names, name2codes, code2names, df)\n",
    "print(f\"precision={precision}, recall={recall} f1={f1} f2={f2}\")"
   ]
  },
  {
   "cell_type": "markdown",
   "id": "f0446168",
   "metadata": {},
   "source": [
    "# Compute Precision and Recall on Train and Test"
   ]
  },
  {
   "cell_type": "markdown",
   "id": "7a316e54",
   "metadata": {},
   "source": [
    "## Identity"
   ]
  },
  {
   "cell_type": "code",
   "execution_count": null,
   "id": "58e292c2",
   "metadata": {},
   "outputs": [],
   "source": [
    "df = pd.concat([train_df, test_df], ignore_index=True)\n",
    "name2codes, code2names = get_identity(set(df[\"tree_name\"]) | set(df[\"record_name\"]))\n",
    "precision, recall, f1, f2 = calc_avg_precision_recall(query_names, name2codes, code2names, df)\n",
    "print(f\"precision={precision}, recall={recall} f1={f1} f2={f2}\")"
   ]
  },
  {
   "cell_type": "markdown",
   "id": "6d002996",
   "metadata": {},
   "source": [
    "## NYSIIS"
   ]
  },
  {
   "cell_type": "code",
   "execution_count": null,
   "id": "a7463c63",
   "metadata": {},
   "outputs": [],
   "source": [
    "df = pd.concat([train_df, test_df], ignore_index=True)\n",
    "name2codes, code2names = get_nysiis(set(df[\"tree_name\"]) | set(df[\"record_name\"]))\n",
    "precision, recall, f1, f2 = calc_avg_precision_recall(query_names, name2codes, code2names, df)\n",
    "print(f\"precision={precision}, recall={recall} f1={f1} f2={f2}\")"
   ]
  },
  {
   "cell_type": "markdown",
   "id": "3be55e0e",
   "metadata": {},
   "source": [
    "## Soundex"
   ]
  },
  {
   "cell_type": "code",
   "execution_count": null,
   "id": "3bde5656",
   "metadata": {},
   "outputs": [],
   "source": [
    "df = pd.concat([train_df, test_df], ignore_index=True)\n",
    "name2codes, code2names = get_soundex(set(df[\"tree_name\"]) | set(df[\"record_name\"]))\n",
    "precision, recall, f1, f2 = calc_avg_precision_recall(query_names, name2codes, code2names, df)\n",
    "print(f\"precision={precision}, recall={recall} f1={f1} f2={f2}\")"
   ]
  },
  {
   "cell_type": "markdown",
   "id": "9fda8ee2",
   "metadata": {},
   "source": [
    "## Nama-Soundex"
   ]
  },
  {
   "cell_type": "code",
   "execution_count": null,
   "id": "31068e7b",
   "metadata": {},
   "outputs": [],
   "source": [
    "df = pd.concat([train_df, test_df], ignore_index=True)\n",
    "name2codes, code2names = get_nama_soundex(set(df[\"tree_name\"]) | set(df[\"record_name\"]))\n",
    "precision, recall, f1, f2 = calc_avg_precision_recall(query_names, name2codes, code2names, df)\n",
    "print(f\"precision={precision}, recall={recall} f1={f1} f2={f2}\")"
   ]
  },
  {
   "cell_type": "markdown",
   "id": "7251eb9d",
   "metadata": {},
   "source": [
    "## Nama-NYSIIS"
   ]
  },
  {
   "cell_type": "code",
   "execution_count": null,
   "id": "19e34cf4",
   "metadata": {},
   "outputs": [],
   "source": [
    "df = pd.concat([train_df, test_df], ignore_index=True)\n",
    "name2codes, code2names = get_nama_nysiis(set(df[\"tree_name\"]) | set(df[\"record_name\"]))\n",
    "precision, recall, f1, f2 = calc_avg_precision_recall(query_names, name2codes, code2names, df)\n",
    "print(f\"precision={precision}, recall={recall} f1={f1} f2={f2}\")"
   ]
  },
  {
   "cell_type": "markdown",
   "id": "2e09e0fa",
   "metadata": {},
   "source": [
    "## FS-Soundex"
   ]
  },
  {
   "cell_type": "code",
   "execution_count": null,
   "id": "f1eed810",
   "metadata": {},
   "outputs": [],
   "source": [
    "df = pd.concat([train_df, test_df], ignore_index=True)\n",
    "name2codes, code2names = get_fs_soundex(set(df[\"tree_name\"]) | set(df[\"record_name\"]))\n",
    "precision, recall, f1, f2 = calc_avg_precision_recall(query_names, name2codes, code2names, df)\n",
    "print(f\"precision={precision}, recall={recall} f1={f1} f2={f2}\")"
   ]
  },
  {
   "cell_type": "markdown",
   "id": "9496b560",
   "metadata": {},
   "source": [
    "## FS-NYSIIS"
   ]
  },
  {
   "cell_type": "code",
   "execution_count": null,
   "id": "8694e8c0",
   "metadata": {},
   "outputs": [],
   "source": [
    "df = pd.concat([train_df, test_df], ignore_index=True)\n",
    "name2codes, code2names = get_fs_nysiis(set(df[\"tree_name\"]) | set(df[\"record_name\"]))\n",
    "precision, recall, f1, f2 = calc_avg_precision_recall(query_names, name2codes, code2names, df)\n",
    "print(f\"precision={precision}, recall={recall} f1={f1} f2={f2}\")"
   ]
  },
  {
   "cell_type": "markdown",
   "id": "595c6f5e",
   "metadata": {},
   "source": [
    "## FS"
   ]
  },
  {
   "cell_type": "code",
   "execution_count": null,
   "id": "b17e05ae",
   "metadata": {},
   "outputs": [],
   "source": [
    "df = pd.concat([train_df, test_df], ignore_index=True)\n",
    "name2codes, code2names = get_fs(set(df[\"tree_name\"]) | set(df[\"record_name\"]))\n",
    "precision, recall, f1, f2 = calc_avg_precision_recall(query_names, name2codes, code2names, df)\n",
    "print(f\"precision={precision}, recall={recall} f1={f1} f2={f2}\")"
   ]
  },
  {
   "cell_type": "code",
   "execution_count": null,
   "id": "f1b275dc",
   "metadata": {},
   "outputs": [],
   "source": []
  }
 ],
 "metadata": {
  "kernelspec": {
   "display_name": "nama",
   "language": "python",
   "name": "nama"
  },
  "language_info": {
   "codemirror_mode": {
    "name": "ipython",
    "version": 3
   },
   "file_extension": ".py",
   "mimetype": "text/x-python",
   "name": "python",
   "nbconvert_exporter": "python",
   "pygments_lexer": "ipython3",
   "version": "3.8.12"
  }
 },
 "nbformat": 4,
 "nbformat_minor": 5
}
