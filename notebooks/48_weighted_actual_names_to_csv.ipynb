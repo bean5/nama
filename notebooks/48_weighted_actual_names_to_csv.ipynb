{
 "cells": [
  {
   "cell_type": "code",
   "execution_count": null,
   "metadata": {
    "pycharm": {
     "name": "#%%\n"
    }
   },
   "outputs": [],
   "source": [
    "%load_ext autoreload\n",
    "%autoreload 2"
   ]
  },
  {
   "cell_type": "markdown",
   "metadata": {
    "pycharm": {
     "name": "#%% md\n"
    }
   },
   "source": [
    "# Write weighted-actual name pairs for human review"
   ]
  },
  {
   "cell_type": "code",
   "execution_count": null,
   "metadata": {
    "pycharm": {
     "name": "#%%\n"
    }
   },
   "outputs": [],
   "source": [
    "from src.data.filesystem import fopen\n",
    "from src.data.utils import load_datasets, select_frequent_k\n",
    "from src.models.utils import remove_padding"
   ]
  },
  {
   "cell_type": "code",
   "execution_count": null,
   "metadata": {
    "pycharm": {
     "name": "#%%\n"
    }
   },
   "outputs": [],
   "source": [
    "given_surname = \"given\"\n",
    "size = 200000\n",
    "train_path=f\"s3://familysearch-names/processed/tree-hr-{given_surname}-train.csv.gz\"\n",
    "test_path=f\"s3://familysearch-names/processed/tree-hr-{given_surname}-test.csv.gz\"\n",
    "train_path_csv=f\"s3://familysearch-names/processed/tree-hr-{given_surname}-train-{size}-weighted-actuals.csv\"\n",
    "test_path_csv=f\"s3://familysearch-names/processed/tree-hr-{given_surname}-test-weighted-actuals.csv\""
   ]
  },
  {
   "cell_type": "code",
   "execution_count": null,
   "metadata": {
    "pycharm": {
     "name": "#%%\n"
    }
   },
   "outputs": [],
   "source": [
    "[train, test] = load_datasets([train_path, test_path])"
   ]
  },
  {
   "cell_type": "code",
   "execution_count": null,
   "metadata": {
    "pycharm": {
     "name": "#%%\n"
    }
   },
   "outputs": [],
   "source": [
    "input_names_train, weighted_actual_names_train, candidate_names_train = train\n",
    "input_names_test, weighted_actual_names_test, candidate_names_test = test"
   ]
  },
  {
   "cell_type": "code",
   "execution_count": null,
   "metadata": {
    "pycharm": {
     "name": "#%%\n"
    }
   },
   "outputs": [],
   "source": [
    "input_names_train, weighted_actual_names_train, candidate_names_train = \\\n",
    "    select_frequent_k(input_names_train,\n",
    "                      weighted_actual_names_train,\n",
    "                      candidate_names_train,\n",
    "                      size)"
   ]
  },
  {
   "cell_type": "code",
   "execution_count": null,
   "metadata": {
    "pycharm": {
     "name": "#%%\n"
    }
   },
   "outputs": [],
   "source": [
    "def write_csv(input_names, weighted_actual_names, path):\n",
    "    lines = []\n",
    "    for input_name, wans in zip(input_names, weighted_actual_names):\n",
    "        # names don't have commas, so we can do this\n",
    "        wans = \",\".join([f\"{remove_padding(name)}|{weight}\" for name, weight, _ in wans])\n",
    "        line = f\"{remove_padding(input_name)},{wans}\"\n",
    "        lines.append(line)\n",
    "    with fopen(path, \"wt\", encoding=\"utf-8\") as f:\n",
    "        f.write(\"\\n\".join(lines))"
   ]
  },
  {
   "cell_type": "code",
   "execution_count": null,
   "metadata": {
    "pycharm": {
     "name": "#%%\n"
    }
   },
   "outputs": [],
   "source": [
    "write_csv(input_names_train, weighted_actual_names_train, train_path_csv)"
   ]
  },
  {
   "cell_type": "code",
   "execution_count": null,
   "metadata": {
    "pycharm": {
     "name": "#%%\n"
    }
   },
   "outputs": [],
   "source": [
    "write_csv(input_names_test, weighted_actual_names_test, test_path_csv)"
   ]
  },
  {
   "cell_type": "code",
   "execution_count": null,
   "metadata": {
    "pycharm": {
     "name": "#%%\n"
    }
   },
   "outputs": [],
   "source": []
  }
 ],
 "metadata": {
  "kernelspec": {
   "display_name": "Python 3 (ipykernel)",
   "language": "python",
   "name": "python3"
  },
  "language_info": {
   "codemirror_mode": {
    "name": "ipython",
    "version": 3
   },
   "file_extension": ".py",
   "mimetype": "text/x-python",
   "name": "python",
   "nbconvert_exporter": "python",
   "pygments_lexer": "ipython3",
   "version": "3.9.16"
  }
 },
 "nbformat": 4,
 "nbformat_minor": 1
}
