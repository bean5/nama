{
 "cells": [
  {
   "cell_type": "code",
   "execution_count": null,
   "metadata": {},
   "outputs": [],
   "source": [
    "%load_ext autoreload\n",
    "%autoreload 2"
   ]
  },
  {
   "cell_type": "markdown",
   "metadata": {},
   "source": [
    "# Aggregate pairs and compute probabilities and similarities"
   ]
  },
  {
   "cell_type": "code",
   "execution_count": null,
   "metadata": {},
   "outputs": [],
   "source": [
    "from os.path import join\n",
    "\n",
    "from mpire import WorkerPool\n",
    "import pandas as pd\n",
    "from pandarallel import pandarallel\n",
    "\n",
    "from src.data.filesystem import glob\n",
    "from src.data.match import levenshtein_similarity"
   ]
  },
  {
   "cell_type": "code",
   "execution_count": null,
   "metadata": {},
   "outputs": [],
   "source": [
    "in_path = \"s3://familysearch-names/interim/tree-hr-given-pairs/\"\n",
    "out_path = \"s3://familysearch-names/interim/tree-hr-given-aggr.parquet\""
   ]
  },
  {
   "cell_type": "code",
   "execution_count": null,
   "metadata": {},
   "outputs": [],
   "source": [
    "# read input files into dataframe array\n",
    "with WorkerPool() as pool:\n",
    "    dfs = pool.map(pd.read_parquet, glob(join(in_path, \"part-*\")), progress_bar=True)\n",
    "print(len(dfs))"
   ]
  },
  {
   "cell_type": "code",
   "execution_count": null,
   "metadata": {
    "pycharm": {
     "name": "#%%\n"
    }
   },
   "outputs": [],
   "source": [
    "df = pd.concat(dfs)\n",
    "del dfs\n",
    "print(df.shape)\n",
    "print(df)"
   ]
  },
  {
   "cell_type": "code",
   "execution_count": null,
   "metadata": {},
   "outputs": [],
   "source": [
    "# group by name and alt name and calculate frequency\n",
    "df[\"frequency\"] = 1\n",
    "grouped = df.groupby([\"name\", \"alt_name\"]).sum().reset_index()\n",
    "del df\n",
    "print(grouped.shape)"
   ]
  },
  {
   "cell_type": "markdown",
   "metadata": {},
   "source": [
    "## Calculate ordered and unordered probabilities"
   ]
  },
  {
   "cell_type": "code",
   "execution_count": null,
   "metadata": {},
   "outputs": [],
   "source": [
    "# sum frequency by name\n",
    "sum_name_freq = (\n",
    "    grouped.groupby(\"name\")\n",
    "    .sum()\n",
    "    .reset_index()\n",
    "    .rename(columns={\"frequency\": \"sum_frequency\"})\n",
    ")"
   ]
  },
  {
   "cell_type": "code",
   "execution_count": null,
   "metadata": {},
   "outputs": [],
   "source": [
    "# sum frequency by alt_name\n",
    "sum_alt_name_freq = (\n",
    "    grouped.groupby(\"alt_name\")\n",
    "    .sum()\n",
    "    .reset_index()\n",
    "    .rename(columns={\"alt_name\": \"name\", \"frequency\": \"sum_frequency\"})\n",
    ")"
   ]
  },
  {
   "cell_type": "code",
   "execution_count": null,
   "metadata": {},
   "outputs": [],
   "source": [
    "# total frequency for name or alt_name\n",
    "total_name_freq = (\n",
    "    pd.concat([sum_name_freq, sum_alt_name_freq]).groupby(\"name\").sum().reset_index()\n",
    ")"
   ]
  },
  {
   "cell_type": "code",
   "execution_count": null,
   "metadata": {},
   "outputs": [],
   "source": [
    "# include reverse name-alt_name frequency\n",
    "grouped = (\n",
    "    pd.merge(\n",
    "        grouped,\n",
    "        grouped,\n",
    "        how=\"left\",\n",
    "        left_on=[\"name\", \"alt_name\"],\n",
    "        right_on=[\"alt_name\", \"name\"],\n",
    "        suffixes=(\"\", \"_ignore\"),\n",
    "    )\n",
    "    .drop(columns=[\"name_ignore\", \"alt_name_ignore\"])\n",
    "    .rename(columns={\"frequency_ignore\": \"reverse_frequency\"})\n",
    "    .reset_index(drop=True)\n",
    "    .fillna(0)\n",
    ")"
   ]
  },
  {
   "cell_type": "code",
   "execution_count": null,
   "metadata": {},
   "outputs": [],
   "source": [
    "# include sum frequency for name\n",
    "grouped = (\n",
    "    pd.merge(grouped, sum_name_freq, how=\"inner\", on=\"name\")\n",
    "    .rename(columns={\"sum_frequency\": \"sum_name_frequency\"})\n",
    "    .reset_index(drop=True)\n",
    ")"
   ]
  },
  {
   "cell_type": "code",
   "execution_count": null,
   "metadata": {},
   "outputs": [],
   "source": [
    "# include total name frequency\n",
    "grouped = (\n",
    "    pd.merge(grouped, total_name_freq, how=\"inner\", on=\"name\")\n",
    "    .rename(columns={\"sum_frequency\": \"total_name_frequency\"})\n",
    "    .reset_index(drop=True)\n",
    ")"
   ]
  },
  {
   "cell_type": "code",
   "execution_count": null,
   "metadata": {},
   "outputs": [],
   "source": [
    "# include total alt name frequency\n",
    "grouped = (\n",
    "    pd.merge(\n",
    "        grouped,\n",
    "        total_name_freq.rename(columns={\"name\": \"alt_name\"}),\n",
    "        how=\"inner\",\n",
    "        on=\"alt_name\",\n",
    "    )\n",
    "    .rename(columns={\"sum_frequency\": \"total_alt_name_frequency\"})\n",
    "    .reset_index(drop=True)\n",
    ")"
   ]
  },
  {
   "cell_type": "code",
   "execution_count": null,
   "metadata": {},
   "outputs": [],
   "source": [
    "# ordered probability = frequency / sum frequency for name\n",
    "grouped[\"ordered_prob\"] = grouped[\"frequency\"] / grouped[\"sum_name_frequency\"]"
   ]
  },
  {
   "cell_type": "code",
   "execution_count": null,
   "metadata": {},
   "outputs": [],
   "source": [
    "# unordered probability = frequency + reverse frequency / total number of times name and alt_name appear anywhere\n",
    "#   which is total name frequency + total alt name frequency, but then we've double-counted the times they appear together,\n",
    "#   so we need to subtract frequency + reverse frequency from the denominator\n",
    "grouped[\"unordered_prob\"] = (grouped[\"frequency\"] + grouped[\"reverse_frequency\"]) / (\n",
    "    grouped[\"total_name_frequency\"]\n",
    "    + grouped[\"total_alt_name_frequency\"]\n",
    "    - (grouped[\"frequency\"] + grouped[\"reverse_frequency\"])\n",
    ")"
   ]
  },
  {
   "cell_type": "code",
   "execution_count": null,
   "metadata": {},
   "outputs": [],
   "source": [
    "# calculate levenshtein similarity\n",
    "pandarallel.initialize(progress_bar=True)\n",
    "grouped[\"similarity\"] = grouped.parallel_apply(lambda row: levenshtein_similarity(row[\"name\"], row[\"alt_name\"]), axis=1)"
   ]
  },
  {
   "cell_type": "code",
   "execution_count": null,
   "metadata": {},
   "outputs": [],
   "source": [
    "# downgrade types to save space\n",
    "grouped = grouped.astype(\n",
    "    {\n",
    "        \"frequency\": \"int32\",\n",
    "        \"reverse_frequency\": \"int32\",\n",
    "        \"sum_name_frequency\": \"int32\",\n",
    "        \"total_name_frequency\": \"int32\",\n",
    "        \"total_alt_name_frequency\": \"int32\",\n",
    "        \"ordered_prob\": \"float32\",\n",
    "        \"unordered_prob\": \"float32\",\n",
    "        \"similarity\": \"float32\",\n",
    "    }\n",
    ")"
   ]
  },
  {
   "cell_type": "code",
   "execution_count": null,
   "metadata": {},
   "outputs": [],
   "source": [
    "# write to parquet\n",
    "grouped.to_parquet(out_path, index=False)"
   ]
  },
  {
   "cell_type": "code",
   "execution_count": null,
   "metadata": {},
   "outputs": [],
   "source": [
    "print(grouped.shape)"
   ]
  },
  {
   "cell_type": "code",
   "execution_count": null,
   "metadata": {},
   "outputs": [],
   "source": [
    "grouped.memory_usage(deep=True)"
   ]
  }
 ],
 "metadata": {
  "interpreter": {
   "hash": "0715013af127e2dc4bb03749d8253e928c185e319349e2573055324de1fe4a80"
  },
  "jupytext": {
   "main_language": "python"
  },
  "kernelspec": {
   "display_name": "Python 3.8.12 64-bit ('nama': conda)",
   "name": "python3"
  },
  "language_info": {
   "codemirror_mode": {
    "name": "ipython",
    "version": 3
   },
   "file_extension": ".py",
   "mimetype": "text/x-python",
   "name": "python",
   "nbconvert_exporter": "python",
   "pygments_lexer": "ipython3",
   "version": "3.8.12"
  }
 },
 "nbformat": 4,
 "nbformat_minor": 2
}
